{
 "cells": [
  {
   "cell_type": "code",
   "execution_count": 96,
   "metadata": {},
   "outputs": [],
   "source": [
    "class Squares:\n",
    "    def __init__(self, start, stop): # Save state when created\n",
    "        self.value = start - 1\n",
    "        self.stop = stop\n",
    "    def __iter__(self): # Get iterator object on iter\n",
    "        return self\n",
    "    def __next__(self): # Return a square on each iteration\n",
    "        if self.value == self.stop: # Also called by next built-in\n",
    "            raise StopIteration\n",
    "        self.value += 1\n",
    "        return self.value ** 2"
   ]
  },
  {
   "cell_type": "code",
   "execution_count": 97,
   "metadata": {},
   "outputs": [],
   "source": [
    "f = iter(range(10, -1, -1))"
   ]
  },
  {
   "cell_type": "code",
   "execution_count": 98,
   "metadata": {},
   "outputs": [
    {
     "name": "stdout",
     "output_type": "stream",
     "text": [
      "10\n",
      "9 can be divided by 3\n",
      "8\n",
      "7\n",
      "6 can be divided by 3\n",
      "5\n",
      "4\n",
      "3 can be divided by 3\n",
      "2\n",
      "1\n",
      "0 can be divided by 3\n"
     ]
    }
   ],
   "source": [
    "while True:\n",
    "    try: x = next(f)\n",
    "    except StopIteration: break\n",
    "    if x % 3 != 0: print(x)\n",
    "    else: print(x, 'can be divided by 3')"
   ]
  },
  {
   "cell_type": "code",
   "execution_count": 41,
   "metadata": {},
   "outputs": [],
   "source": [
    "X = Squares(1, 4)\n",
    "I = iter(X)"
   ]
  },
  {
   "cell_type": "code",
   "execution_count": 3,
   "metadata": {},
   "outputs": [
    {
     "name": "stdout",
     "output_type": "stream",
     "text": [
      "1 4 9 16 "
     ]
    }
   ],
   "source": [
    "while True:\n",
    "    try: value = next(I)\n",
    "    except StopIteration: break\n",
    "    print(value, end=' ')"
   ]
  },
  {
   "cell_type": "code",
   "execution_count": 217,
   "metadata": {},
   "outputs": [
    {
     "name": "stdout",
     "output_type": "stream",
     "text": [
      "John Smith John Smith\n",
      "Adam Johnson Adam Johnson\n"
     ]
    }
   ],
   "source": [
    "from typing import Any\n",
    "\n",
    "class Person:\n",
    "    def __init__(self, first_name, last_name):\n",
    "        self.first_name = first_name\n",
    "        self.last_name = last_name\n",
    "        self.full_name = f'{first_name} {last_name}'\n",
    "    \n",
    "    def __setattr__(self, __name: str, __value: Any) -> None:\n",
    "        if __name == 'full_name':\n",
    "            self.__dict__[__name] = __value\n",
    "            self.__dict__['first_name'] = __value.split()[0]\n",
    "            self.__dict__['last_name'] = __value.split()[-1]\n",
    "\n",
    "person = Person(\"John\", \"Smith\")\n",
    "print(person.first_name, person.last_name, person.full_name)\n",
    "person.full_name = \"Adam Johnson\"\n",
    "print(person.first_name, person.last_name, person.full_name)"
   ]
  },
  {
   "cell_type": "code",
   "execution_count": 252,
   "metadata": {},
   "outputs": [
    {
     "name": "stdout",
     "output_type": "stream",
     "text": [
      "Hello. Welcome to the number guessing game! You try to guess a random number, if it is lower,\n",
      "the game will tell you, same for higher. By the way, it's from 0-9 so good luck.\n",
      "Your guess is lower than the answer!\n",
      "Your guess is lower than the answer!\n",
      "Your guess is higher than the answer!\n",
      "Your guess is higher than the answer!\n",
      "Your guess is higher than the answer!\n",
      "Your guess is higher than the answer!\n",
      "Your guess is higher than the answer!\n",
      "Your guess is lower than the answer!\n",
      "Your guess is higher than the answer!\n",
      "Your guess is higher than the answer!\n",
      "Your guess is higher than the answer!\n",
      "Your guess is higher than the answer!\n",
      "Your guess is lower than the answer!\n",
      "End of game\n"
     ]
    }
   ],
   "source": [
    "import random\n",
    "\n",
    "print(\"\"\"Hello. Welcome to the number guessing game! You try to guess a random number, if it is lower,\n",
    "the game will tell you, same for higher. By the way, it's from 0-9 so good luck.\"\"\")\n",
    "\n",
    "while True:\n",
    "    answer = random.randrange(9)\n",
    "    guess = input('Guess a number: ')\n",
    "    if guess == 'q': print('End of game'); break\n",
    "    elif int(guess) >= 0 and int(guess) < 9:\n",
    "        try: print(\"Your guess is lower than the answer!\" if int(guess) < answer\n",
    "    else \"Your guess is higher than the answer!\" if int(guess) > answer\n",
    "    else \"Congratulations! You guessed the correct number!\")\n",
    "        except ValueError: break\n",
    "    else:\n",
    "        raise ValueError('Sorry your guess can only be greater than or equal to 0 and less than 9. Try again')"
   ]
  },
  {
   "cell_type": "code",
   "execution_count": 211,
   "metadata": {},
   "outputs": [
    {
     "data": {
      "text/plain": [
       "'Hey Blue'"
      ]
     },
     "execution_count": 211,
     "metadata": {},
     "output_type": "execute_result"
    }
   ],
   "source": [
    "a = 'Hey'\n",
    "b = 'Blue'\n",
    "a + ' ' + b"
   ]
  },
  {
   "cell_type": "code",
   "execution_count": 187,
   "metadata": {},
   "outputs": [
    {
     "data": {
      "text/plain": [
       "6"
      ]
     },
     "execution_count": 187,
     "metadata": {},
     "output_type": "execute_result"
    }
   ],
   "source": [
    "import math\n",
    "f = lambda x: math.factorial(x)\n",
    "f(3)"
   ]
  },
  {
   "cell_type": "code",
   "execution_count": 46,
   "metadata": {},
   "outputs": [
    {
     "name": "stdout",
     "output_type": "stream",
     "text": [
      "{'kind': 'dog', 'age': 10}\n",
      "{'kind': 'dog', 'age': 5}\n",
      "{'kind': 'dog', 'age': 1, 'name': 'Smallville', 'human_years': 7, 'subkind': 'puppy'}\n",
      "{'kind': 'dog'}\n",
      "{'kind': 'dog', 'name': 'Killer', 'human_years': 35}\n",
      "{'kind': 'dog', 'age': 1, 'name': 'Smallville', 'human_years': 7, 'subkind': 'not_puppy'}\n",
      "Tree of {'kind': 'dog', 'age': 1, 'name': 'Smallville', 'human_years': 7, 'subkind': 'not_puppy'} object:\n",
      "-- Puppy\n",
      "----- Dog\n",
      "-------- Animal\n",
      "----------- object\n",
      "Thurs\n",
      "{'kind': 'dog', 'age': '20'}\n"
     ]
    }
   ],
   "source": [
    "import datetime\n",
    "from typing import Any\n",
    "from my_python.others import classtree\n",
    "class Animal:\n",
    "    count = 0\n",
    "    def __init__(self, kind: str, age: int) -> None:\n",
    "        self.kind = kind\n",
    "        self.age = age\n",
    "        Animal.count +=1\n",
    "        \n",
    "    def __str__(self) -> str:\n",
    "        return str({'kind':self.kind, 'age':self.age})\n",
    "\n",
    "    def __delattr__(self, name: str) -> None:\n",
    "        del self.__dict__[name]\n",
    "        \n",
    "    def __setattr__(self, name: str, value: Any) -> None:\n",
    "        self.__dict__[name] = value\n",
    "    \n",
    "    @classmethod\n",
    "    def from_string(cls, str: str) -> object:\n",
    "        kind, age = str.split('-')\n",
    "        return cls(kind, age)\n",
    "    \n",
    "    @staticmethod\n",
    "    def check_day() -> dict:\n",
    "        days = ['Mon', 'Tues', 'Wed', 'Thurs', 'Fri', 'Sat', 'Sun']\n",
    "        D = dict(list(zip(range(1, 8), days)))\n",
    "        return D[datetime.datetime.now().isoweekday()]\n",
    "class Dog(Animal):\n",
    "    age = 7\n",
    "    def __init__(self, name: str, age: int) -> None:\n",
    "        Animal.__init__(self, kind='dog', age=age)\n",
    "        self.name = name\n",
    "        self.human_years = Dog.age * self.age\n",
    "\n",
    "class Puppy(Dog):\n",
    "    def __init__(self, name: str, age: int) -> None:\n",
    "        if age <= 1:\n",
    "            Dog.__init__(self, name, age)\n",
    "            self.subkind = 'puppy'\n",
    "        else: raise ValueError('Puppy must be under 1 year old!')\n",
    "        \n",
    "if __name__ =='__main__':\n",
    "    first, second, third = Animal('dog', 10), Dog('Killer', 5), Puppy('Smallville', 1)\n",
    "    fourth, fifth = Puppy('Honey', 1), Animal.from_string('dog-20')\n",
    "    print(first)\n",
    "    print(second)\n",
    "    print(third.__dict__)\n",
    "    del first.age\n",
    "    print(first.__dict__)\n",
    "    del second.age\n",
    "    print(second.__dict__)\n",
    "    third.subkind = 'not_puppy'\n",
    "    print(third.__dict__)\n",
    "    classtree.instancetree(third)\n",
    "    print(fourth.check_day())\n",
    "    print(fifth)\n",
    "    "
   ]
  },
  {
   "cell_type": "code",
   "execution_count": 49,
   "metadata": {},
   "outputs": [
    {
     "name": "stdout",
     "output_type": "stream",
     "text": [
      "<Employee: name=bob, salary=50000>\n",
      "bob makes pizza\n",
      "<Employee: name=bob, salary=60000.0> \n",
      "\n",
      "Employee does stuff\n",
      "Chef makes food\n",
      "Server interfaces with customer\n",
      "PizzaRobot makes pizza\n"
     ]
    }
   ],
   "source": [
    "class Employee:\n",
    "    def __init__(self, name, salary=0):\n",
    "        self.name = name\n",
    "        self.salary = salary\n",
    "    def giveRaise(self, percent):\n",
    "        self.salary = self.salary + (self.salary * percent)\n",
    "    def work(self):\n",
    "        print(self.name, \"does stuff\")\n",
    "    def __repr__(self):\n",
    "        return \"<Employee: name=%s, salary=%s>\" % (self.name, self.salary)\n",
    "class Chef(Employee):\n",
    "    def __init__(self, name):\n",
    "        Employee.__init__(self, name, 50000)\n",
    "    def work(self):\n",
    "        print(self.name, \"makes food\")\n",
    "class Server(Employee):\n",
    "    def __init__(self, name):\n",
    "        Employee.__init__(self, name, 40000)\n",
    "    def work(self):\n",
    "        print(self.name, \"interfaces with customer\")\n",
    "class PizzaRobot(Chef):\n",
    "    def __init__(self, name):\n",
    "        Chef.__init__(self, name)\n",
    "    def work(self):\n",
    "        print(self.name, \"makes pizza\")\n",
    "if __name__ == \"__main__\":\n",
    "    bob = PizzaRobot('bob') # Make a robot named bob\n",
    "    print(bob) # Run inherited __repr__\n",
    "    bob.work() # Run type-specific action\n",
    "    bob.giveRaise(0.20) # Give bob a 20% raise\n",
    "    print(bob,'\\n')\n",
    "    for klass in Employee, Chef, Server, PizzaRobot:\n",
    "        obj = klass(klass.__name__)\n",
    "        obj.work()"
   ]
  },
  {
   "cell_type": "code",
   "execution_count": 80,
   "metadata": {},
   "outputs": [],
   "source": [
    "def canConstruct_v0(ransomNote, magazine):\n",
    "    char_counts = {}\n",
    "    for char in magazine:\n",
    "        char_counts[char] = char_counts.get(char, 0) + 1\n",
    "    for char in ransomNote:\n",
    "        if char not in char_counts or char_counts[char] ==0:\n",
    "            return False\n",
    "        char_counts[char] -=1\n",
    "    return True\n",
    "\n",
    "def canConstruct_v1(ransomNote, magazine):\n",
    "    char_counts = {char:magazine.count(char) for char in magazine}\n",
    "    for char in ransomNote:\n",
    "        if char not in char_counts:\n",
    "            return False\n",
    "        char_counts[char] -=1\n",
    "    return True\n",
    "\n",
    "def canConstruct_v2(ransomNote, magazine):\n",
    "    char_counts = {char:magazine.count(char) for char in magazine}\n",
    "    return all(char in char_counts for char in ransomNote)\n",
    "\n",
    "def canConstruct_v3(ransomNote, magazine):\n",
    "    char_counts = dict.fromkeys(set(magazine), 0)\n",
    "    char_counts = {char:char_counts[char] + 1 for char in magazine if char in char_counts}\n",
    "    for char in ransomNote:\n",
    "        if char_counts[char] == 0 or char not in magazine:\n",
    "            return False\n",
    "        char_counts[char] -=1\n",
    "    return True\n",
    "\n",
    "def canConstruct_v4(ransomNote, magazine):\n",
    "    chars = set(magazine)\n",
    "    return all(char in chars for char in ransomNote)"
   ]
  },
  {
   "cell_type": "code",
   "execution_count": 81,
   "metadata": {},
   "outputs": [],
   "source": [
    "string = '''Write a simple program with two functions in object orientation.\n",
    "Expectation: Be sure to use object orientation!\n",
    "\n",
    "Function 1:\n",
    "- read the data in the files in the data folder (and any subfolders) (sample folder included)\n",
    "- every file contains a JSON data structure, the ID is the name of the file\n",
    "- based on the type, instantiate the appropriate transport type (only the two types you see are possible)\n",
    "- put the received object into a list\n",
    "- on the go, log on the screen that the program is running and working (no need for an hourglass or anything like that, just a simple signal)\n",
    "\n",
    "Function 2:\n",
    "- write the elements in the list returned by the first function to the screen in a nicely formatted way'''"
   ]
  },
  {
   "cell_type": "code",
   "execution_count": 82,
   "metadata": {},
   "outputs": [
    {
     "name": "stdout",
     "output_type": "stream",
     "text": [
      "False True\n",
      "False True\n",
      "False True\n",
      "False True\n",
      "True True\n"
     ]
    }
   ],
   "source": [
    "print(canConstruct_v0('aa', 'ab'), canConstruct_v0('acd', 'alma, balu, cica, dalai'))\n",
    "print(canConstruct_v1('asd', 'alma, balu, cica, dalai'), canConstruct_v1('acd', 'alma, balu, cica, dalai'))\n",
    "print(canConstruct_v2('asd', 'alma, balu, cica, dalai'), canConstruct_v2('acd', 'alma, balu, cica, dalai'))\n",
    "print(canConstruct_v3('aa', 'ab'),canConstruct_v3('acd', 'alma, balu, cica, dalai'))\n",
    "print(canConstruct_v4('aa', 'ab'), canConstruct_v4('acd', 'alma, balu, cica, dalai'))"
   ]
  },
  {
   "cell_type": "code",
   "execution_count": 34,
   "metadata": {},
   "outputs": [],
   "source": [
    "def my_version(ransomNote, magazine):\n",
    "    for k in set(list(ransomNote)):\n",
    "        if k not in set(list(magazine)):\n",
    "            return False\n",
    "    return True"
   ]
  },
  {
   "cell_type": "code",
   "execution_count": 10,
   "metadata": {},
   "outputs": [
    {
     "name": "stdout",
     "output_type": "stream",
     "text": [
      "False\n",
      "True\n"
     ]
    }
   ],
   "source": [
    "print(my_version(string, 'alma, balu, cica, dalai'))\n",
    "print(my_version('acd', 'alma, balu, cica, dalai'))"
   ]
  },
  {
   "cell_type": "code",
   "execution_count": 11,
   "metadata": {},
   "outputs": [
    {
     "name": "stdout",
     "output_type": "stream",
     "text": [
      "True\n",
      "True\n",
      "True\n",
      "True\n",
      "False\n"
     ]
    }
   ],
   "source": [
    "def string_info(S: str) -> bool:\n",
    "    return (\n",
    "any(char.isalnum() for char in S),\n",
    "any(char.isalpha() for char in S),\n",
    "any(char.isdigit() for char in S), \n",
    "any(char.islower() for char in S),\n",
    "any(char.isupper() for char in S)\n",
    ")\n",
    "    \n",
    "if __name__ == '__main__':\n",
    "    string = input().strip()\n",
    "    res = string_info('hallo123')\n",
    "    print(*res, sep='\\n')"
   ]
  },
  {
   "cell_type": "code",
   "execution_count": null,
   "metadata": {},
   "outputs": [],
   "source": []
  }
 ],
 "metadata": {
  "kernelspec": {
   "display_name": "base",
   "language": "python",
   "name": "python3"
  },
  "language_info": {
   "codemirror_mode": {
    "name": "ipython",
    "version": 3
   },
   "file_extension": ".py",
   "mimetype": "text/x-python",
   "name": "python",
   "nbconvert_exporter": "python",
   "pygments_lexer": "ipython3",
   "version": "3.11.4"
  }
 },
 "nbformat": 4,
 "nbformat_minor": 2
}
