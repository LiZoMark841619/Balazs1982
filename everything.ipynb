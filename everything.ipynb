{
 "cells": [
  {
   "cell_type": "code",
   "execution_count": 1,
   "metadata": {},
   "outputs": [],
   "source": [
    "class Squares:\n",
    "    def __init__(self, start, stop): # Save state when created\n",
    "        self.value = start - 1\n",
    "        self.stop = stop\n",
    "    def __iter__(self): # Get iterator object on iter\n",
    "        return self\n",
    "    def __next__(self): # Return a square on each iteration\n",
    "        if self.value == self.stop: # Also called by next built-in\n",
    "            raise StopIteration\n",
    "        self.value += 1\n",
    "        return self.value ** 2"
   ]
  },
  {
   "cell_type": "code",
   "execution_count": 2,
   "metadata": {},
   "outputs": [],
   "source": [
    "X = Squares(1, 4)\n",
    "I = iter(X)"
   ]
  },
  {
   "cell_type": "code",
   "execution_count": 3,
   "metadata": {},
   "outputs": [
    {
     "name": "stdout",
     "output_type": "stream",
     "text": [
      "1 4 9 16 "
     ]
    }
   ],
   "source": [
    "while True:\n",
    "    try: value = next(I)\n",
    "    except StopIteration: break\n",
    "    print(value, end=' ')"
   ]
  },
  {
   "cell_type": "code",
   "execution_count": 83,
   "metadata": {},
   "outputs": [
    {
     "name": "stdout",
     "output_type": "stream",
     "text": [
      "{'kind': 'dog', 'age': 10}\n",
      "{'kind': 'dog', 'age': 5}\n",
      "{'kind': 'dog', 'age': 1, 'name': 'Smallville', 'human_years': 7, 'subkind': 'puppy'}\n",
      "{'kind': 'dog'}\n",
      "{'kind': 'dog', 'name': 'Killer', 'human_years': 35}\n",
      "{'kind': 'dog', 'age': 1, 'name': 'Smallville', 'human_years': 7, 'subkind': 'not_puppy'}\n",
      "Tree of {'kind': 'dog', 'age': 1, 'name': 'Smallville', 'human_years': 7, 'subkind': 'not_puppy'} object:\n",
      "-- Puppy\n",
      "----- Dog\n",
      "-------- Animal\n",
      "----------- object\n",
      "Sun\n",
      "{'kind': 'dog', 'age': '20'}\n"
     ]
    }
   ],
   "source": [
    "import datetime\n",
    "from typing import Any\n",
    "from my_python.others import classtree\n",
    "class Animal:\n",
    "    count = 0\n",
    "    def __init__(self, kind: str, age: int) -> None:\n",
    "        self.kind = kind\n",
    "        self.age = age\n",
    "        Animal.count +=1\n",
    "        \n",
    "    def __str__(self) -> str:\n",
    "        return str({'kind':self.kind, 'age':self.age})\n",
    "\n",
    "    def __delattr__(self, name: str) -> None:\n",
    "        del self.__dict__[name]\n",
    "        \n",
    "    def __setattr__(self, name: str, value: Any) -> None:\n",
    "        self.__dict__[name] = value\n",
    "    \n",
    "    @classmethod\n",
    "    def from_string(cls, str: str) -> object:\n",
    "        kind, age = str.split('-')\n",
    "        return cls(kind, age)\n",
    "    \n",
    "    @staticmethod\n",
    "    def check_day() -> dict:\n",
    "        days = ['Mon', 'Tues', 'Wed', 'Thurs', 'Fri', 'Sat', 'Sun']\n",
    "        D = dict(list(zip(range(1, 8), days)))\n",
    "        return D[datetime.datetime.now().isoweekday()]\n",
    "class Dog(Animal):\n",
    "    age = 7\n",
    "    def __init__(self, name: str, age: int) -> None:\n",
    "        Animal.__init__(self, kind='dog', age=age)\n",
    "        self.name = name\n",
    "        self.human_years = Dog.age * self.age\n",
    "\n",
    "class Puppy(Dog):\n",
    "    def __init__(self, name: str, age: int) -> None:\n",
    "        if age <= 1:\n",
    "            Dog.__init__(self, name, age)\n",
    "            self.subkind = 'puppy'\n",
    "        else: raise ValueError('Puppy must be under 1 year old!')\n",
    "        \n",
    "if __name__ =='__main__':\n",
    "    first, second, third = Animal('dog', 10), Dog('Killer', 5), Puppy('Smallville', 1)\n",
    "    fourth, fifth = Puppy('Honey', 1), Animal.from_string('dog-20')\n",
    "    print(first)\n",
    "    print(second)\n",
    "    print(third.__dict__)\n",
    "    del first.age\n",
    "    print(first.__dict__)\n",
    "    del second.age\n",
    "    print(second.__dict__)\n",
    "    third.subkind = 'not_puppy'\n",
    "    print(third.__dict__)\n",
    "    classtree.instancetree(third)\n",
    "    print(fourth.check_day())\n",
    "    print(fifth)\n",
    "    "
   ]
  },
  {
   "cell_type": "code",
   "execution_count": 5,
   "metadata": {},
   "outputs": [
    {
     "data": {
      "text/plain": [
       "{'a', 'f', 'l', 'm'}"
      ]
     },
     "execution_count": 5,
     "metadata": {},
     "output_type": "execute_result"
    }
   ],
   "source": [
    "string = 'almafa'\n",
    "set(string)"
   ]
  },
  {
   "cell_type": "code",
   "execution_count": 24,
   "metadata": {},
   "outputs": [
    {
     "data": {
      "text/plain": [
       "False"
      ]
     },
     "execution_count": 24,
     "metadata": {},
     "output_type": "execute_result"
    }
   ],
   "source": [
    "bool(0)"
   ]
  },
  {
   "cell_type": "code",
   "execution_count": 80,
   "metadata": {},
   "outputs": [],
   "source": [
    "def canConstruct_v0(ransomNote, magazine):\n",
    "    char_counts = {}\n",
    "    for char in magazine:\n",
    "        char_counts[char] = char_counts.get(char, 0) + 1\n",
    "    for char in ransomNote:\n",
    "        if char not in char_counts or char_counts[char] ==0:\n",
    "            return False\n",
    "        char_counts[char] -=1\n",
    "    return True\n",
    "\n",
    "def canConstruct_v1(ransomNote, magazine):\n",
    "    char_counts = {char:magazine.count(char) for char in magazine}\n",
    "    for char in ransomNote:\n",
    "        if char not in char_counts:\n",
    "            return False\n",
    "        char_counts[char] -=1\n",
    "    return True\n",
    "\n",
    "def canConstruct_v2(ransomNote, magazine):\n",
    "    char_counts = {char:magazine.count(char) for char in magazine}\n",
    "    return all(char in char_counts for char in ransomNote)\n",
    "\n",
    "def canConstruct_v3(ransomNote, magazine):\n",
    "    char_counts = dict.fromkeys(set(magazine), 0)\n",
    "    char_counts = {char:char_counts[char] + 1 for char in magazine if char in char_counts}\n",
    "    for char in ransomNote:\n",
    "        if char_counts[char] == 0 or char not in magazine:\n",
    "            return False\n",
    "        char_counts[char] -=1\n",
    "    return True\n",
    "\n",
    "def canConstruct_v4(ransomNote, magazine):\n",
    "    chars = set(magazine)\n",
    "    return all(char in chars for char in ransomNote)"
   ]
  },
  {
   "cell_type": "code",
   "execution_count": 81,
   "metadata": {},
   "outputs": [],
   "source": [
    "string = '''Write a simple program with two functions in object orientation.\n",
    "Expectation: Be sure to use object orientation!\n",
    "\n",
    "Function 1:\n",
    "- read the data in the files in the data folder (and any subfolders) (sample folder included)\n",
    "- every file contains a JSON data structure, the ID is the name of the file\n",
    "- based on the type, instantiate the appropriate transport type (only the two types you see are possible)\n",
    "- put the received object into a list\n",
    "- on the go, log on the screen that the program is running and working (no need for an hourglass or anything like that, just a simple signal)\n",
    "\n",
    "Function 2:\n",
    "- write the elements in the list returned by the first function to the screen in a nicely formatted way'''"
   ]
  },
  {
   "cell_type": "code",
   "execution_count": 82,
   "metadata": {},
   "outputs": [
    {
     "name": "stdout",
     "output_type": "stream",
     "text": [
      "False True\n",
      "False True\n",
      "False True\n",
      "False True\n",
      "True True\n"
     ]
    }
   ],
   "source": [
    "print(canConstruct_v0('aa', 'ab'), canConstruct_v0('acd', 'alma, balu, cica, dalai'))\n",
    "print(canConstruct_v1('asd', 'alma, balu, cica, dalai'), canConstruct_v1('acd', 'alma, balu, cica, dalai'))\n",
    "print(canConstruct_v2('asd', 'alma, balu, cica, dalai'), canConstruct_v2('acd', 'alma, balu, cica, dalai'))\n",
    "print(canConstruct_v3('aa', 'ab'),canConstruct_v3('acd', 'alma, balu, cica, dalai'))\n",
    "print(canConstruct_v4('aa', 'ab'), canConstruct_v4('acd', 'alma, balu, cica, dalai'))"
   ]
  },
  {
   "cell_type": "code",
   "execution_count": 34,
   "metadata": {},
   "outputs": [],
   "source": [
    "def my_version(ransomNote, magazine):\n",
    "    for k in set(list(ransomNote)):\n",
    "        if k not in set(list(magazine)):\n",
    "            return False\n",
    "    return True"
   ]
  },
  {
   "cell_type": "code",
   "execution_count": 10,
   "metadata": {},
   "outputs": [
    {
     "name": "stdout",
     "output_type": "stream",
     "text": [
      "False\n",
      "True\n"
     ]
    }
   ],
   "source": [
    "print(my_version(string, 'alma, balu, cica, dalai'))\n",
    "print(my_version('acd', 'alma, balu, cica, dalai'))"
   ]
  },
  {
   "cell_type": "code",
   "execution_count": 11,
   "metadata": {},
   "outputs": [
    {
     "name": "stdout",
     "output_type": "stream",
     "text": [
      "True\n",
      "True\n",
      "True\n",
      "True\n",
      "False\n"
     ]
    }
   ],
   "source": [
    "def string_info(S: str) -> bool:\n",
    "    return (\n",
    "any(char.isalnum() for char in S),\n",
    "any(char.isalpha() for char in S),\n",
    "any(char.isdigit() for char in S), \n",
    "any(char.islower() for char in S),\n",
    "any(char.isupper() for char in S)\n",
    ")\n",
    "    \n",
    "if __name__ == '__main__':\n",
    "    string = input().strip()\n",
    "    res = string_info('hallo123')\n",
    "    print(*res, sep='\\n')"
   ]
  },
  {
   "cell_type": "code",
   "execution_count": null,
   "metadata": {},
   "outputs": [],
   "source": []
  }
 ],
 "metadata": {
  "kernelspec": {
   "display_name": "base",
   "language": "python",
   "name": "python3"
  },
  "language_info": {
   "codemirror_mode": {
    "name": "ipython",
    "version": 3
   },
   "file_extension": ".py",
   "mimetype": "text/x-python",
   "name": "python",
   "nbconvert_exporter": "python",
   "pygments_lexer": "ipython3",
   "version": "3.11.4"
  }
 },
 "nbformat": 4,
 "nbformat_minor": 2
}
