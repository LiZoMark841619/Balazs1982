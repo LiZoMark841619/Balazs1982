{
 "cells": [
  {
   "cell_type": "markdown",
   "metadata": {},
   "source": [
    "##### Importing modules"
   ]
  },
  {
   "cell_type": "code",
   "execution_count": 354,
   "metadata": {},
   "outputs": [],
   "source": [
    "from pathlib import Path\n",
    "import os\n",
    "import json\n",
    "import random"
   ]
  },
  {
   "cell_type": "markdown",
   "metadata": {},
   "source": [
    "`Method 1 - making a dictionary as the returned value of the data in every folder`"
   ]
  },
  {
   "cell_type": "code",
   "execution_count": 355,
   "metadata": {},
   "outputs": [],
   "source": [
    "def content(parent=Path.cwd()):\n",
    "    everything = os.walk(top=parent, topdown=True)\n",
    "    content = dict()\n",
    "    for root, dir, file in everything:\n",
    "        content[root] = (dir, file)\n",
    "    return content"
   ]
  },
  {
   "cell_type": "markdown",
   "metadata": {},
   "source": [
    "`User test 1`"
   ]
  },
  {
   "cell_type": "code",
   "execution_count": 356,
   "metadata": {},
   "outputs": [],
   "source": [
    "test_one = content()\n",
    "#test_one"
   ]
  },
  {
   "cell_type": "code",
   "execution_count": 357,
   "metadata": {},
   "outputs": [],
   "source": [
    "folders = [elem[0] for elem in test_one.values() if len(elem[0]) > 0]\n",
    "files = [elem[1] for elem in test_one.values() if len(elem[0]) > 0]\n",
    "#folders"
   ]
  },
  {
   "cell_type": "code",
   "execution_count": 358,
   "metadata": {},
   "outputs": [],
   "source": [
    "answer_first = input('Would you like to see every folder and file under the parent directory? ')"
   ]
  },
  {
   "cell_type": "code",
   "execution_count": 359,
   "metadata": {},
   "outputs": [
    {
     "name": "stdout",
     "output_type": "stream",
     "text": [
      "Here you can see the folders: [['data', '__pycache__'], ['A', 'B'], ['X'], ['X']]\n",
      "\n",
      "Here you can see the files: [['feladat.txt', 'script.ipynb', 'script_py.py', 'script_v1.ipynb'], [], ['AA0001.dat'], ['BS3234.dat']]\n",
      "\n"
     ]
    }
   ],
   "source": [
    "if answer_first in ['yes', 1]:\n",
    "    print(f'Here you can see the folders: {folders}')\n",
    "    print(f'\\nHere you can see the files: {files}\\n')"
   ]
  },
  {
   "cell_type": "markdown",
   "metadata": {},
   "source": [
    "`Method 2 - finding the files then loading in`"
   ]
  },
  {
   "cell_type": "code",
   "execution_count": 360,
   "metadata": {},
   "outputs": [],
   "source": [
    "def read_files(directories: dict) -> list:\n",
    "    for key, value in directories.items():\n",
    "        key = key.replace('\\\\', '/')\n",
    "        for file in value[1]:\n",
    "            if '.dat' in file:\n",
    "                key += '/'\n",
    "                key += file\n",
    "                yield from open(key)"
   ]
  },
  {
   "cell_type": "code",
   "execution_count": 361,
   "metadata": {},
   "outputs": [],
   "source": [
    "test_two = read_files(test_one)\n",
    "#next(test_two)"
   ]
  },
  {
   "cell_type": "markdown",
   "metadata": {},
   "source": [
    "`User test 2`"
   ]
  },
  {
   "cell_type": "code",
   "execution_count": 362,
   "metadata": {},
   "outputs": [],
   "source": [
    "data = [json.loads(next(test_two)) for _ in range(4)]"
   ]
  },
  {
   "cell_type": "code",
   "execution_count": 363,
   "metadata": {},
   "outputs": [
    {
     "name": "stdout",
     "output_type": "stream",
     "text": [
      "[{'type': 'auto', 'ajtok_szama': 5, 'marka': 'Opel'}, {'type': 'auto', 'ajtok_szama': 3, 'marka': 'BMW'}, {'type': 'bicikli', 'terhelhetoseg': 130, 'marka': 'Csepel'}, {'type': 'bicikli', 'terhelhetoseg': 150, 'marka': 'Valami'}]\n"
     ]
    }
   ],
   "source": [
    "answer_second = input('Would you like to load in every data from every default file? ')\n",
    "if answer_second in ['yes', 1]:\n",
    "    print(data)"
   ]
  },
  {
   "cell_type": "markdown",
   "metadata": {},
   "source": [
    "`Making Jarmu, auto and bicikli classes and setting up the instantiation method and one regular method (to print out the data of the vehicle)`\n",
    "`We have class variables and instantiate variables`"
   ]
  },
  {
   "cell_type": "code",
   "execution_count": 364,
   "metadata": {},
   "outputs": [],
   "source": [
    "class Jarmu:\n",
    "    \n",
    "    count = 0\n",
    "    def __init__(self, object: object) -> None:\n",
    "        self.object = object\n",
    "        \n",
    "    def vehicle_data(self) -> dict:\n",
    "        return {'type':self.object.vehicle_data()['type'], 'marka':self.object.vehicle_data()['marka']}\n",
    "    \n",
    "class auto:\n",
    "    count = 0   \n",
    "    def __init__(self, ajtok_szama:int, marka:str) -> None:\n",
    "        self.ajtok_szama = ajtok_szama\n",
    "        self.marka = marka\n",
    "        auto.count +=1\n",
    "        Jarmu.count +=1\n",
    "            \n",
    "    def vehicle_data(self) -> dict:\n",
    "        return {'type':'auto', 'ajtok_szama':self.ajtok_szama, 'marka':self.marka}\n",
    "    \n",
    "class bicikli:\n",
    "    count = 0\n",
    "        \n",
    "    def __init__(self, terhelhetoseg:int, marka:str) -> None:\n",
    "        self.terhelhetoseg = terhelhetoseg\n",
    "        self.marka = marka\n",
    "        bicikli.count +=1\n",
    "        Jarmu.count +=1\n",
    "\n",
    "    def vehicle_data(self) -> dict:\n",
    "        return {'type':'bicikli', 'terhelhetoseg':self.terhelhetoseg, 'marka':self.marka}"
   ]
  },
  {
   "cell_type": "code",
   "execution_count": 365,
   "metadata": {},
   "outputs": [
    {
     "data": {
      "text/plain": [
       "({'type': 'auto', 'ajtok_szama': 5, 'marka': 'Honda'},\n",
       " {'ajtok_szama': 5, 'marka': 'Honda'})"
      ]
     },
     "execution_count": 365,
     "metadata": {},
     "output_type": "execute_result"
    }
   ],
   "source": [
    "#Test\n",
    "first_auto = auto(5, 'Honda')\n",
    "first_auto.vehicle_data(), first_auto.__dict__\n",
    "#Jarmu.count()"
   ]
  },
  {
   "cell_type": "code",
   "execution_count": 366,
   "metadata": {},
   "outputs": [
    {
     "data": {
      "text/plain": [
       "({'type': 'auto', 'marka': 'Honda'}, 1)"
      ]
     },
     "execution_count": 366,
     "metadata": {},
     "output_type": "execute_result"
    }
   ],
   "source": [
    "#Test\n",
    "first_jarmu = Jarmu(first_auto)\n",
    "first_jarmu.vehicle_data(), Jarmu.count"
   ]
  },
  {
   "cell_type": "code",
   "execution_count": 367,
   "metadata": {},
   "outputs": [
    {
     "data": {
      "text/plain": [
       "{'type': 'bicikli', 'terhelhetoseg': 150, 'marka': 'Csepel'}"
      ]
     },
     "execution_count": 367,
     "metadata": {},
     "output_type": "execute_result"
    }
   ],
   "source": [
    "#Test\n",
    "first_bicikli = bicikli(150, 'Csepel')\n",
    "first_bicikli.vehicle_data()"
   ]
  },
  {
   "cell_type": "code",
   "execution_count": 368,
   "metadata": {},
   "outputs": [
    {
     "data": {
      "text/plain": [
       "{'type': 'bicikli', 'marka': 'Csepel'}"
      ]
     },
     "execution_count": 368,
     "metadata": {},
     "output_type": "execute_result"
    }
   ],
   "source": [
    "#Test\n",
    "second_jarmu = Jarmu(first_bicikli)\n",
    "second_jarmu.vehicle_data()"
   ]
  },
  {
   "cell_type": "markdown",
   "metadata": {},
   "source": [
    "`User test 3`"
   ]
  },
  {
   "cell_type": "code",
   "execution_count": 369,
   "metadata": {},
   "outputs": [],
   "source": [
    "car_fleet_one = [4, 'Audi']\n",
    "bicikli_fleet_one = [100, 'KTM']"
   ]
  },
  {
   "cell_type": "code",
   "execution_count": 370,
   "metadata": {},
   "outputs": [],
   "source": [
    "ajtok_szama = [3, 4, 5]\n",
    "terhelhetoseg = [50, 100, 150]\n",
    "marka_auto = ['Audi', 'BMW', 'Mercedes']\n",
    "marka_bicikli = ['KTM', 'Csepel', 'Merida']"
   ]
  },
  {
   "cell_type": "code",
   "execution_count": 371,
   "metadata": {},
   "outputs": [],
   "source": [
    "cars = [auto(*car_fleet_one)\n",
    "          for _ in range(int(input(f'\\nEnter the number of cars with params: \"{car_fleet_one}\" to register as new fleet member: ')))]\n",
    "\n",
    "bicycles = [bicikli(random.choice(terhelhetoseg), random.choice(marka_bicikli))\n",
    "          for _ in range(int(input('\\nEnter the number of bicycles to register randomly: ')))]"
   ]
  },
  {
   "cell_type": "code",
   "execution_count": 372,
   "metadata": {},
   "outputs": [
    {
     "name": "stdout",
     "output_type": "stream",
     "text": [
      "\n",
      "Here you can see the recently registered cars: \n",
      "{'type': 'auto', 'ajtok_szama': 4, 'marka': 'Audi'}\n",
      "{'type': 'auto', 'ajtok_szama': 4, 'marka': 'Audi'}\n",
      "{'type': 'auto', 'ajtok_szama': 4, 'marka': 'Audi'}\n",
      "{'type': 'auto', 'ajtok_szama': 4, 'marka': 'Audi'}\n",
      "{'type': 'auto', 'ajtok_szama': 4, 'marka': 'Audi'}\n",
      "{'type': 'auto', 'ajtok_szama': 4, 'marka': 'Audi'}\n",
      "{'type': 'auto', 'ajtok_szama': 4, 'marka': 'Audi'}\n",
      "{'type': 'auto', 'ajtok_szama': 4, 'marka': 'Audi'}\n",
      "{'type': 'auto', 'ajtok_szama': 4, 'marka': 'Audi'}\n",
      "{'type': 'auto', 'ajtok_szama': 4, 'marka': 'Audi'}\n",
      "You registered 11 cars.\n",
      "\n",
      "Here you can see the recently registered bicycles: \n",
      "{'type': 'bicikli', 'terhelhetoseg': 100, 'marka': 'Merida'}\n",
      "{'type': 'bicikli', 'terhelhetoseg': 100, 'marka': 'KTM'}\n",
      "{'type': 'bicikli', 'terhelhetoseg': 50, 'marka': 'Merida'}\n",
      "{'type': 'bicikli', 'terhelhetoseg': 100, 'marka': 'KTM'}\n",
      "{'type': 'bicikli', 'terhelhetoseg': 150, 'marka': 'Merida'}\n",
      "{'type': 'bicikli', 'terhelhetoseg': 50, 'marka': 'Csepel'}\n",
      "{'type': 'bicikli', 'terhelhetoseg': 150, 'marka': 'Merida'}\n",
      "{'type': 'bicikli', 'terhelhetoseg': 100, 'marka': 'Csepel'}\n",
      "{'type': 'bicikli', 'terhelhetoseg': 150, 'marka': 'Csepel'}\n",
      "{'type': 'bicikli', 'terhelhetoseg': 150, 'marka': 'KTM'}\n",
      "{'type': 'bicikli', 'terhelhetoseg': 150, 'marka': 'Merida'}\n",
      "{'type': 'bicikli', 'terhelhetoseg': 100, 'marka': 'Csepel'}\n",
      "{'type': 'bicikli', 'terhelhetoseg': 150, 'marka': 'Csepel'}\n",
      "{'type': 'bicikli', 'terhelhetoseg': 50, 'marka': 'Merida'}\n",
      "{'type': 'bicikli', 'terhelhetoseg': 50, 'marka': 'Csepel'}\n",
      "{'type': 'bicikli', 'terhelhetoseg': 100, 'marka': 'Csepel'}\n",
      "{'type': 'bicikli', 'terhelhetoseg': 150, 'marka': 'Merida'}\n",
      "{'type': 'bicikli', 'terhelhetoseg': 50, 'marka': 'Merida'}\n",
      "{'type': 'bicikli', 'terhelhetoseg': 150, 'marka': 'Csepel'}\n",
      "{'type': 'bicikli', 'terhelhetoseg': 150, 'marka': 'Csepel'}\n",
      "{'type': 'bicikli', 'terhelhetoseg': 100, 'marka': 'Csepel'}\n",
      "{'type': 'bicikli', 'terhelhetoseg': 50, 'marka': 'Csepel'}\n",
      "{'type': 'bicikli', 'terhelhetoseg': 50, 'marka': 'KTM'}\n",
      "{'type': 'bicikli', 'terhelhetoseg': 100, 'marka': 'Merida'}\n",
      "{'type': 'bicikli', 'terhelhetoseg': 150, 'marka': 'KTM'}\n",
      "{'type': 'bicikli', 'terhelhetoseg': 50, 'marka': 'Merida'}\n",
      "{'type': 'bicikli', 'terhelhetoseg': 50, 'marka': 'KTM'}\n",
      "{'type': 'bicikli', 'terhelhetoseg': 100, 'marka': 'Csepel'}\n",
      "{'type': 'bicikli', 'terhelhetoseg': 100, 'marka': 'KTM'}\n",
      "{'type': 'bicikli', 'terhelhetoseg': 100, 'marka': 'Merida'}\n",
      "You registered 31 bicycles.\n",
      "\n",
      "There are 42 vehicles, 11 autos and 31 biciklis were registered.\n"
     ]
    }
   ],
   "source": [
    "print('\\nHere you can see the recently registered cars: ')\n",
    "for car in cars:\n",
    "    print(car.vehicle_data())\n",
    "print(f'You registered {car.count} cars.')\n",
    "print('\\nHere you can see the recently registered bicycles: ')\n",
    "for bicycle in bicycles:\n",
    "    print(bicycle.vehicle_data())\n",
    "print(f'You registered {bicycle.count} bicycles.')\n",
    "print(f'\\nThere are {Jarmu.count} vehicles, {auto.count} autos and {bicikli.count} biciklis were registered.')"
   ]
  },
  {
   "cell_type": "code",
   "execution_count": 373,
   "metadata": {},
   "outputs": [
    {
     "data": {
      "text/plain": [
       "{'type': 'bicikli', 'marka': 'Merida'}"
      ]
     },
     "execution_count": 373,
     "metadata": {},
     "output_type": "execute_result"
    }
   ],
   "source": [
    "#Test\n",
    "Jarmu(bicycles[0]).vehicle_data()"
   ]
  },
  {
   "cell_type": "code",
   "execution_count": 374,
   "metadata": {},
   "outputs": [
    {
     "data": {
      "text/plain": [
       "13"
      ]
     },
     "execution_count": 374,
     "metadata": {},
     "output_type": "execute_result"
    }
   ],
   "source": [
    "#Test\n",
    "new = auto(5, 'Ford')\n",
    "Jarmu(auto(4, 'Mercedes')).vehicle_data()\n",
    "auto.count"
   ]
  },
  {
   "cell_type": "code",
   "execution_count": 375,
   "metadata": {},
   "outputs": [],
   "source": [
    "class Jarmu_alt:\n",
    "    \n",
    "    count = 0\n",
    "    def __init__(self, type: str) -> None:\n",
    "        self.type = type\n",
    "            \n",
    "    class auto():\n",
    "        count = 0\n",
    "        def __init__(self, ajtok_szama:int, marka:str) -> None:\n",
    "            super().__init__()\n",
    "            self.ajtok_szama = ajtok_szama\n",
    "            self.marka = marka\n",
    "            auto.count +=1\n",
    "            Jarmu_alt.count += 1\n",
    "                \n",
    "        def vehicle_data(self) -> dict:\n",
    "            return {'type':'auto', 'ajtok_szama':self.ajtok_szama, 'marka':self.marka}\n",
    "        \n",
    "    class bicikli:\n",
    "        count = 0\n",
    "            \n",
    "        def __init__(self, terhelhetoseg:int, marka:str) -> None:\n",
    "            super().__init__()\n",
    "            self.terhelhetoseg = terhelhetoseg\n",
    "            self.marka = marka\n",
    "            bicikli.count +=1\n",
    "            Jarmu_alt.count += 1\n",
    "\n",
    "\n",
    "        def vehicle_data(self) -> dict:\n",
    "            return {'type':'bicikli', 'terhelhetoseg':self.terhelhetoseg, 'marka':self.marka}"
   ]
  },
  {
   "cell_type": "code",
   "execution_count": 376,
   "metadata": {},
   "outputs": [
    {
     "data": {
      "text/plain": [
       "'auto'"
      ]
     },
     "execution_count": 376,
     "metadata": {},
     "output_type": "execute_result"
    }
   ],
   "source": [
    "test = Jarmu_alt('auto')\n",
    "auto_obj = test.auto(5, 'Honda')\n",
    "test.type"
   ]
  },
  {
   "cell_type": "code",
   "execution_count": 377,
   "metadata": {},
   "outputs": [
    {
     "data": {
      "text/plain": [
       "1"
      ]
     },
     "execution_count": 377,
     "metadata": {},
     "output_type": "execute_result"
    }
   ],
   "source": [
    "Jarmu_alt.count"
   ]
  },
  {
   "cell_type": "code",
   "execution_count": null,
   "metadata": {},
   "outputs": [],
   "source": []
  }
 ],
 "metadata": {
  "kernelspec": {
   "display_name": "base",
   "language": "python",
   "name": "python3"
  },
  "language_info": {
   "codemirror_mode": {
    "name": "ipython",
    "version": 3
   },
   "file_extension": ".py",
   "mimetype": "text/x-python",
   "name": "python",
   "nbconvert_exporter": "python",
   "pygments_lexer": "ipython3",
   "version": "3.11.4"
  }
 },
 "nbformat": 4,
 "nbformat_minor": 2
}
