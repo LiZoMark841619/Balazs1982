{
 "cells": [
  {
   "cell_type": "code",
   "execution_count": 663,
   "metadata": {},
   "outputs": [],
   "source": [
    "from pathlib import Path\n",
    "import os\n",
    "import json\n",
    "import random"
   ]
  },
  {
   "cell_type": "code",
   "execution_count": 664,
   "metadata": {},
   "outputs": [],
   "source": [
    "def content(parent=Path.cwd()):\n",
    "    everything = os.walk(top=parent, topdown=True)\n",
    "    content = dict()\n",
    "    for root, dir, file in everything:\n",
    "        content[root] = (dir, file)\n",
    "    return content"
   ]
  },
  {
   "cell_type": "code",
   "execution_count": 665,
   "metadata": {},
   "outputs": [],
   "source": [
    "test_one = content()"
   ]
  },
  {
   "cell_type": "code",
   "execution_count": 666,
   "metadata": {},
   "outputs": [
    {
     "data": {
      "text/plain": [
       "{'c:\\\\Users\\\\stank\\\\OneDrive\\\\Dokumentumok\\\\GitHub\\\\Balazs1982\\\\teszt_program_odootech_zrt': (['data',\n",
       "   '__pycache__'],\n",
       "  ['feladat.txt', 'script.ipynb', 'script_py.py', 'script_v1.ipynb']),\n",
       " 'c:\\\\Users\\\\stank\\\\OneDrive\\\\Dokumentumok\\\\GitHub\\\\Balazs1982\\\\teszt_program_odootech_zrt\\\\data': (['A',\n",
       "   'B'],\n",
       "  []),\n",
       " 'c:\\\\Users\\\\stank\\\\OneDrive\\\\Dokumentumok\\\\GitHub\\\\Balazs1982\\\\teszt_program_odootech_zrt\\\\data\\\\A': (['X'],\n",
       "  ['AA0001.dat']),\n",
       " 'c:\\\\Users\\\\stank\\\\OneDrive\\\\Dokumentumok\\\\GitHub\\\\Balazs1982\\\\teszt_program_odootech_zrt\\\\data\\\\A\\\\X': ([],\n",
       "  ['CD1234.dat']),\n",
       " 'c:\\\\Users\\\\stank\\\\OneDrive\\\\Dokumentumok\\\\GitHub\\\\Balazs1982\\\\teszt_program_odootech_zrt\\\\data\\\\B': (['X'],\n",
       "  ['BS3234.dat']),\n",
       " 'c:\\\\Users\\\\stank\\\\OneDrive\\\\Dokumentumok\\\\GitHub\\\\Balazs1982\\\\teszt_program_odootech_zrt\\\\data\\\\B\\\\X': ([],\n",
       "  ['DD0001.dat']),\n",
       " 'c:\\\\Users\\\\stank\\\\OneDrive\\\\Dokumentumok\\\\GitHub\\\\Balazs1982\\\\teszt_program_odootech_zrt\\\\__pycache__': ([],\n",
       "  ['script.cpython-311.pyc'])}"
      ]
     },
     "execution_count": 666,
     "metadata": {},
     "output_type": "execute_result"
    }
   ],
   "source": [
    "test_one"
   ]
  },
  {
   "cell_type": "code",
   "execution_count": 667,
   "metadata": {},
   "outputs": [],
   "source": [
    "folders = [elem[0] for elem in test_one.values() if len(elem[0]) > 0]\n",
    "#folders"
   ]
  },
  {
   "cell_type": "code",
   "execution_count": 668,
   "metadata": {},
   "outputs": [],
   "source": [
    "def read_files(directories: dict) -> list:\n",
    "    for key, value in directories.items():\n",
    "        key = key.replace('\\\\', '/')\n",
    "        for file in value[1]:\n",
    "            if '.dat' in file:\n",
    "                key += '/'\n",
    "                key += file\n",
    "                yield from open(key)"
   ]
  },
  {
   "cell_type": "code",
   "execution_count": 669,
   "metadata": {},
   "outputs": [],
   "source": [
    "test_three = read_files(test_one)\n",
    "#next(test_three)"
   ]
  },
  {
   "cell_type": "code",
   "execution_count": 670,
   "metadata": {},
   "outputs": [
    {
     "data": {
      "text/plain": [
       "[{'type': 'auto', 'ajtok_szama': 5, 'marka': 'Opel'},\n",
       " {'type': 'auto', 'ajtok_szama': 3, 'marka': 'BMW'},\n",
       " {'type': 'bicikli', 'terhelhetoseg': 130, 'marka': 'Csepel'},\n",
       " {'type': 'bicikli', 'terhelhetoseg': 150, 'marka': 'Valami'}]"
      ]
     },
     "execution_count": 670,
     "metadata": {},
     "output_type": "execute_result"
    }
   ],
   "source": [
    "data = [json.loads(next(test_three)) for _ in range(4)]\n",
    "data"
   ]
  },
  {
   "cell_type": "code",
   "execution_count": 671,
   "metadata": {},
   "outputs": [],
   "source": [
    "class Jarmu:\n",
    "    \n",
    "    count = 0\n",
    "    def __init__(self, object: object) -> None:\n",
    "        self.object = object\n",
    "        \n",
    "    def vehicle_data(self) -> dict:\n",
    "        return {'type':self.object.vehicle_data()['type'], 'marka':self.object.vehicle_data()['marka']}\n",
    "    \n",
    "class auto:\n",
    "    count = 0   \n",
    "    def __init__(self, ajtok_szama:int, marka:str) -> None:\n",
    "        self.ajtok_szama = ajtok_szama\n",
    "        self.marka = marka\n",
    "        auto.count +=1\n",
    "        Jarmu.count +=1\n",
    "            \n",
    "    def vehicle_data(self) -> dict:\n",
    "        return {'type':'auto', 'ajtok_szama':self.ajtok_szama, 'marka':self.marka}\n",
    "    \n",
    "class bicikli:\n",
    "    count = 0\n",
    "        \n",
    "    def __init__(self, terhelhetoseg:int, marka:str) -> None:\n",
    "        self.terhelhetoseg = terhelhetoseg\n",
    "        self.marka = marka\n",
    "        bicikli.count +=1\n",
    "        Jarmu.count +=1\n",
    "\n",
    "    def vehicle_data(self) -> dict:\n",
    "        return {'type':'bicikli', 'terhelhetoseg':self.terhelhetoseg, 'marka':self.marka}"
   ]
  },
  {
   "cell_type": "code",
   "execution_count": 672,
   "metadata": {},
   "outputs": [
    {
     "data": {
      "text/plain": [
       "{'type': 'auto', 'ajtok_szama': 5, 'marka': 'Honda'}"
      ]
     },
     "execution_count": 672,
     "metadata": {},
     "output_type": "execute_result"
    }
   ],
   "source": [
    "first_auto = auto(5, 'Honda')\n",
    "first_auto.vehicle_data()"
   ]
  },
  {
   "cell_type": "code",
   "execution_count": 673,
   "metadata": {},
   "outputs": [
    {
     "data": {
      "text/plain": [
       "{'type': 'auto', 'marka': 'Honda'}"
      ]
     },
     "execution_count": 673,
     "metadata": {},
     "output_type": "execute_result"
    }
   ],
   "source": [
    "first_jarmu = Jarmu(first_auto)\n",
    "first_jarmu.vehicle_data()"
   ]
  },
  {
   "cell_type": "code",
   "execution_count": 674,
   "metadata": {},
   "outputs": [
    {
     "data": {
      "text/plain": [
       "{'type': 'bicikli', 'terhelhetoseg': 150, 'marka': 'Csepel'}"
      ]
     },
     "execution_count": 674,
     "metadata": {},
     "output_type": "execute_result"
    }
   ],
   "source": [
    "first_bicikli = bicikli(150, 'Csepel')\n",
    "first_bicikli.vehicle_data()"
   ]
  },
  {
   "cell_type": "code",
   "execution_count": 675,
   "metadata": {},
   "outputs": [
    {
     "data": {
      "text/plain": [
       "{'type': 'bicikli', 'marka': 'Csepel'}"
      ]
     },
     "execution_count": 675,
     "metadata": {},
     "output_type": "execute_result"
    }
   ],
   "source": [
    "second_jarmu = Jarmu(first_bicikli)\n",
    "second_jarmu.vehicle_data()"
   ]
  },
  {
   "cell_type": "code",
   "execution_count": 676,
   "metadata": {},
   "outputs": [
    {
     "name": "stdout",
     "output_type": "stream",
     "text": [
      "There are 2 vehicles, from autos we registered 1, from biciklis we have 1.\n"
     ]
    }
   ],
   "source": [
    "print(f'There are {Jarmu.count} vehicles, from autos we registered {auto.count}, from biciklis we have {bicikli.count}.')"
   ]
  },
  {
   "cell_type": "code",
   "execution_count": 677,
   "metadata": {},
   "outputs": [],
   "source": [
    "ajtok_szama = [3, 4, 5]\n",
    "terhelhetoseg = [50, 100, 150]\n",
    "marka_auto = ['Audi', 'BMW', 'Mercedes']\n",
    "marka_bicikli = ['KTM', 'Csepel', 'Merida']"
   ]
  },
  {
   "cell_type": "code",
   "execution_count": 678,
   "metadata": {},
   "outputs": [],
   "source": [
    "cars = [auto(random.choice(ajtok_szama), random.choice(marka_auto))\n",
    "          for _ in range(int(input('Please enter the number of cars you would like to register: ')))]\n",
    "bicycles = [bicikli(random.choice(terhelhetoseg), random.choice(marka_bicikli))\n",
    "          for _ in range(int(input('Please enter the number of bicycles you would like to register: ')))]"
   ]
  },
  {
   "cell_type": "code",
   "execution_count": 679,
   "metadata": {},
   "outputs": [
    {
     "name": "stdout",
     "output_type": "stream",
     "text": [
      "{'type': 'auto', 'ajtok_szama': 5, 'marka': 'BMW'}\n",
      "{'type': 'auto', 'ajtok_szama': 3, 'marka': 'BMW'}\n",
      "{'type': 'auto', 'ajtok_szama': 4, 'marka': 'Mercedes'}\n",
      "{'type': 'auto', 'ajtok_szama': 4, 'marka': 'Audi'}\n",
      "{'type': 'auto', 'ajtok_szama': 3, 'marka': 'Mercedes'}\n",
      "{'type': 'auto', 'ajtok_szama': 4, 'marka': 'Audi'}\n",
      "{'type': 'auto', 'ajtok_szama': 4, 'marka': 'BMW'}\n",
      "{'type': 'auto', 'ajtok_szama': 4, 'marka': 'Audi'}\n",
      "{'type': 'auto', 'ajtok_szama': 4, 'marka': 'BMW'}\n",
      "{'type': 'auto', 'ajtok_szama': 5, 'marka': 'Mercedes'}\n",
      "We registered 11 cars.\n"
     ]
    }
   ],
   "source": [
    "for car in cars:\n",
    "    print(car.vehicle_data())\n",
    "print(f'We registered {car.count} cars.')"
   ]
  },
  {
   "cell_type": "code",
   "execution_count": 680,
   "metadata": {},
   "outputs": [
    {
     "name": "stdout",
     "output_type": "stream",
     "text": [
      "{'type': 'bicikli', 'terhelhetoseg': 100, 'marka': 'KTM'}\n",
      "{'type': 'bicikli', 'terhelhetoseg': 50, 'marka': 'Merida'}\n",
      "{'type': 'bicikli', 'terhelhetoseg': 50, 'marka': 'Csepel'}\n",
      "{'type': 'bicikli', 'terhelhetoseg': 100, 'marka': 'Csepel'}\n",
      "{'type': 'bicikli', 'terhelhetoseg': 100, 'marka': 'Csepel'}\n",
      "{'type': 'bicikli', 'terhelhetoseg': 150, 'marka': 'Merida'}\n",
      "{'type': 'bicikli', 'terhelhetoseg': 100, 'marka': 'Csepel'}\n",
      "{'type': 'bicikli', 'terhelhetoseg': 150, 'marka': 'KTM'}\n",
      "{'type': 'bicikli', 'terhelhetoseg': 150, 'marka': 'Merida'}\n",
      "{'type': 'bicikli', 'terhelhetoseg': 100, 'marka': 'Csepel'}\n",
      "{'type': 'bicikli', 'terhelhetoseg': 50, 'marka': 'Csepel'}\n",
      "{'type': 'bicikli', 'terhelhetoseg': 100, 'marka': 'Csepel'}\n",
      "{'type': 'bicikli', 'terhelhetoseg': 50, 'marka': 'KTM'}\n",
      "{'type': 'bicikli', 'terhelhetoseg': 150, 'marka': 'Merida'}\n",
      "{'type': 'bicikli', 'terhelhetoseg': 50, 'marka': 'Merida'}\n",
      "{'type': 'bicikli', 'terhelhetoseg': 50, 'marka': 'Csepel'}\n",
      "{'type': 'bicikli', 'terhelhetoseg': 100, 'marka': 'Csepel'}\n",
      "{'type': 'bicikli', 'terhelhetoseg': 100, 'marka': 'KTM'}\n",
      "{'type': 'bicikli', 'terhelhetoseg': 100, 'marka': 'Merida'}\n",
      "{'type': 'bicikli', 'terhelhetoseg': 150, 'marka': 'KTM'}\n",
      "{'type': 'bicikli', 'terhelhetoseg': 150, 'marka': 'Csepel'}\n",
      "{'type': 'bicikli', 'terhelhetoseg': 100, 'marka': 'Csepel'}\n",
      "{'type': 'bicikli', 'terhelhetoseg': 50, 'marka': 'Csepel'}\n",
      "{'type': 'bicikli', 'terhelhetoseg': 150, 'marka': 'Merida'}\n",
      "{'type': 'bicikli', 'terhelhetoseg': 150, 'marka': 'KTM'}\n",
      "{'type': 'bicikli', 'terhelhetoseg': 100, 'marka': 'Csepel'}\n",
      "{'type': 'bicikli', 'terhelhetoseg': 50, 'marka': 'KTM'}\n",
      "{'type': 'bicikli', 'terhelhetoseg': 50, 'marka': 'Merida'}\n",
      "{'type': 'bicikli', 'terhelhetoseg': 50, 'marka': 'KTM'}\n",
      "{'type': 'bicikli', 'terhelhetoseg': 150, 'marka': 'KTM'}\n",
      "{'type': 'bicikli', 'terhelhetoseg': 150, 'marka': 'KTM'}\n",
      "{'type': 'bicikli', 'terhelhetoseg': 50, 'marka': 'Csepel'}\n",
      "{'type': 'bicikli', 'terhelhetoseg': 100, 'marka': 'KTM'}\n",
      "{'type': 'bicikli', 'terhelhetoseg': 150, 'marka': 'Csepel'}\n",
      "{'type': 'bicikli', 'terhelhetoseg': 100, 'marka': 'Csepel'}\n",
      "{'type': 'bicikli', 'terhelhetoseg': 100, 'marka': 'KTM'}\n",
      "{'type': 'bicikli', 'terhelhetoseg': 100, 'marka': 'Merida'}\n",
      "{'type': 'bicikli', 'terhelhetoseg': 50, 'marka': 'KTM'}\n",
      "{'type': 'bicikli', 'terhelhetoseg': 50, 'marka': 'KTM'}\n",
      "{'type': 'bicikli', 'terhelhetoseg': 50, 'marka': 'Csepel'}\n",
      "{'type': 'bicikli', 'terhelhetoseg': 150, 'marka': 'Merida'}\n",
      "{'type': 'bicikli', 'terhelhetoseg': 100, 'marka': 'Csepel'}\n",
      "{'type': 'bicikli', 'terhelhetoseg': 100, 'marka': 'Csepel'}\n",
      "{'type': 'bicikli', 'terhelhetoseg': 50, 'marka': 'Merida'}\n",
      "{'type': 'bicikli', 'terhelhetoseg': 50, 'marka': 'Csepel'}\n",
      "{'type': 'bicikli', 'terhelhetoseg': 150, 'marka': 'Merida'}\n",
      "{'type': 'bicikli', 'terhelhetoseg': 50, 'marka': 'KTM'}\n",
      "{'type': 'bicikli', 'terhelhetoseg': 150, 'marka': 'Merida'}\n",
      "{'type': 'bicikli', 'terhelhetoseg': 100, 'marka': 'Csepel'}\n",
      "{'type': 'bicikli', 'terhelhetoseg': 50, 'marka': 'KTM'}\n",
      "We registered 51 bicycles.\n"
     ]
    }
   ],
   "source": [
    "for bicycle in bicycles:\n",
    "    print(bicycle.vehicle_data())\n",
    "print(f'We registered {bicycle.count} bicycles.')"
   ]
  },
  {
   "cell_type": "code",
   "execution_count": 681,
   "metadata": {},
   "outputs": [
    {
     "name": "stdout",
     "output_type": "stream",
     "text": [
      "We registered 62 vehicles in total.\n",
      "{'type': 'bicikli', 'marka': 'Csepel'}\n"
     ]
    }
   ],
   "source": [
    "print(f'We registered {Jarmu.count} vehicles in total.')\n",
    "print(Jarmu(bicycles[3]).vehicle_data())"
   ]
  }
 ],
 "metadata": {
  "kernelspec": {
   "display_name": "base",
   "language": "python",
   "name": "python3"
  },
  "language_info": {
   "codemirror_mode": {
    "name": "ipython",
    "version": 3
   },
   "file_extension": ".py",
   "mimetype": "text/x-python",
   "name": "python",
   "nbconvert_exporter": "python",
   "pygments_lexer": "ipython3",
   "version": "3.11.4"
  }
 },
 "nbformat": 4,
 "nbformat_minor": 2
}
