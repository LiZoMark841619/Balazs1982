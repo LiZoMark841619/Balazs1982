{
 "cells": [
  {
   "cell_type": "code",
   "execution_count": 45,
   "metadata": {},
   "outputs": [],
   "source": [
    "from pathlib import Path\n",
    "import os"
   ]
  },
  {
   "cell_type": "code",
   "execution_count": 46,
   "metadata": {},
   "outputs": [],
   "source": [
    "def content(parent=Path.cwd()):\n",
    "    everything = os.walk(top=parent, topdown=True)\n",
    "    content = dict()\n",
    "    for root, dir, file in everything:\n",
    "        content[root] = (dir, file)\n",
    "    return content"
   ]
  },
  {
   "cell_type": "code",
   "execution_count": 47,
   "metadata": {},
   "outputs": [
    {
     "data": {
      "text/plain": [
       "{'c:\\\\Users\\\\stank\\\\OneDrive\\\\Dokumentumok\\\\GitHub\\\\Balazs1982\\\\teszt_program_odootech_zrt': (['data',\n",
       "   '__pycache__'],\n",
       "  ['feladat.txt', 'script.ipynb', 'script_py.py', 'script_v1.ipynb']),\n",
       " 'c:\\\\Users\\\\stank\\\\OneDrive\\\\Dokumentumok\\\\GitHub\\\\Balazs1982\\\\teszt_program_odootech_zrt\\\\data': (['A',\n",
       "   'B'],\n",
       "  []),\n",
       " 'c:\\\\Users\\\\stank\\\\OneDrive\\\\Dokumentumok\\\\GitHub\\\\Balazs1982\\\\teszt_program_odootech_zrt\\\\data\\\\A': (['X'],\n",
       "  ['AA0001.dat']),\n",
       " 'c:\\\\Users\\\\stank\\\\OneDrive\\\\Dokumentumok\\\\GitHub\\\\Balazs1982\\\\teszt_program_odootech_zrt\\\\data\\\\A\\\\X': ([],\n",
       "  ['CD1234.dat']),\n",
       " 'c:\\\\Users\\\\stank\\\\OneDrive\\\\Dokumentumok\\\\GitHub\\\\Balazs1982\\\\teszt_program_odootech_zrt\\\\data\\\\B': (['X'],\n",
       "  ['BS3234.dat']),\n",
       " 'c:\\\\Users\\\\stank\\\\OneDrive\\\\Dokumentumok\\\\GitHub\\\\Balazs1982\\\\teszt_program_odootech_zrt\\\\data\\\\B\\\\X': ([],\n",
       "  ['DD0001.dat']),\n",
       " 'c:\\\\Users\\\\stank\\\\OneDrive\\\\Dokumentumok\\\\GitHub\\\\Balazs1982\\\\teszt_program_odootech_zrt\\\\__pycache__': ([],\n",
       "  ['script.cpython-311.pyc'])}"
      ]
     },
     "execution_count": 47,
     "metadata": {},
     "output_type": "execute_result"
    }
   ],
   "source": [
    "test_one = content()\n",
    "test_one"
   ]
  },
  {
   "cell_type": "code",
   "execution_count": 48,
   "metadata": {},
   "outputs": [],
   "source": [
    "def __str__(content: dict, folder: str) -> list:\n",
    "    elems = [value for key, value in content.items() if folder in key[-len(folder):]]\n",
    "    return elems"
   ]
  },
  {
   "cell_type": "code",
   "execution_count": 49,
   "metadata": {},
   "outputs": [
    {
     "data": {
      "text/plain": [
       "([(['A', 'B'], [])],\n",
       " [(['X'], ['AA0001.dat'])],\n",
       " [(['X'], ['BS3234.dat'])],\n",
       " [([], ['CD1234.dat']), ([], ['DD0001.dat'])])"
      ]
     },
     "execution_count": 49,
     "metadata": {},
     "output_type": "execute_result"
    }
   ],
   "source": [
    "test_two = __str__(test_one, 'data'), __str__(test_one, 'A'), __str__(test_one, 'B'), __str__(test_one, 'X')\n",
    "test_two"
   ]
  },
  {
   "cell_type": "code",
   "execution_count": 50,
   "metadata": {},
   "outputs": [],
   "source": [
    "def find_files(contents: dict) -> list:\n",
    "    links = []\n",
    "    for key, value in contents.items():\n",
    "        for file in value[1]:\n",
    "            if '.dat' in file:\n",
    "                key += '\\\\'\n",
    "                key+=file\n",
    "                links.append(key)\n",
    "    return links"
   ]
  },
  {
   "cell_type": "code",
   "execution_count": 51,
   "metadata": {},
   "outputs": [
    {
     "data": {
      "text/plain": [
       "['c:\\\\Users\\\\stank\\\\OneDrive\\\\Dokumentumok\\\\GitHub\\\\Balazs1982\\\\teszt_program_odootech_zrt\\\\data\\\\A\\\\AA0001.dat',\n",
       " 'c:\\\\Users\\\\stank\\\\OneDrive\\\\Dokumentumok\\\\GitHub\\\\Balazs1982\\\\teszt_program_odootech_zrt\\\\data\\\\A\\\\X\\\\CD1234.dat',\n",
       " 'c:\\\\Users\\\\stank\\\\OneDrive\\\\Dokumentumok\\\\GitHub\\\\Balazs1982\\\\teszt_program_odootech_zrt\\\\data\\\\B\\\\BS3234.dat',\n",
       " 'c:\\\\Users\\\\stank\\\\OneDrive\\\\Dokumentumok\\\\GitHub\\\\Balazs1982\\\\teszt_program_odootech_zrt\\\\data\\\\B\\\\X\\\\DD0001.dat']"
      ]
     },
     "execution_count": 51,
     "metadata": {},
     "output_type": "execute_result"
    }
   ],
   "source": [
    "test_three = find_files(test_one)\n",
    "test_three"
   ]
  },
  {
   "cell_type": "code",
   "execution_count": 52,
   "metadata": {},
   "outputs": [
    {
     "ename": "RecursionError",
     "evalue": "maximum recursion depth exceeded",
     "output_type": "error",
     "traceback": [
      "\u001b[1;31m---------------------------------------------------------------------------\u001b[0m",
      "\u001b[1;31mRecursionError\u001b[0m                            Traceback (most recent call last)",
      "Cell \u001b[1;32mIn[52], line 1\u001b[0m\n\u001b[1;32m----> 1\u001b[0m \u001b[38;5;28;43mopen\u001b[39;49m\u001b[43m(\u001b[49m\u001b[38;5;124;43m'\u001b[39;49m\u001b[38;5;124;43mc:\u001b[39;49m\u001b[38;5;130;43;01m\\\\\u001b[39;49;00m\u001b[38;5;124;43mUsers\u001b[39;49m\u001b[38;5;130;43;01m\\\\\u001b[39;49;00m\u001b[38;5;124;43mstank\u001b[39;49m\u001b[38;5;130;43;01m\\\\\u001b[39;49;00m\u001b[38;5;124;43mOneDrive\u001b[39;49m\u001b[38;5;130;43;01m\\\\\u001b[39;49;00m\u001b[38;5;124;43mDokumentumok\u001b[39;49m\u001b[38;5;130;43;01m\\\\\u001b[39;49;00m\u001b[38;5;124;43mGitHub\u001b[39;49m\u001b[38;5;130;43;01m\\\\\u001b[39;49;00m\u001b[38;5;124;43mBalazs1982\u001b[39;49m\u001b[38;5;130;43;01m\\\\\u001b[39;49;00m\u001b[38;5;124;43mteszt_program_odootech_zrt\u001b[39;49m\u001b[38;5;130;43;01m\\\\\u001b[39;49;00m\u001b[38;5;124;43mdata\u001b[39;49m\u001b[38;5;130;43;01m\\\\\u001b[39;49;00m\u001b[38;5;124;43mA\u001b[39;49m\u001b[38;5;130;43;01m\\\\\u001b[39;49;00m\u001b[38;5;124;43mAA0001.dat\u001b[39;49m\u001b[38;5;124;43m'\u001b[39;49m\u001b[43m)\u001b[49m\n",
      "Cell \u001b[1;32mIn[14], line 3\u001b[0m, in \u001b[0;36mopen\u001b[1;34m(files)\u001b[0m\n\u001b[0;32m      1\u001b[0m \u001b[38;5;28;01mdef\u001b[39;00m \u001b[38;5;21mopen\u001b[39m(files: \u001b[38;5;28mlist\u001b[39m) \u001b[38;5;241m-\u001b[39m\u001b[38;5;241m>\u001b[39m \u001b[38;5;28mstr\u001b[39m:\n\u001b[0;32m      2\u001b[0m     \u001b[38;5;28;01mfor\u001b[39;00m link \u001b[38;5;129;01min\u001b[39;00m files:\n\u001b[1;32m----> 3\u001b[0m         f \u001b[38;5;241m=\u001b[39m \u001b[38;5;28;43mopen\u001b[39;49m\u001b[43m(\u001b[49m\u001b[43mlink\u001b[49m\u001b[43m)\u001b[49m\n\u001b[0;32m      4\u001b[0m         \u001b[38;5;28mprint\u001b[39m(f\u001b[38;5;241m.\u001b[39mread())\n",
      "Cell \u001b[1;32mIn[14], line 3\u001b[0m, in \u001b[0;36mopen\u001b[1;34m(files)\u001b[0m\n\u001b[0;32m      1\u001b[0m \u001b[38;5;28;01mdef\u001b[39;00m \u001b[38;5;21mopen\u001b[39m(files: \u001b[38;5;28mlist\u001b[39m) \u001b[38;5;241m-\u001b[39m\u001b[38;5;241m>\u001b[39m \u001b[38;5;28mstr\u001b[39m:\n\u001b[0;32m      2\u001b[0m     \u001b[38;5;28;01mfor\u001b[39;00m link \u001b[38;5;129;01min\u001b[39;00m files:\n\u001b[1;32m----> 3\u001b[0m         f \u001b[38;5;241m=\u001b[39m \u001b[38;5;28;43mopen\u001b[39;49m\u001b[43m(\u001b[49m\u001b[43mlink\u001b[49m\u001b[43m)\u001b[49m\n\u001b[0;32m      4\u001b[0m         \u001b[38;5;28mprint\u001b[39m(f\u001b[38;5;241m.\u001b[39mread())\n",
      "    \u001b[1;31m[... skipping similar frames: open at line 3 (2971 times)]\u001b[0m\n",
      "Cell \u001b[1;32mIn[14], line 3\u001b[0m, in \u001b[0;36mopen\u001b[1;34m(files)\u001b[0m\n\u001b[0;32m      1\u001b[0m \u001b[38;5;28;01mdef\u001b[39;00m \u001b[38;5;21mopen\u001b[39m(files: \u001b[38;5;28mlist\u001b[39m) \u001b[38;5;241m-\u001b[39m\u001b[38;5;241m>\u001b[39m \u001b[38;5;28mstr\u001b[39m:\n\u001b[0;32m      2\u001b[0m     \u001b[38;5;28;01mfor\u001b[39;00m link \u001b[38;5;129;01min\u001b[39;00m files:\n\u001b[1;32m----> 3\u001b[0m         f \u001b[38;5;241m=\u001b[39m \u001b[38;5;28;43mopen\u001b[39;49m\u001b[43m(\u001b[49m\u001b[43mlink\u001b[49m\u001b[43m)\u001b[49m\n\u001b[0;32m      4\u001b[0m         \u001b[38;5;28mprint\u001b[39m(f\u001b[38;5;241m.\u001b[39mread())\n",
      "\u001b[1;31mRecursionError\u001b[0m: maximum recursion depth exceeded"
     ]
    }
   ],
   "source": [
    "open('c:\\\\Users\\\\stank\\\\OneDrive\\\\Dokumentumok\\\\GitHub\\\\Balazs1982\\\\teszt_program_odootech_zrt\\\\data\\\\A\\\\AA0001.dat')"
   ]
  },
  {
   "cell_type": "code",
   "execution_count": null,
   "metadata": {},
   "outputs": [],
   "source": []
  }
 ],
 "metadata": {
  "kernelspec": {
   "display_name": "base",
   "language": "python",
   "name": "python3"
  },
  "language_info": {
   "codemirror_mode": {
    "name": "ipython",
    "version": 3
   },
   "file_extension": ".py",
   "mimetype": "text/x-python",
   "name": "python",
   "nbconvert_exporter": "python",
   "pygments_lexer": "ipython3",
   "version": "3.11.4"
  }
 },
 "nbformat": 4,
 "nbformat_minor": 2
}
