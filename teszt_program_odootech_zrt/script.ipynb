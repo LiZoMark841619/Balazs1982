{
 "cells": [
  {
   "cell_type": "markdown",
   "metadata": {},
   "source": [
    "##### Importing modules"
   ]
  },
  {
   "cell_type": "code",
   "execution_count": 1,
   "metadata": {},
   "outputs": [],
   "source": [
    "from pathlib import Path\n",
    "import os\n",
    "import random\n",
    "import pickle"
   ]
  },
  {
   "cell_type": "markdown",
   "metadata": {},
   "source": [
    "`Method 1 - making a dictionary as the returned value of the data in every folder`"
   ]
  },
  {
   "cell_type": "code",
   "execution_count": 2,
   "metadata": {},
   "outputs": [],
   "source": [
    "def content(parent=Path.cwd()):\n",
    "    return {root:(dir, file) for root, dir, file in os.walk(top=parent, topdown=False)}"
   ]
  },
  {
   "cell_type": "markdown",
   "metadata": {},
   "source": [
    "`User test 1`"
   ]
  },
  {
   "cell_type": "code",
   "execution_count": 3,
   "metadata": {},
   "outputs": [],
   "source": [
    "test_one = content()\n",
    "#test_one"
   ]
  },
  {
   "cell_type": "code",
   "execution_count": 4,
   "metadata": {},
   "outputs": [],
   "source": [
    "folders = [val[0] for val in test_one.values() if val[0]]\n",
    "files = [val[1] for val in test_one.values() if val[1]]\n",
    "#L = list(filter(bool, [val[0] for val in test_one.values()]))\n",
    "# folders, files\n",
    "#print(*L, sep=', ')"
   ]
  },
  {
   "cell_type": "code",
   "execution_count": 5,
   "metadata": {},
   "outputs": [
    {
     "name": "stdout",
     "output_type": "stream",
     "text": [
      "\n",
      "Here you can see the folders:\n",
      "[['X'], ['X'], ['A', 'B'], ['data', '__pycache__']]\n",
      "\n",
      "Here you can see the files:\n",
      "[['CD1234.dat'], ['AA0001.dat'], ['DD0001.dat'], ['BS3234.dat'], ['docstring.cpython-311.pyc', 'python_script.cpython-311.pyc', 'script.cpython-311.pyc', 'test.cpython-311.pyc'], ['autos.pkl', 'biciklis.pkl', 'feladat.txt', 'python_script.py', 'script.ipynb', 'test.html', 'test.py']]\n",
      "\n"
     ]
    }
   ],
   "source": [
    "answer = input('Enter yes if you would see every folder and file in the parent directory! ')\n",
    "if answer in ['yes', 1]: print(f'\\nHere you can see the folders:\\n{folders}\\n\\nHere you can see the files:\\n{files}\\n')"
   ]
  },
  {
   "cell_type": "markdown",
   "metadata": {},
   "source": [
    "`Method 2 - finding the files then loading in`"
   ]
  },
  {
   "cell_type": "code",
   "execution_count": 6,
   "metadata": {},
   "outputs": [],
   "source": [
    "def read_files(dirs: dict) -> list:\n",
    "    for key in dirs:\n",
    "        for file in dirs[key][1]:\n",
    "            if '.dat' in file:\n",
    "                yield open(key+'\\\\'+file).read()"
   ]
  },
  {
   "cell_type": "code",
   "execution_count": 7,
   "metadata": {},
   "outputs": [],
   "source": [
    "test_two = read_files(test_one)\n",
    "# next(test_two), next(test_two), next(test_two)"
   ]
  },
  {
   "cell_type": "markdown",
   "metadata": {},
   "source": [
    "`User test 2`"
   ]
  },
  {
   "cell_type": "code",
   "execution_count": 8,
   "metadata": {},
   "outputs": [
    {
     "name": "stdout",
     "output_type": "stream",
     "text": [
      "\n",
      "Here is the available data from every file:\n",
      "\n",
      "{'type': 'auto', 'ajtok_szama': 3, 'marka': 'BMW'}\n",
      "{'type': 'auto', 'ajtok_szama': 5, 'marka': 'Opel'}\n",
      "{'type': 'bicikli', 'terhelhetoseg': 150, 'marka': 'Valami'}\n",
      "{'type': 'bicikli', 'terhelhetoseg': 130, 'marka': 'Csepel'}\n"
     ]
    }
   ],
   "source": [
    "answer = input('Enter yes if you would load in every data from every file! ')\n",
    "if answer in ['yes', 1]: print('\\nHere is the available data from every file:\\n')\n",
    "while True:\n",
    "    try: X = eval(next(test_two)) # or print(json.loads(next(test_two)))\n",
    "    except StopIteration: break\n",
    "    print(X)"
   ]
  },
  {
   "cell_type": "markdown",
   "metadata": {},
   "source": [
    "`Making classes and setting up the instantiation method and one regular method (to print out the data)`"
   ]
  },
  {
   "cell_type": "code",
   "execution_count": 9,
   "metadata": {},
   "outputs": [
    {
     "name": "stdout",
     "output_type": "stream",
     "text": [
      "wrote test.html\n"
     ]
    }
   ],
   "source": [
    "from test import Jarmu, auto, bicikli"
   ]
  },
  {
   "cell_type": "code",
   "execution_count": 10,
   "metadata": {},
   "outputs": [
    {
     "data": {
      "text/plain": [
       "('auto', 'Ford')"
      ]
     },
     "execution_count": 10,
     "metadata": {},
     "output_type": "execute_result"
    }
   ],
   "source": [
    "first = Jarmu('auto', 'Ford')\n",
    "first.type, first.marka"
   ]
  },
  {
   "cell_type": "code",
   "execution_count": 11,
   "metadata": {},
   "outputs": [],
   "source": [
    "# # # Test\n",
    "# auto_1 = auto('auto', 'Honda', 5)\n",
    "# bicikli_1 = bicikli('bicikli', 'Csepel', 200)"
   ]
  },
  {
   "cell_type": "code",
   "execution_count": 12,
   "metadata": {},
   "outputs": [
    {
     "data": {
      "text/plain": [
       "({'type': 'auto', 'ajtok_szama': 5, 'marka': 'Honda'}, 1, 'auto')"
      ]
     },
     "execution_count": 12,
     "metadata": {},
     "output_type": "execute_result"
    }
   ],
   "source": [
    "# auto_1.vehicle_data(), auto_1.count, auto_1.type"
   ]
  },
  {
   "cell_type": "code",
   "execution_count": 13,
   "metadata": {},
   "outputs": [],
   "source": [
    "# bicikli_1.vehicle_data(), bicikli_1.count, Jarmu.registered_vehicle"
   ]
  },
  {
   "cell_type": "markdown",
   "metadata": {},
   "source": [
    "`User test 3`"
   ]
  },
  {
   "cell_type": "code",
   "execution_count": 14,
   "metadata": {},
   "outputs": [],
   "source": [
    "car_fleet_one = ['auto', 'Audi', 4]\n",
    "#bicikli_fleet_one = ['bicikli', 'KTM', 250]\n",
    "ajtok_szama = [3, 4, 5]\n",
    "terhelhetoseg = [50, 100, 150]\n",
    "marka_auto = ['Audi', 'BMW', 'Mercedes']\n",
    "marka_bicikli = ['KTM', 'Csepel', 'Merida']"
   ]
  },
  {
   "cell_type": "code",
   "execution_count": 15,
   "metadata": {},
   "outputs": [],
   "source": [
    "request_one = f'\\nEnter the number of cars with the following params: \"{car_fleet_one}\" to register as new fleet member: '\n",
    "request_two = '\\nEnter the number of bicycles to register randomly: '"
   ]
  },
  {
   "cell_type": "code",
   "execution_count": 16,
   "metadata": {},
   "outputs": [],
   "source": [
    "cars = [auto(*car_fleet_one) for _ in range(int(input(request_one)))]\n",
    "bicycles = [bicikli('bicikli', random.choice(marka_bicikli), random.choice(terhelhetoseg)) for _ in range(int(input(request_two)))]"
   ]
  },
  {
   "cell_type": "code",
   "execution_count": 17,
   "metadata": {},
   "outputs": [],
   "source": [
    "autos = [car.vehicle_data() for car in cars]\n",
    "biciklis = [bicycle.vehicle_data() for bicycle in bicycles]"
   ]
  },
  {
   "cell_type": "code",
   "execution_count": 18,
   "metadata": {},
   "outputs": [
    {
     "name": "stdout",
     "output_type": "stream",
     "text": [
      "\n",
      "Here you can see the recently registered cars: \n",
      "{'type': 'auto', 'ajtok_szama': 4, 'marka': 'Audi'}\n",
      "{'type': 'auto', 'ajtok_szama': 4, 'marka': 'Audi'}\n",
      "{'type': 'auto', 'ajtok_szama': 4, 'marka': 'Audi'}\n",
      "{'type': 'auto', 'ajtok_szama': 4, 'marka': 'Audi'}\n",
      "You registered 5 cars.\n",
      "\n",
      "\n",
      "Here you can see the recently registered bicycles: \n",
      "{'type': 'bicikli', 'terhelhetoseg': 50, 'marka': 'KTM'}\n",
      "{'type': 'bicikli', 'terhelhetoseg': 150, 'marka': 'KTM'}\n",
      "{'type': 'bicikli', 'terhelhetoseg': 50, 'marka': 'KTM'}\n",
      "{'type': 'bicikli', 'terhelhetoseg': 100, 'marka': 'KTM'}\n",
      "{'type': 'bicikli', 'terhelhetoseg': 150, 'marka': 'Csepel'}\n",
      "{'type': 'bicikli', 'terhelhetoseg': 150, 'marka': 'Merida'}\n",
      "{'type': 'bicikli', 'terhelhetoseg': 100, 'marka': 'Csepel'}\n",
      "{'type': 'bicikli', 'terhelhetoseg': 150, 'marka': 'Merida'}\n",
      "You registered 9 bicycles.\n",
      "In total there are 14 vehicles registered\n"
     ]
    }
   ],
   "source": [
    "print('\\nHere you can see the recently registered cars: ', *autos, sep='\\n')\n",
    "print(f'You registered {auto.count} cars.\\n')\n",
    "print('\\nHere you can see the recently registered bicycles: ', *biciklis, sep='\\n')\n",
    "print(f'You registered {bicikli.count} bicycles.\\nIn total there are {Jarmu.registered_vehicle} vehicles registered')"
   ]
  },
  {
   "cell_type": "code",
   "execution_count": 19,
   "metadata": {},
   "outputs": [],
   "source": [
    "with open('autos.pkl', 'wb') as F:\n",
    "    pickle.dump(autos, F)\n",
    "    F.close()\n",
    "with open('autos.pkl', 'rb') as F:\n",
    "    E = pickle.load(F)\n",
    "#print(*E, sep='\\n')\n",
    "with open('biciklis.pkl', 'wb') as F:\n",
    "    pickle.dump(biciklis, F)\n",
    "    F.close()\n",
    "with open('biciklis.pkl', 'rb') as F:\n",
    "    E = pickle.load(F)\n",
    "#print(*E, sep='\\n')"
   ]
  }
 ],
 "metadata": {
  "kernelspec": {
   "display_name": "base",
   "language": "python",
   "name": "python3"
  },
  "language_info": {
   "codemirror_mode": {
    "name": "ipython",
    "version": 3
   },
   "file_extension": ".py",
   "mimetype": "text/x-python",
   "name": "python",
   "nbconvert_exporter": "python",
   "pygments_lexer": "ipython3",
   "version": "3.11.4"
  }
 },
 "nbformat": 4,
 "nbformat_minor": 2
}
