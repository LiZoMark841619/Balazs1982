{
 "cells": [
  {
   "cell_type": "markdown",
   "metadata": {},
   "source": [
    "##### Importing modules"
   ]
  },
  {
   "cell_type": "code",
   "execution_count": 183,
   "metadata": {},
   "outputs": [],
   "source": [
    "from pathlib import Path\n",
    "import os\n",
    "import json"
   ]
  },
  {
   "cell_type": "markdown",
   "metadata": {},
   "source": [
    "##### Method of listing parent directory to find its contents and the Path to them "
   ]
  },
  {
   "cell_type": "code",
   "execution_count": 184,
   "metadata": {},
   "outputs": [],
   "source": [
    "def folders_files(parent = Path().cwd()):\n",
    "    cwd = Path.cwd()/parent\n",
    "    directories = os.listdir(parent)\n",
    "    return {cwd/directory:os.listdir(cwd/directory) for directory in directories}"
   ]
  },
  {
   "cell_type": "code",
   "execution_count": 185,
   "metadata": {},
   "outputs": [
    {
     "name": "stdout",
     "output_type": "stream",
     "text": [
      "There are 2 folders in the \"data\" parent directory and you can see the Paths to their contents below:\n",
      "\n",
      "{WindowsPath('c:/Users/stank/OneDrive/Dokumentumok/GitHub/Balazs1982/teszt_program_odootech_zrt/data/A'): ['AA0001.dat', 'X'], WindowsPath('c:/Users/stank/OneDrive/Dokumentumok/GitHub/Balazs1982/teszt_program_odootech_zrt/data/B'): ['BS3234.dat', 'X']}\n"
     ]
    }
   ],
   "source": [
    "# Test\n",
    "parent = input('Please enter the name of the parent directory: ').strip()\n",
    "folders = folders_files(parent)\n",
    "print(f'There are {len(folders)} folders in the \"{parent}\" parent directory and you can see the Paths to their contents below:\\n\\n{folders}')"
   ]
  },
  {
   "cell_type": "markdown",
   "metadata": {},
   "source": [
    "##### Method of opening folders and loading in the \".dat\" files from them"
   ]
  },
  {
   "cell_type": "code",
   "execution_count": 186,
   "metadata": {},
   "outputs": [
    {
     "data": {
      "text/plain": [
       "['{\"type\": \"auto\", \"ajtok_szama\": 5, \"marka\": \"Opel\"}',\n",
       " '{\"type\": \"auto\", \"ajtok_szama\": 3, \"marka\": \"BMW\"}',\n",
       " '{\"type\": \"bicikli\", \"terhelhetoseg\": 130, \"marka\": \"Csepel\"}',\n",
       " '{\"type\": \"bicikli\", \"terhelhetoseg\": 150, \"marka\": \"Valami\"}']"
      ]
     },
     "execution_count": 186,
     "metadata": {},
     "output_type": "execute_result"
    }
   ],
   "source": [
    "def read_files(directories: dict) -> list:\n",
    "    for key, value in directories.items():\n",
    "        for elem in value:\n",
    "            if '.dat' in elem:\n",
    "                yield from open(key/elem)\n",
    "            else:\n",
    "                yield from open(key/elem/os.listdir(key/elem)[0])\n",
    "# Test\n",
    "datas = list(read_files(folders))\n",
    "datas"
   ]
  },
  {
   "cell_type": "markdown",
   "metadata": {},
   "source": [
    "##### Converting the above string files to dictionaries"
   ]
  },
  {
   "cell_type": "code",
   "execution_count": 187,
   "metadata": {},
   "outputs": [
    {
     "name": "stdout",
     "output_type": "stream",
     "text": [
      "\n",
      "Here you can see every data from every folders and files in the parent directory:\n",
      "[{'type': 'auto', 'ajtok_szama': 5, 'marka': 'Opel'}, {'type': 'auto', 'ajtok_szama': 3, 'marka': 'BMW'}, {'type': 'bicikli', 'terhelhetoseg': 130, 'marka': 'Csepel'}, {'type': 'bicikli', 'terhelhetoseg': 150, 'marka': 'Valami'}]\n",
      "\n",
      "\n"
     ]
    }
   ],
   "source": [
    "datas = [json.loads(elem) for elem in datas]\n",
    "print(f'\\nHere you can see every data from every folders and files in the parent directory:\\n{datas}\\n\\n')"
   ]
  },
  {
   "cell_type": "code",
   "execution_count": 188,
   "metadata": {},
   "outputs": [
    {
     "data": {
      "text/plain": [
       "[\"{'type': 'auto', 'ajtok_szama': 5, 'marka': 'Opel'}\",\n",
       " \"{'type': 'auto', 'ajtok_szama': 3, 'marka': 'BMW'}\",\n",
       " \"{'type': 'bicikli', 'terhelhetoseg': 130, 'marka': 'Csepel'}\",\n",
       " \"{'type': 'bicikli', 'terhelhetoseg': 150, 'marka': 'Valami'}\"]"
      ]
     },
     "execution_count": 188,
     "metadata": {},
     "output_type": "execute_result"
    }
   ],
   "source": [
    "new = [ascii(data) for data in datas]\n",
    "new"
   ]
  },
  {
   "cell_type": "markdown",
   "metadata": {},
   "source": [
    "##### Making two vehicle classes - `auto, bicikli` - and making the instantiation and the vehichle_data function"
   ]
  },
  {
   "cell_type": "code",
   "execution_count": 189,
   "metadata": {},
   "outputs": [],
   "source": [
    "class auto:\n",
    "    count = 0\n",
    "        \n",
    "    def __init__(self, type:str, ajtok_szama:int, marka:str) -> None:\n",
    "        self.type = type\n",
    "        self.ajtok_szama = ajtok_szama\n",
    "        self.marka = marka\n",
    "        auto.count +=1\n",
    "            \n",
    "    def vehicle_data(self) -> dict:\n",
    "        return {'type':self.type, 'ajtok_szama':self.ajtok_szama, 'marka':self.marka}"
   ]
  },
  {
   "cell_type": "code",
   "execution_count": 190,
   "metadata": {},
   "outputs": [],
   "source": [
    "class bicikli:\n",
    "    count = 0\n",
    "        \n",
    "    def __init__(self, type:str, terhelhetoseg:int, marka:str) -> None:\n",
    "        self.type = type\n",
    "        self.terhelhetoseg = terhelhetoseg\n",
    "        self.marka = marka\n",
    "        bicikli.count +=1\n",
    "            \n",
    "    def vehicle_data(self) -> dict:\n",
    "        return {'type':self.type, 'terhelhetoseg':self.terhelhetoseg, 'marka':self.marka}"
   ]
  },
  {
   "cell_type": "code",
   "execution_count": 191,
   "metadata": {},
   "outputs": [],
   "source": [
    "# Test\n",
    "first_auto = auto('auto', 5, 'Opel')\n",
    "first_bicikli = bicikli('bicikli', 200, 'Csepel')"
   ]
  },
  {
   "cell_type": "code",
   "execution_count": 192,
   "metadata": {},
   "outputs": [
    {
     "data": {
      "text/plain": [
       "({'type': 'auto', 'ajtok_szama': 5, 'marka': 'Opel'}, {'Number of auto:': 1})"
      ]
     },
     "execution_count": 192,
     "metadata": {},
     "output_type": "execute_result"
    }
   ],
   "source": [
    "first_auto.vehicle_data(), {'Number of auto:':auto.count}"
   ]
  },
  {
   "cell_type": "code",
   "execution_count": 193,
   "metadata": {},
   "outputs": [
    {
     "data": {
      "text/plain": [
       "{'type': 'bicikli', 'terhelhetoseg': 200, 'marka': 'Csepel'}"
      ]
     },
     "execution_count": 193,
     "metadata": {},
     "output_type": "execute_result"
    }
   ],
   "source": [
    "first_bicikli.vehicle_data()"
   ]
  },
  {
   "cell_type": "code",
   "execution_count": 194,
   "metadata": {},
   "outputs": [
    {
     "data": {
      "text/plain": [
       "[<__main__.auto at 0x16729e2b850>,\n",
       " <__main__.auto at 0x16729e28350>,\n",
       " <__main__.bicikli at 0x16729e2b150>,\n",
       " <__main__.bicikli at 0x1672a43d090>]"
      ]
     },
     "execution_count": 194,
     "metadata": {},
     "output_type": "execute_result"
    }
   ],
   "source": [
    "objects = []\n",
    "for data in datas:\n",
    "    for key, value in data.items():\n",
    "        if data[key] == 'auto':\n",
    "            objects.append(auto(*data.values()))\n",
    "        elif data[key] == 'bicikli':\n",
    "            objects.append(bicikli(*data.values()))\n",
    "objects"
   ]
  },
  {
   "cell_type": "markdown",
   "metadata": {},
   "source": [
    "##### Method of displaying"
   ]
  },
  {
   "cell_type": "code",
   "execution_count": 195,
   "metadata": {},
   "outputs": [],
   "source": [
    "def display(objects: list, type: str) -> list:\n",
    "    result_1 = [elem.vehicle_data() for elem in objects if type == elem.vehicle_data()['type']]\n",
    "    result_2 = [{f'Number of {type}s':len(result_1), 'Total number of vehicles':len(objects)}]\n",
    "    return result_1, result_2"
   ]
  },
  {
   "cell_type": "code",
   "execution_count": 196,
   "metadata": {},
   "outputs": [
    {
     "name": "stdout",
     "output_type": "stream",
     "text": [
      "[{'type': 'bicikli', 'terhelhetoseg': 130, 'marka': 'Csepel'}, {'type': 'bicikli', 'terhelhetoseg': 150, 'marka': 'Valami'}] [{'Number of biciklis': 2, 'Total number of vehicles': 4}]\n"
     ]
    }
   ],
   "source": [
    "# Test\n",
    "display = display(objects, input('Please enter the requested vehicle type: ').strip())\n",
    "print(*display)"
   ]
  },
  {
   "cell_type": "code",
   "execution_count": null,
   "metadata": {},
   "outputs": [],
   "source": []
  }
 ],
 "metadata": {
  "kernelspec": {
   "display_name": "base",
   "language": "python",
   "name": "python3"
  },
  "language_info": {
   "codemirror_mode": {
    "name": "ipython",
    "version": 3
   },
   "file_extension": ".py",
   "mimetype": "text/x-python",
   "name": "python",
   "nbconvert_exporter": "python",
   "pygments_lexer": "ipython3",
   "version": "3.11.4"
  }
 },
 "nbformat": 4,
 "nbformat_minor": 2
}
