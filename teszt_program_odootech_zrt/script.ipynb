{
 "cells": [
  {
   "cell_type": "markdown",
   "metadata": {},
   "source": [
    "##### Importing modules"
   ]
  },
  {
   "cell_type": "code",
   "execution_count": 2889,
   "metadata": {},
   "outputs": [],
   "source": [
    "from pathlib import Path\n",
    "import os\n",
    "import json"
   ]
  },
  {
   "cell_type": "markdown",
   "metadata": {},
   "source": [
    "##### Method of listing parent directory to find its contents and the Path to them "
   ]
  },
  {
   "cell_type": "code",
   "execution_count": 2890,
   "metadata": {},
   "outputs": [
    {
     "data": {
      "text/plain": [
       "{WindowsPath('c:/Users/stank/OneDrive/Dokumentumok/GitHub/Balazs1982/teszt_program_odootech_zrt/data/A'): ['AA0001.dat',\n",
       "  'X'],\n",
       " WindowsPath('c:/Users/stank/OneDrive/Dokumentumok/GitHub/Balazs1982/teszt_program_odootech_zrt/data/B'): ['BS3234.dat',\n",
       "  'X']}"
      ]
     },
     "execution_count": 2890,
     "metadata": {},
     "output_type": "execute_result"
    }
   ],
   "source": [
    "def folders_files(parent:str) -> dict:\n",
    "    cwd = Path.cwd()/parent\n",
    "    directories = os.listdir(parent)\n",
    "    return {cwd/directory:os.listdir(cwd/directory) for directory in directories}\n",
    "# Test\n",
    "folders = folders_files('data')\n",
    "folders"
   ]
  },
  {
   "cell_type": "markdown",
   "metadata": {},
   "source": [
    "##### Method of opening folders and loading in the \".dat\" files from them"
   ]
  },
  {
   "cell_type": "code",
   "execution_count": 2891,
   "metadata": {},
   "outputs": [
    {
     "data": {
      "text/plain": [
       "['{\"type\": \"auto\", \"ajtok_szama\": 5, \"marka\": \"Opel\"}',\n",
       " '{\"type\": \"auto\", \"ajtok_szama\": 3, \"marka\": \"BMW\"}',\n",
       " '{\"type\": \"bicikli\", \"terhelhetoseg\": 130, \"marka\": \"Csepel\"}',\n",
       " '{\"type\": \"bicikli\", \"terhelhetoseg\": 150, \"marka\": \"Valami\"}']"
      ]
     },
     "execution_count": 2891,
     "metadata": {},
     "output_type": "execute_result"
    }
   ],
   "source": [
    "def read_files(directories:dict) -> list:\n",
    "    for key, value in directories.items():\n",
    "        for elem in value:\n",
    "            if '.dat' in elem:\n",
    "                yield from open(key/elem)\n",
    "            else:\n",
    "                yield from open(key/elem/os.listdir(key/elem)[0])\n",
    "# Test\n",
    "datas = list(read_files(folders))\n",
    "datas"
   ]
  },
  {
   "cell_type": "markdown",
   "metadata": {},
   "source": [
    "##### Converting the above string files to dictionaries"
   ]
  },
  {
   "cell_type": "code",
   "execution_count": 2892,
   "metadata": {},
   "outputs": [
    {
     "data": {
      "text/plain": [
       "[{'type': 'auto', 'ajtok_szama': 5, 'marka': 'Opel'},\n",
       " {'type': 'auto', 'ajtok_szama': 3, 'marka': 'BMW'},\n",
       " {'type': 'bicikli', 'terhelhetoseg': 130, 'marka': 'Csepel'},\n",
       " {'type': 'bicikli', 'terhelhetoseg': 150, 'marka': 'Valami'}]"
      ]
     },
     "execution_count": 2892,
     "metadata": {},
     "output_type": "execute_result"
    }
   ],
   "source": [
    "datas = [json.loads(elem) for elem in datas]\n",
    "datas"
   ]
  },
  {
   "cell_type": "markdown",
   "metadata": {},
   "source": [
    "##### Making two vehicle classes - `auto, bicikli` - and making the instantiation and the vehichle_data function"
   ]
  },
  {
   "cell_type": "code",
   "execution_count": 2893,
   "metadata": {},
   "outputs": [],
   "source": [
    "class auto:\n",
    "    count = 0\n",
    "        \n",
    "    def __init__(self, type:str, ajtok_szama:int, marka:str) -> None:\n",
    "        self.type = type\n",
    "        self.ajtok_szama = ajtok_szama\n",
    "        self.marka = marka\n",
    "        auto.count +=1\n",
    "            \n",
    "    def vehicle_data(self) -> dict:\n",
    "        return {'type':self.type, 'ajtok_szama':self.ajtok_szama, 'marka':self.marka}"
   ]
  },
  {
   "cell_type": "code",
   "execution_count": 2894,
   "metadata": {},
   "outputs": [],
   "source": [
    "class bicikli:\n",
    "    count = 0\n",
    "        \n",
    "    def __init__(self, type:str, terhelhetoseg:int, marka:str) -> None:\n",
    "        self.type = type\n",
    "        self.terhelhetoseg = terhelhetoseg\n",
    "        self.marka = marka\n",
    "        bicikli.count +=1\n",
    "            \n",
    "    def vehicle_data(self) -> dict:\n",
    "        return {'type':self.type, 'terhelhetoseg':self.terhelhetoseg, 'marka':self.marka}"
   ]
  },
  {
   "cell_type": "code",
   "execution_count": 2895,
   "metadata": {},
   "outputs": [
    {
     "name": "stdout",
     "output_type": "stream",
     "text": [
      "{'type': 'auto', 'ajtok_szama': 5, 'marka': 'Opel'} {'Number of auto:': 1}\n",
      "{'type': 'bicikli', 'terhelhetoseg': 200, 'marka': 'Csepel'} {'Number of bicikli:': 1}\n"
     ]
    }
   ],
   "source": [
    "# Test\n",
    "first_auto = auto('auto', 5, 'Opel')\n",
    "first_bicikli = bicikli('bicikli', 200, 'Csepel')\n",
    "print(first_auto.vehicle_data(), {'Number of auto:':auto.count})\n",
    "print(first_bicikli.vehicle_data(), {'Number of bicikli:': bicikli.count})"
   ]
  },
  {
   "cell_type": "code",
   "execution_count": 2896,
   "metadata": {},
   "outputs": [
    {
     "data": {
      "text/plain": [
       "[<__main__.auto at 0x17b54eb93d0>,\n",
       " <__main__.auto at 0x17b55b22010>,\n",
       " <__main__.bicikli at 0x17b55fe4690>,\n",
       " <__main__.bicikli at 0x17b55deb190>]"
      ]
     },
     "execution_count": 2896,
     "metadata": {},
     "output_type": "execute_result"
    }
   ],
   "source": [
    "objects = []\n",
    "for data in datas:\n",
    "    for key, value in data.items():\n",
    "        if data[key] == 'auto':\n",
    "            objects.append(auto(*data.values()))\n",
    "        elif data[key] == 'bicikli':\n",
    "            objects.append(bicikli(*data.values()))\n",
    "objects"
   ]
  },
  {
   "cell_type": "markdown",
   "metadata": {},
   "source": [
    "##### Method of displaying"
   ]
  },
  {
   "cell_type": "code",
   "execution_count": 2897,
   "metadata": {},
   "outputs": [
    {
     "name": "stdout",
     "output_type": "stream",
     "text": [
      "[[{'type': 'auto', 'ajtok_szama': 5, 'marka': 'Opel'}, {'type': 'auto', 'ajtok_szama': 3, 'marka': 'BMW'}], {'Number of autos :': 2}, {'Total number of vehicles': 4}]\n"
     ]
    }
   ],
   "source": [
    "def display(objects:list, type) -> list:\n",
    "    result = [elem.vehicle_data() for elem in objects if type == elem.vehicle_data()['type']]\n",
    "    return result, {f'Number of {type}s :':len(result)}, {'Total number of vehicles':len(objects)}\n",
    "# Test\n",
    "print(list(display(objects, 'auto')))"
   ]
  },
  {
   "cell_type": "code",
   "execution_count": 2898,
   "metadata": {},
   "outputs": [
    {
     "name": "stdout",
     "output_type": "stream",
     "text": [
      "[{'type': 'auto', 'ajtok_szama': 5, 'marka': 'Opel'}, {'type': 'auto', 'ajtok_szama': 3, 'marka': 'BMW'}] {'Number of autos :': 2} {'Total number of vehicles': 4}\n"
     ]
    }
   ],
   "source": [
    "if __name__ == '__main__':\n",
    "    request = input('Please enter the requested vehicle type: ')\n",
    "    display = display(objects, request)\n",
    "    print(*display)"
   ]
  }
 ],
 "metadata": {
  "kernelspec": {
   "display_name": "base",
   "language": "python",
   "name": "python3"
  },
  "language_info": {
   "codemirror_mode": {
    "name": "ipython",
    "version": 3
   },
   "file_extension": ".py",
   "mimetype": "text/x-python",
   "name": "python",
   "nbconvert_exporter": "python",
   "pygments_lexer": "ipython3",
   "version": "3.11.4"
  }
 },
 "nbformat": 4,
 "nbformat_minor": 2
}
