{
 "cells": [
  {
   "cell_type": "markdown",
   "metadata": {},
   "source": [
    "##### Importing modules"
   ]
  },
  {
   "cell_type": "code",
   "execution_count": 25,
   "metadata": {},
   "outputs": [],
   "source": [
    "from pathlib import Path\n",
    "import os\n",
    "import json\n",
    "import random"
   ]
  },
  {
   "cell_type": "markdown",
   "metadata": {},
   "source": [
    "`Method 1 - making a dictionary as the returned value of the data in every folder`"
   ]
  },
  {
   "cell_type": "code",
   "execution_count": 26,
   "metadata": {},
   "outputs": [],
   "source": [
    "def content(parent=Path.cwd()):\n",
    "    everything = os.walk(top=parent, topdown=True)\n",
    "    content = dict()\n",
    "    for root, dir, file in everything:\n",
    "        content[root] = (dir, file)\n",
    "    return content"
   ]
  },
  {
   "cell_type": "markdown",
   "metadata": {},
   "source": [
    "`User test 1`"
   ]
  },
  {
   "cell_type": "code",
   "execution_count": 27,
   "metadata": {},
   "outputs": [
    {
     "data": {
      "text/plain": [
       "{'c:\\\\Users\\\\stank\\\\OneDrive\\\\Dokumentumok\\\\GitHub\\\\Balazs1982\\\\teszt_program_odootech_zrt': (['data',\n",
       "   '__pycache__'],\n",
       "  ['feladat.txt', 'python_script.py', 'script.ipynb', 'script2.ipynb']),\n",
       " 'c:\\\\Users\\\\stank\\\\OneDrive\\\\Dokumentumok\\\\GitHub\\\\Balazs1982\\\\teszt_program_odootech_zrt\\\\data': (['A',\n",
       "   'B'],\n",
       "  []),\n",
       " 'c:\\\\Users\\\\stank\\\\OneDrive\\\\Dokumentumok\\\\GitHub\\\\Balazs1982\\\\teszt_program_odootech_zrt\\\\data\\\\A': (['X'],\n",
       "  ['AA0001.dat']),\n",
       " 'c:\\\\Users\\\\stank\\\\OneDrive\\\\Dokumentumok\\\\GitHub\\\\Balazs1982\\\\teszt_program_odootech_zrt\\\\data\\\\A\\\\X': ([],\n",
       "  ['CD1234.dat']),\n",
       " 'c:\\\\Users\\\\stank\\\\OneDrive\\\\Dokumentumok\\\\GitHub\\\\Balazs1982\\\\teszt_program_odootech_zrt\\\\data\\\\B': (['X'],\n",
       "  ['BS3234.dat']),\n",
       " 'c:\\\\Users\\\\stank\\\\OneDrive\\\\Dokumentumok\\\\GitHub\\\\Balazs1982\\\\teszt_program_odootech_zrt\\\\data\\\\B\\\\X': ([],\n",
       "  ['DD0001.dat']),\n",
       " 'c:\\\\Users\\\\stank\\\\OneDrive\\\\Dokumentumok\\\\GitHub\\\\Balazs1982\\\\teszt_program_odootech_zrt\\\\__pycache__': ([],\n",
       "  ['script.cpython-311.pyc'])}"
      ]
     },
     "execution_count": 27,
     "metadata": {},
     "output_type": "execute_result"
    }
   ],
   "source": [
    "test_one = content()\n",
    "test_one"
   ]
  },
  {
   "cell_type": "code",
   "execution_count": 28,
   "metadata": {},
   "outputs": [],
   "source": [
    "folders = [elem[0] for elem in test_one.values() if len(elem[0]) != 0]\n",
    "files = [elem[1] for elem in test_one.values() if len(elem[1]) != 0]\n",
    "#folders\n",
    "#files"
   ]
  },
  {
   "cell_type": "code",
   "execution_count": 29,
   "metadata": {},
   "outputs": [],
   "source": [
    "answer_first = input('Would you like to see every folder and file under the parent directory \"yes or no\"? ')"
   ]
  },
  {
   "cell_type": "code",
   "execution_count": 30,
   "metadata": {},
   "outputs": [
    {
     "name": "stdout",
     "output_type": "stream",
     "text": [
      "\n",
      "Here you can see the folders:\n",
      "\n",
      "['data', '__pycache__'] ['A', 'B'] ['X'] ['X']\n",
      "\n",
      "Here you can see the files:\n",
      "\n",
      "['feladat.txt', 'python_script.py', 'script.ipynb', 'script2.ipynb'] ['AA0001.dat'] ['CD1234.dat'] ['BS3234.dat'] ['DD0001.dat'] ['script.cpython-311.pyc']\n"
     ]
    }
   ],
   "source": [
    "if answer_first in ['yes', 1]:\n",
    "    print('\\nHere you can see the folders:\\n')\n",
    "    print(*folders)\n",
    "    print('\\nHere you can see the files:\\n')\n",
    "    print(*files)"
   ]
  },
  {
   "cell_type": "markdown",
   "metadata": {},
   "source": [
    "`Method 2 - finding the files then loading in`"
   ]
  },
  {
   "cell_type": "code",
   "execution_count": 31,
   "metadata": {},
   "outputs": [],
   "source": [
    "def read_files(directories: dict) -> list:\n",
    "    for key, value in directories.items():\n",
    "        key = key.replace('\\\\', '/')\n",
    "        for file in value[1]:\n",
    "            if '.dat' in file:\n",
    "                key += '/'\n",
    "                key += file\n",
    "                yield from open(key)"
   ]
  },
  {
   "cell_type": "code",
   "execution_count": 32,
   "metadata": {},
   "outputs": [],
   "source": [
    "test_two = read_files(test_one)\n",
    "#next(test_two)"
   ]
  },
  {
   "cell_type": "markdown",
   "metadata": {},
   "source": [
    "`User test 2`"
   ]
  },
  {
   "cell_type": "code",
   "execution_count": 33,
   "metadata": {},
   "outputs": [],
   "source": [
    "data = [json.loads(next(test_two)) for _ in range(4)]"
   ]
  },
  {
   "cell_type": "code",
   "execution_count": 34,
   "metadata": {},
   "outputs": [
    {
     "name": "stdout",
     "output_type": "stream",
     "text": [
      "\n",
      "Here is the available data from every file:\n",
      "\n",
      "{'type': 'auto', 'ajtok_szama': 5, 'marka': 'Opel'} {'type': 'auto', 'ajtok_szama': 3, 'marka': 'BMW'} {'type': 'bicikli', 'terhelhetoseg': 130, 'marka': 'Csepel'} {'type': 'bicikli', 'terhelhetoseg': 150, 'marka': 'Valami'}\n"
     ]
    }
   ],
   "source": [
    "answer_second = input('\\nWould you like to load in every data from every default file? ')\n",
    "print('\\nHere is the available data from every file:\\n')\n",
    "if answer_second in ['yes', 1]:\n",
    "    print(*data)"
   ]
  },
  {
   "cell_type": "markdown",
   "metadata": {},
   "source": [
    "`Making classes and setting up the instantiation method and one regular method (to print out the data)`"
   ]
  },
  {
   "cell_type": "code",
   "execution_count": 35,
   "metadata": {},
   "outputs": [],
   "source": [
    "class Jarmu:\n",
    "    \n",
    "    count = 0\n",
    "    def __init__(self, object: object) -> None:\n",
    "        self.object = object\n",
    "        \n",
    "    def vehicle_data(self) -> dict:\n",
    "        return {'type':self.object.vehicle_data()['type'], 'marka':self.object.vehicle_data()['marka']}\n",
    "    \n",
    "class auto:\n",
    "    count = 0   \n",
    "    def __init__(self, ajtok_szama:int, marka:str) -> None:\n",
    "        self.ajtok_szama = ajtok_szama\n",
    "        self.marka = marka\n",
    "        auto.count +=1\n",
    "        Jarmu.count +=1\n",
    "            \n",
    "    def vehicle_data(self) -> dict:\n",
    "        return {'type':'auto', 'ajtok_szama':self.ajtok_szama, 'marka':self.marka}\n",
    "    \n",
    "class bicikli:\n",
    "    count = 0\n",
    "        \n",
    "    def __init__(self, terhelhetoseg:int, marka:str) -> None:\n",
    "        self.terhelhetoseg = terhelhetoseg\n",
    "        self.marka = marka\n",
    "        bicikli.count +=1\n",
    "        Jarmu.count +=1\n",
    "\n",
    "    def vehicle_data(self) -> dict:\n",
    "        return {'type':'bicikli', 'terhelhetoseg':self.terhelhetoseg, 'marka':self.marka}"
   ]
  },
  {
   "cell_type": "code",
   "execution_count": 36,
   "metadata": {},
   "outputs": [
    {
     "data": {
      "text/plain": [
       "({'type': 'auto', 'ajtok_szama': 5, 'marka': 'Honda'},\n",
       " {'ajtok_szama': 5, 'marka': 'Honda'})"
      ]
     },
     "execution_count": 36,
     "metadata": {},
     "output_type": "execute_result"
    }
   ],
   "source": [
    "#Test\n",
    "first_auto = auto(5, 'Honda')\n",
    "first_auto.vehicle_data(), first_auto.__dict__\n",
    "#Jarmu.count()"
   ]
  },
  {
   "cell_type": "code",
   "execution_count": 37,
   "metadata": {},
   "outputs": [
    {
     "data": {
      "text/plain": [
       "({'type': 'auto', 'marka': 'Honda'}, 1)"
      ]
     },
     "execution_count": 37,
     "metadata": {},
     "output_type": "execute_result"
    }
   ],
   "source": [
    "#Test\n",
    "first_jarmu = Jarmu(first_auto)\n",
    "first_jarmu.vehicle_data(), Jarmu.count"
   ]
  },
  {
   "cell_type": "code",
   "execution_count": 38,
   "metadata": {},
   "outputs": [
    {
     "data": {
      "text/plain": [
       "{'type': 'bicikli', 'terhelhetoseg': 150, 'marka': 'Csepel'}"
      ]
     },
     "execution_count": 38,
     "metadata": {},
     "output_type": "execute_result"
    }
   ],
   "source": [
    "#Test\n",
    "first_bicikli = bicikli(150, 'Csepel')\n",
    "first_bicikli.vehicle_data()"
   ]
  },
  {
   "cell_type": "code",
   "execution_count": 39,
   "metadata": {},
   "outputs": [
    {
     "data": {
      "text/plain": [
       "{'type': 'bicikli', 'marka': 'Csepel'}"
      ]
     },
     "execution_count": 39,
     "metadata": {},
     "output_type": "execute_result"
    }
   ],
   "source": [
    "#Test\n",
    "second_jarmu = Jarmu(first_bicikli)\n",
    "second_jarmu.vehicle_data()"
   ]
  },
  {
   "cell_type": "markdown",
   "metadata": {},
   "source": [
    "`User test 3`"
   ]
  },
  {
   "cell_type": "code",
   "execution_count": 40,
   "metadata": {},
   "outputs": [],
   "source": [
    "car_fleet_one = [4, 'Audi']\n",
    "bicikli_fleet_one = [100, 'KTM']"
   ]
  },
  {
   "cell_type": "code",
   "execution_count": 41,
   "metadata": {},
   "outputs": [],
   "source": [
    "ajtok_szama = [3, 4, 5]\n",
    "terhelhetoseg = [50, 100, 150]\n",
    "marka_auto = ['Audi', 'BMW', 'Mercedes']\n",
    "marka_bicikli = ['KTM', 'Csepel', 'Merida']"
   ]
  },
  {
   "cell_type": "code",
   "execution_count": 42,
   "metadata": {},
   "outputs": [],
   "source": [
    "cars = [auto(*car_fleet_one)\n",
    "          for _ in range(int(input(f'\\nEnter the number of cars with params: \"{car_fleet_one}\" to register as new fleet member: ')))]\n",
    "\n",
    "bicycles = [bicikli(random.choice(terhelhetoseg), random.choice(marka_bicikli))\n",
    "          for _ in range(int(input('\\nEnter the number of bicycles to register randomly: ')))]"
   ]
  },
  {
   "cell_type": "code",
   "execution_count": 43,
   "metadata": {},
   "outputs": [
    {
     "name": "stdout",
     "output_type": "stream",
     "text": [
      "\n",
      "Here you can see the recently registered cars: \n",
      "{'type': 'auto', 'ajtok_szama': 4, 'marka': 'Audi'}\n",
      "{'type': 'auto', 'ajtok_szama': 4, 'marka': 'Audi'}\n",
      "{'type': 'auto', 'ajtok_szama': 4, 'marka': 'Audi'}\n",
      "{'type': 'auto', 'ajtok_szama': 4, 'marka': 'Audi'}\n",
      "{'type': 'auto', 'ajtok_szama': 4, 'marka': 'Audi'}\n",
      "{'type': 'auto', 'ajtok_szama': 4, 'marka': 'Audi'}\n",
      "{'type': 'auto', 'ajtok_szama': 4, 'marka': 'Audi'}\n",
      "{'type': 'auto', 'ajtok_szama': 4, 'marka': 'Audi'}\n",
      "{'type': 'auto', 'ajtok_szama': 4, 'marka': 'Audi'}\n",
      "{'type': 'auto', 'ajtok_szama': 4, 'marka': 'Audi'}\n",
      "You registered 11 cars.\n",
      "\n",
      "Here you can see the recently registered bicycles: \n",
      "{'type': 'bicikli', 'terhelhetoseg': 150, 'marka': 'Merida'}\n",
      "{'type': 'bicikli', 'terhelhetoseg': 100, 'marka': 'Merida'}\n",
      "{'type': 'bicikli', 'terhelhetoseg': 150, 'marka': 'Merida'}\n",
      "{'type': 'bicikli', 'terhelhetoseg': 100, 'marka': 'KTM'}\n",
      "{'type': 'bicikli', 'terhelhetoseg': 100, 'marka': 'Csepel'}\n",
      "{'type': 'bicikli', 'terhelhetoseg': 100, 'marka': 'Merida'}\n",
      "{'type': 'bicikli', 'terhelhetoseg': 150, 'marka': 'Csepel'}\n",
      "{'type': 'bicikli', 'terhelhetoseg': 100, 'marka': 'KTM'}\n",
      "{'type': 'bicikli', 'terhelhetoseg': 50, 'marka': 'Csepel'}\n",
      "{'type': 'bicikli', 'terhelhetoseg': 50, 'marka': 'KTM'}\n",
      "You registered 11 bicycles.\n",
      "\n",
      "There are 22 vehicles, 11 autos and 11 biciklis were registered.\n"
     ]
    }
   ],
   "source": [
    "print('\\nHere you can see the recently registered cars: ')\n",
    "for car in cars:\n",
    "    print(car.vehicle_data())\n",
    "print(f'You registered {car.count} cars.')\n",
    "print('\\nHere you can see the recently registered bicycles: ')\n",
    "for bicycle in bicycles:\n",
    "    print(bicycle.vehicle_data())\n",
    "print(f'You registered {bicycle.count} bicycles.')\n",
    "print(f'\\nThere are {Jarmu.count} vehicles, {auto.count} autos and {bicikli.count} biciklis were registered.')"
   ]
  },
  {
   "cell_type": "code",
   "execution_count": 44,
   "metadata": {},
   "outputs": [
    {
     "data": {
      "text/plain": [
       "{'type': 'bicikli', 'marka': 'Merida'}"
      ]
     },
     "execution_count": 44,
     "metadata": {},
     "output_type": "execute_result"
    }
   ],
   "source": [
    "#Test\n",
    "Jarmu(bicycles[0]).vehicle_data()"
   ]
  },
  {
   "cell_type": "code",
   "execution_count": 45,
   "metadata": {},
   "outputs": [
    {
     "data": {
      "text/plain": [
       "13"
      ]
     },
     "execution_count": 45,
     "metadata": {},
     "output_type": "execute_result"
    }
   ],
   "source": [
    "#Test\n",
    "new = auto(5, 'Ford')\n",
    "Jarmu(auto(4, 'Mercedes')).vehicle_data()\n",
    "auto.count"
   ]
  },
  {
   "cell_type": "code",
   "execution_count": 46,
   "metadata": {},
   "outputs": [
    {
     "data": {
      "text/plain": [
       "\" class Jarmu_alt:\\n    \\n    count = 0\\n    def __init__(self, type: str) -> None:\\n        self.type = type\\n            \\n    class auto():\\n        count = 0\\n        def __init__(self, ajtok_szama:int, marka:str) -> None:\\n            super().__init__()\\n            self.ajtok_szama = ajtok_szama\\n            self.marka = marka\\n            auto.count +=1\\n            Jarmu_alt.count += 1\\n                \\n        def vehicle_data(self) -> dict:\\n            return {'type':'auto', 'ajtok_szama':self.ajtok_szama, 'marka':self.marka}\\n        \\n    class bicikli:\\n        count = 0\\n            \\n        def __init__(self, terhelhetoseg:int, marka:str) -> None:\\n            super().__init__()\\n            self.terhelhetoseg = terhelhetoseg\\n            self.marka = marka\\n            bicikli.count +=1\\n            Jarmu_alt.count += 1\\n\\n\\n        def vehicle_data(self) -> dict:\\n            return {'type':'bicikli', 'terhelhetoseg':self.terhelhetoseg, 'marka':self.marka} \""
      ]
     },
     "execution_count": 46,
     "metadata": {},
     "output_type": "execute_result"
    }
   ],
   "source": [
    "\"\"\" class Jarmu_alt:\n",
    "    \n",
    "    count = 0\n",
    "    def __init__(self, type: str) -> None:\n",
    "        self.type = type\n",
    "            \n",
    "    class auto():\n",
    "        count = 0\n",
    "        def __init__(self, ajtok_szama:int, marka:str) -> None:\n",
    "            super().__init__()\n",
    "            self.ajtok_szama = ajtok_szama\n",
    "            self.marka = marka\n",
    "            auto.count +=1\n",
    "            Jarmu_alt.count += 1\n",
    "                \n",
    "        def vehicle_data(self) -> dict:\n",
    "            return {'type':'auto', 'ajtok_szama':self.ajtok_szama, 'marka':self.marka}\n",
    "        \n",
    "    class bicikli:\n",
    "        count = 0\n",
    "            \n",
    "        def __init__(self, terhelhetoseg:int, marka:str) -> None:\n",
    "            super().__init__()\n",
    "            self.terhelhetoseg = terhelhetoseg\n",
    "            self.marka = marka\n",
    "            bicikli.count +=1\n",
    "            Jarmu_alt.count += 1\n",
    "\n",
    "\n",
    "        def vehicle_data(self) -> dict:\n",
    "            return {'type':'bicikli', 'terhelhetoseg':self.terhelhetoseg, 'marka':self.marka} \"\"\""
   ]
  },
  {
   "cell_type": "code",
   "execution_count": 47,
   "metadata": {},
   "outputs": [
    {
     "data": {
      "text/plain": [
       "\"test = Jarmu_alt('auto')\\nauto_obj = test.auto(5, 'Honda')\\ntest.type\""
      ]
     },
     "execution_count": 47,
     "metadata": {},
     "output_type": "execute_result"
    }
   ],
   "source": [
    "'''test = Jarmu_alt('auto')\n",
    "auto_obj = test.auto(5, 'Honda')\n",
    "test.type'''"
   ]
  },
  {
   "cell_type": "code",
   "execution_count": 48,
   "metadata": {},
   "outputs": [
    {
     "data": {
      "text/plain": [
       "'Jarmu_alt.count'"
      ]
     },
     "execution_count": 48,
     "metadata": {},
     "output_type": "execute_result"
    }
   ],
   "source": [
    "'''Jarmu_alt.count'''"
   ]
  }
 ],
 "metadata": {
  "kernelspec": {
   "display_name": "base",
   "language": "python",
   "name": "python3"
  },
  "language_info": {
   "codemirror_mode": {
    "name": "ipython",
    "version": 3
   },
   "file_extension": ".py",
   "mimetype": "text/x-python",
   "name": "python",
   "nbconvert_exporter": "python",
   "pygments_lexer": "ipython3",
   "version": "3.11.4"
  }
 },
 "nbformat": 4,
 "nbformat_minor": 2
}
