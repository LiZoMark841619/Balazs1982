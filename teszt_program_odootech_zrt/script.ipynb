{
 "cells": [
  {
   "cell_type": "markdown",
   "metadata": {},
   "source": [
    "##### `Importing modules`"
   ]
  },
  {
   "cell_type": "code",
   "execution_count": 64,
   "metadata": {},
   "outputs": [],
   "source": [
    "import pandas as pd\n",
    "from pathlib import Path\n",
    "import os"
   ]
  },
  {
   "cell_type": "markdown",
   "metadata": {},
   "source": [
    "##### `Methods of listing directories from parent and reading the files from them`"
   ]
  },
  {
   "cell_type": "code",
   "execution_count": 65,
   "metadata": {},
   "outputs": [],
   "source": [
    "def list_dirs(parent):\n",
    "    cwd = Path.cwd()/parent\n",
    "    directories = os.listdir(parent)\n",
    "    yield {cwd/directory:os.listdir(cwd/directory) for directory in directories}\n",
    "    "
   ]
  },
  {
   "cell_type": "code",
   "execution_count": 66,
   "metadata": {},
   "outputs": [],
   "source": [
    "def read_files(directories):\n",
    "    for directory in directories:\n",
    "        for key, value in directory.items():\n",
    "            for elem in value:\n",
    "                if '.dat' in elem:\n",
    "                    yield from pd.read_csv(key/elem)\n",
    "                else:\n",
    "                    yield from pd.read_csv(key/elem/str(os.listdir(key/elem)[0]))"
   ]
  },
  {
   "cell_type": "markdown",
   "metadata": {},
   "source": [
    "##### `Another method of listing directories from parent and reading the files from them in one function`"
   ]
  },
  {
   "cell_type": "code",
   "execution_count": 67,
   "metadata": {},
   "outputs": [],
   "source": [
    "parent = 'data'\n",
    "cwd = Path.cwd()/parent\n",
    "directories = os.listdir(parent)\n",
    "dictionary = {cwd/directory:os.listdir(cwd/directory) for directory in directories}\n",
    "\n",
    "def read_files_opt(dictionary = {cwd/directory:os.listdir(cwd/directory) for directory in directories}):\n",
    "    for key, value in dictionary.items():\n",
    "        for elem in value:\n",
    "            if '.dat' in elem:\n",
    "                yield from pd.read_csv(key/elem)\n",
    "            else:\n",
    "                yield from pd.read_csv(key/elem/str(os.listdir(key/elem)[0]))"
   ]
  },
  {
   "cell_type": "code",
   "execution_count": 68,
   "metadata": {},
   "outputs": [
    {
     "data": {
      "text/plain": [
       "{WindowsPath('c:/Users/stank/OneDrive/Dokumentumok/GitHub/Balazs1982/teszt_program_odootech_zrt/data/A'): ['AA0001.dat',\n",
       "  'X'],\n",
       " WindowsPath('c:/Users/stank/OneDrive/Dokumentumok/GitHub/Balazs1982/teszt_program_odootech_zrt/data/B'): ['BS3234.dat',\n",
       "  'X']}"
      ]
     },
     "execution_count": 68,
     "metadata": {},
     "output_type": "execute_result"
    }
   ],
   "source": [
    "dictionary"
   ]
  },
  {
   "cell_type": "code",
   "execution_count": null,
   "metadata": {},
   "outputs": [],
   "source": []
  },
  {
   "cell_type": "code",
   "execution_count": 69,
   "metadata": {},
   "outputs": [],
   "source": [
    "def __init__(self) -> None:\n",
    "    self.type = type\n",
    "    "
   ]
  }
 ],
 "metadata": {
  "kernelspec": {
   "display_name": "base",
   "language": "python",
   "name": "python3"
  },
  "language_info": {
   "codemirror_mode": {
    "name": "ipython",
    "version": 3
   },
   "file_extension": ".py",
   "mimetype": "text/x-python",
   "name": "python",
   "nbconvert_exporter": "python",
   "pygments_lexer": "ipython3",
   "version": "3.11.4"
  }
 },
 "nbformat": 4,
 "nbformat_minor": 2
}
