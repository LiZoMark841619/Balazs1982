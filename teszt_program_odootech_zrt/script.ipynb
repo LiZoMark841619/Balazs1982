{
 "cells": [
  {
   "cell_type": "markdown",
   "metadata": {},
   "source": [
    "##### Importing modules"
   ]
  },
  {
   "cell_type": "code",
   "execution_count": 1,
   "metadata": {},
   "outputs": [],
   "source": [
    "import pathlib\n",
    "import os\n",
    "import pickle\n",
    "import sys\n",
    "import runtime"
   ]
  },
  {
   "cell_type": "code",
   "execution_count": 2,
   "metadata": {},
   "outputs": [],
   "source": [
    "# list(sys.modules.keys())"
   ]
  },
  {
   "cell_type": "code",
   "execution_count": 3,
   "metadata": {},
   "outputs": [
    {
     "data": {
      "text/plain": [
       "['c:\\\\Users\\\\stank\\\\OneDrive\\\\Dokumentumok\\\\GitHub\\\\Balazs1982\\\\teszt_program_odootech_zrt',\n",
       " 'c:\\\\ProgramData\\\\anaconda3\\\\python311.zip',\n",
       " 'c:\\\\ProgramData\\\\anaconda3\\\\DLLs',\n",
       " 'c:\\\\ProgramData\\\\anaconda3\\\\Lib',\n",
       " 'c:\\\\ProgramData\\\\anaconda3',\n",
       " '',\n",
       " 'C:\\\\Users\\\\stank\\\\AppData\\\\Roaming\\\\Python\\\\Python311\\\\site-packages',\n",
       " 'C:\\\\Users\\\\stank\\\\AppData\\\\Roaming\\\\Python\\\\Python311\\\\site-packages\\\\win32',\n",
       " 'C:\\\\Users\\\\stank\\\\AppData\\\\Roaming\\\\Python\\\\Python311\\\\site-packages\\\\win32\\\\lib',\n",
       " 'C:\\\\Users\\\\stank\\\\AppData\\\\Roaming\\\\Python\\\\Python311\\\\site-packages\\\\Pythonwin',\n",
       " 'c:\\\\ProgramData\\\\anaconda3\\\\Lib\\\\site-packages',\n",
       " 'c:\\\\ProgramData\\\\anaconda3\\\\Lib\\\\site-packages\\\\win32',\n",
       " 'c:\\\\ProgramData\\\\anaconda3\\\\Lib\\\\site-packages\\\\win32\\\\lib',\n",
       " 'c:\\\\ProgramData\\\\anaconda3\\\\Lib\\\\site-packages\\\\Pythonwin']"
      ]
     },
     "execution_count": 3,
     "metadata": {},
     "output_type": "execute_result"
    }
   ],
   "source": [
    "sys.path"
   ]
  },
  {
   "cell_type": "markdown",
   "metadata": {},
   "source": [
    "`Method 1 - using Path.cwd() and os.walk() methods to return a dictionary with roots as keys and folder-files as values`"
   ]
  },
  {
   "cell_type": "code",
   "execution_count": 4,
   "metadata": {},
   "outputs": [
    {
     "data": {
      "text/plain": [
       "WindowsPath('c:/Users/stank/OneDrive/Dokumentumok/GitHub/Balazs1982/teszt_program_odootech_zrt')"
      ]
     },
     "execution_count": 4,
     "metadata": {},
     "output_type": "execute_result"
    }
   ],
   "source": [
    "cwd = pathlib.Path.cwd()\n",
    "cwd"
   ]
  },
  {
   "cell_type": "code",
   "execution_count": 5,
   "metadata": {},
   "outputs": [],
   "source": [
    "def content(parent: str = cwd) -> dict:\n",
    "    return {root:(dir, file) for root, dir, file in os.walk(top=parent, topdown=False)}"
   ]
  },
  {
   "cell_type": "markdown",
   "metadata": {},
   "source": [
    "`User test 1`"
   ]
  },
  {
   "cell_type": "code",
   "execution_count": 22,
   "metadata": {},
   "outputs": [],
   "source": [
    "timer = runtime.timer"
   ]
  },
  {
   "cell_type": "code",
   "execution_count": 7,
   "metadata": {},
   "outputs": [
    {
     "data": {
      "text/plain": [
       "'The content() method runs in 0.8790 seconds.'"
      ]
     },
     "execution_count": 7,
     "metadata": {},
     "output_type": "execute_result"
    }
   ],
   "source": [
    "test_one = content()\n",
    "#test_one\n",
    "f'The content() method runs in {timer(content)[0]:.4f} seconds.'"
   ]
  },
  {
   "cell_type": "code",
   "execution_count": 8,
   "metadata": {},
   "outputs": [],
   "source": [
    "folders = [val[0] for val in test_one.values() if val[0]]\n",
    "files = [val[1] for val in test_one.values() if val[1]]\n",
    "# folders, files"
   ]
  },
  {
   "cell_type": "code",
   "execution_count": 9,
   "metadata": {},
   "outputs": [
    {
     "name": "stdout",
     "output_type": "stream",
     "text": [
      "\n",
      "Here you can see the folders:\n",
      "\n",
      "['X']\n",
      "['X']\n",
      "['A', 'B']\n",
      "['data', '__pycache__']\n",
      "\n",
      "Here you can see the files:\n",
      "\n",
      "['CD1234.dat']\n",
      "['AA0001.dat']\n",
      "['DD0001.dat']\n",
      "['BS3234.dat']\n",
      "['docstring.cpython-311.pyc', 'python_script.cpython-311.pyc', 'runtime.cpython-311.pyc', 'script.cpython-311.pyc', 'test.cpython-311.pyc', 'timeit.cpython-311.pyc']\n",
      "['autos.pkl', 'biciklis.pkl', 'feladat.txt', 'play.py', 'python_script.py', 'runtime.py', 'script.ipynb', 'speeds.ipynb', 'test.html', 'test.py']\n"
     ]
    }
   ],
   "source": [
    "answer = input('Enter yes if you would see every folder and file in the parent directory! ')\n",
    "if answer in ['yes', 1]:\n",
    "    print('\\nHere you can see the folders:\\n')\n",
    "    print(*folders, sep='\\n')\n",
    "    print('\\nHere you can see the files:\\n')\n",
    "    print(*files, sep='\\n')"
   ]
  },
  {
   "cell_type": "markdown",
   "metadata": {},
   "source": [
    "`Generator expression or method 2 to find the files and to load them in.`"
   ]
  },
  {
   "cell_type": "code",
   "execution_count": 10,
   "metadata": {},
   "outputs": [],
   "source": [
    "data = (eval(open(key+'\\\\'+file).read()) for key in test_one for file in test_one[key][1] if '.dat' in file)"
   ]
  },
  {
   "cell_type": "code",
   "execution_count": 11,
   "metadata": {},
   "outputs": [],
   "source": [
    "# def read_files(dirs: dict = test_one) -> iter:\n",
    "#     for key in dirs:\n",
    "#         for file in dirs[key][1]:\n",
    "#             if '.dat' in file:\n",
    "#                 yield open(key+'\\\\'+file).read()\n",
    "# test_two = read_files()"
   ]
  },
  {
   "cell_type": "markdown",
   "metadata": {},
   "source": [
    "`User test 2`"
   ]
  },
  {
   "cell_type": "code",
   "execution_count": 12,
   "metadata": {},
   "outputs": [
    {
     "name": "stdout",
     "output_type": "stream",
     "text": [
      "\n",
      "Here is the available data from every file:\n",
      "\n",
      "{'type': 'auto', 'ajtok_szama': 3, 'marka': 'BMW'}\n",
      "{'type': 'auto', 'ajtok_szama': 5, 'marka': 'Opel'}\n",
      "{'type': 'bicikli', 'terhelhetoseg': 150, 'marka': 'Valami'}\n",
      "{'type': 'bicikli', 'terhelhetoseg': 130, 'marka': 'Csepel'}\n"
     ]
    }
   ],
   "source": [
    "answer = input('Enter yes if you would load in every data from every file! ')\n",
    "if answer in ['yes', 1]: print('\\nHere is the available data from every file:\\n')\n",
    "while True:\n",
    "    try: X = next(data) # or eval(next(test_two)) if we use the created def read_files() method # or print(json.loads(next(test_two)))\n",
    "    except StopIteration: break\n",
    "    print(X)"
   ]
  },
  {
   "cell_type": "markdown",
   "metadata": {},
   "source": [
    "`Making classes and setting up the instantiation method and one regular method (to print out the data)`"
   ]
  },
  {
   "cell_type": "code",
   "execution_count": 13,
   "metadata": {},
   "outputs": [
    {
     "name": "stdout",
     "output_type": "stream",
     "text": [
      "wrote test.html\n"
     ]
    }
   ],
   "source": [
    "from test import Jarmu, auto, bicikli"
   ]
  },
  {
   "cell_type": "code",
   "execution_count": 14,
   "metadata": {},
   "outputs": [],
   "source": [
    "# Test\n",
    "\n",
    "# first = Jarmu('auto', 'Ford')\n",
    "# print(first.type, first.marka, isinstance(first, Jarmu))"
   ]
  },
  {
   "cell_type": "code",
   "execution_count": 15,
   "metadata": {},
   "outputs": [],
   "source": [
    "#auto_1 = auto('auto', 'Honda', 5)\n",
    "# bicikli_1 = bicikli('bicikli', 'Csepel', 200)\n",
    "# print(isinstance(auto_1, Jarmu), isinstance(auto_1, auto), isinstance(auto_1, bicikli))\n",
    "# print(issubclass(bicikli, Jarmu))\n",
    "#print(auto_1.__dict__, auto_1.day_of_registration())"
   ]
  },
  {
   "cell_type": "markdown",
   "metadata": {},
   "source": [
    "`User test 3`"
   ]
  },
  {
   "cell_type": "code",
   "execution_count": 16,
   "metadata": {},
   "outputs": [],
   "source": [
    "car_fleet_one = ['auto', 'Audi', 4]\n",
    "bicycle_fleet_one = ['bicikli', 'KTM', 250]"
   ]
  },
  {
   "cell_type": "code",
   "execution_count": 17,
   "metadata": {},
   "outputs": [],
   "source": [
    "request_one = f'\\nEnter the number of cars with the following params: \"{car_fleet_one}\" to register as new fleet member: '\n",
    "request_two = f'\\nEnter the number of bicycles with the following params: \"{bicycle_fleet_one}\" to register as new fleet member: '"
   ]
  },
  {
   "cell_type": "code",
   "execution_count": 18,
   "metadata": {},
   "outputs": [],
   "source": [
    "autos = [auto(*car_fleet_one).__dict__ for _ in range(int(input(request_one)))]\n",
    "biciklis = [bicikli(*bicycle_fleet_one).__dict__ for _ in range(int(input(request_two)))]"
   ]
  },
  {
   "cell_type": "code",
   "execution_count": 19,
   "metadata": {},
   "outputs": [
    {
     "name": "stdout",
     "output_type": "stream",
     "text": [
      "\n",
      "Here you can see the recently registered cars:\n",
      "\n",
      "{'type': 'auto', 'marka': 'Audi', 'ajtok_szama': 4}\n",
      "{'type': 'auto', 'marka': 'Audi', 'ajtok_szama': 4}\n",
      "{'type': 'auto', 'marka': 'Audi', 'ajtok_szama': 4}\n",
      "{'type': 'auto', 'marka': 'Audi', 'ajtok_szama': 4}\n",
      "{'type': 'auto', 'marka': 'Audi', 'ajtok_szama': 4}\n",
      "{'type': 'auto', 'marka': 'Audi', 'ajtok_szama': 4}\n",
      "{'type': 'auto', 'marka': 'Audi', 'ajtok_szama': 4}\n",
      "{'type': 'auto', 'marka': 'Audi', 'ajtok_szama': 4}\n",
      "You registered 8 cars.\n",
      "\n",
      "\n",
      "Here you can see the recently registered bicycles:\n",
      "\n",
      "{'type': 'bicikli', 'marka': 'KTM', 'terhelhetoseg': 250}\n",
      "{'type': 'bicikli', 'marka': 'KTM', 'terhelhetoseg': 250}\n",
      "{'type': 'bicikli', 'marka': 'KTM', 'terhelhetoseg': 250}\n",
      "{'type': 'bicikli', 'marka': 'KTM', 'terhelhetoseg': 250}\n",
      "{'type': 'bicikli', 'marka': 'KTM', 'terhelhetoseg': 250}\n",
      "{'type': 'bicikli', 'marka': 'KTM', 'terhelhetoseg': 250}\n",
      "{'type': 'bicikli', 'marka': 'KTM', 'terhelhetoseg': 250}\n",
      "{'type': 'bicikli', 'marka': 'KTM', 'terhelhetoseg': 250}\n",
      "{'type': 'bicikli', 'marka': 'KTM', 'terhelhetoseg': 250}\n",
      "{'type': 'bicikli', 'marka': 'KTM', 'terhelhetoseg': 250}\n",
      "{'type': 'bicikli', 'marka': 'KTM', 'terhelhetoseg': 250}\n",
      "{'type': 'bicikli', 'marka': 'KTM', 'terhelhetoseg': 250}\n",
      "You registered 12 bicycles.\n",
      "In total there are 20 company vehicles registered\n"
     ]
    }
   ],
   "source": [
    "print('\\nHere you can see the recently registered cars:\\n', *autos, sep='\\n')\n",
    "print(f'You registered {auto.count} cars.\\n')\n",
    "print('\\nHere you can see the recently registered bicycles:\\n', *biciklis, sep='\\n')\n",
    "print(f'You registered {bicikli.count} bicycles.\\nIn total there are {Jarmu.company_vehicles} company vehicles registered')"
   ]
  },
  {
   "cell_type": "code",
   "execution_count": 20,
   "metadata": {},
   "outputs": [],
   "source": [
    "with open('autos.pkl', 'wb') as F:\n",
    "    pickle.dump(autos, F)\n",
    "    F.close()\n",
    "with open('autos.pkl', 'rb') as F:\n",
    "    E = pickle.load(F)\n",
    "#print(*E, sep='\\n')\n",
    "with open('biciklis.pkl', 'wb') as F:\n",
    "    pickle.dump(biciklis, F)\n",
    "    F.close()\n",
    "with open('biciklis.pkl', 'rb') as F:\n",
    "    E = pickle.load(F)\n",
    "#print(*E, sep='\\n')"
   ]
  }
 ],
 "metadata": {
  "kernelspec": {
   "display_name": "base",
   "language": "python",
   "name": "python3"
  },
  "language_info": {
   "codemirror_mode": {
    "name": "ipython",
    "version": 3
   },
   "file_extension": ".py",
   "mimetype": "text/x-python",
   "name": "python",
   "nbconvert_exporter": "python",
   "pygments_lexer": "ipython3",
   "version": "3.11.4"
  }
 },
 "nbformat": 4,
 "nbformat_minor": 2
}
