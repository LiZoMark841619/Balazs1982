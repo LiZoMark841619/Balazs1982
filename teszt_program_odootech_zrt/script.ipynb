{
 "cells": [
  {
   "cell_type": "markdown",
   "metadata": {},
   "source": [
    "##### Importing modules"
   ]
  },
  {
   "cell_type": "code",
   "execution_count": 5,
   "metadata": {},
   "outputs": [],
   "source": [
    "import pathlib\n",
    "import os\n",
    "import pickle\n",
    "import sys\n",
    "import runtime"
   ]
  },
  {
   "cell_type": "code",
   "execution_count": null,
   "metadata": {},
   "outputs": [],
   "source": [
    "# list(sys.modules.keys())"
   ]
  },
  {
   "cell_type": "code",
   "execution_count": null,
   "metadata": {},
   "outputs": [],
   "source": [
    "sys.path"
   ]
  },
  {
   "cell_type": "markdown",
   "metadata": {},
   "source": [
    "`Method 1 - using Path.cwd() and os.walk() methods to return a dictionary with roots as keys and folder-files as values`"
   ]
  },
  {
   "cell_type": "code",
   "execution_count": null,
   "metadata": {},
   "outputs": [],
   "source": [
    "cwd = pathlib.Path.cwd()\n",
    "cwd"
   ]
  },
  {
   "cell_type": "code",
   "execution_count": null,
   "metadata": {},
   "outputs": [],
   "source": [
    "def content(parent: str = cwd) -> dict:\n",
    "    return {root:(dir, file) for root, dir, file in os.walk(top=parent, topdown=False)}"
   ]
  },
  {
   "cell_type": "markdown",
   "metadata": {},
   "source": [
    "`User test 1`"
   ]
  },
  {
   "cell_type": "code",
   "execution_count": null,
   "metadata": {},
   "outputs": [],
   "source": [
    "timer = runtime.timer"
   ]
  },
  {
   "cell_type": "code",
   "execution_count": null,
   "metadata": {},
   "outputs": [],
   "source": [
    "test_one = content()\n",
    "test_one\n",
    "f'The content() method runs in {timer(content)[0]:.4f} seconds.'"
   ]
  },
  {
   "cell_type": "code",
   "execution_count": null,
   "metadata": {},
   "outputs": [],
   "source": [
    "folders = [val[0] for val in test_one.values() if val[0]]\n",
    "files = [val[1] for val in test_one.values() if val[1]]\n",
    "folders,'\\n',files"
   ]
  },
  {
   "cell_type": "code",
   "execution_count": null,
   "metadata": {},
   "outputs": [],
   "source": [
    "answer = input('Enter yes if you would see every folder and file in the parent directory! ')\n",
    "if answer in ['yes', 1]:\n",
    "    print('\\nHere you can see the folders:\\n')\n",
    "    print(*folders, sep='\\n')\n",
    "    print('\\nHere you can see the files:\\n')\n",
    "    print(*files, sep='\\n')"
   ]
  },
  {
   "cell_type": "markdown",
   "metadata": {},
   "source": [
    "`Generator expression or method 2 to find the files and to load them in.`"
   ]
  },
  {
   "cell_type": "code",
   "execution_count": null,
   "metadata": {},
   "outputs": [],
   "source": [
    "data = (eval(open(key+'\\\\'+file).read()) for key in test_one for file in test_one[key][1] if '.dat' in file)"
   ]
  },
  {
   "cell_type": "code",
   "execution_count": null,
   "metadata": {},
   "outputs": [],
   "source": [
    "# def read_files(dirs: dict = test_one) -> iter:\n",
    "#     for key in dirs:\n",
    "#         for file in dirs[key][1]:\n",
    "#             if '.dat' in file:\n",
    "#                 yield open(key+'\\\\'+file).read()\n",
    "# test_two = read_files()"
   ]
  },
  {
   "cell_type": "markdown",
   "metadata": {},
   "source": [
    "`User test 2`"
   ]
  },
  {
   "cell_type": "code",
   "execution_count": null,
   "metadata": {},
   "outputs": [],
   "source": [
    "answer = input('Enter yes if you would load in every data from every file! ')\n",
    "if answer in ['yes', 1]: print('\\nHere is the available data from every file:\\n')\n",
    "while True:\n",
    "    try: X = next(data) # or eval(next(test_two)) if we use the created def read_files() method # or print(json.loads(next(test_two)))\n",
    "    except StopIteration: break\n",
    "    print(X)"
   ]
  },
  {
   "cell_type": "markdown",
   "metadata": {},
   "source": [
    "`Making classes and setting up the instantiation method and one regular method (to print out the data)`"
   ]
  },
  {
   "cell_type": "code",
   "execution_count": null,
   "metadata": {},
   "outputs": [],
   "source": [
    "from test import Jarmu, auto, bicikli"
   ]
  },
  {
   "cell_type": "code",
   "execution_count": null,
   "metadata": {},
   "outputs": [],
   "source": [
    "# Test\n",
    "\n",
    "# first = Jarmu('auto', 'Ford')\n",
    "# print(first.type, first.marka, isinstance(first, Jarmu))"
   ]
  },
  {
   "cell_type": "code",
   "execution_count": null,
   "metadata": {},
   "outputs": [],
   "source": [
    "#auto_1 = auto('auto', 'Honda', 5)\n",
    "# bicikli_1 = bicikli('bicikli', 'Csepel', 200)\n",
    "# print(isinstance(auto_1, Jarmu), isinstance(auto_1, auto), isinstance(auto_1, bicikli))\n",
    "# print(issubclass(bicikli, Jarmu))\n",
    "#print(auto_1.__dict__, auto_1.day_of_registration())"
   ]
  },
  {
   "cell_type": "markdown",
   "metadata": {},
   "source": [
    "`User test 3`"
   ]
  },
  {
   "cell_type": "code",
   "execution_count": null,
   "metadata": {},
   "outputs": [],
   "source": [
    "car_fleet_one = ['auto', 'Audi', 4]\n",
    "bicycle_fleet_one = ['bicikli', 'KTM', 250]"
   ]
  },
  {
   "cell_type": "code",
   "execution_count": null,
   "metadata": {},
   "outputs": [],
   "source": [
    "request_one = f'\\nEnter the number of cars with the following params: \"{car_fleet_one}\" to register as new fleet member: '\n",
    "request_two = f'\\nEnter the number of bicycles with the following params: \"{bicycle_fleet_one}\" to register as new fleet member: '"
   ]
  },
  {
   "cell_type": "code",
   "execution_count": null,
   "metadata": {},
   "outputs": [],
   "source": [
    "autos = [auto(*car_fleet_one).__dict__ for _ in range(int(input(request_one)))]\n",
    "biciklis = [bicikli(*bicycle_fleet_one).__dict__ for _ in range(int(input(request_two)))]"
   ]
  },
  {
   "cell_type": "code",
   "execution_count": null,
   "metadata": {},
   "outputs": [],
   "source": [
    "print('\\nHere you can see the recently registered cars:\\n', *autos, sep='\\n')\n",
    "print(f'You registered {auto.count} cars.\\n')\n",
    "print('\\nHere you can see the recently registered bicycles:\\n', *biciklis, sep='\\n')\n",
    "print(f'You registered {bicikli.count} bicycles.\\nIn total there are {Jarmu.company_vehicles} company vehicles registered')"
   ]
  },
  {
   "cell_type": "code",
   "execution_count": null,
   "metadata": {},
   "outputs": [],
   "source": [
    "with open('autos.pkl', 'wb') as F:\n",
    "    pickle.dump(autos, F)\n",
    "    F.close()\n",
    "with open('autos.pkl', 'rb') as F:\n",
    "    E = pickle.load(F)\n",
    "#print(*E, sep='\\n')\n",
    "with open('biciklis.pkl', 'wb') as F:\n",
    "    pickle.dump(biciklis, F)\n",
    "    F.close()\n",
    "with open('biciklis.pkl', 'rb') as F:\n",
    "    E = pickle.load(F)\n",
    "#print(*E, sep='\\n')"
   ]
  }
 ],
 "metadata": {
  "kernelspec": {
   "display_name": "base",
   "language": "python",
   "name": "python3"
  },
  "language_info": {
   "codemirror_mode": {
    "name": "ipython",
    "version": 3
   },
   "file_extension": ".py",
   "mimetype": "text/x-python",
   "name": "python",
   "nbconvert_exporter": "python",
   "pygments_lexer": "ipython3",
   "version": "3.11.4"
  }
 },
 "nbformat": 4,
 "nbformat_minor": 2
}
