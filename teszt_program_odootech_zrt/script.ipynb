{
 "cells": [
  {
   "cell_type": "markdown",
   "metadata": {},
   "source": [
    "##### `Importing modules`"
   ]
  },
  {
   "cell_type": "code",
   "execution_count": 801,
   "metadata": {},
   "outputs": [],
   "source": [
    "import pandas as pd\n",
    "from pathlib import Path\n",
    "import os"
   ]
  },
  {
   "cell_type": "markdown",
   "metadata": {},
   "source": [
    "##### `Definitions of listing directories from the parentdirectory`"
   ]
  },
  {
   "cell_type": "code",
   "execution_count": 802,
   "metadata": {},
   "outputs": [],
   "source": [
    "def list_dirs(parent):\n",
    "    cwd = Path.cwd()/parent\n",
    "    directories = os.listdir(parent)\n",
    "    yield {cwd/directory:os.listdir(cwd/directory) for directory in directories}"
   ]
  },
  {
   "cell_type": "markdown",
   "metadata": {},
   "source": [
    "##### `Test`"
   ]
  },
  {
   "cell_type": "code",
   "execution_count": 803,
   "metadata": {},
   "outputs": [
    {
     "name": "stdout",
     "output_type": "stream",
     "text": [
      "In the data parent directory, 2 folder can be found.\n",
      "Below you can see the Path as keys and the including files as values.\n",
      "\n",
      "{WindowsPath('c:/Users/stank/OneDrive/Dokumentumok/GitHub/Balazs1982/teszt_program_odootech_zrt/data/A'): ['AA0001.dat', 'X'], WindowsPath('c:/Users/stank/OneDrive/Dokumentumok/GitHub/Balazs1982/teszt_program_odootech_zrt/data/B'): ['BS3234.dat', 'X']}\n",
      "[{WindowsPath('c:/Users/stank/OneDrive/Dokumentumok/GitHub/Balazs1982/teszt_program_odootech_zrt/data/A'): ['AA0001.dat', 'X'], WindowsPath('c:/Users/stank/OneDrive/Dokumentumok/GitHub/Balazs1982/teszt_program_odootech_zrt/data/B'): ['BS3234.dat', 'X']}]\n"
     ]
    }
   ],
   "source": [
    "parent = 'data'\n",
    "test = list(list_dirs(parent))\n",
    "print(f'In the {parent} parent directory, {len(*test)} folder can be found.')\n",
    "print('Below you can see the Path as keys and the including files as values.\\n')\n",
    "print(*test)\n",
    "print(test)"
   ]
  },
  {
   "cell_type": "code",
   "execution_count": 804,
   "metadata": {},
   "outputs": [],
   "source": [
    "def read_files(directories):\n",
    "    for directory in directories:\n",
    "        for key, value in directory.items():\n",
    "            for elem in value:\n",
    "                if '.dat' in elem:\n",
    "                    yield from pd.read_csv(key/elem)\n",
    "                else:\n",
    "                    yield from pd.read_csv(key/elem/str(os.listdir(key/elem)[0]))"
   ]
  },
  {
   "cell_type": "code",
   "execution_count": 805,
   "metadata": {},
   "outputs": [],
   "source": [
    "test2 = list(read_files(test))"
   ]
  },
  {
   "cell_type": "code",
   "execution_count": 806,
   "metadata": {},
   "outputs": [
    {
     "name": "stdout",
     "output_type": "stream",
     "text": [
      "{\"type\": \"auto\"  \"ajtok_szama\": 5  \"marka\": \"Opel\"} {\"type\": \"auto\"  \"ajtok_szama\": 3  \"marka\": \"BMW\"} {\"type\": \"bicikli\"  \"terhelhetoseg\": 130  \"marka\": \"Csepel\"} {\"type\": \"bicikli\"  \"terhelhetoseg\": 150  \"marka\": \"Valami\"}\n"
     ]
    }
   ],
   "source": [
    "print(*test2)"
   ]
  },
  {
   "cell_type": "code",
   "execution_count": 807,
   "metadata": {},
   "outputs": [
    {
     "name": "stdout",
     "output_type": "stream",
     "text": [
      "{\"type\": \"auto\"\n",
      " \"ajtok_szama\": 5\n",
      " \"marka\": \"Opel\"}\n",
      "{\"type\": \"auto\"\n",
      " \"ajtok_szama\": 3\n",
      " \"marka\": \"BMW\"}\n",
      "{\"type\": \"bicikli\"\n",
      " \"terhelhetoseg\": 130\n",
      " \"marka\": \"Csepel\"}\n",
      "{\"type\": \"bicikli\"\n",
      " \"terhelhetoseg\": 150\n",
      " \"marka\": \"Valami\"}\n"
     ]
    }
   ],
   "source": [
    "for elem in test2:\n",
    "    print(elem)"
   ]
  },
  {
   "cell_type": "code",
   "execution_count": null,
   "metadata": {},
   "outputs": [],
   "source": []
  }
 ],
 "metadata": {
  "kernelspec": {
   "display_name": "base",
   "language": "python",
   "name": "python3"
  },
  "language_info": {
   "codemirror_mode": {
    "name": "ipython",
    "version": 3
   },
   "file_extension": ".py",
   "mimetype": "text/x-python",
   "name": "python",
   "nbconvert_exporter": "python",
   "pygments_lexer": "ipython3",
   "version": "3.11.4"
  }
 },
 "nbformat": 4,
 "nbformat_minor": 2
}
