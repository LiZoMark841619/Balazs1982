{
 "cells": [
  {
   "cell_type": "markdown",
   "metadata": {},
   "source": [
    "##### Importing modules"
   ]
  },
  {
   "cell_type": "code",
   "execution_count": 1,
   "metadata": {},
   "outputs": [],
   "source": [
    "import pathlib\n",
    "import os\n",
    "import time\n",
    "import sys\n",
    "import my_python.runtime.timer as timer"
   ]
  },
  {
   "cell_type": "code",
   "execution_count": 2,
   "metadata": {},
   "outputs": [],
   "source": [
    "def print_slow(*args):\n",
    "    for arg in args: sys.stdout.write(arg); time.sleep(0.15)"
   ]
  },
  {
   "cell_type": "code",
   "execution_count": 3,
   "metadata": {},
   "outputs": [
    {
     "name": "stdout",
     "output_type": "stream",
     "text": [
      "Write a simple program with two functions in object orientation.\n",
      "Expectation: Be sure to use object orientation!\n",
      "\n",
      "Function 1:\n",
      "- read the data in the files in the data folder (and any subfolders) (sample folder included)\n",
      "- every file contains a JSON data structure, the ID is the name of the file\n",
      "- based on the type, instantiate the appropriate transport type (only the two types you see are possible)\n",
      "- put the received object into a list\n",
      "- on the go, log on the screen that the program is running and working (no need for an hourglass or anything like that, just a simple signal)\n",
      "\n",
      "Function 2:\n",
      "- write the elements in the list returned by the first function to the screen in a nicely formatted way"
     ]
    }
   ],
   "source": [
    "print_slow(*list(open('tasks.txt', encoding='utf')))"
   ]
  },
  {
   "cell_type": "markdown",
   "metadata": {},
   "source": [
    "`Method 1 - using Path.cwd() and os.walk() methods to return a dictionary with roots as keys and folders-files as values`"
   ]
  },
  {
   "cell_type": "code",
   "execution_count": 4,
   "metadata": {},
   "outputs": [
    {
     "data": {
      "text/plain": [
       "WindowsPath('c:/Users/stank/OneDrive/Dokumentumok/GitHub/Balazs1982/teszt_program_odootech_zrt')"
      ]
     },
     "execution_count": 4,
     "metadata": {},
     "output_type": "execute_result"
    }
   ],
   "source": [
    "cwd = pathlib.Path.cwd()\n",
    "cwd"
   ]
  },
  {
   "cell_type": "code",
   "execution_count": 5,
   "metadata": {},
   "outputs": [],
   "source": [
    "def content(parent: pathlib = cwd) -> tuple:\n",
    "    content = {root:(dir, file) for root, dir, file in os.walk(top=parent, topdown=False)}\n",
    "    folders = [val[0] for val in content.values() if val[0]]\n",
    "    files = [val[1] for val in content.values() if val[1]]\n",
    "    return content, folders, files"
   ]
  },
  {
   "cell_type": "markdown",
   "metadata": {},
   "source": [
    "`I imported from the my_python/runtime directory the timer.py file. Then we make a name here from the timer def from the source code. Then we use this method on the created content() method. To be able to do that we must have add this dir0 (Balazs1982) to PYTHONPATH, then we had to make 2 __init__.py file in the dir1 (my_python) and in the dir2 (runtime) folders. After this we tested our first method and ran the imported timer method.`"
   ]
  },
  {
   "cell_type": "code",
   "execution_count": 6,
   "metadata": {},
   "outputs": [],
   "source": [
    "timer = timer.timer"
   ]
  },
  {
   "cell_type": "code",
   "execution_count": 7,
   "metadata": {},
   "outputs": [
    {
     "data": {
      "text/plain": [
       "'The content() method runs in 3.7137 seconds.'"
      ]
     },
     "execution_count": 7,
     "metadata": {},
     "output_type": "execute_result"
    }
   ],
   "source": [
    "test_one = content()\n",
    "contents = test_one[0]\n",
    "folders = test_one[1]\n",
    "files = test_one[2]\n",
    "f'The content() method runs in {timer(content)[0]:.4f} seconds.'"
   ]
  },
  {
   "cell_type": "code",
   "execution_count": 8,
   "metadata": {},
   "outputs": [
    {
     "name": "stdout",
     "output_type": "stream",
     "text": [
      "\n",
      "The folders are below:\n",
      "\n",
      "['X']\n",
      "['X']\n",
      "['A', 'B']\n",
      "['data', '__pycache__']\n",
      "\n",
      "The files are below:\n",
      "\n",
      "['CD1234.dat']\n",
      "['AA0001.dat']\n",
      "['DD0001.dat']\n",
      "['BS3234.dat']\n",
      "['docstring.cpython-311.pyc', 'play.cpython-311.pyc', 'python_script.cpython-311.pyc', 'runtime.cpython-311.pyc', 'script.cpython-311.pyc', 'string.cpython-311.pyc', 'test.cpython-311.pyc', 'timeit.cpython-311.pyc']\n",
      "['feladat.txt', 'python_script.py', 'runtime.py', 'script.ipynb', 'speeds.ipynb', 'tasks.txt', 'test.html', 'test.py']\n"
     ]
    }
   ],
   "source": [
    "answer = input('\\n\\nEnter yes to be printed out every folder and file! ')\n",
    "if answer in ['yes', 1]:\n",
    "    print('\\nThe folders are below:\\n')\n",
    "    print_slow(*[str(folder)+'\\n' for folder in folders])\n",
    "    print('\\nThe files are below:\\n')\n",
    "    print_slow(*[str(file)+'\\n' for file in files])"
   ]
  },
  {
   "cell_type": "markdown",
   "metadata": {},
   "source": [
    "`Using generator expression or method 2 to find the files and to load the data from them.`"
   ]
  },
  {
   "cell_type": "code",
   "execution_count": 9,
   "metadata": {},
   "outputs": [],
   "source": [
    "# Generator expression\n",
    "data = (eval(open(key+'\\\\'+file).read()) for key in contents for file in contents[key][1] if '.dat' in file)"
   ]
  },
  {
   "cell_type": "code",
   "execution_count": 10,
   "metadata": {},
   "outputs": [],
   "source": [
    "# Method 2\n",
    "# def read_files(dirs: dict = contents) -> iter:\n",
    "#     for key in dirs:\n",
    "#         for file in dirs[key][1]:\n",
    "#             if '.dat' in file:\n",
    "#                 yield open(key+'\\\\'+file).read()\n",
    "# test_two = read_files()"
   ]
  },
  {
   "cell_type": "markdown",
   "metadata": {},
   "source": [
    "`User test 2`"
   ]
  },
  {
   "cell_type": "code",
   "execution_count": 11,
   "metadata": {},
   "outputs": [
    {
     "name": "stdout",
     "output_type": "stream",
     "text": [
      "\n",
      "Here is the available data from every file:\n",
      "\n",
      "{'type': 'auto', 'ajtok_szama': 3, 'marka': 'BMW'}\n",
      "{'type': 'auto', 'ajtok_szama': 5, 'marka': 'Opel'}\n",
      "{'type': 'bicikli', 'terhelhetoseg': 150, 'marka': 'Valami'}\n",
      "{'type': 'bicikli', 'terhelhetoseg': 130, 'marka': 'Csepel'}\n"
     ]
    }
   ],
   "source": [
    "answer = input('\\n\\nEnter yes to print out every data from the files! ')\n",
    "if answer in ['yes', 1]: \n",
    "    print('\\nHere is the available data from every file:\\n')\n",
    "    while True:\n",
    "        try: X = next(data) # or eval(next(test_two)) if we use the created def read_files() method # or print(json.loads(next(test_two)))\n",
    "        except StopIteration: break\n",
    "        print(X)"
   ]
  },
  {
   "cell_type": "markdown",
   "metadata": {},
   "source": [
    "`Making class objects by importing 3 different classes from test.py from the home-directory`"
   ]
  },
  {
   "cell_type": "code",
   "execution_count": 12,
   "metadata": {},
   "outputs": [
    {
     "name": "stdout",
     "output_type": "stream",
     "text": [
      "wrote test.html\n"
     ]
    }
   ],
   "source": [
    "from test import Jarmu, auto, bicikli"
   ]
  },
  {
   "cell_type": "code",
   "execution_count": 13,
   "metadata": {},
   "outputs": [],
   "source": [
    "# # # Test\n",
    "# first = Jarmu('auto')\n",
    "# print(first.type, isinstance(first, Jarmu))\n",
    "# auto_1 = auto('Honda', 5)\n",
    "# bicikli_1 = bicikli('Csepel', 200)\n",
    "# print(isinstance(auto_1, Jarmu), isinstance(auto_1, auto), isinstance(auto_1, bicikli))\n",
    "# print(issubclass(bicikli, Jarmu))\n",
    "# print(auto_1.__dict__, auto_1.day_of_registration())"
   ]
  },
  {
   "cell_type": "markdown",
   "metadata": {},
   "source": [
    "`User test 3`"
   ]
  },
  {
   "cell_type": "code",
   "execution_count": 14,
   "metadata": {},
   "outputs": [],
   "source": [
    "car_fleet_one = ['Audi', 4]\n",
    "bicycle_fleet_one = ['KTM', 250]"
   ]
  },
  {
   "cell_type": "code",
   "execution_count": 15,
   "metadata": {},
   "outputs": [],
   "source": [
    "request_one = f'\\nEnter the num. of cars with the features below: \"{car_fleet_one}\" to register: '\n",
    "request_two = f'\\nEnter the num. of bicycles with the features below: \"{bicycle_fleet_one}\" to register: '"
   ]
  },
  {
   "cell_type": "code",
   "execution_count": 16,
   "metadata": {},
   "outputs": [],
   "source": [
    "autos = [auto(*car_fleet_one).__dict__ for _ in range(int(input(request_one)))]\n",
    "biciklis = [bicikli(*bicycle_fleet_one).__dict__ for _ in range(int(input(request_two)))]"
   ]
  },
  {
   "cell_type": "code",
   "execution_count": 17,
   "metadata": {},
   "outputs": [
    {
     "name": "stdout",
     "output_type": "stream",
     "text": [
      "\n",
      "The recently registered cars:\n",
      "{'type': 'auto', 'marka': 'Audi', 'ajtok_szama': 4}\n",
      "{'type': 'auto', 'marka': 'Audi', 'ajtok_szama': 4}\n",
      "{'type': 'auto', 'marka': 'Audi', 'ajtok_szama': 4}\n",
      "{'type': 'auto', 'marka': 'Audi', 'ajtok_szama': 4}\n",
      "{'type': 'auto', 'marka': 'Audi', 'ajtok_szama': 4}\n",
      "{'type': 'auto', 'marka': 'Audi', 'ajtok_szama': 4}\n",
      "{'type': 'auto', 'marka': 'Audi', 'ajtok_szama': 4}\n",
      "{'type': 'auto', 'marka': 'Audi', 'ajtok_szama': 4}\n",
      "{'type': 'auto', 'marka': 'Audi', 'ajtok_szama': 4}\n",
      "You registered 9 cars.\n",
      "\n",
      "\n",
      "The recently registered bicycles:\n",
      "{'type': 'bicikli', 'marka': 'KTM', 'terhelhetoseg': 250}\n",
      "{'type': 'bicikli', 'marka': 'KTM', 'terhelhetoseg': 250}\n",
      "{'type': 'bicikli', 'marka': 'KTM', 'terhelhetoseg': 250}\n",
      "{'type': 'bicikli', 'marka': 'KTM', 'terhelhetoseg': 250}\n",
      "{'type': 'bicikli', 'marka': 'KTM', 'terhelhetoseg': 250}\n",
      "{'type': 'bicikli', 'marka': 'KTM', 'terhelhetoseg': 250}\n",
      "{'type': 'bicikli', 'marka': 'KTM', 'terhelhetoseg': 250}\n",
      "{'type': 'bicikli', 'marka': 'KTM', 'terhelhetoseg': 250}\n",
      "{'type': 'bicikli', 'marka': 'KTM', 'terhelhetoseg': 250}\n",
      "{'type': 'bicikli', 'marka': 'KTM', 'terhelhetoseg': 250}\n",
      "{'type': 'bicikli', 'marka': 'KTM', 'terhelhetoseg': 250}\n",
      "{'type': 'bicikli', 'marka': 'KTM', 'terhelhetoseg': 250}\n",
      "You registered 12 bicycles.\n",
      "In total there are 21 company vehicles.\n"
     ]
    }
   ],
   "source": [
    "print_slow('\\nThe recently registered cars:\\n',*[str(auto)+'\\n' for auto in autos])\n",
    "print(f'You registered {auto.count} cars.\\n')\n",
    "print_slow('\\nThe recently registered bicycles:\\n',*[str(bicikli)+'\\n' for bicikli in biciklis])\n",
    "print(f'You registered {bicikli.count} bicycles.\\nIn total there are {Jarmu.company_vehicles} company vehicles.')"
   ]
  }
 ],
 "metadata": {
  "kernelspec": {
   "display_name": "base",
   "language": "python",
   "name": "python3"
  },
  "language_info": {
   "codemirror_mode": {
    "name": "ipython",
    "version": 3
   },
   "file_extension": ".py",
   "mimetype": "text/x-python",
   "name": "python",
   "nbconvert_exporter": "python",
   "pygments_lexer": "ipython3",
   "version": "3.11.4"
  }
 },
 "nbformat": 4,
 "nbformat_minor": 2
}
