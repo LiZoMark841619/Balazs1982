{
 "cells": [
  {
   "cell_type": "markdown",
   "metadata": {},
   "source": [
    "##### Importing modules"
   ]
  },
  {
   "cell_type": "code",
   "execution_count": 1406,
   "metadata": {},
   "outputs": [],
   "source": [
    "from pathlib import Path\n",
    "import os\n",
    "import random\n",
    "import pickle"
   ]
  },
  {
   "cell_type": "markdown",
   "metadata": {},
   "source": [
    "`Method 1 - making a dictionary as the returned value of the data in every folder`"
   ]
  },
  {
   "cell_type": "code",
   "execution_count": 1407,
   "metadata": {},
   "outputs": [],
   "source": [
    "def content(parent=Path.cwd()):\n",
    "    return {root:(dir, file) for root, dir, file in os.walk(top=parent, topdown=False)}"
   ]
  },
  {
   "cell_type": "markdown",
   "metadata": {},
   "source": [
    "`User test 1`"
   ]
  },
  {
   "cell_type": "code",
   "execution_count": 1408,
   "metadata": {},
   "outputs": [
    {
     "data": {
      "text/plain": [
       "{'c:\\\\Users\\\\stank\\\\OneDrive\\\\Dokumentumok\\\\GitHub\\\\Balazs1982\\\\teszt_program_odootech_zrt\\\\data\\\\A\\\\X': ([],\n",
       "  ['CD1234.dat']),\n",
       " 'c:\\\\Users\\\\stank\\\\OneDrive\\\\Dokumentumok\\\\GitHub\\\\Balazs1982\\\\teszt_program_odootech_zrt\\\\data\\\\A': (['X'],\n",
       "  ['AA0001.dat']),\n",
       " 'c:\\\\Users\\\\stank\\\\OneDrive\\\\Dokumentumok\\\\GitHub\\\\Balazs1982\\\\teszt_program_odootech_zrt\\\\data\\\\B\\\\X': ([],\n",
       "  ['DD0001.dat']),\n",
       " 'c:\\\\Users\\\\stank\\\\OneDrive\\\\Dokumentumok\\\\GitHub\\\\Balazs1982\\\\teszt_program_odootech_zrt\\\\data\\\\B': (['X'],\n",
       "  ['BS3234.dat']),\n",
       " 'c:\\\\Users\\\\stank\\\\OneDrive\\\\Dokumentumok\\\\GitHub\\\\Balazs1982\\\\teszt_program_odootech_zrt\\\\data': (['A',\n",
       "   'B'],\n",
       "  []),\n",
       " 'c:\\\\Users\\\\stank\\\\OneDrive\\\\Dokumentumok\\\\GitHub\\\\Balazs1982\\\\teszt_program_odootech_zrt\\\\__pycache__': ([],\n",
       "  ['script.cpython-311.pyc']),\n",
       " 'c:\\\\Users\\\\stank\\\\OneDrive\\\\Dokumentumok\\\\GitHub\\\\Balazs1982\\\\teszt_program_odootech_zrt': (['data',\n",
       "   '__pycache__'],\n",
       "  ['autos.pkl',\n",
       "   'biciklis.pkl',\n",
       "   'feladat.txt',\n",
       "   'python_script.py',\n",
       "   'script.ipynb',\n",
       "   'script2.ipynb'])}"
      ]
     },
     "execution_count": 1408,
     "metadata": {},
     "output_type": "execute_result"
    }
   ],
   "source": [
    "test_one = content()\n",
    "test_one"
   ]
  },
  {
   "cell_type": "code",
   "execution_count": 1409,
   "metadata": {},
   "outputs": [],
   "source": [
    "folders = [val[0] for val in test_one.values() if len(val[0]) != 0]\n",
    "files = [val[1] for val in test_one.values() if len(val[1]) != 0]\n",
    "#folders, files"
   ]
  },
  {
   "cell_type": "code",
   "execution_count": 1410,
   "metadata": {},
   "outputs": [
    {
     "name": "stdout",
     "output_type": "stream",
     "text": [
      "\n",
      "Here you can see the folders:\n",
      "[['X'], ['X'], ['A', 'B'], ['data', '__pycache__']]\n",
      "\n",
      "Here you can see the files:\n",
      "[['CD1234.dat'], ['AA0001.dat'], ['DD0001.dat'], ['BS3234.dat'], ['script.cpython-311.pyc'], ['autos.pkl', 'biciklis.pkl', 'feladat.txt', 'python_script.py', 'script.ipynb', 'script2.ipynb']]\n",
      "\n"
     ]
    }
   ],
   "source": [
    "answer = input('Enter yes if you would see every folder and file in the parent directory! ')\n",
    "if answer in ['yes', 1]: print(f'\\nHere you can see the folders:\\n{folders}\\n\\nHere you can see the files:\\n{files}\\n')"
   ]
  },
  {
   "cell_type": "markdown",
   "metadata": {},
   "source": [
    "`Method 2 - finding the files then loading in`"
   ]
  },
  {
   "cell_type": "code",
   "execution_count": 1411,
   "metadata": {},
   "outputs": [],
   "source": [
    "def read_files(dirs: dict) -> list:\n",
    "    for key in dirs:\n",
    "        for file in dirs[key][1]:\n",
    "            if '.dat' in file:\n",
    "                yield open(key+'\\\\'+file).read()"
   ]
  },
  {
   "cell_type": "code",
   "execution_count": 1412,
   "metadata": {},
   "outputs": [],
   "source": [
    "test_two = read_files(test_one)\n",
    "#next(test_two)"
   ]
  },
  {
   "cell_type": "markdown",
   "metadata": {},
   "source": [
    "`User test 2`"
   ]
  },
  {
   "cell_type": "code",
   "execution_count": 1413,
   "metadata": {},
   "outputs": [
    {
     "name": "stdout",
     "output_type": "stream",
     "text": [
      "\n",
      "Here is the available data from every file:\n",
      "\n",
      "{'type': 'auto', 'ajtok_szama': 3, 'marka': 'BMW'}\n",
      "{'type': 'auto', 'ajtok_szama': 5, 'marka': 'Opel'}\n",
      "{'type': 'bicikli', 'terhelhetoseg': 150, 'marka': 'Valami'}\n",
      "{'type': 'bicikli', 'terhelhetoseg': 130, 'marka': 'Csepel'}\n"
     ]
    }
   ],
   "source": [
    "answer = input('Enter yes if you would load in every data from every file! ')\n",
    "if answer in ['yes', 1]: print('\\nHere is the available data from every file:\\n')\n",
    "while True:\n",
    "    try: print(eval(next(test_two))) # or print(json.loads(next(test_two)))\n",
    "    except StopIteration: break"
   ]
  },
  {
   "cell_type": "markdown",
   "metadata": {},
   "source": [
    "`Making classes and setting up the instantiation method and one regular method (to print out the data)`"
   ]
  },
  {
   "cell_type": "code",
   "execution_count": 1414,
   "metadata": {},
   "outputs": [],
   "source": [
    "class Jarmu:\n",
    "    registered_vehicle = 0\n",
    "    \n",
    "    def __init__(self, type: str) -> None:\n",
    "        self.type = type\n",
    "        \n",
    "\n",
    "class auto(Jarmu):\n",
    "    count = 0\n",
    "    \n",
    "    def __init__(self, type: str, ajtok_szama:int, marka:str) -> None:\n",
    "        super().__init__(type)\n",
    "        self.ajtok_szama = ajtok_szama\n",
    "        self.marka = marka\n",
    "        auto.count +=1\n",
    "        Jarmu.registered_vehicle +=1\n",
    "            \n",
    "    def vehicle_data(self) -> dict:\n",
    "        return {'type':'auto', 'ajtok_szama':self.ajtok_szama, 'marka':self.marka}\n",
    "    \n",
    "class bicikli(Jarmu):\n",
    "    count = 0 \n",
    "    \n",
    "    def __init__(self, type: type, terhelhetoseg:int, marka:str) -> None:\n",
    "        super().__init__(type)\n",
    "        self.terhelhetoseg = terhelhetoseg\n",
    "        self.marka = marka\n",
    "        bicikli.count +=1\n",
    "        Jarmu.registered_vehicle +=1\n",
    "    \n",
    "    def vehicle_data(self) -> dict:\n",
    "        return {'type':'bicikli', 'terhelhetoseg':self.terhelhetoseg, 'marka':self.marka}"
   ]
  },
  {
   "cell_type": "code",
   "execution_count": 1415,
   "metadata": {},
   "outputs": [],
   "source": [
    "# Test \n",
    "# first_auto = auto('auto', 5, 'Honda')\n",
    "# first_bicikli = bicikli(Jarmu('bicikli'), 150, 'Csepel')\n",
    "# first_auto.vehicle_data(), first_auto.count, Jarmu.registered_vehicle"
   ]
  },
  {
   "cell_type": "markdown",
   "metadata": {},
   "source": [
    "`User test 3`"
   ]
  },
  {
   "cell_type": "code",
   "execution_count": 1416,
   "metadata": {},
   "outputs": [],
   "source": [
    "car_fleet_one = [4, 'Audi']\n",
    "#bicikli_fleet_one = [100, 'KTM']\n",
    "ajtok_szama = [3, 4, 5]\n",
    "terhelhetoseg = [50, 100, 150]\n",
    "marka_auto = ['Audi', 'BMW', 'Mercedes']\n",
    "marka_bicikli = ['KTM', 'Csepel', 'Merida']"
   ]
  },
  {
   "cell_type": "code",
   "execution_count": 1417,
   "metadata": {},
   "outputs": [],
   "source": [
    "request_one = f'\\nEnter the number of cars with the following params: \"{car_fleet_one}\" to register as new fleet member: '\n",
    "request_two = '\\nEnter the number of bicycles to register randomly: '"
   ]
  },
  {
   "cell_type": "code",
   "execution_count": 1418,
   "metadata": {},
   "outputs": [],
   "source": [
    "cars = [auto(Jarmu('auto'),*car_fleet_one) for _ in range(int(input(request_one)))]\n",
    "bicycles = [bicikli(Jarmu('bicikli'), random.choice(terhelhetoseg), random.choice(marka_bicikli)) for _ in range(int(input(request_two)))]"
   ]
  },
  {
   "cell_type": "code",
   "execution_count": 1419,
   "metadata": {},
   "outputs": [
    {
     "name": "stdout",
     "output_type": "stream",
     "text": [
      "\n",
      "Here you can see the recently registered cars: \n",
      "{'type': 'auto', 'ajtok_szama': 4, 'marka': 'Audi'}\n",
      "{'type': 'auto', 'ajtok_szama': 4, 'marka': 'Audi'}\n",
      "{'type': 'auto', 'ajtok_szama': 4, 'marka': 'Audi'}\n",
      "{'type': 'auto', 'ajtok_szama': 4, 'marka': 'Audi'}\n",
      "{'type': 'auto', 'ajtok_szama': 4, 'marka': 'Audi'}\n",
      "You registered 5 cars.\n",
      "\n",
      "Here you can see the recently registered bicycles: \n",
      "{'type': 'bicikli', 'terhelhetoseg': 150, 'marka': 'Csepel'}\n",
      "{'type': 'bicikli', 'terhelhetoseg': 50, 'marka': 'Merida'}\n",
      "{'type': 'bicikli', 'terhelhetoseg': 50, 'marka': 'Csepel'}\n",
      "You registered 3 bicycles.\n",
      "In total there are 8 vehicles registered\n"
     ]
    }
   ],
   "source": [
    "autos = []\n",
    "biciklis = []\n",
    "print('\\nHere you can see the recently registered cars: ')\n",
    "for car in cars:\n",
    "    autos.append(car.vehicle_data())\n",
    "    print(car.vehicle_data())\n",
    "print(f'You registered {auto.count} cars.\\n\\nHere you can see the recently registered bicycles: ')\n",
    "for bicycle in bicycles:\n",
    "    biciklis.append(bicycle.vehicle_data())\n",
    "    print(bicycle.vehicle_data())\n",
    "print(f'You registered {bicikli.count} bicycles.\\nIn total there are {Jarmu.registered_vehicle} vehicles registered')"
   ]
  },
  {
   "cell_type": "code",
   "execution_count": 1420,
   "metadata": {},
   "outputs": [],
   "source": [
    "with open('autos.pkl', 'wb') as F:\n",
    "    pickle.dump(autos, F)\n",
    "    F.close()\n",
    "with open('autos.pkl', 'rb') as F:\n",
    "    E = pickle.load(F)\n",
    "#print(*E, sep='\\n')\n",
    "with open('biciklis.pkl', 'wb') as F:\n",
    "    pickle.dump(biciklis, F)\n",
    "    F.close()\n",
    "with open('biciklis.pkl', 'rb') as F:\n",
    "    E = pickle.load(F)\n",
    "#print(*E, sep='\\n')"
   ]
  }
 ],
 "metadata": {
  "kernelspec": {
   "display_name": "base",
   "language": "python",
   "name": "python3"
  },
  "language_info": {
   "codemirror_mode": {
    "name": "ipython",
    "version": 3
   },
   "file_extension": ".py",
   "mimetype": "text/x-python",
   "name": "python",
   "nbconvert_exporter": "python",
   "pygments_lexer": "ipython3",
   "version": "3.11.4"
  }
 },
 "nbformat": 4,
 "nbformat_minor": 2
}
