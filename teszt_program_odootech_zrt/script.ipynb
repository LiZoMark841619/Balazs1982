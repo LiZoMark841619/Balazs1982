{
 "cells": [
  {
   "cell_type": "markdown",
   "metadata": {},
   "source": [
    "##### Importing modules"
   ]
  },
  {
   "cell_type": "code",
   "execution_count": 1,
   "metadata": {},
   "outputs": [],
   "source": [
    "import pathlib\n",
    "import os\n",
    "import pickle\n",
    "from my_python.runtime import timer"
   ]
  },
  {
   "cell_type": "markdown",
   "metadata": {},
   "source": [
    "`Method 1 - using Path.cwd() and os.walk() methods to return a dictionary with roots as keys and folders-files as values`"
   ]
  },
  {
   "cell_type": "code",
   "execution_count": 2,
   "metadata": {},
   "outputs": [
    {
     "data": {
      "text/plain": [
       "WindowsPath('c:/Users/stank/OneDrive/Dokumentumok/GitHub/Balazs1982/teszt_program_odootech_zrt')"
      ]
     },
     "execution_count": 2,
     "metadata": {},
     "output_type": "execute_result"
    }
   ],
   "source": [
    "cwd = pathlib.Path.cwd()\n",
    "cwd"
   ]
  },
  {
   "cell_type": "code",
   "execution_count": 3,
   "metadata": {},
   "outputs": [],
   "source": [
    "def content(parent: str = cwd) -> dict:\n",
    "    return {root:(dir, file) for root, dir, file in os.walk(top=parent, topdown=False)}"
   ]
  },
  {
   "cell_type": "markdown",
   "metadata": {},
   "source": [
    "`We imported from the my_python/runtime directory the timer.py file. Then we make a name here from the timer def from the source code. Then we use this method on the created content() method. To be able to do that we must have add this dir0 (Balazs1982) to PYTHONPATH, then we had to make 2 __init__.py file in the dir1 (my_python) and in the dir2 (runtime) folders. After this we tested our first method and ran the imported timer method.`"
   ]
  },
  {
   "cell_type": "code",
   "execution_count": 4,
   "metadata": {},
   "outputs": [],
   "source": [
    "timer = timer.timer"
   ]
  },
  {
   "cell_type": "code",
   "execution_count": 5,
   "metadata": {},
   "outputs": [
    {
     "data": {
      "text/plain": [
       "'The content() method runs in 0.6496 seconds.'"
      ]
     },
     "execution_count": 5,
     "metadata": {},
     "output_type": "execute_result"
    }
   ],
   "source": [
    "test_one = content()\n",
    "test_one\n",
    "f'The content() method runs in {timer(content)[0]:.4f} seconds.'"
   ]
  },
  {
   "cell_type": "code",
   "execution_count": 6,
   "metadata": {},
   "outputs": [],
   "source": [
    "folders = [val[0] for val in test_one.values() if val[0]]\n",
    "files = [val[1] for val in test_one.values() if val[1]]\n",
    "#folders, files"
   ]
  },
  {
   "cell_type": "code",
   "execution_count": 7,
   "metadata": {},
   "outputs": [
    {
     "name": "stdout",
     "output_type": "stream",
     "text": [
      "\n",
      "Here you can see the folders:\n",
      "\n",
      "['X']\n",
      "['X']\n",
      "['A', 'B']\n",
      "['data', '__pycache__']\n",
      "\n",
      "Here you can see the files:\n",
      "\n",
      "['CD1234.dat']\n",
      "['AA0001.dat']\n",
      "['DD0001.dat']\n",
      "['BS3234.dat']\n",
      "['docstring.cpython-311.pyc', 'play.cpython-311.pyc', 'python_script.cpython-311.pyc', 'runtime.cpython-311.pyc', 'script.cpython-311.pyc', 'test.cpython-311.pyc', 'timeit.cpython-311.pyc']\n",
      "['autos.pkl', 'biciklis.pkl', 'feladat.txt', 'play.py', 'python_script.py', 'runtime.py', 'script.ipynb', 'speeds.ipynb', 'test.html', 'test.py']\n"
     ]
    }
   ],
   "source": [
    "answer = input('Enter yes if you would see every folder and file in the parent directory! ')\n",
    "if answer in ['yes', 1]:\n",
    "    print('\\nHere you can see the folders:\\n')\n",
    "    print(*folders, sep='\\n')\n",
    "    print('\\nHere you can see the files:\\n')\n",
    "    print(*files, sep='\\n')"
   ]
  },
  {
   "cell_type": "markdown",
   "metadata": {},
   "source": [
    "`Using generator expression or method 2 to find the files and to load the data from them.`"
   ]
  },
  {
   "cell_type": "code",
   "execution_count": 8,
   "metadata": {},
   "outputs": [],
   "source": [
    "# Generator expression\n",
    "data = (eval(open(key+'\\\\'+file).read()) for key in test_one for file in test_one[key][1] if '.dat' in file)"
   ]
  },
  {
   "cell_type": "code",
   "execution_count": 9,
   "metadata": {},
   "outputs": [],
   "source": [
    "# Method 2\n",
    "# def read_files(dirs: dict = test_one) -> iter:\n",
    "#     for key in dirs:\n",
    "#         for file in dirs[key][1]:\n",
    "#             if '.dat' in file:\n",
    "#                 yield open(key+'\\\\'+file).read()\n",
    "# test_two = read_files()"
   ]
  },
  {
   "cell_type": "markdown",
   "metadata": {},
   "source": [
    "`User test 2`"
   ]
  },
  {
   "cell_type": "code",
   "execution_count": 10,
   "metadata": {},
   "outputs": [
    {
     "name": "stdout",
     "output_type": "stream",
     "text": [
      "\n",
      "Here is the available data from every file:\n",
      "\n",
      "{'type': 'auto', 'ajtok_szama': 3, 'marka': 'BMW'}\n",
      "{'type': 'auto', 'ajtok_szama': 5, 'marka': 'Opel'}\n",
      "{'type': 'bicikli', 'terhelhetoseg': 150, 'marka': 'Valami'}\n",
      "{'type': 'bicikli', 'terhelhetoseg': 130, 'marka': 'Csepel'}\n"
     ]
    }
   ],
   "source": [
    "answer = input('Enter yes if you would load in every data from every file! ')\n",
    "if answer in ['yes', 1]: print('\\nHere is the available data from every file:\\n')\n",
    "while True:\n",
    "    try: X = next(data) # or eval(next(test_two)) if we use the created def read_files() method # or print(json.loads(next(test_two)))\n",
    "    except StopIteration: break\n",
    "    print(X)"
   ]
  },
  {
   "cell_type": "markdown",
   "metadata": {},
   "source": [
    "`Making class objects by importing 3 different classes from test.py from the home-directory`"
   ]
  },
  {
   "cell_type": "code",
   "execution_count": 11,
   "metadata": {},
   "outputs": [
    {
     "name": "stdout",
     "output_type": "stream",
     "text": [
      "wrote test.html\n"
     ]
    }
   ],
   "source": [
    "from test import Jarmu, auto, bicikli"
   ]
  },
  {
   "cell_type": "code",
   "execution_count": 12,
   "metadata": {},
   "outputs": [],
   "source": [
    "# Test\n",
    "\n",
    "# first = Jarmu('auto', 'Ford')\n",
    "# print(first.type, first.marka, isinstance(first, Jarmu))\n",
    "# auto_1 = auto('auto', 'Honda', 5)\n",
    "# bicikli_1 = bicikli('bicikli', 'Csepel', 200)\n",
    "# print(isinstance(auto_1, Jarmu), isinstance(auto_1, auto), isinstance(auto_1, bicikli))\n",
    "# print(issubclass(bicikli, Jarmu))\n",
    "# print(auto_1.__dict__, auto_1.day_of_registration())"
   ]
  },
  {
   "cell_type": "markdown",
   "metadata": {},
   "source": [
    "`User test 3`"
   ]
  },
  {
   "cell_type": "code",
   "execution_count": 13,
   "metadata": {},
   "outputs": [],
   "source": [
    "car_fleet_one = ['auto', 'Audi', 4]\n",
    "bicycle_fleet_one = ['bicikli', 'KTM', 250]"
   ]
  },
  {
   "cell_type": "code",
   "execution_count": 14,
   "metadata": {},
   "outputs": [],
   "source": [
    "request_one = f'\\nEnter the num. of cars with the features below: \"{car_fleet_one}\" to register as new members: '\n",
    "request_two = f'\\nEnter the num. of bicycles with the features below: \"{bicycle_fleet_one}\" to register as new members: '"
   ]
  },
  {
   "cell_type": "code",
   "execution_count": 15,
   "metadata": {},
   "outputs": [],
   "source": [
    "autos = [auto(*car_fleet_one).__dict__ for _ in range(int(input(request_one)))]\n",
    "biciklis = [bicikli(*bicycle_fleet_one).__dict__ for _ in range(int(input(request_two)))]"
   ]
  },
  {
   "cell_type": "code",
   "execution_count": 16,
   "metadata": {},
   "outputs": [
    {
     "name": "stdout",
     "output_type": "stream",
     "text": [
      "\n",
      "Here you can see the recently registered cars:\n",
      "\n",
      "{'type': 'auto', 'marka': 'Audi', 'ajtok_szama': 4}\n",
      "{'type': 'auto', 'marka': 'Audi', 'ajtok_szama': 4}\n",
      "{'type': 'auto', 'marka': 'Audi', 'ajtok_szama': 4}\n",
      "{'type': 'auto', 'marka': 'Audi', 'ajtok_szama': 4}\n",
      "{'type': 'auto', 'marka': 'Audi', 'ajtok_szama': 4}\n",
      "{'type': 'auto', 'marka': 'Audi', 'ajtok_szama': 4}\n",
      "{'type': 'auto', 'marka': 'Audi', 'ajtok_szama': 4}\n",
      "{'type': 'auto', 'marka': 'Audi', 'ajtok_szama': 4}\n",
      "{'type': 'auto', 'marka': 'Audi', 'ajtok_szama': 4}\n",
      "{'type': 'auto', 'marka': 'Audi', 'ajtok_szama': 4}\n",
      "{'type': 'auto', 'marka': 'Audi', 'ajtok_szama': 4}\n",
      "{'type': 'auto', 'marka': 'Audi', 'ajtok_szama': 4}\n",
      "You registered 12 cars.\n",
      "\n",
      "\n",
      "Here you can see the recently registered bicycles:\n",
      "\n",
      "{'type': 'bicikli', 'marka': 'KTM', 'terhelhetoseg': 250}\n",
      "{'type': 'bicikli', 'marka': 'KTM', 'terhelhetoseg': 250}\n",
      "{'type': 'bicikli', 'marka': 'KTM', 'terhelhetoseg': 250}\n",
      "{'type': 'bicikli', 'marka': 'KTM', 'terhelhetoseg': 250}\n",
      "{'type': 'bicikli', 'marka': 'KTM', 'terhelhetoseg': 250}\n",
      "{'type': 'bicikli', 'marka': 'KTM', 'terhelhetoseg': 250}\n",
      "{'type': 'bicikli', 'marka': 'KTM', 'terhelhetoseg': 250}\n",
      "{'type': 'bicikli', 'marka': 'KTM', 'terhelhetoseg': 250}\n",
      "You registered 8 bicycles.\n",
      "In total 20 company vehicles registered\n"
     ]
    }
   ],
   "source": [
    "print('\\nHere you can see the recently registered cars:\\n', *autos, sep='\\n')\n",
    "print(f'You registered {auto.count} cars.\\n')\n",
    "print('\\nHere you can see the recently registered bicycles:\\n', *biciklis, sep='\\n')\n",
    "print(f'You registered {bicikli.count} bicycles.\\nIn total {Jarmu.company_vehicles} company vehicles registered')"
   ]
  },
  {
   "cell_type": "code",
   "execution_count": 17,
   "metadata": {},
   "outputs": [],
   "source": [
    "with open('autos.pkl', 'wb') as F:\n",
    "    pickle.dump(autos, F)\n",
    "    F.close()\n",
    "with open('autos.pkl', 'rb') as F:\n",
    "    E = pickle.load(F)\n",
    "#print(*E, sep='\\n')\n",
    "with open('biciklis.pkl', 'wb') as F:\n",
    "    pickle.dump(biciklis, F)\n",
    "    F.close()\n",
    "with open('biciklis.pkl', 'rb') as F:\n",
    "    E = pickle.load(F)\n",
    "#print(*E, sep='\\n')"
   ]
  }
 ],
 "metadata": {
  "kernelspec": {
   "display_name": "base",
   "language": "python",
   "name": "python3"
  },
  "language_info": {
   "codemirror_mode": {
    "name": "ipython",
    "version": 3
   },
   "file_extension": ".py",
   "mimetype": "text/x-python",
   "name": "python",
   "nbconvert_exporter": "python",
   "pygments_lexer": "ipython3",
   "version": "3.11.4"
  }
 },
 "nbformat": 4,
 "nbformat_minor": 2
}
