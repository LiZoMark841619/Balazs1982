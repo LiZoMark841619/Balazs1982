{
 "cells": [
  {
   "cell_type": "markdown",
   "metadata": {},
   "source": [
    "##### `Importing modules`"
   ]
  },
  {
   "cell_type": "code",
   "execution_count": 22,
   "metadata": {},
   "outputs": [],
   "source": [
    "import import_ipynb\n",
    "from script import folders_files, read_files"
   ]
  },
  {
   "cell_type": "markdown",
   "metadata": {},
   "source": [
    "##### `Test`"
   ]
  },
  {
   "cell_type": "code",
   "execution_count": 23,
   "metadata": {},
   "outputs": [],
   "source": [
    "parent = 'data'\n",
    "test_1 = folders_files(parent)"
   ]
  },
  {
   "cell_type": "code",
   "execution_count": 24,
   "metadata": {},
   "outputs": [
    {
     "name": "stdout",
     "output_type": "stream",
     "text": [
      "In the data parent directory, 2 folder can be found.\n",
      "Below you can see the Path as keys and the including files as values.\n",
      "\n",
      "{WindowsPath('c:/Users/stank/OneDrive/Dokumentumok/GitHub/Balazs1982/teszt_program_odootech_zrt/data/A'): ['AA0001.dat', 'X'], WindowsPath('c:/Users/stank/OneDrive/Dokumentumok/GitHub/Balazs1982/teszt_program_odootech_zrt/data/B'): ['BS3234.dat', 'X']}\n"
     ]
    }
   ],
   "source": [
    "print(f'In the {parent} parent directory, {len(test_1)} folder can be found.')\n",
    "print('Below you can see the Path as keys and the including files as values.\\n')\n",
    "print(test_1)"
   ]
  },
  {
   "cell_type": "code",
   "execution_count": 25,
   "metadata": {},
   "outputs": [
    {
     "data": {
      "text/plain": [
       "[Empty DataFrame\n",
       " Columns: [{\"type\": \"auto\",  \"ajtok_szama\": 5,  \"marka\": \"Opel\"}]\n",
       " Index: [],\n",
       " Empty DataFrame\n",
       " Columns: [{\"type\": \"auto\",  \"ajtok_szama\": 3,  \"marka\": \"BMW\"}]\n",
       " Index: [],\n",
       " Empty DataFrame\n",
       " Columns: [{\"type\": \"bicikli\",  \"terhelhetoseg\": 130,  \"marka\": \"Csepel\"}]\n",
       " Index: [],\n",
       " Empty DataFrame\n",
       " Columns: [{\"type\": \"bicikli\",  \"terhelhetoseg\": 150,  \"marka\": \"Valami\"}]\n",
       " Index: []]"
      ]
     },
     "execution_count": 25,
     "metadata": {},
     "output_type": "execute_result"
    }
   ],
   "source": [
    "test_2 = read_files(test_1)\n",
    "test_2"
   ]
  },
  {
   "cell_type": "code",
   "execution_count": null,
   "metadata": {},
   "outputs": [],
   "source": []
  },
  {
   "cell_type": "code",
   "execution_count": 26,
   "metadata": {},
   "outputs": [],
   "source": [
    "for elem in test_2:\n",
    "    for key, value in elem.items():\n",
    "        if key == 'type':\n",
    "            class vehicle:\n",
    "    \n",
    "                auto_count = 0\n",
    "                bicikli_count = 0\n",
    "    \n",
    "                def __init__(self, type:str, terhelhetoseg:int, marka:str) -> None:\n",
    "                    self.type = type\n",
    "                    self.terhelhetoseg = terhelhetoseg\n",
    "                    self.marka = marka\n",
    "                    if self.type == 'auto':\n",
    "                        vehicle.auto_count +=1\n",
    "                    elif self.type == 'bicikli':\n",
    "                        vehicle.bicikli_count +=1\n",
    "            \n",
    "                def vehicle_data(self) -> dict:\n",
    "                    return {'type':self.type, 'terhelhetoseg':self.terhelhetoseg, 'marka':self.marka}"
   ]
  },
  {
   "cell_type": "code",
   "execution_count": null,
   "metadata": {},
   "outputs": [],
   "source": []
  }
 ],
 "metadata": {
  "kernelspec": {
   "display_name": "base",
   "language": "python",
   "name": "python3"
  },
  "language_info": {
   "codemirror_mode": {
    "name": "ipython",
    "version": 3
   },
   "file_extension": ".py",
   "mimetype": "text/x-python",
   "name": "python",
   "nbconvert_exporter": "python",
   "pygments_lexer": "ipython3",
   "version": "3.11.4"
  }
 },
 "nbformat": 4,
 "nbformat_minor": 2
}
