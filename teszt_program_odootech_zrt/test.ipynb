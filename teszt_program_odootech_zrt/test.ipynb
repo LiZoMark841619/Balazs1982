{
 "cells": [
  {
   "cell_type": "markdown",
   "metadata": {},
   "source": [
    "##### `Importing modules`"
   ]
  },
  {
   "cell_type": "code",
   "execution_count": 37,
   "metadata": {},
   "outputs": [],
   "source": [
    "import import_ipynb\n",
    "from script import list_dirs, read_files"
   ]
  },
  {
   "cell_type": "markdown",
   "metadata": {},
   "source": [
    "##### `Test`"
   ]
  },
  {
   "cell_type": "code",
   "execution_count": 38,
   "metadata": {},
   "outputs": [
    {
     "name": "stdout",
     "output_type": "stream",
     "text": [
      "In the data parent directory, 2 folder can be found.\n",
      "Below you can see the Path as keys and the including files as values.\n",
      "\n",
      "{WindowsPath('c:/Users/stank/OneDrive/Dokumentumok/GitHub/Balazs1982/teszt_program_odootech_zrt/data/A'): ['AA0001.dat', 'X'], WindowsPath('c:/Users/stank/OneDrive/Dokumentumok/GitHub/Balazs1982/teszt_program_odootech_zrt/data/B'): ['BS3234.dat', 'X']}\n",
      "[{WindowsPath('c:/Users/stank/OneDrive/Dokumentumok/GitHub/Balazs1982/teszt_program_odootech_zrt/data/A'): ['AA0001.dat', 'X'], WindowsPath('c:/Users/stank/OneDrive/Dokumentumok/GitHub/Balazs1982/teszt_program_odootech_zrt/data/B'): ['BS3234.dat', 'X']}]\n"
     ]
    }
   ],
   "source": [
    "parent = 'data'\n",
    "test_1 = list(list_dirs(parent))\n",
    "print(f'In the {parent} parent directory, {len(*test_1)} folder can be found.')\n",
    "print('Below you can see the Path as keys and the including files as values.\\n')\n",
    "print(*test_1)\n",
    "print(test_1)"
   ]
  },
  {
   "cell_type": "code",
   "execution_count": 39,
   "metadata": {},
   "outputs": [
    {
     "name": "stdout",
     "output_type": "stream",
     "text": [
      "{\"type\": \"auto\"  \"ajtok_szama\": 5  \"marka\": \"Opel\"} {\"type\": \"auto\"  \"ajtok_szama\": 3  \"marka\": \"BMW\"} {\"type\": \"bicikli\"  \"terhelhetoseg\": 130  \"marka\": \"Csepel\"} {\"type\": \"bicikli\"  \"terhelhetoseg\": 150  \"marka\": \"Valami\"}\n"
     ]
    }
   ],
   "source": [
    "test_2 = list(read_files(test_1))\n",
    "print(*test_2)"
   ]
  },
  {
   "cell_type": "code",
   "execution_count": 40,
   "metadata": {},
   "outputs": [
    {
     "ename": "NameError",
     "evalue": "name 'read_files_opt' is not defined",
     "output_type": "error",
     "traceback": [
      "\u001b[1;31m---------------------------------------------------------------------------\u001b[0m",
      "\u001b[1;31mNameError\u001b[0m                                 Traceback (most recent call last)",
      "Cell \u001b[1;32mIn[40], line 1\u001b[0m\n\u001b[1;32m----> 1\u001b[0m test_3 \u001b[38;5;241m=\u001b[39m \u001b[38;5;28mlist\u001b[39m(\u001b[43mread_files_opt\u001b[49m())\n\u001b[0;32m      2\u001b[0m test_3\n",
      "\u001b[1;31mNameError\u001b[0m: name 'read_files_opt' is not defined"
     ]
    }
   ],
   "source": [
    "test_3 = list(read_files_opt())\n",
    "test_3"
   ]
  },
  {
   "cell_type": "code",
   "execution_count": null,
   "metadata": {},
   "outputs": [],
   "source": []
  },
  {
   "cell_type": "code",
   "execution_count": null,
   "metadata": {},
   "outputs": [],
   "source": []
  },
  {
   "cell_type": "code",
   "execution_count": null,
   "metadata": {},
   "outputs": [],
   "source": []
  }
 ],
 "metadata": {
  "kernelspec": {
   "display_name": "base",
   "language": "python",
   "name": "python3"
  },
  "language_info": {
   "codemirror_mode": {
    "name": "ipython",
    "version": 3
   },
   "file_extension": ".py",
   "mimetype": "text/x-python",
   "name": "python",
   "nbconvert_exporter": "python",
   "pygments_lexer": "ipython3",
   "version": "3.11.4"
  }
 },
 "nbformat": 4,
 "nbformat_minor": 2
}
