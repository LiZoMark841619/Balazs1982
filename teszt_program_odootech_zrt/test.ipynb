{
 "cells": [
  {
   "cell_type": "markdown",
   "metadata": {},
   "source": [
    "##### `Importing modules`"
   ]
  },
  {
   "cell_type": "code",
   "execution_count": 128,
   "metadata": {},
   "outputs": [
    {
     "ename": "ImportError",
     "evalue": "cannot import name 'folders_files' from 'script' (script.ipynb)",
     "output_type": "error",
     "traceback": [
      "\u001b[1;31m---------------------------------------------------------------------------\u001b[0m",
      "\u001b[1;31mImportError\u001b[0m                               Traceback (most recent call last)",
      "Cell \u001b[1;32mIn[128], line 2\u001b[0m\n\u001b[0;32m      1\u001b[0m \u001b[38;5;28;01mimport\u001b[39;00m \u001b[38;5;21;01mimport_ipynb\u001b[39;00m\n\u001b[1;32m----> 2\u001b[0m \u001b[38;5;28;01mfrom\u001b[39;00m \u001b[38;5;21;01mscript\u001b[39;00m \u001b[38;5;28;01mimport\u001b[39;00m folders_files, read_files\n",
      "\u001b[1;31mImportError\u001b[0m: cannot import name 'folders_files' from 'script' (script.ipynb)"
     ]
    }
   ],
   "source": [
    "import import_ipynb\n",
    "from script import folders_files, read_files"
   ]
  },
  {
   "cell_type": "markdown",
   "metadata": {},
   "source": [
    "##### `Test`"
   ]
  },
  {
   "cell_type": "code",
   "execution_count": null,
   "metadata": {},
   "outputs": [],
   "source": [
    "parent = 'data'\n",
    "test_1 = list(list_dirs(parent))"
   ]
  },
  {
   "cell_type": "code",
   "execution_count": null,
   "metadata": {},
   "outputs": [
    {
     "name": "stdout",
     "output_type": "stream",
     "text": [
      "In the data parent directory, 2 folder can be found.\n",
      "Below you can see the Path as keys and the including files as values.\n",
      "\n",
      "[{WindowsPath('c:/Users/stank/OneDrive/Dokumentumok/GitHub/Balazs1982/teszt_program_odootech_zrt/data/A'): ['AA0001.dat', 'X'], WindowsPath('c:/Users/stank/OneDrive/Dokumentumok/GitHub/Balazs1982/teszt_program_odootech_zrt/data/B'): ['BS3234.dat', 'X']}]\n"
     ]
    }
   ],
   "source": [
    "print(f'In the {parent} parent directory, {len(*test_1)} folder can be found.')\n",
    "print('Below you can see the Path as keys and the including files as values.\\n')\n",
    "print(test_1)"
   ]
  },
  {
   "cell_type": "code",
   "execution_count": null,
   "metadata": {},
   "outputs": [
    {
     "data": {
      "text/plain": [
       "['{\"type\": \"auto\"',\n",
       " ' \"ajtok_szama\": 5',\n",
       " ' \"marka\": \"Opel\"}',\n",
       " '{\"type\": \"auto\"',\n",
       " ' \"ajtok_szama\": 3',\n",
       " ' \"marka\": \"BMW\"}',\n",
       " '{\"type\": \"bicikli\"',\n",
       " ' \"terhelhetoseg\": 130',\n",
       " ' \"marka\": \"Csepel\"}',\n",
       " '{\"type\": \"bicikli\"',\n",
       " ' \"terhelhetoseg\": 150',\n",
       " ' \"marka\": \"Valami\"}']"
      ]
     },
     "execution_count": 125,
     "metadata": {},
     "output_type": "execute_result"
    }
   ],
   "source": [
    "test_2 = list(read_files(test_1))\n",
    "test_2"
   ]
  },
  {
   "cell_type": "code",
   "execution_count": null,
   "metadata": {},
   "outputs": [],
   "source": []
  },
  {
   "cell_type": "code",
   "execution_count": null,
   "metadata": {},
   "outputs": [
    {
     "ename": "AttributeError",
     "evalue": "'str' object has no attribute 'items'",
     "output_type": "error",
     "traceback": [
      "\u001b[1;31m---------------------------------------------------------------------------\u001b[0m",
      "\u001b[1;31mAttributeError\u001b[0m                            Traceback (most recent call last)",
      "Cell \u001b[1;32mIn[126], line 2\u001b[0m\n\u001b[0;32m      1\u001b[0m \u001b[38;5;28;01mfor\u001b[39;00m elem \u001b[38;5;129;01min\u001b[39;00m test_2:\n\u001b[1;32m----> 2\u001b[0m     \u001b[38;5;28;01mfor\u001b[39;00m key, value \u001b[38;5;129;01min\u001b[39;00m \u001b[43melem\u001b[49m\u001b[38;5;241;43m.\u001b[39;49m\u001b[43mitems\u001b[49m():\n\u001b[0;32m      3\u001b[0m         \u001b[38;5;28;01mif\u001b[39;00m key \u001b[38;5;241m==\u001b[39m \u001b[38;5;124m'\u001b[39m\u001b[38;5;124mtype\u001b[39m\u001b[38;5;124m'\u001b[39m:\n\u001b[0;32m      4\u001b[0m             \u001b[38;5;28;01mclass\u001b[39;00m \u001b[38;5;21;01mvehicle\u001b[39;00m:\n",
      "\u001b[1;31mAttributeError\u001b[0m: 'str' object has no attribute 'items'"
     ]
    }
   ],
   "source": [
    "for elem in test_2:\n",
    "    for key, value in elem.items():\n",
    "        if key == 'type':\n",
    "            class vehicle:\n",
    "    \n",
    "                auto_count = 0\n",
    "                bicikli_count = 0\n",
    "    \n",
    "                def __init__(self, type:str, terhelhetoseg:int, marka:str) -> None:\n",
    "                    self.type = type\n",
    "                    self.terhelhetoseg = terhelhetoseg\n",
    "                    self.marka = marka\n",
    "                    if self.type == 'auto':\n",
    "                        vehicle.auto_count +=1\n",
    "                    elif self.type == 'bicikli':\n",
    "                        vehicle.bicikli_count +=1\n",
    "            \n",
    "                def vehicle_data(self) -> dict:\n",
    "                    return {'type':self.type, 'terhelhetoseg':self.terhelhetoseg, 'marka':self.marka}"
   ]
  },
  {
   "cell_type": "code",
   "execution_count": null,
   "metadata": {},
   "outputs": [],
   "source": []
  }
 ],
 "metadata": {
  "kernelspec": {
   "display_name": "base",
   "language": "python",
   "name": "python3"
  },
  "language_info": {
   "codemirror_mode": {
    "name": "ipython",
    "version": 3
   },
   "file_extension": ".py",
   "mimetype": "text/x-python",
   "name": "python",
   "nbconvert_exporter": "python",
   "pygments_lexer": "ipython3",
   "version": "3.11.4"
  }
 },
 "nbformat": 4,
 "nbformat_minor": 2
}
