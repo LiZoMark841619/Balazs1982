{
 "cells": [
  {
   "cell_type": "markdown",
   "metadata": {},
   "source": [
    "##### `Importing modules`"
   ]
  },
  {
   "cell_type": "code",
   "execution_count": 24,
   "metadata": {},
   "outputs": [],
   "source": [
    "import import_ipynb\n",
    "from script import list_dirs, read_files"
   ]
  },
  {
   "cell_type": "markdown",
   "metadata": {},
   "source": [
    "##### `Test`"
   ]
  },
  {
   "cell_type": "code",
   "execution_count": 25,
   "metadata": {},
   "outputs": [
    {
     "name": "stdout",
     "output_type": "stream",
     "text": [
      "In the data parent directory, 2 folder can be found.\n",
      "Below you can see the Path as keys and the including files as values.\n",
      "\n",
      "{WindowsPath('c:/Users/stank/OneDrive/Dokumentumok/GitHub/Balazs1982/teszt_program_odootech_zrt/data/A'): ['AA0001.dat', 'X'], WindowsPath('c:/Users/stank/OneDrive/Dokumentumok/GitHub/Balazs1982/teszt_program_odootech_zrt/data/B'): ['BS3234.dat', 'X']}\n",
      "[{WindowsPath('c:/Users/stank/OneDrive/Dokumentumok/GitHub/Balazs1982/teszt_program_odootech_zrt/data/A'): ['AA0001.dat', 'X'], WindowsPath('c:/Users/stank/OneDrive/Dokumentumok/GitHub/Balazs1982/teszt_program_odootech_zrt/data/B'): ['BS3234.dat', 'X']}]\n"
     ]
    }
   ],
   "source": [
    "parent = 'data'\n",
    "test = list(list_dirs(parent))\n",
    "print(f'In the {parent} parent directory, {len(*test)} folder can be found.')\n",
    "print('Below you can see the Path as keys and the including files as values.\\n')\n",
    "print(*test)\n",
    "print(test)"
   ]
  },
  {
   "cell_type": "code",
   "execution_count": 26,
   "metadata": {},
   "outputs": [
    {
     "name": "stdout",
     "output_type": "stream",
     "text": [
      "{\"type\": \"auto\"  \"ajtok_szama\": 5  \"marka\": \"Opel\"} {\"type\": \"auto\"  \"ajtok_szama\": 3  \"marka\": \"BMW\"} {\"type\": \"bicikli\"  \"terhelhetoseg\": 130  \"marka\": \"Csepel\"} {\"type\": \"bicikli\"  \"terhelhetoseg\": 150  \"marka\": \"Valami\"}\n"
     ]
    }
   ],
   "source": [
    "test2 = list(read_files(test))\n",
    "print(*test2)"
   ]
  }
 ],
 "metadata": {
  "kernelspec": {
   "display_name": "base",
   "language": "python",
   "name": "python3"
  },
  "language_info": {
   "codemirror_mode": {
    "name": "ipython",
    "version": 3
   },
   "file_extension": ".py",
   "mimetype": "text/x-python",
   "name": "python",
   "nbconvert_exporter": "python",
   "pygments_lexer": "ipython3",
   "version": "3.11.4"
  }
 },
 "nbformat": 4,
 "nbformat_minor": 2
}
