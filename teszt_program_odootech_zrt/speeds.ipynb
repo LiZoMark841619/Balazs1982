{
 "cells": [
  {
   "cell_type": "code",
   "execution_count": 7,
   "metadata": {},
   "outputs": [
    {
     "name": "stdout",
     "output_type": "stream",
     "text": [
      "3.11.4 | packaged by Anaconda, Inc. | (main, Jul  5 2023, 13:38:37) [MSC v.1916 64 bit (AMD64)]\n",
      "---------------------------------\n",
      "forLoop  : -0.00004 => [0...9999]\n",
      "---------------------------------\n",
      "listComp : -0.00053 => [0...9999]\n",
      "---------------------------------\n",
      "mapCall  : 0.00092 => [0...9999]\n",
      "---------------------------------\n",
      "genExpr  : 0.00029 => [0...9999]\n",
      "---------------------------------\n",
      "genFunc  : -0.00116 => [0...9999]\n"
     ]
    }
   ],
   "source": [
    "from runtime import timer # Import timer function\n",
    "import sys\n",
    "\n",
    "reps = 10000\n",
    "repslist = range(reps) # Hoist range out in 2.6\n",
    "def forLoop():  # sourcery skip: for-append-to-extend, list-comprehension\n",
    "    res = []\n",
    "    for x in repslist:\n",
    "        res.append(abs(x))\n",
    "    return res\n",
    "def listComp():\n",
    "    return [abs(x) for x in repslist]\n",
    "def mapCall():\n",
    "    return list(map(abs, repslist)) # Use list in 3.0 only\n",
    "def genExpr():  # sourcery skip: collection-builtin-to-comprehension\n",
    "    return list(abs(x) for x in repslist) # list forces results\n",
    "def genFunc():\n",
    "    def gen():\n",
    "        for x in repslist:\n",
    "            yield abs(x)\n",
    "    return list(gen())\n",
    "print(sys.version)\n",
    "\n",
    "for test in (forLoop, listComp, mapCall, genExpr, genFunc):\n",
    "    elapsed, result = timer(test)\n",
    "    print('-' * 33)\n",
    "    print('%-9s: %.5f => [%s...%s]' % (test.__name__, elapsed, result[0], result[-1]))"
   ]
  }
 ],
 "metadata": {
  "kernelspec": {
   "display_name": "base",
   "language": "python",
   "name": "python3"
  },
  "language_info": {
   "codemirror_mode": {
    "name": "ipython",
    "version": 3
   },
   "file_extension": ".py",
   "mimetype": "text/x-python",
   "name": "python",
   "nbconvert_exporter": "python",
   "pygments_lexer": "ipython3",
   "version": "3.11.4"
  }
 },
 "nbformat": 4,
 "nbformat_minor": 2
}
