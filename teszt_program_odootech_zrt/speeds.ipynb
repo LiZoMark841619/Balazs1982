{
 "cells": [
  {
   "cell_type": "code",
   "execution_count": 3,
   "metadata": {},
   "outputs": [
    {
     "name": "stdout",
     "output_type": "stream",
     "text": [
      "3.11.4 | packaged by Anaconda, Inc. | (main, Jul  5 2023, 13:38:37) [MSC v.1916 64 bit (AMD64)]\n",
      "---------------------------------\n",
      "forLoop  : 6.26324 => [0...99999]\n",
      "forLoop  : 0.00000 => [0...99999]\n",
      "---------------------------------\n",
      "listComp : 4.56975 => [0...99999]\n",
      "listComp  : 0.00000 => [0...99999]\n",
      "---------------------------------\n",
      "mapCall  : 4.15567 => [0...99999]\n",
      "mapCall  : 0.00000 => [0...99999]\n",
      "---------------------------------\n",
      "genExpr  : 6.55009 => [0...99999]\n",
      "genExpr  : 0.00000 => [0...99999]\n",
      "---------------------------------\n",
      "genFunc  : 7.25984 => [0...99999]\n",
      "genFunc  : 0.00000 => [0...99999]\n"
     ]
    }
   ],
   "source": [
    "from runtime import timer, best # Import timer function\n",
    "import sys\n",
    "\n",
    "reps = 100000\n",
    "repslist = range(reps) # Hoist range out in 2.6\n",
    "def forLoop():  # sourcery skip: for-append-to-extend, list-comprehension\n",
    "    res = []\n",
    "    for x in repslist:\n",
    "        res.append(abs(x))\n",
    "    return res\n",
    "def listComp():\n",
    "    return [abs(x) for x in repslist]\n",
    "def mapCall():\n",
    "    return list(map(abs, repslist)) # Use list in 3.0 only\n",
    "def genExpr():  # sourcery skip: collection-builtin-to-comprehension\n",
    "    return list(abs(x) for x in repslist) # list forces results\n",
    "def genFunc():\n",
    "    def gen():\n",
    "        for x in repslist:\n",
    "            yield abs(x)\n",
    "    return list(gen())\n",
    "print(sys.version)\n",
    "\n",
    "for test in (forLoop, listComp, mapCall, genExpr, genFunc):\n",
    "    elapsed, result = timer(test)\n",
    "    elaps, res = best(test)\n",
    "    print('-' * 33)\n",
    "    print('%-9s: %.5f => [%s...%s]' % (test.__name__, elapsed, result[0], result[-1]))\n",
    "    print(f'{test.__name__}  : {elaps:.5f} => [{res[0]}...{res[-1]}]')"
   ]
  },
  {
   "cell_type": "code",
   "execution_count": null,
   "metadata": {},
   "outputs": [],
   "source": []
  }
 ],
 "metadata": {
  "kernelspec": {
   "display_name": "base",
   "language": "python",
   "name": "python3"
  },
  "language_info": {
   "codemirror_mode": {
    "name": "ipython",
    "version": 3
   },
   "file_extension": ".py",
   "mimetype": "text/x-python",
   "name": "python",
   "nbconvert_exporter": "python",
   "pygments_lexer": "ipython3",
   "version": "3.11.4"
  }
 },
 "nbformat": 4,
 "nbformat_minor": 2
}
