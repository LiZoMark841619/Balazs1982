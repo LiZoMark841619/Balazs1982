{
 "cells": [
  {
   "cell_type": "code",
   "execution_count": 2,
   "id": "6cbb545a",
   "metadata": {},
   "outputs": [
    {
     "name": "stdout",
     "output_type": "stream",
     "text": [
      "BalArva\n",
      "aBalArv\n"
     ]
    }
   ],
   "source": [
    "def username_generator(first_name, last_name):\n",
    "  if (len(first_name) < 3) and (len(last_name) < 4):\n",
    "    user_name = first_name + last_name\n",
    "  elif (len(first_name) < 3) and (len(last_name) >= 4):\n",
    "    user_name = first_name + last_name[0:4]\n",
    "  elif (len(first_name) >= 3) and (len(last_name) < 4):\n",
    "    user_name = first_name[0:3] + last_name\n",
    "  else:\n",
    "    user_name = first_name[0:3] + last_name[0:4]\n",
    "  return user_name\n",
    "\n",
    "print(username_generator(\"Balazs\", \"Arva\"))\n",
    "\n",
    "def password_generator(user_name):\n",
    "  password = ''\n",
    "  for index in range(0, len(user_name)):\n",
    "    password += user_name[index-1]\n",
    "  return password\n",
    "print(password_generator(\"BalArva\"))"
   ]
  },
  {
   "cell_type": "code",
   "execution_count": null,
   "id": "a5508a31",
   "metadata": {},
   "outputs": [],
   "source": []
  }
 ],
 "metadata": {
  "kernelspec": {
   "display_name": "Python 3 (ipykernel)",
   "language": "python",
   "name": "python3"
  },
  "language_info": {
   "codemirror_mode": {
    "name": "ipython",
    "version": 3
   },
   "file_extension": ".py",
   "mimetype": "text/x-python",
   "name": "python",
   "nbconvert_exporter": "python",
   "pygments_lexer": "ipython3",
   "version": "3.10.9"
  }
 },
 "nbformat": 4,
 "nbformat_minor": 5
}
