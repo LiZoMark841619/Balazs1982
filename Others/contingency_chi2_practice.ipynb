{
 "cells": [
  {
   "cell_type": "code",
   "execution_count": 1,
   "id": "226b5e96",
   "metadata": {},
   "outputs": [
    {
     "name": "stdout",
     "output_type": "stream",
     "text": [
      "accep   acc  good  unacc  vgood\n",
      "safety                         \n",
      "high    204    30    277     65\n",
      "low       0     0    576      0\n",
      "med     180    39    357      0\n",
      "277\n",
      "479.3224398131512\n",
      "10.384780190165564\n"
     ]
    }
   ],
   "source": [
    "import numpy as np\n",
    "import pandas as pd\n",
    "from scipy.stats import chi2_contingency\n",
    "\n",
    "df = pd.read_csv('https://archive.ics.uci.edu/ml/machine-learning-databases/car/car.data', names=['buying', 'maint', 'doors', 'persons', 'lug_boot', 'safety', 'accep'])\n",
    "\n",
    "# Print contingency table for 'safety' and 'accep'\n",
    "data_crosstab = pd.crosstab(df.safety, df.accep, margins=False)\n",
    "print(data_crosstab)\n",
    "# Value of 'safety' corresponding to highest frequency for 'unacc'\n",
    "highest_freq_unacc = data_crosstab.unacc.loc['high']\n",
    "print(highest_freq_unacc)\n",
    "# Calculate chi-square statistic for association between 'safety' and 'accep'\n",
    "stat, p, dof, expected = chi2_contingency(data_crosstab)\n",
    "chi2_safety = stat\n",
    "print(chi2_safety)\n",
    "\n",
    "# Calculate chi-square statistic for association between 'doors' and 'accep'\n",
    "data_crosstab1 = pd.crosstab(df.doors, df.accep, margins=False)\n",
    "stat, p, dof, expected = chi2_contingency(data_crosstab1)\n",
    "chi2_doors = stat\n",
    "print(chi2_doors)\n",
    "#Which variable has a higher association with 'accep'?\n",
    "higher_association = 'safety'"
   ]
  },
  {
   "cell_type": "code",
   "execution_count": null,
   "id": "6a0666aa",
   "metadata": {},
   "outputs": [],
   "source": []
  }
 ],
 "metadata": {
  "kernelspec": {
   "display_name": "Python 3 (ipykernel)",
   "language": "python",
   "name": "python3"
  },
  "language_info": {
   "codemirror_mode": {
    "name": "ipython",
    "version": 3
   },
   "file_extension": ".py",
   "mimetype": "text/x-python",
   "name": "python",
   "nbconvert_exporter": "python",
   "pygments_lexer": "ipython3",
   "version": "3.10.9"
  }
 },
 "nbformat": 4,
 "nbformat_minor": 5
}
