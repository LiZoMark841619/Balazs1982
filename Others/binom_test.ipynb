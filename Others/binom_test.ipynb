{
 "cells": [
  {
   "cell_type": "code",
   "execution_count": 1,
   "id": "0a50b467",
   "metadata": {},
   "outputs": [
    {
     "name": "stdout",
     "output_type": "stream",
     "text": [
      "simulation p-value:  0.2583\n"
     ]
    }
   ],
   "source": [
    "import numpy as np\n",
    "import pandas as pd\n",
    "from scipy.stats import binom_test\n",
    "\n",
    "def simulation_binomial_test(observed_successes, n, p):\n",
    "  #initialize null_outcomes\n",
    "  null_outcomes = []\n",
    "  \n",
    "  #generate the simulated null distribution\n",
    "  for i in range(10000):\n",
    "    simulated_monthly_visitors = np.random.choice(['y', 'n'], size = n, p=[p, 1-p])\n",
    "    num_purchased = np.sum(simulated_monthly_visitors == 'y')\n",
    "    null_outcomes.append(num_purchased)\n",
    "\n",
    "  #calculate a 1-sided p-value\n",
    "  null_outcomes = np.array(null_outcomes)\n",
    "  p_value = np.sum(null_outcomes <= observed_successes)/len(null_outcomes) \n",
    "  \n",
    "  #return the p-value\n",
    "  return p_value\n",
    "\n",
    "#Test your function below by uncommenting the code below. You should see that your simulation function gives you a very similar answer to the binom_test function from scipy:\n",
    "\n",
    "p_value1 = simulation_binomial_test(45, 500, .1)\n",
    "print(\"simulation p-value: \", p_value1)\n",
    "\n",
    "#p_value2 = binom_test(45, 500, .1, alternative = 'less')\n",
    "#print(\"binom_test p-value: \", p_value2)\n"
   ]
  },
  {
   "cell_type": "code",
   "execution_count": 1,
   "id": "39b9838c",
   "metadata": {},
   "outputs": [
    {
     "ename": "ImportError",
     "evalue": "cannot import name 'binom_test' from 'scipy' (C:\\Users\\stank\\miniconda3\\lib\\site-packages\\scipy\\__init__.py)",
     "output_type": "error",
     "traceback": [
      "\u001b[1;31m---------------------------------------------------------------------------\u001b[0m",
      "\u001b[1;31mImportError\u001b[0m                               Traceback (most recent call last)",
      "Cell \u001b[1;32mIn[1], line 3\u001b[0m\n\u001b[0;32m      1\u001b[0m \u001b[38;5;28;01mimport\u001b[39;00m \u001b[38;5;21;01mnumpy\u001b[39;00m \u001b[38;5;28;01mas\u001b[39;00m \u001b[38;5;21;01mnp\u001b[39;00m\n\u001b[0;32m      2\u001b[0m \u001b[38;5;28;01mimport\u001b[39;00m \u001b[38;5;21;01mpandas\u001b[39;00m \u001b[38;5;28;01mas\u001b[39;00m \u001b[38;5;21;01mpd\u001b[39;00m\n\u001b[1;32m----> 3\u001b[0m \u001b[38;5;28;01mfrom\u001b[39;00m \u001b[38;5;21;01mscipy\u001b[39;00m \u001b[38;5;28;01mimport\u001b[39;00m binom_test\n\u001b[0;32m      5\u001b[0m \u001b[38;5;28;01mdef\u001b[39;00m \u001b[38;5;21msimulation_binomial_test\u001b[39m(observed_successes, n, p, alternative_hypothesis\u001b[38;5;241m=\u001b[39m\u001b[38;5;28;01mNone\u001b[39;00m):\n\u001b[0;32m      6\u001b[0m   \u001b[38;5;66;03m#initialize null_outcomes\u001b[39;00m\n\u001b[0;32m      7\u001b[0m   null_outcomes \u001b[38;5;241m=\u001b[39m []\n",
      "\u001b[1;31mImportError\u001b[0m: cannot import name 'binom_test' from 'scipy' (C:\\Users\\stank\\miniconda3\\lib\\site-packages\\scipy\\__init__.py)"
     ]
    }
   ],
   "source": [
    "import numpy as np\n",
    "import pandas as pd\n",
    "from scipy import binom_test\n",
    "\n",
    "def simulation_binomial_test(observed_successes, n, p, alternative_hypothesis=None):\n",
    "  #initialize null_outcomes\n",
    "  null_outcomes = []\n",
    "  \n",
    "  #generate the simulated null distribution\n",
    "  for i in range(10000):\n",
    "    simulated_monthly_visitors = np.random.choice(['y', 'n'], size=n, p=[p, 1-p])\n",
    "    num_purchased = np.sum(simulated_monthly_visitors == 'y')\n",
    "    null_outcomes.append(num_purchased)\n",
    "\n",
    "  #calculate a 1-sided p-value\n",
    "  null_outcomes = np.array(null_outcomes)\n",
    "  if alternative_hypothesis == 'less':\n",
    "    p_value = np.sum(null_outcomes <= observed_successes)/len(null_outcomes) \n",
    "  elif alternative_hypothesis == 'greater':\n",
    "    p_value = np.sum(null_outcomes >= observed_successes)/len(null_outcomes)\n",
    "  else:\n",
    "    diff = np.abs(p*n - observed_successes)\n",
    "    up = p*n + diff\n",
    "    down = p*n - diff\n",
    "    p_value = np.sum((null_outcomes <= down) | (null_outcomes >= up))/len(null_outcomes)\n",
    "  #return the p-value\n",
    "  return p_value\n",
    "test1 = simulation_binomial_test(41, 500, 0.1, 'less')\n",
    "print(test1)\n",
    "test2 = simulation_binomial_test(41, 500, 0.1, 'greater')\n",
    "print(test2)\n",
    "test3 = simulation_binomial_test(41, 500, 0.1)\n",
    "print(test3)\n"
   ]
  },
  {
   "cell_type": "code",
   "execution_count": 6,
   "id": "c7d3fff6",
   "metadata": {},
   "outputs": [
    {
     "name": "stderr",
     "output_type": "stream",
     "text": [
      "C:\\Users\\stank\\AppData\\Local\\Temp\\ipykernel_17596\\900894303.py:1: DeprecationWarning: 'binom_test' is deprecated in favour of 'binomtest' from version 1.7.0 and will be removed in Scipy 1.12.0.\n",
      "  binom_test(41, 500, 0.1)\n"
     ]
    },
    {
     "data": {
      "text/plain": [
       "0.2045639770068255"
      ]
     },
     "execution_count": 6,
     "metadata": {},
     "output_type": "execute_result"
    }
   ],
   "source": [
    "binom_test(41, 500, 0.1)"
   ]
  },
  {
   "cell_type": "code",
   "execution_count": null,
   "id": "f7c070eb",
   "metadata": {},
   "outputs": [],
   "source": []
  }
 ],
 "metadata": {
  "kernelspec": {
   "display_name": "Python 3 (ipykernel)",
   "language": "python",
   "name": "python3"
  },
  "language_info": {
   "codemirror_mode": {
    "name": "ipython",
    "version": 3
   },
   "file_extension": ".py",
   "mimetype": "text/x-python",
   "name": "python",
   "nbconvert_exporter": "python",
   "pygments_lexer": "ipython3",
   "version": "3.10.9"
  }
 },
 "nbformat": 4,
 "nbformat_minor": 5
}
