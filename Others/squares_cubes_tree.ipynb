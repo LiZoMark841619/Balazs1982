{
 "cells": [
  {
   "cell_type": "code",
   "execution_count": 1,
   "metadata": {},
   "outputs": [
    {
     "name": "stdout",
     "output_type": "stream",
     "text": [
      "0\n",
      "[0]\n",
      "1\n",
      "[0, 1]\n",
      "2\n",
      "[0, 1, 4]\n",
      "3\n",
      "[0, 1, 4, 9]\n",
      "4\n",
      "[0, 1, 4, 9, 16]\n",
      "5\n",
      "[0, 1, 4, 9, 16, 25]\n",
      "6\n",
      "[0, 1, 4, 9, 16, 25, 36]\n",
      "7\n",
      "[0, 1, 4, 9, 16, 25, 36, 49]\n",
      "8\n",
      "[0, 1, 4, 9, 16, 25, 36, 49, 64]\n",
      "9\n",
      "[0, 1, 4, 9, 16, 25, 36, 49, 64, 81]\n",
      "10\n",
      "[0, 1, 4, 9, 16, 25, 36, 49, 64, 81, 100]\n",
      "11\n",
      "[0, 1, 4, 9, 16, 25, 36, 49, 64, 81, 100, 121]\n",
      "12\n",
      "[0, 1, 4, 9, 16, 25, 36, 49, 64, 81, 100, 121, 144]\n",
      "13\n",
      "[0, 1, 4, 9, 16, 25, 36, 49, 64, 81, 100, 121, 144, 169]\n",
      "14\n",
      "[0, 1, 4, 9, 16, 25, 36, 49, 64, 81, 100, 121, 144, 169, 196]\n"
     ]
    }
   ],
   "source": [
    "single_digits = range(0, 15)\n",
    "squares = []\n",
    "for i in single_digits:\n",
    "  print(i)\n",
    "  squares.append(i ** 2)\n",
    "  print(squares)\n",
    "#print(squares)\n",
    "cubes = [i ** 3 for i in single_digits]\n",
    "#print(cubes)"
   ]
  },
  {
   "cell_type": "code",
   "execution_count": null,
   "metadata": {},
   "outputs": [],
   "source": []
  }
 ],
 "metadata": {
  "kernelspec": {
   "display_name": "Python 3 (ipykernel)",
   "language": "python",
   "name": "python3"
  },
  "language_info": {
   "codemirror_mode": {
    "name": "ipython",
    "version": 3
   },
   "file_extension": ".py",
   "mimetype": "text/x-python",
   "name": "python",
   "nbconvert_exporter": "python",
   "pygments_lexer": "ipython3",
   "version": "3.10.9"
  }
 },
 "nbformat": 4,
 "nbformat_minor": 4
}
