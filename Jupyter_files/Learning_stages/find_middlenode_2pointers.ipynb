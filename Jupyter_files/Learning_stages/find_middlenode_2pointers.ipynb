{
 "cells": [
  {
   "cell_type": "code",
   "execution_count": 1,
   "id": "eda60507",
   "metadata": {},
   "outputs": [
    {
     "ename": "ModuleNotFoundError",
     "evalue": "No module named 'LinkedList'",
     "output_type": "error",
     "traceback": [
      "\u001b[0;31m---------------------------------------------------------------------------\u001b[0m",
      "\u001b[0;31mModuleNotFoundError\u001b[0m                       Traceback (most recent call last)",
      "Cell \u001b[0;32mIn[1], line 1\u001b[0m\n\u001b[0;32m----> 1\u001b[0m \u001b[39mfrom\u001b[39;00m \u001b[39mLinkedList\u001b[39;00m \u001b[39mimport\u001b[39;00m LinkedList\n\u001b[1;32m      2\u001b[0m \u001b[39mdef\u001b[39;00m \u001b[39mfind_middle\u001b[39m(linked_list):\n\u001b[1;32m      3\u001b[0m   fast \u001b[39m=\u001b[39m linked_list\u001b[39m.\u001b[39mhead_node\n",
      "\u001b[0;31mModuleNotFoundError\u001b[0m: No module named 'LinkedList'"
     ]
    }
   ],
   "source": [
    "from LinkedList import LinkedList\n",
    "def find_middle(linked_list):\n",
    "  fast = linked_list.head_node\n",
    "  slow = linked_list.head_node\n",
    "  while fast:\n",
    "    fast = fast.get_next_node()\n",
    "    if fast:\n",
    "      fast = fast.get_next_node()\n",
    "      slow = slow.get_next_node()\n",
    "  return slow\n",
    "\n",
    "def generate_test_linked_list(length):\n",
    "  linked_list = LinkedList()\n",
    "  for i in range(length, 0, -1):\n",
    "    linked_list.insert_beginning(i)\n",
    "  return linked_list\n",
    "\n",
    "# Use this to test your code:\n",
    "test_list = generate_test_linked_list(7)\n",
    "print(test_list.stringify_list())\n",
    "middle_node = find_middle(test_list)\n",
    "print(middle_node.value)"
   ]
  },
  {
   "cell_type": "code",
   "execution_count": null,
   "id": "c2f4431c",
   "metadata": {},
   "outputs": [],
   "source": []
  },
  {
   "cell_type": "code",
   "execution_count": null,
   "id": "ff51564c",
   "metadata": {},
   "outputs": [],
   "source": []
  }
 ],
 "metadata": {
  "kernelspec": {
   "display_name": "Python 3 (ipykernel)",
   "language": "python",
   "name": "python3"
  },
  "language_info": {
   "codemirror_mode": {
    "name": "ipython",
    "version": 3
   },
   "file_extension": ".py",
   "mimetype": "text/x-python",
   "name": "python",
   "nbconvert_exporter": "python",
   "pygments_lexer": "ipython3",
   "version": "3.10.4"
  }
 },
 "nbformat": 4,
 "nbformat_minor": 5
}
