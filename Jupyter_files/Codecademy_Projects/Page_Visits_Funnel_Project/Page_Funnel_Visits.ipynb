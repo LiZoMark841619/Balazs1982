{
 "cells": [
  {
   "cell_type": "code",
   "execution_count": 87,
   "metadata": {},
   "outputs": [],
   "source": [
    "import pandas as pd"
   ]
  },
  {
   "attachments": {},
   "cell_type": "markdown",
   "metadata": {},
   "source": [
    "Import all the files"
   ]
  },
  {
   "cell_type": "code",
   "execution_count": 88,
   "metadata": {},
   "outputs": [],
   "source": [
    "visits = pd.read_csv('visits.csv',\n",
    "                     parse_dates=[1])\n",
    "cart = pd.read_csv('cart.csv',\n",
    "                   parse_dates=[1])\n",
    "                   \n",
    "checkout = pd.read_csv('checkout.csv',\n",
    "                       parse_dates=[1])\n",
    "purchase = pd.read_csv('purchase.csv',\n",
    "                       parse_dates=[1])"
   ]
  },
  {
   "attachments": {},
   "cell_type": "markdown",
   "metadata": {},
   "source": [
    "Step 1: Inspect the DataFrames using `print` and `head`"
   ]
  },
  {
   "cell_type": "code",
   "execution_count": 89,
   "metadata": {
    "scrolled": true
   },
   "outputs": [
    {
     "name": "stdout",
     "output_type": "stream",
     "text": [
      "                                user_id          visit_time\n",
      "0  943647ef-3682-4750-a2e1-918ba6f16188 2017-04-07 15:14:00\n",
      "1  0c3a3dd0-fb64-4eac-bf84-ba069ce409f2 2017-01-26 14:24:00\n",
      "2  6e0b2d60-4027-4d9a-babd-0e7d40859fb1 2017-08-20 08:23:00\n",
      "3  6879527e-c5a6-4d14-b2da-50b85212b0ab 2017-11-04 18:15:00\n",
      "4  a84327ff-5daa-4ba1-b789-d5b4caf81e96 2017-02-27 11:25:00\n",
      "                                user_id           cart_time\n",
      "0  2be90e7c-9cca-44e0-bcc5-124b945ff168 2017-11-07 20:45:00\n",
      "1  4397f73f-1da3-4ab3-91af-762792e25973 2017-05-27 01:35:00\n",
      "2  a9db3d4b-0a0a-4398-a55a-ebb2c7adf663 2017-03-04 10:38:00\n",
      "3  b594862a-36c5-47d5-b818-6e9512b939b3 2017-09-27 08:22:00\n",
      "4  a68a16e2-94f0-4ce8-8ce3-784af0bbb974 2017-07-26 15:48:00\n",
      "                                user_id       checkout_time\n",
      "0  d33bdc47-4afa-45bc-b4e4-dbe948e34c0d 2017-06-25 09:29:00\n",
      "1  4ac186f0-9954-4fea-8a27-c081e428e34e 2017-04-07 20:11:00\n",
      "2  3c9c78a7-124a-4b77-8d2e-e1926e011e7d 2017-07-13 11:38:00\n",
      "3  89fe330a-8966-4756-8f7c-3bdbcd47279a 2017-04-20 16:15:00\n",
      "4  3ccdaf69-2d30-40de-b083-51372881aedd 2017-01-08 20:52:00\n",
      "                                user_id       purchase_time\n",
      "0  4b44ace4-2721-47a0-b24b-15fbfa2abf85 2017-05-11 04:25:00\n",
      "1  02e684ae-a448-408f-a9ff-dcb4a5c99aac 2017-09-05 08:45:00\n",
      "2  4b4bc391-749e-4b90-ab8f-4f6e3c84d6dc 2017-11-20 20:49:00\n",
      "3  a5dbb25f-3c36-4103-9030-9f7c6241cd8d 2017-01-22 15:18:00\n",
      "4  46a3186d-7f5a-4ab9-87af-84d05bfd4867 2017-06-11 11:32:00\n"
     ]
    }
   ],
   "source": [
    "print(visits.head(5))\n",
    "print(cart.head(5))\n",
    "print(checkout.head(5))\n",
    "print(purchase.head(5))"
   ]
  },
  {
   "attachments": {},
   "cell_type": "markdown",
   "metadata": {},
   "source": [
    "Step 2: Left merging visits and cart"
   ]
  },
  {
   "cell_type": "code",
   "execution_count": 90,
   "metadata": {},
   "outputs": [],
   "source": [
    "df1 = visits.merge(cart, how='left')"
   ]
  },
  {
   "cell_type": "code",
   "execution_count": 91,
   "metadata": {},
   "outputs": [
    {
     "data": {
      "text/plain": [
       "348"
      ]
     },
     "execution_count": 91,
     "metadata": {},
     "output_type": "execute_result"
    }
   ],
   "source": [
    "len(cart)"
   ]
  },
  {
   "cell_type": "code",
   "execution_count": 92,
   "metadata": {},
   "outputs": [
    {
     "data": {
      "text/html": [
       "<div>\n",
       "<style scoped>\n",
       "    .dataframe tbody tr th:only-of-type {\n",
       "        vertical-align: middle;\n",
       "    }\n",
       "\n",
       "    .dataframe tbody tr th {\n",
       "        vertical-align: top;\n",
       "    }\n",
       "\n",
       "    .dataframe thead th {\n",
       "        text-align: right;\n",
       "    }\n",
       "</style>\n",
       "<table border=\"1\" class=\"dataframe\">\n",
       "  <thead>\n",
       "    <tr style=\"text-align: right;\">\n",
       "      <th></th>\n",
       "      <th>user_id</th>\n",
       "      <th>visit_time</th>\n",
       "      <th>cart_time</th>\n",
       "    </tr>\n",
       "  </thead>\n",
       "  <tbody>\n",
       "    <tr>\n",
       "      <th>0</th>\n",
       "      <td>943647ef-3682-4750-a2e1-918ba6f16188</td>\n",
       "      <td>2017-04-07 15:14:00</td>\n",
       "      <td>NaT</td>\n",
       "    </tr>\n",
       "    <tr>\n",
       "      <th>1</th>\n",
       "      <td>0c3a3dd0-fb64-4eac-bf84-ba069ce409f2</td>\n",
       "      <td>2017-01-26 14:24:00</td>\n",
       "      <td>2017-01-26 14:44:00</td>\n",
       "    </tr>\n",
       "    <tr>\n",
       "      <th>2</th>\n",
       "      <td>6e0b2d60-4027-4d9a-babd-0e7d40859fb1</td>\n",
       "      <td>2017-08-20 08:23:00</td>\n",
       "      <td>2017-08-20 08:31:00</td>\n",
       "    </tr>\n",
       "    <tr>\n",
       "      <th>3</th>\n",
       "      <td>6879527e-c5a6-4d14-b2da-50b85212b0ab</td>\n",
       "      <td>2017-11-04 18:15:00</td>\n",
       "      <td>NaT</td>\n",
       "    </tr>\n",
       "    <tr>\n",
       "      <th>4</th>\n",
       "      <td>a84327ff-5daa-4ba1-b789-d5b4caf81e96</td>\n",
       "      <td>2017-02-27 11:25:00</td>\n",
       "      <td>NaT</td>\n",
       "    </tr>\n",
       "  </tbody>\n",
       "</table>\n",
       "</div>"
      ],
      "text/plain": [
       "                                user_id          visit_time  \\\n",
       "0  943647ef-3682-4750-a2e1-918ba6f16188 2017-04-07 15:14:00   \n",
       "1  0c3a3dd0-fb64-4eac-bf84-ba069ce409f2 2017-01-26 14:24:00   \n",
       "2  6e0b2d60-4027-4d9a-babd-0e7d40859fb1 2017-08-20 08:23:00   \n",
       "3  6879527e-c5a6-4d14-b2da-50b85212b0ab 2017-11-04 18:15:00   \n",
       "4  a84327ff-5daa-4ba1-b789-d5b4caf81e96 2017-02-27 11:25:00   \n",
       "\n",
       "            cart_time  \n",
       "0                 NaT  \n",
       "1 2017-01-26 14:44:00  \n",
       "2 2017-08-20 08:31:00  \n",
       "3                 NaT  \n",
       "4                 NaT  "
      ]
     },
     "execution_count": 92,
     "metadata": {},
     "output_type": "execute_result"
    }
   ],
   "source": [
    "df1.head()"
   ]
  },
  {
   "attachments": {},
   "cell_type": "markdown",
   "metadata": {},
   "source": [
    "Step 3: How long is `visits_cart`?"
   ]
  },
  {
   "cell_type": "code",
   "execution_count": 93,
   "metadata": {},
   "outputs": [
    {
     "data": {
      "text/plain": [
       "2000"
      ]
     },
     "execution_count": 93,
     "metadata": {},
     "output_type": "execute_result"
    }
   ],
   "source": [
    "len(df1)"
   ]
  },
  {
   "attachments": {},
   "cell_type": "markdown",
   "metadata": {},
   "source": [
    "Step 4: How many timestamps are null for `cart_time`?"
   ]
  },
  {
   "cell_type": "code",
   "execution_count": 94,
   "metadata": {},
   "outputs": [],
   "source": [
    "cart_time_null = df1[df1.cart_time.isnull()]"
   ]
  },
  {
   "cell_type": "code",
   "execution_count": 95,
   "metadata": {},
   "outputs": [
    {
     "data": {
      "text/plain": [
       "1652"
      ]
     },
     "execution_count": 95,
     "metadata": {},
     "output_type": "execute_result"
    }
   ],
   "source": [
    "len(cart_time_null)"
   ]
  },
  {
   "cell_type": "code",
   "execution_count": 96,
   "metadata": {},
   "outputs": [
    {
     "data": {
      "text/html": [
       "<div>\n",
       "<style scoped>\n",
       "    .dataframe tbody tr th:only-of-type {\n",
       "        vertical-align: middle;\n",
       "    }\n",
       "\n",
       "    .dataframe tbody tr th {\n",
       "        vertical-align: top;\n",
       "    }\n",
       "\n",
       "    .dataframe thead th {\n",
       "        text-align: right;\n",
       "    }\n",
       "</style>\n",
       "<table border=\"1\" class=\"dataframe\">\n",
       "  <thead>\n",
       "    <tr style=\"text-align: right;\">\n",
       "      <th></th>\n",
       "      <th>user_id</th>\n",
       "      <th>visit_time</th>\n",
       "      <th>cart_time</th>\n",
       "    </tr>\n",
       "  </thead>\n",
       "  <tbody>\n",
       "    <tr>\n",
       "      <th>0</th>\n",
       "      <td>943647ef-3682-4750-a2e1-918ba6f16188</td>\n",
       "      <td>2017-04-07 15:14:00</td>\n",
       "      <td>NaT</td>\n",
       "    </tr>\n",
       "    <tr>\n",
       "      <th>3</th>\n",
       "      <td>6879527e-c5a6-4d14-b2da-50b85212b0ab</td>\n",
       "      <td>2017-11-04 18:15:00</td>\n",
       "      <td>NaT</td>\n",
       "    </tr>\n",
       "    <tr>\n",
       "      <th>4</th>\n",
       "      <td>a84327ff-5daa-4ba1-b789-d5b4caf81e96</td>\n",
       "      <td>2017-02-27 11:25:00</td>\n",
       "      <td>NaT</td>\n",
       "    </tr>\n",
       "    <tr>\n",
       "      <th>5</th>\n",
       "      <td>7bc62113-d51d-4e6b-85e0-1cf29e3de74a</td>\n",
       "      <td>2017-06-03 20:05:00</td>\n",
       "      <td>NaT</td>\n",
       "    </tr>\n",
       "    <tr>\n",
       "      <th>6</th>\n",
       "      <td>6f22cd44-bc63-4449-a9af-2651859da2f9</td>\n",
       "      <td>2017-03-18 23:09:00</td>\n",
       "      <td>NaT</td>\n",
       "    </tr>\n",
       "  </tbody>\n",
       "</table>\n",
       "</div>"
      ],
      "text/plain": [
       "                                user_id          visit_time cart_time\n",
       "0  943647ef-3682-4750-a2e1-918ba6f16188 2017-04-07 15:14:00       NaT\n",
       "3  6879527e-c5a6-4d14-b2da-50b85212b0ab 2017-11-04 18:15:00       NaT\n",
       "4  a84327ff-5daa-4ba1-b789-d5b4caf81e96 2017-02-27 11:25:00       NaT\n",
       "5  7bc62113-d51d-4e6b-85e0-1cf29e3de74a 2017-06-03 20:05:00       NaT\n",
       "6  6f22cd44-bc63-4449-a9af-2651859da2f9 2017-03-18 23:09:00       NaT"
      ]
     },
     "execution_count": 96,
     "metadata": {},
     "output_type": "execute_result"
    }
   ],
   "source": [
    "cart_time_null.head(5)"
   ]
  },
  {
   "cell_type": "code",
   "execution_count": 97,
   "metadata": {},
   "outputs": [],
   "source": [
    "not_cart_percent = len(cart_time_null) / len(df1)*100"
   ]
  },
  {
   "cell_type": "code",
   "execution_count": 98,
   "metadata": {},
   "outputs": [
    {
     "name": "stdout",
     "output_type": "stream",
     "text": [
      "82.6%\n"
     ]
    }
   ],
   "source": [
    "print(f'{not_cart_percent:.1f}%')"
   ]
  },
  {
   "attachments": {},
   "cell_type": "markdown",
   "metadata": {},
   "source": [
    "Step 6: What percentage placed a t-shirt in their cart but did not checkout?"
   ]
  },
  {
   "cell_type": "code",
   "execution_count": 99,
   "metadata": {},
   "outputs": [],
   "source": [
    "df2 = cart.merge(checkout, how='left')"
   ]
  },
  {
   "cell_type": "code",
   "execution_count": 100,
   "metadata": {},
   "outputs": [
    {
     "data": {
      "text/html": [
       "<div>\n",
       "<style scoped>\n",
       "    .dataframe tbody tr th:only-of-type {\n",
       "        vertical-align: middle;\n",
       "    }\n",
       "\n",
       "    .dataframe tbody tr th {\n",
       "        vertical-align: top;\n",
       "    }\n",
       "\n",
       "    .dataframe thead th {\n",
       "        text-align: right;\n",
       "    }\n",
       "</style>\n",
       "<table border=\"1\" class=\"dataframe\">\n",
       "  <thead>\n",
       "    <tr style=\"text-align: right;\">\n",
       "      <th></th>\n",
       "      <th>user_id</th>\n",
       "      <th>cart_time</th>\n",
       "      <th>checkout_time</th>\n",
       "    </tr>\n",
       "  </thead>\n",
       "  <tbody>\n",
       "    <tr>\n",
       "      <th>0</th>\n",
       "      <td>2be90e7c-9cca-44e0-bcc5-124b945ff168</td>\n",
       "      <td>2017-11-07 20:45:00</td>\n",
       "      <td>2017-11-07 21:14:00</td>\n",
       "    </tr>\n",
       "    <tr>\n",
       "      <th>1</th>\n",
       "      <td>4397f73f-1da3-4ab3-91af-762792e25973</td>\n",
       "      <td>2017-05-27 01:35:00</td>\n",
       "      <td>NaT</td>\n",
       "    </tr>\n",
       "    <tr>\n",
       "      <th>2</th>\n",
       "      <td>a9db3d4b-0a0a-4398-a55a-ebb2c7adf663</td>\n",
       "      <td>2017-03-04 10:38:00</td>\n",
       "      <td>2017-03-04 11:04:00</td>\n",
       "    </tr>\n",
       "    <tr>\n",
       "      <th>3</th>\n",
       "      <td>b594862a-36c5-47d5-b818-6e9512b939b3</td>\n",
       "      <td>2017-09-27 08:22:00</td>\n",
       "      <td>2017-09-27 08:26:00</td>\n",
       "    </tr>\n",
       "    <tr>\n",
       "      <th>4</th>\n",
       "      <td>a68a16e2-94f0-4ce8-8ce3-784af0bbb974</td>\n",
       "      <td>2017-07-26 15:48:00</td>\n",
       "      <td>NaT</td>\n",
       "    </tr>\n",
       "  </tbody>\n",
       "</table>\n",
       "</div>"
      ],
      "text/plain": [
       "                                user_id           cart_time  \\\n",
       "0  2be90e7c-9cca-44e0-bcc5-124b945ff168 2017-11-07 20:45:00   \n",
       "1  4397f73f-1da3-4ab3-91af-762792e25973 2017-05-27 01:35:00   \n",
       "2  a9db3d4b-0a0a-4398-a55a-ebb2c7adf663 2017-03-04 10:38:00   \n",
       "3  b594862a-36c5-47d5-b818-6e9512b939b3 2017-09-27 08:22:00   \n",
       "4  a68a16e2-94f0-4ce8-8ce3-784af0bbb974 2017-07-26 15:48:00   \n",
       "\n",
       "        checkout_time  \n",
       "0 2017-11-07 21:14:00  \n",
       "1                 NaT  \n",
       "2 2017-03-04 11:04:00  \n",
       "3 2017-09-27 08:26:00  \n",
       "4                 NaT  "
      ]
     },
     "execution_count": 100,
     "metadata": {},
     "output_type": "execute_result"
    }
   ],
   "source": [
    "df2.head()"
   ]
  },
  {
   "cell_type": "code",
   "execution_count": 101,
   "metadata": {},
   "outputs": [],
   "source": [
    "checkout_isnull = df2[df2.checkout_time.isnull()]"
   ]
  },
  {
   "cell_type": "code",
   "execution_count": 102,
   "metadata": {},
   "outputs": [
    {
     "data": {
      "text/html": [
       "<div>\n",
       "<style scoped>\n",
       "    .dataframe tbody tr th:only-of-type {\n",
       "        vertical-align: middle;\n",
       "    }\n",
       "\n",
       "    .dataframe tbody tr th {\n",
       "        vertical-align: top;\n",
       "    }\n",
       "\n",
       "    .dataframe thead th {\n",
       "        text-align: right;\n",
       "    }\n",
       "</style>\n",
       "<table border=\"1\" class=\"dataframe\">\n",
       "  <thead>\n",
       "    <tr style=\"text-align: right;\">\n",
       "      <th></th>\n",
       "      <th>user_id</th>\n",
       "      <th>cart_time</th>\n",
       "      <th>checkout_time</th>\n",
       "    </tr>\n",
       "  </thead>\n",
       "  <tbody>\n",
       "    <tr>\n",
       "      <th>1</th>\n",
       "      <td>4397f73f-1da3-4ab3-91af-762792e25973</td>\n",
       "      <td>2017-05-27 01:35:00</td>\n",
       "      <td>NaT</td>\n",
       "    </tr>\n",
       "    <tr>\n",
       "      <th>4</th>\n",
       "      <td>a68a16e2-94f0-4ce8-8ce3-784af0bbb974</td>\n",
       "      <td>2017-07-26 15:48:00</td>\n",
       "      <td>NaT</td>\n",
       "    </tr>\n",
       "    <tr>\n",
       "      <th>10</th>\n",
       "      <td>fd80ce93-ae6e-4c0b-9ea4-561f84152026</td>\n",
       "      <td>2017-06-07 01:18:00</td>\n",
       "      <td>NaT</td>\n",
       "    </tr>\n",
       "    <tr>\n",
       "      <th>19</th>\n",
       "      <td>48a23075-694b-417d-8449-9df921ad95aa</td>\n",
       "      <td>2017-07-09 15:28:00</td>\n",
       "      <td>NaT</td>\n",
       "    </tr>\n",
       "    <tr>\n",
       "      <th>21</th>\n",
       "      <td>5d7d121a-817c-4b84-b4d6-5388092b9aec</td>\n",
       "      <td>2017-06-10 14:54:00</td>\n",
       "      <td>NaT</td>\n",
       "    </tr>\n",
       "  </tbody>\n",
       "</table>\n",
       "</div>"
      ],
      "text/plain": [
       "                                 user_id           cart_time checkout_time\n",
       "1   4397f73f-1da3-4ab3-91af-762792e25973 2017-05-27 01:35:00           NaT\n",
       "4   a68a16e2-94f0-4ce8-8ce3-784af0bbb974 2017-07-26 15:48:00           NaT\n",
       "10  fd80ce93-ae6e-4c0b-9ea4-561f84152026 2017-06-07 01:18:00           NaT\n",
       "19  48a23075-694b-417d-8449-9df921ad95aa 2017-07-09 15:28:00           NaT\n",
       "21  5d7d121a-817c-4b84-b4d6-5388092b9aec 2017-06-10 14:54:00           NaT"
      ]
     },
     "execution_count": 102,
     "metadata": {},
     "output_type": "execute_result"
    }
   ],
   "source": [
    "checkout_isnull.head()"
   ]
  },
  {
   "cell_type": "code",
   "execution_count": 103,
   "metadata": {},
   "outputs": [],
   "source": [
    "not_checkout_percent = len(checkout_isnull) / len(df2)*100"
   ]
  },
  {
   "cell_type": "code",
   "execution_count": 104,
   "metadata": {},
   "outputs": [
    {
     "name": "stdout",
     "output_type": "stream",
     "text": [
      "35.06%\n"
     ]
    }
   ],
   "source": [
    "print(f'{not_checkout_percent:.2f}%')"
   ]
  },
  {
   "attachments": {},
   "cell_type": "markdown",
   "metadata": {},
   "source": [
    "Step 7: Merge it all together"
   ]
  },
  {
   "cell_type": "code",
   "execution_count": 105,
   "metadata": {},
   "outputs": [],
   "source": [
    "df3 = df1.merge(df2, how='left').merge(purchase, how='left')"
   ]
  },
  {
   "cell_type": "code",
   "execution_count": 106,
   "metadata": {},
   "outputs": [
    {
     "data": {
      "text/html": [
       "<div>\n",
       "<style scoped>\n",
       "    .dataframe tbody tr th:only-of-type {\n",
       "        vertical-align: middle;\n",
       "    }\n",
       "\n",
       "    .dataframe tbody tr th {\n",
       "        vertical-align: top;\n",
       "    }\n",
       "\n",
       "    .dataframe thead th {\n",
       "        text-align: right;\n",
       "    }\n",
       "</style>\n",
       "<table border=\"1\" class=\"dataframe\">\n",
       "  <thead>\n",
       "    <tr style=\"text-align: right;\">\n",
       "      <th></th>\n",
       "      <th>user_id</th>\n",
       "      <th>visit_time</th>\n",
       "      <th>cart_time</th>\n",
       "      <th>checkout_time</th>\n",
       "      <th>purchase_time</th>\n",
       "    </tr>\n",
       "  </thead>\n",
       "  <tbody>\n",
       "    <tr>\n",
       "      <th>0</th>\n",
       "      <td>943647ef-3682-4750-a2e1-918ba6f16188</td>\n",
       "      <td>2017-04-07 15:14:00</td>\n",
       "      <td>NaT</td>\n",
       "      <td>NaT</td>\n",
       "      <td>NaT</td>\n",
       "    </tr>\n",
       "    <tr>\n",
       "      <th>1</th>\n",
       "      <td>0c3a3dd0-fb64-4eac-bf84-ba069ce409f2</td>\n",
       "      <td>2017-01-26 14:24:00</td>\n",
       "      <td>2017-01-26 14:44:00</td>\n",
       "      <td>2017-01-26 14:54:00</td>\n",
       "      <td>2017-01-26 15:08:00</td>\n",
       "    </tr>\n",
       "    <tr>\n",
       "      <th>2</th>\n",
       "      <td>6e0b2d60-4027-4d9a-babd-0e7d40859fb1</td>\n",
       "      <td>2017-08-20 08:23:00</td>\n",
       "      <td>2017-08-20 08:31:00</td>\n",
       "      <td>NaT</td>\n",
       "      <td>NaT</td>\n",
       "    </tr>\n",
       "    <tr>\n",
       "      <th>3</th>\n",
       "      <td>6879527e-c5a6-4d14-b2da-50b85212b0ab</td>\n",
       "      <td>2017-11-04 18:15:00</td>\n",
       "      <td>NaT</td>\n",
       "      <td>NaT</td>\n",
       "      <td>NaT</td>\n",
       "    </tr>\n",
       "    <tr>\n",
       "      <th>4</th>\n",
       "      <td>a84327ff-5daa-4ba1-b789-d5b4caf81e96</td>\n",
       "      <td>2017-02-27 11:25:00</td>\n",
       "      <td>NaT</td>\n",
       "      <td>NaT</td>\n",
       "      <td>NaT</td>\n",
       "    </tr>\n",
       "  </tbody>\n",
       "</table>\n",
       "</div>"
      ],
      "text/plain": [
       "                                user_id          visit_time  \\\n",
       "0  943647ef-3682-4750-a2e1-918ba6f16188 2017-04-07 15:14:00   \n",
       "1  0c3a3dd0-fb64-4eac-bf84-ba069ce409f2 2017-01-26 14:24:00   \n",
       "2  6e0b2d60-4027-4d9a-babd-0e7d40859fb1 2017-08-20 08:23:00   \n",
       "3  6879527e-c5a6-4d14-b2da-50b85212b0ab 2017-11-04 18:15:00   \n",
       "4  a84327ff-5daa-4ba1-b789-d5b4caf81e96 2017-02-27 11:25:00   \n",
       "\n",
       "            cart_time       checkout_time       purchase_time  \n",
       "0                 NaT                 NaT                 NaT  \n",
       "1 2017-01-26 14:44:00 2017-01-26 14:54:00 2017-01-26 15:08:00  \n",
       "2 2017-08-20 08:31:00                 NaT                 NaT  \n",
       "3                 NaT                 NaT                 NaT  \n",
       "4                 NaT                 NaT                 NaT  "
      ]
     },
     "execution_count": 106,
     "metadata": {},
     "output_type": "execute_result"
    }
   ],
   "source": [
    "df3.head()"
   ]
  },
  {
   "attachments": {},
   "cell_type": "markdown",
   "metadata": {},
   "source": [
    "Step 8: % of users who got to checkout but did not purchase"
   ]
  },
  {
   "cell_type": "code",
   "execution_count": 107,
   "metadata": {},
   "outputs": [],
   "source": [
    "check_out_notnull = df3[~df3.checkout_time.isnull()]"
   ]
  },
  {
   "cell_type": "code",
   "execution_count": 108,
   "metadata": {},
   "outputs": [],
   "source": [
    "a = len(check_out_notnull)"
   ]
  },
  {
   "cell_type": "code",
   "execution_count": 109,
   "metadata": {},
   "outputs": [
    {
     "data": {
      "text/plain": [
       "334"
      ]
     },
     "execution_count": 109,
     "metadata": {},
     "output_type": "execute_result"
    }
   ],
   "source": [
    "a"
   ]
  },
  {
   "cell_type": "code",
   "execution_count": 110,
   "metadata": {},
   "outputs": [],
   "source": [
    "checkout_notpurchase = df3[~df3.checkout_time.isnull() & df3.purchase_time.isnull()]"
   ]
  },
  {
   "cell_type": "code",
   "execution_count": 111,
   "metadata": {},
   "outputs": [],
   "source": [
    "b = len(checkout_notpurchase)"
   ]
  },
  {
   "cell_type": "code",
   "execution_count": 112,
   "metadata": {},
   "outputs": [
    {
     "data": {
      "text/plain": [
       "82"
      ]
     },
     "execution_count": 112,
     "metadata": {},
     "output_type": "execute_result"
    }
   ],
   "source": [
    "b"
   ]
  },
  {
   "cell_type": "code",
   "execution_count": 113,
   "metadata": {},
   "outputs": [],
   "source": [
    "not_purchase_percent = b/a*100"
   ]
  },
  {
   "cell_type": "code",
   "execution_count": 114,
   "metadata": {},
   "outputs": [
    {
     "name": "stdout",
     "output_type": "stream",
     "text": [
      "24.55%\n"
     ]
    }
   ],
   "source": [
    "print(f'{not_purchase_percent:.2f}%')"
   ]
  },
  {
   "attachments": {},
   "cell_type": "markdown",
   "metadata": {},
   "source": [
    "Step 9: check each part of the funnel, let's print all 3 of them again"
   ]
  },
  {
   "cell_type": "code",
   "execution_count": 115,
   "metadata": {},
   "outputs": [
    {
     "name": "stdout",
     "output_type": "stream",
     "text": [
      "The rate of who visited the page but did not put a T-shirt into the cart is: 82.6%\n",
      "The rate of who made a cart but did not check out is: 35.06%\n",
      "The rate of who checked out but did not purchase is: 24.55%\n"
     ]
    }
   ],
   "source": [
    "print(f'The rate of who visited the page but did not put a T-shirt into the cart is: {not_cart_percent:.1f}%')\n",
    "print(f'The rate of who made a cart but did not check out is: {not_checkout_percent:.2f}%')\n",
    "print(f'The rate of who checked out but did not purchase is: {not_purchase_percent:.2f}%')"
   ]
  },
  {
   "attachments": {},
   "cell_type": "markdown",
   "metadata": {},
   "source": [
    "*The weakest part of the funnel is clearly getting a person who visited the site to add a tshirt to their cart. Once they've added a t-shirt to their cart it is fairly likely they end up purchasing it. A suggestion could be to make the add-to-cart button more prominent on the front page.*\n",
    "\n",
    "\n",
    "Step 10: adding new column"
   ]
  },
  {
   "cell_type": "code",
   "execution_count": 116,
   "metadata": {},
   "outputs": [],
   "source": [
    "df3['time_to_purchase'] = df3.purchase_time - df3.visit_time"
   ]
  },
  {
   "cell_type": "code",
   "execution_count": 117,
   "metadata": {},
   "outputs": [
    {
     "data": {
      "text/plain": [
       "0                  NaT\n",
       "1      0 days 00:44:00\n",
       "2                  NaT\n",
       "3                  NaT\n",
       "4                  NaT\n",
       "             ...      \n",
       "2103               NaT\n",
       "2104               NaT\n",
       "2105               NaT\n",
       "2106               NaT\n",
       "2107               NaT\n",
       "Name: time_to_purchase, Length: 2108, dtype: timedelta64[ns]"
      ]
     },
     "execution_count": 117,
     "metadata": {},
     "output_type": "execute_result"
    }
   ],
   "source": [
    "df3.time_to_purchase"
   ]
  },
  {
   "attachments": {},
   "cell_type": "markdown",
   "metadata": {},
   "source": [
    "Step 11: examine the results"
   ]
  },
  {
   "attachments": {},
   "cell_type": "markdown",
   "metadata": {},
   "source": [
    "Step 12: average time to purchase"
   ]
  },
  {
   "cell_type": "code",
   "execution_count": 118,
   "metadata": {},
   "outputs": [
    {
     "data": {
      "text/plain": [
       "Timedelta('0 days 00:43:12.380952380')"
      ]
     },
     "execution_count": 118,
     "metadata": {},
     "output_type": "execute_result"
    }
   ],
   "source": [
    "df3.time_to_purchase.mean()"
   ]
  },
  {
   "cell_type": "code",
   "execution_count": null,
   "metadata": {},
   "outputs": [],
   "source": []
  },
  {
   "cell_type": "code",
   "execution_count": null,
   "metadata": {},
   "outputs": [],
   "source": []
  }
 ],
 "metadata": {
  "kernelspec": {
   "display_name": "Python 3 (ipykernel)",
   "language": "python",
   "name": "python3"
  },
  "language_info": {
   "codemirror_mode": {
    "name": "ipython",
    "version": 3
   },
   "file_extension": ".py",
   "mimetype": "text/x-python",
   "name": "python",
   "nbconvert_exporter": "python",
   "pygments_lexer": "ipython3",
   "version": "3.10.9"
  }
 },
 "nbformat": 4,
 "nbformat_minor": 4
}
