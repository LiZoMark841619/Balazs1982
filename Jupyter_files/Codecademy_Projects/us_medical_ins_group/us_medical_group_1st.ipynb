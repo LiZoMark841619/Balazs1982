{
 "cells": [
  {
   "cell_type": "markdown",
   "id": "6ac3ded5",
   "metadata": {},
   "source": [
    "## Import csv + making one list with dicts, after that making one dict which includes dicts"
   ]
  },
  {
   "cell_type": "code",
   "execution_count": 1,
   "id": "21bd8916",
   "metadata": {},
   "outputs": [],
   "source": [
    "import csv\n",
    "import matplotlib.pyplot as plt"
   ]
  },
  {
   "cell_type": "code",
   "execution_count": 2,
   "id": "d277db83",
   "metadata": {},
   "outputs": [
    {
     "ename": "FileNotFoundError",
     "evalue": "[Errno 2] No such file or directory: 'insurance.csv'",
     "output_type": "error",
     "traceback": [
      "\u001b[0;31m---------------------------------------------------------------------------\u001b[0m",
      "\u001b[0;31mFileNotFoundError\u001b[0m                         Traceback (most recent call last)",
      "Cell \u001b[0;32mIn[2], line 2\u001b[0m\n\u001b[1;32m      1\u001b[0m new_list \u001b[39m=\u001b[39m []\n\u001b[0;32m----> 2\u001b[0m \u001b[39mwith\u001b[39;00m \u001b[39mopen\u001b[39;49m(\u001b[39m'\u001b[39;49m\u001b[39minsurance.csv\u001b[39;49m\u001b[39m'\u001b[39;49m, newline\u001b[39m=\u001b[39;49m\u001b[39m'\u001b[39;49m\u001b[39m'\u001b[39;49m) \u001b[39mas\u001b[39;00m file:\n\u001b[1;32m      3\u001b[0m     dicts \u001b[39m=\u001b[39m csv\u001b[39m.\u001b[39mDictReader(file)\n\u001b[1;32m      4\u001b[0m     \u001b[39mfor\u001b[39;00m \u001b[39mdict\u001b[39m \u001b[39min\u001b[39;00m dicts:\n",
      "File \u001b[0;32m~/.local/lib/python3.10/site-packages/IPython/core/interactiveshell.py:284\u001b[0m, in \u001b[0;36m_modified_open\u001b[0;34m(file, *args, **kwargs)\u001b[0m\n\u001b[1;32m    277\u001b[0m \u001b[39mif\u001b[39;00m file \u001b[39min\u001b[39;00m {\u001b[39m0\u001b[39m, \u001b[39m1\u001b[39m, \u001b[39m2\u001b[39m}:\n\u001b[1;32m    278\u001b[0m     \u001b[39mraise\u001b[39;00m \u001b[39mValueError\u001b[39;00m(\n\u001b[1;32m    279\u001b[0m         \u001b[39mf\u001b[39m\u001b[39m\"\u001b[39m\u001b[39mIPython won\u001b[39m\u001b[39m'\u001b[39m\u001b[39mt let you open fd=\u001b[39m\u001b[39m{\u001b[39;00mfile\u001b[39m}\u001b[39;00m\u001b[39m by default \u001b[39m\u001b[39m\"\u001b[39m\n\u001b[1;32m    280\u001b[0m         \u001b[39m\"\u001b[39m\u001b[39mas it is likely to crash IPython. If you know what you are doing, \u001b[39m\u001b[39m\"\u001b[39m\n\u001b[1;32m    281\u001b[0m         \u001b[39m\"\u001b[39m\u001b[39myou can use builtins\u001b[39m\u001b[39m'\u001b[39m\u001b[39m open.\u001b[39m\u001b[39m\"\u001b[39m\n\u001b[1;32m    282\u001b[0m     )\n\u001b[0;32m--> 284\u001b[0m \u001b[39mreturn\u001b[39;00m io_open(file, \u001b[39m*\u001b[39;49margs, \u001b[39m*\u001b[39;49m\u001b[39m*\u001b[39;49mkwargs)\n",
      "\u001b[0;31mFileNotFoundError\u001b[0m: [Errno 2] No such file or directory: 'insurance.csv'"
     ]
    }
   ],
   "source": [
    "new_list = []\n",
    "with open('insurance.csv', newline='') as file:\n",
    "    dicts = csv.DictReader(file)\n",
    "    for dict in dicts:\n",
    "        new_list.append(dict)"
   ]
  },
  {
   "cell_type": "code",
   "execution_count": 3,
   "id": "ce112f7b",
   "metadata": {},
   "outputs": [],
   "source": [
    "#print(new_list)"
   ]
  },
  {
   "cell_type": "code",
   "execution_count": 4,
   "id": "fb62c426",
   "metadata": {},
   "outputs": [],
   "source": [
    "def new_dict():\n",
    "    new_dict = {i+1:new_list[i] for i in range(len(new_list))}\n",
    "    return new_dict"
   ]
  },
  {
   "cell_type": "code",
   "execution_count": 5,
   "id": "18f0e40a",
   "metadata": {},
   "outputs": [],
   "source": [
    "new_dict = new_dict()"
   ]
  },
  {
   "cell_type": "code",
   "execution_count": 6,
   "id": "df7997bc",
   "metadata": {},
   "outputs": [],
   "source": [
    "#print(new_dict)"
   ]
  },
  {
   "cell_type": "code",
   "execution_count": 7,
   "id": "d8ee6a39",
   "metadata": {},
   "outputs": [
    {
     "name": "stdout",
     "output_type": "stream",
     "text": [
      "The number of the people participating in this test is: 1338\n"
     ]
    }
   ],
   "source": [
    "print(f'The number of the people participating in this test is: {len(new_dict)}')"
   ]
  },
  {
   "cell_type": "code",
   "execution_count": 8,
   "id": "3e4ba471",
   "metadata": {},
   "outputs": [],
   "source": [
    "def numbers_and_ages(sex=None):\n",
    "    ages_fm = 0\n",
    "    ages_m = 0\n",
    "    counter_fm = 0\n",
    "    for value in new_dict.values():\n",
    "        if value['sex'] == 'female':\n",
    "            ages_fm += int(value['age'])\n",
    "            counter_fm += 1\n",
    "        if value['sex'] == 'male':\n",
    "            ages_m += int(value['age'])\n",
    "    mean_fm = round(ages_fm / counter_fm, 3)\n",
    "    counter_m = len(new_dict) - counter_fm\n",
    "    mean_m = round( ages_m / counter_m, 3)\n",
    "    s1 = 'In the dataset there are'\n",
    "    s2 = 'the mean age is'\n",
    "    if sex == 'female':\n",
    "        print(s1, counter_fm, sex, 'persons,', s2, mean_fm, 'years')\n",
    "    elif sex == 'male':\n",
    "        print(s1, counter_m,sex, 'persons,', s2, mean_m, 'years')\n",
    "    else:\n",
    "        print('Invalid data.')"
   ]
  },
  {
   "cell_type": "markdown",
   "id": "fa0a6067",
   "metadata": {},
   "source": [
    "## Function 1 - 2 tests:"
   ]
  },
  {
   "cell_type": "code",
   "execution_count": 9,
   "id": "79cec625",
   "metadata": {},
   "outputs": [
    {
     "name": "stdout",
     "output_type": "stream",
     "text": [
      "In the dataset there are 662 female persons, the mean age is 39.503 years\n"
     ]
    }
   ],
   "source": [
    "female_nums_ages = numbers_and_ages('female')\n",
    "#male_nums_ages = numbers_and_ages('male')\n",
    "#children_nums_ages = numbers_and_ages('children')\n",
    "#noones_nums_ages = numbers_and_ages()"
   ]
  },
  {
   "cell_type": "code",
   "execution_count": 10,
   "id": "d4686518",
   "metadata": {},
   "outputs": [],
   "source": [
    "def living_place(location):\n",
    "    string = 'The number of habitants living in ' + location\n",
    "    counter = 0\n",
    "    for value in new_dict.values():\n",
    "        if value['region'] == 'southwest':\n",
    "            counter += 1\n",
    "    if location == 'southwest':\n",
    "        print(string, 'is', str(counter))\n",
    "    elif location == 'northwest':\n",
    "        print(string, 'is', str(len(new_dict) - counter))\n",
    "    else:\n",
    "        print('Invalid data')"
   ]
  },
  {
   "cell_type": "markdown",
   "id": "62c858db",
   "metadata": {},
   "source": [
    "## Function 3 tests:"
   ]
  },
  {
   "cell_type": "code",
   "execution_count": 11,
   "id": "6bc227fb",
   "metadata": {},
   "outputs": [
    {
     "name": "stdout",
     "output_type": "stream",
     "text": [
      "The number of habitants living in southwest is 325\n",
      "The number of habitants living in northwest is 1013\n"
     ]
    }
   ],
   "source": [
    "living_place('southwest')\n",
    "living_place('northwest')\n",
    "#living_place('someplace')"
   ]
  },
  {
   "cell_type": "code",
   "execution_count": null,
   "id": "be7fdb36",
   "metadata": {},
   "outputs": [],
   "source": []
  },
  {
   "cell_type": "code",
   "execution_count": null,
   "id": "316a1195",
   "metadata": {},
   "outputs": [],
   "source": []
  },
  {
   "cell_type": "code",
   "execution_count": null,
   "id": "ce269145",
   "metadata": {},
   "outputs": [],
   "source": []
  }
 ],
 "metadata": {
  "kernelspec": {
   "display_name": "Python 3 (ipykernel)",
   "language": "python",
   "name": "python3"
  },
  "language_info": {
   "codemirror_mode": {
    "name": "ipython",
    "version": 3
   },
   "file_extension": ".py",
   "mimetype": "text/x-python",
   "name": "python",
   "nbconvert_exporter": "python",
   "pygments_lexer": "ipython3",
   "version": "3.10.4"
  }
 },
 "nbformat": 4,
 "nbformat_minor": 5
}
