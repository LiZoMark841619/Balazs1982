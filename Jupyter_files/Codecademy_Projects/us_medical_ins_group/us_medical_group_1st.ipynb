{
 "cells": [
  {
   "cell_type": "markdown",
   "id": "6ac3ded5",
   "metadata": {},
   "source": [
    "#### Import modules"
   ]
  },
  {
   "cell_type": "code",
   "execution_count": 1,
   "id": "21bd8916",
   "metadata": {},
   "outputs": [],
   "source": [
    "import csv\n",
    "import matplotlib.pyplot as plt\n",
    "import pandas as pd\n",
    "import numpy as np"
   ]
  },
  {
   "cell_type": "markdown",
   "id": "1984911e",
   "metadata": {},
   "source": [
    "#### Making a list to include dicts and using 'with open'"
   ]
  },
  {
   "cell_type": "code",
   "execution_count": 2,
   "id": "d277db83",
   "metadata": {},
   "outputs": [],
   "source": [
    "new_list = []\n",
    "with open('insurance.csv', newline='') as file:\n",
    "    dicts = csv.DictReader(file)\n",
    "    new_list = [dict for dict in dicts]"
   ]
  },
  {
   "cell_type": "code",
   "execution_count": 3,
   "id": "ce112f7b",
   "metadata": {},
   "outputs": [],
   "source": [
    "#print(new_list)"
   ]
  },
  {
   "cell_type": "markdown",
   "id": "e35beef5",
   "metadata": {},
   "source": [
    "#### Making a dict to include dicts"
   ]
  },
  {
   "cell_type": "code",
   "execution_count": 4,
   "id": "fb62c426",
   "metadata": {},
   "outputs": [],
   "source": [
    "def new_dict():\n",
    "    new_dict = {i+1:new_list[i] for i in range(len(new_list))}\n",
    "    return new_dict\n",
    "new_dict = new_dict()"
   ]
  },
  {
   "cell_type": "code",
   "execution_count": 5,
   "id": "5666a363",
   "metadata": {},
   "outputs": [],
   "source": [
    "#print(new_dict)"
   ]
  },
  {
   "cell_type": "markdown",
   "id": "1c7061e8",
   "metadata": {},
   "source": [
    "#### Smokers and non smokers separator functions"
   ]
  },
  {
   "cell_type": "code",
   "execution_count": 6,
   "id": "7a122e23",
   "metadata": {},
   "outputs": [],
   "source": [
    "def num_smokers():\n",
    "    smokers = {i+1:new_list[i] for i in range(len(new_list)) if new_list[i]['smoker'] == 'yes'}\n",
    "    return smokers\n",
    "def num_non_smokers():\n",
    "    non_smokers = {i+1:new_list[i] for i in range(len(new_list)) if new_list[i]['smoker'] == 'no'}\n",
    "    return non_smokers\n",
    "smokers = num_smokers()\n",
    "non_smokers = num_non_smokers()"
   ]
  },
  {
   "cell_type": "markdown",
   "id": "cd484334",
   "metadata": {},
   "source": [
    "#### Tests"
   ]
  },
  {
   "cell_type": "code",
   "execution_count": 7,
   "id": "d8ee6a39",
   "metadata": {},
   "outputs": [
    {
     "name": "stdout",
     "output_type": "stream",
     "text": [
      "The number of the persons participating in this test is 1338.\n"
     ]
    }
   ],
   "source": [
    "print(f'The number of the persons participating in this test is {len(new_dict)}.')"
   ]
  },
  {
   "cell_type": "code",
   "execution_count": 8,
   "id": "be217118",
   "metadata": {},
   "outputs": [
    {
     "name": "stdout",
     "output_type": "stream",
     "text": [
      "From the 1338 persons there are 274 smokers in the sample.\n"
     ]
    }
   ],
   "source": [
    "print(f'From the {len(new_dict)} persons there are {len(smokers)} smokers in the sample.')\n",
    "#print(non_smokers)"
   ]
  },
  {
   "cell_type": "markdown",
   "id": "9ebb1ce9",
   "metadata": {},
   "source": [
    "#### Sex numbers and ages function"
   ]
  },
  {
   "cell_type": "code",
   "execution_count": 9,
   "id": "3e4ba471",
   "metadata": {},
   "outputs": [],
   "source": [
    "def numbers_and_ages(sex=None):\n",
    "    ages_fm = 0\n",
    "    ages_m = 0\n",
    "    counter_fm = 0\n",
    "    for value in new_dict.values():\n",
    "        if value['sex'] == 'female':\n",
    "            ages_fm += int(value['age'])\n",
    "            counter_fm += 1\n",
    "        elif value['sex'] == 'male':\n",
    "            ages_m += int(value['age'])\n",
    "    mean_fm = round(ages_fm / counter_fm, 3)\n",
    "    counter_m = len(new_dict) - counter_fm\n",
    "    mean_m = round( ages_m / counter_m, 3)\n",
    "    s1 = 'In the dataset there are'\n",
    "    s2 = 'their mean age is'\n",
    "    if sex == 'female':\n",
    "        print(s1, counter_fm, sex, 'persons,', s2, mean_fm, 'years.')\n",
    "    elif sex == 'male':\n",
    "        print(s1, counter_m,sex, 'persons,', s2, mean_m, 'years.')\n",
    "    else:\n",
    "        print('Invalid data.')"
   ]
  },
  {
   "cell_type": "markdown",
   "id": "fa0a6067",
   "metadata": {},
   "source": [
    "#### Tests"
   ]
  },
  {
   "cell_type": "code",
   "execution_count": 10,
   "id": "79cec625",
   "metadata": {},
   "outputs": [
    {
     "name": "stdout",
     "output_type": "stream",
     "text": [
      "In the dataset there are 662 female persons, their mean age is 39.503 years.\n"
     ]
    }
   ],
   "source": [
    "female_nums_ages = numbers_and_ages('female')\n",
    "#male_nums_ages = numbers_and_ages('male')\n",
    "#children_nums_ages = numbers_and_ages('children')\n",
    "#noones_nums_ages = numbers_and_ages()"
   ]
  },
  {
   "cell_type": "markdown",
   "id": "d5a88e2f",
   "metadata": {},
   "source": [
    "#### Function for determining unique places and counting the persons living there"
   ]
  },
  {
   "cell_type": "code",
   "execution_count": 11,
   "id": "9fc412ab",
   "metadata": {},
   "outputs": [],
   "source": [
    "#living_place = {i+1:new_list[i]['region'] for i in range(len(new_list))}\n",
    "#living_place_list = [living_place[i] for i in range(1, len(living_place)+1)]\n",
    "living_place_list = [new_list[i]['region'] for i in range(len(new_list))]\n",
    "unique = []\n",
    "def unique_places():\n",
    "    for place in living_place_list:\n",
    "        if place not in unique:\n",
    "            unique.append(place)\n",
    "    return unique\n",
    "def persons_in_places(location):\n",
    "    string = 'The number of persons living in ' + location + ' is'\n",
    "    if location in unique:\n",
    "        print(string, str(living_place_list.count(location))+'.')\n",
    "    else:\n",
    "        print('Invalid value')"
   ]
  },
  {
   "cell_type": "code",
   "execution_count": 12,
   "id": "b2001a38",
   "metadata": {},
   "outputs": [],
   "source": [
    "unique_places = unique_places()"
   ]
  },
  {
   "cell_type": "code",
   "execution_count": 13,
   "id": "e4e2b624",
   "metadata": {},
   "outputs": [
    {
     "name": "stdout",
     "output_type": "stream",
     "text": [
      "There are 4 different living places which are as follows: ['southwest', 'southeast', 'northwest', 'northeast']\n"
     ]
    }
   ],
   "source": [
    "print(f'There are {len(unique_places)} different living places which are as follows: {unique}')"
   ]
  },
  {
   "cell_type": "code",
   "execution_count": 14,
   "id": "4fdd6883",
   "metadata": {},
   "outputs": [
    {
     "name": "stdout",
     "output_type": "stream",
     "text": [
      "The number of persons living in southwest is 325.\n"
     ]
    }
   ],
   "source": [
    "persons_in_places('southwest')\n",
    "#persons_in_places('southeast')\n",
    "#persons_in_places('northwest')\n",
    "#persons_in_places('northeast')"
   ]
  },
  {
   "cell_type": "markdown",
   "id": "3d30a089",
   "metadata": {},
   "source": [
    "#### Mean insurance and smoker-non smoker insurance cost methods"
   ]
  },
  {
   "cell_type": "code",
   "execution_count": 15,
   "id": "67a485a4",
   "metadata": {},
   "outputs": [],
   "source": [
    "def mean_insurance_cost():\n",
    "    avg = 0\n",
    "    total_cost = 0\n",
    "    for value in new_dict.values():\n",
    "        total_cost += int(float(value['charges']))\n",
    "        mean = total_cost / len(new_dict)\n",
    "        avg = round(mean)\n",
    "    return f'The average insurance cost is ${avg:,} regarding the sample.'"
   ]
  },
  {
   "cell_type": "code",
   "execution_count": 16,
   "id": "be7fdb36",
   "metadata": {},
   "outputs": [],
   "source": [
    "def insurance_cost(smoker_status='non smoker'):\n",
    "    str1 = 'The total insurance cost for ' + smoker_status + 's'\n",
    "    str2 = 'The average insurance cost for ' + smoker_status + 's'\n",
    "    str3 = 'The average difference between smokers and non smokers is'\n",
    "    cost_smokers = 0\n",
    "    cost_non_smokers = 0\n",
    "    for value in new_dict.values():\n",
    "        if value['smoker'] == 'yes':\n",
    "            cost_smokers += int(float(value['charges']))\n",
    "        elif value['smoker'] == 'no':\n",
    "            cost_non_smokers += int(float(value['charges']))\n",
    "    diff = round(cost_smokers/len(smokers) - cost_non_smokers/len(non_smokers))\n",
    "    if smoker_status == 'smoker':\n",
    "        return f'''{str1} is ${cost_smokers:,}\n",
    "{str2} is ${round(cost_smokers/len(smokers)):,}\n",
    "{str3} ${diff:,}.'''\n",
    "    else:\n",
    "        return f'''{str1} is ${cost_non_smokers:,}.\n",
    "{str2} is ${round(cost_smokers/len(non_smokers)):,}.\n",
    "{str3} ${diff:,}.'''"
   ]
  },
  {
   "cell_type": "markdown",
   "id": "84405d11",
   "metadata": {},
   "source": [
    "#### Tests"
   ]
  },
  {
   "cell_type": "code",
   "execution_count": 17,
   "id": "ce269145",
   "metadata": {},
   "outputs": [
    {
     "name": "stdout",
     "output_type": "stream",
     "text": [
      "The average insurance cost is $13,270 regarding the sample.\n",
      "The total insurance cost for non smokers is $8,973,540.\n",
      "The average insurance cost for non smokers is $8,253.\n",
      "The average difference between smokers and non smokers is $23,616.\n"
     ]
    }
   ],
   "source": [
    "print(mean_insurance_cost())\n",
    "#print(insurance_cost('smoker'))\n",
    "print(insurance_cost('non smoker'))\n",
    "#print(insurance_cost())"
   ]
  },
  {
   "cell_type": "code",
   "execution_count": 18,
   "id": "32285b6f",
   "metadata": {},
   "outputs": [],
   "source": [
    "#print(new_dict)"
   ]
  },
  {
   "cell_type": "markdown",
   "id": "2834264e",
   "metadata": {},
   "source": [
    "#### Children and BMI list making"
   ]
  },
  {
   "cell_type": "code",
   "execution_count": 19,
   "id": "ce24136a",
   "metadata": {},
   "outputs": [],
   "source": [
    "children = []\n",
    "for value in new_dict.values():\n",
    "    children.append(int(value['children']))"
   ]
  },
  {
   "cell_type": "code",
   "execution_count": 20,
   "id": "9ebe35a9",
   "metadata": {},
   "outputs": [],
   "source": [
    "bmi = []\n",
    "for value in new_dict.values():\n",
    "    bmi.append(int(float(value['bmi'])))"
   ]
  },
  {
   "cell_type": "markdown",
   "id": "a3d59891",
   "metadata": {},
   "source": [
    "#### Number of children distribution"
   ]
  },
  {
   "cell_type": "code",
   "execution_count": 21,
   "id": "12d4269f",
   "metadata": {},
   "outputs": [
    {
     "data": {
      "image/png": "[encoded data removed]",
      "text/plain": [
       "<Figure size 640x480 with 1 Axes>"
      ]
     },
     "metadata": {},
     "output_type": "display_data"
    }
   ],
   "source": [
    "plt.hist(children)\n",
    "plt.show()"
   ]
  },
  {
   "cell_type": "markdown",
   "id": "4ab4b5f0",
   "metadata": {},
   "source": [
    "#### BMI distribution"
   ]
  },
  {
   "cell_type": "code",
   "execution_count": 22,
   "id": "c0ddee1f",
   "metadata": {},
   "outputs": [
    {
     "data": {
      "image/png": "[encoded data removed]",
      "text/plain": [
       "<Figure size 640x480 with 1 Axes>"
      ]
     },
     "metadata": {},
     "output_type": "display_data"
    }
   ],
   "source": [
    "plt.hist(bmi)\n",
    "plt.show()"
   ]
  },
  {
   "cell_type": "markdown",
   "id": "2aa1afcf",
   "metadata": {},
   "source": [
    "#### Calculating the insurance cost who has at least one child and showing the number of those persons. "
   ]
  },
  {
   "cell_type": "code",
   "execution_count": 23,
   "id": "c27cb089",
   "metadata": {},
   "outputs": [],
   "source": [
    "parents = []\n",
    "def ins_cost_parents(status=None):\n",
    "    total = 0\n",
    "    if status == 'yes':\n",
    "        for value in new_dict.values():\n",
    "            if int(value['children']) > 0:\n",
    "                a = int(float(value['charges']))\n",
    "                parents.append(a)\n",
    "                total += a\n",
    "                mean = total / len(parents)\n",
    "                rounded = round(mean)\n",
    "    return f'The average insurance cost for being a parent is ${rounded:,}. In this sample there are {len(parents)} parents.'"
   ]
  },
  {
   "cell_type": "code",
   "execution_count": 24,
   "id": "a1dd3c4f",
   "metadata": {},
   "outputs": [
    {
     "name": "stdout",
     "output_type": "stream",
     "text": [
      "The average insurance cost for being a parent is $13,949. In this sample there are 764 parents.\n"
     ]
    }
   ],
   "source": [
    "print(ins_cost_parents('yes'))"
   ]
  },
  {
   "cell_type": "code",
   "execution_count": null,
   "id": "5775478f",
   "metadata": {},
   "outputs": [],
   "source": [
    "plt.hist(parents)\n",
    "plt.show()"
   ]
  },
  {
   "cell_type": "markdown",
   "id": "d6d01f2a",
   "metadata": {},
   "source": [
    "#### Using pandas"
   ]
  },
  {
   "cell_type": "code",
   "execution_count": null,
   "id": "efd9dd60",
   "metadata": {},
   "outputs": [],
   "source": [
    "df = pd.DataFrame(new_list)"
   ]
  },
  {
   "cell_type": "code",
   "execution_count": null,
   "id": "35ebd703",
   "metadata": {},
   "outputs": [],
   "source": [
    "df.head(3)"
   ]
  },
  {
   "cell_type": "code",
   "execution_count": null,
   "id": "786f199f",
   "metadata": {},
   "outputs": [],
   "source": [
    "df.tail(3)"
   ]
  },
  {
   "cell_type": "code",
   "execution_count": null,
   "id": "25a7f746",
   "metadata": {},
   "outputs": [],
   "source": [
    "df.shape"
   ]
  },
  {
   "cell_type": "code",
   "execution_count": null,
   "id": "01f83b1e",
   "metadata": {},
   "outputs": [],
   "source": [
    "df['sex'].value_counts()\n"
   ]
  },
  {
   "cell_type": "code",
   "execution_count": null,
   "id": "a838f62e",
   "metadata": {},
   "outputs": [],
   "source": [
    "df['children'].value_counts()"
   ]
  },
  {
   "cell_type": "code",
   "execution_count": null,
   "id": "2535f486",
   "metadata": {},
   "outputs": [],
   "source": [
    "df['smoker'].value_counts()"
   ]
  },
  {
   "cell_type": "code",
   "execution_count": null,
   "id": "13483cc7",
   "metadata": {},
   "outputs": [],
   "source": [
    "df['region'].value_counts()"
   ]
  },
  {
   "cell_type": "code",
   "execution_count": null,
   "id": "e52818d1",
   "metadata": {},
   "outputs": [],
   "source": [
    "df.head()"
   ]
  },
  {
   "cell_type": "code",
   "execution_count": null,
   "id": "5f8d9a56",
   "metadata": {},
   "outputs": [],
   "source": [
    "def mean_insurance():\n",
    "    total = 0\n",
    "    for num in df['charges']:\n",
    "        total += int(float(num))\n",
    "        mean = round(total / len(df))\n",
    "    return mean"
   ]
  },
  {
   "cell_type": "code",
   "execution_count": null,
   "id": "788ae6f0",
   "metadata": {},
   "outputs": [],
   "source": [
    "mean_insurance = mean_insurance()"
   ]
  },
  {
   "cell_type": "code",
   "execution_count": null,
   "id": "d94221dd",
   "metadata": {},
   "outputs": [],
   "source": [
    "print(f'The average insurance cost is ${mean_insurance:,}')"
   ]
  },
  {
   "cell_type": "code",
   "execution_count": null,
   "id": "a977b80c",
   "metadata": {},
   "outputs": [],
   "source": [
    "filt = (df['smoker'] == 'yes')"
   ]
  },
  {
   "cell_type": "code",
   "execution_count": null,
   "id": "acd5f88a",
   "metadata": {},
   "outputs": [],
   "source": [
    "df[filt]"
   ]
  },
  {
   "cell_type": "code",
   "execution_count": null,
   "id": "e8d27823",
   "metadata": {},
   "outputs": [],
   "source": [
    "smokers_list = []\n",
    "def smoker_vs_nonsmokers(smoker_status):\n",
    "    total_cost1 = 0\n",
    "    total_cost2 = 0\n",
    "    str1 = 'The number of '\n",
    "    str2 = 'The average insurance cost for smokers is'\n",
    "    str3 = 'The difference between the average insurance cost and the '\n",
    "    for num in df[filt]['charges']:\n",
    "            smokers_list.append(num)\n",
    "            total_cost1 += int(float(num))\n",
    "            mean1 = round(total_cost1 / len(smokers_list))\n",
    "    print(f'{str1}smokers is {len(smokers_list)}. {str2} ${mean1:,}. This is ${(mean1 - mean_insurance):,} more than the ${mean_insurance:,} average insurance.')"
   ]
  },
  {
   "cell_type": "code",
   "execution_count": null,
   "id": "01042b62",
   "metadata": {},
   "outputs": [],
   "source": [
    "smoker_vs_nonsmokers('smoker')"
   ]
  },
  {
   "cell_type": "code",
   "execution_count": null,
   "id": "c476d72d",
   "metadata": {},
   "outputs": [],
   "source": [
    "dfnew = pd.read_csv('insurance.csv')"
   ]
  },
  {
   "cell_type": "code",
   "execution_count": null,
   "id": "e309636a",
   "metadata": {},
   "outputs": [],
   "source": [
    "dfnew"
   ]
  },
  {
   "cell_type": "code",
   "execution_count": null,
   "id": "a9225177",
   "metadata": {},
   "outputs": [],
   "source": [
    "dfnew.sex.value_counts()"
   ]
  },
  {
   "cell_type": "code",
   "execution_count": null,
   "id": "af32e2f5",
   "metadata": {},
   "outputs": [],
   "source": [
    "round(dfnew.charges.mean())"
   ]
  },
  {
   "cell_type": "code",
   "execution_count": null,
   "id": "d83cd704",
   "metadata": {},
   "outputs": [],
   "source": [
    "filt1 = (dfnew['smoker'] == 'yes')\n",
    "filt2 = (dfnew['smoker'] == 'no')\n",
    "filt3 = (dfnew['children'] == 0)\n",
    "filt4 = (dfnew['children'] >= 1)\n",
    "filt5 = (dfnew['sex'] == 'female')\n",
    "filt6 = (dfnew['sex'] == 'male')"
   ]
  },
  {
   "cell_type": "code",
   "execution_count": null,
   "id": "10ce3c88",
   "metadata": {},
   "outputs": [],
   "source": [
    "print(f'The average insurance cost is ${round(dfnew[filt2].charges.mean()):,}')"
   ]
  },
  {
   "cell_type": "code",
   "execution_count": null,
   "id": "61e089b8",
   "metadata": {},
   "outputs": [],
   "source": [
    "def insurance_cost(status):\n",
    "    string = 'In this sample the average insurance cost for'\n",
    "    if status == 'smoker':\n",
    "        print(f'{string} {status}s is ${round(dfnew[filt1].charges.mean()):,}')\n",
    "    elif status == 'non smoker':\n",
    "        print(f'{string} {status}s is ${round(dfnew[filt2].charges.mean()):,}')\n",
    "    elif status == 'parent':\n",
    "        print(f'{string} {status}s is ${round(dfnew[filt3].charges.mean()):,}')\n",
    "    elif status == 'no parent':\n",
    "        print(f'{string} {status}s is ${round(dfnew[filt4].charges.mean()):,}')\n",
    "    elif status == 'female':\n",
    "        print(f'{string} {status}s is ${round(dfnew[filt5].charges.mean()):,}')\n",
    "    elif status == 'male':\n",
    "        print(f'{string} {status}s is ${round(dfnew[filt6].charges.mean()):,}')\n",
    "    elif status == 'everyone':\n",
    "        print(f'{string} {status} is ${round(dfnew[filt6].charges.mean()):,}')\n",
    "    else:\n",
    "        print('''Invalid data. The possible inputs are: \n",
    "[\"smoker\", \"non smoker\", \"parent\", \"no parent\", \"female\", \"male\", \"everyone\"]''')"
   ]
  },
  {
   "cell_type": "code",
   "execution_count": null,
   "id": "0ef8343a",
   "metadata": {},
   "outputs": [],
   "source": [
    "insurance_cost('sm')"
   ]
  },
  {
   "cell_type": "code",
   "execution_count": null,
   "id": "fc0625bd",
   "metadata": {},
   "outputs": [],
   "source": []
  },
  {
   "cell_type": "code",
   "execution_count": null,
   "id": "6870c8b9",
   "metadata": {},
   "outputs": [],
   "source": []
  }
 ],
 "metadata": {
  "kernelspec": {
   "display_name": "Python 3 (ipykernel)",
   "language": "python",
   "name": "python3"
  },
  "language_info": {
   "codemirror_mode": {
    "name": "ipython",
    "version": 3
   },
   "file_extension": ".py",
   "mimetype": "text/x-python",
   "name": "python",
   "nbconvert_exporter": "python",
   "pygments_lexer": "ipython3",
   "version": "3.10.9"
  }
 },
 "nbformat": 4,
 "nbformat_minor": 5
}
