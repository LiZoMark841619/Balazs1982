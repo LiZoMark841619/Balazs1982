{
 "cells": [
  {
   "attachments": {},
   "cell_type": "markdown",
   "id": "6ac3ded5",
   "metadata": {},
   "source": [
    "#### Import modules"
   ]
  },
  {
   "cell_type": "code",
   "execution_count": 1,
   "id": "21bd8916",
   "metadata": {},
   "outputs": [],
   "source": [
    "import csv\n",
    "import matplotlib.pyplot as plt\n",
    "import pandas as pd\n",
    "import numpy as np\n",
    "import seaborn as sns\n",
    "from scipy.stats import pearsonr"
   ]
  },
  {
   "attachments": {},
   "cell_type": "markdown",
   "id": "1984911e",
   "metadata": {},
   "source": [
    "#### Making a list to include dicts and using 'with open'"
   ]
  },
  {
   "cell_type": "code",
   "execution_count": 2,
   "id": "d277db83",
   "metadata": {},
   "outputs": [],
   "source": [
    "new_list = []\n",
    "with open('insurance.csv', newline='') as file:\n",
    "    dicts = csv.DictReader(file)\n",
    "    new_list = [dict for dict in dicts]"
   ]
  },
  {
   "cell_type": "code",
   "execution_count": 3,
   "id": "ce112f7b",
   "metadata": {},
   "outputs": [],
   "source": [
    "#print(new_list)"
   ]
  },
  {
   "attachments": {},
   "cell_type": "markdown",
   "id": "e35beef5",
   "metadata": {},
   "source": [
    "#### Making a dict to include dicts"
   ]
  },
  {
   "cell_type": "code",
   "execution_count": 4,
   "id": "fb62c426",
   "metadata": {},
   "outputs": [],
   "source": [
    "def new_dict():\n",
    "    new_dict = {i+1:new_list[i] for i in range(len(new_list))}\n",
    "    return new_dict\n",
    "new_dict = new_dict()"
   ]
  },
  {
   "cell_type": "code",
   "execution_count": 5,
   "id": "5666a363",
   "metadata": {},
   "outputs": [],
   "source": [
    "#print(new_dict)"
   ]
  },
  {
   "attachments": {},
   "cell_type": "markdown",
   "id": "1c7061e8",
   "metadata": {},
   "source": [
    "#### Smokers and non smokers separator functions"
   ]
  },
  {
   "cell_type": "code",
   "execution_count": 6,
   "id": "7a122e23",
   "metadata": {},
   "outputs": [],
   "source": [
    "def num_smokers():\n",
    "    smokers = {i+1:new_list[i] for i in range(len(new_list)) if new_list[i]['smoker'] == 'yes'}\n",
    "    return smokers\n",
    "def num_non_smokers():\n",
    "    non_smokers = {i+1:new_list[i] for i in range(len(new_list)) if new_list[i]['smoker'] == 'no'}\n",
    "    return non_smokers\n",
    "smokers = num_smokers()\n",
    "non_smokers = num_non_smokers()"
   ]
  },
  {
   "attachments": {},
   "cell_type": "markdown",
   "id": "cd484334",
   "metadata": {},
   "source": [
    "#### Tests"
   ]
  },
  {
   "cell_type": "code",
   "execution_count": 7,
   "id": "d8ee6a39",
   "metadata": {},
   "outputs": [
    {
     "name": "stdout",
     "output_type": "stream",
     "text": [
      "The number of the persons participating in this test is 1338.\n"
     ]
    }
   ],
   "source": [
    "print(f'The number of the persons participating in this test is {len(new_dict)}.')"
   ]
  },
  {
   "cell_type": "code",
   "execution_count": 8,
   "id": "be217118",
   "metadata": {},
   "outputs": [
    {
     "name": "stdout",
     "output_type": "stream",
     "text": [
      "From the 1338 persons there are 274 smokers in the sample.\n"
     ]
    }
   ],
   "source": [
    "print(f'From the {len(new_dict)} persons there are {len(smokers)} smokers in the sample.')\n",
    "#print(non_smokers)"
   ]
  },
  {
   "attachments": {},
   "cell_type": "markdown",
   "id": "9ebb1ce9",
   "metadata": {},
   "source": [
    "#### Sex numbers and ages function"
   ]
  },
  {
   "cell_type": "code",
   "execution_count": 9,
   "id": "3e4ba471",
   "metadata": {},
   "outputs": [],
   "source": [
    "def numbers_and_ages(sex=None):\n",
    "    ages_fm = 0\n",
    "    ages_m = 0\n",
    "    counter_fm = 0\n",
    "    for value in new_dict.values():\n",
    "        if value['sex'] == 'female':\n",
    "            ages_fm += int(value['age'])\n",
    "            counter_fm += 1\n",
    "        elif value['sex'] == 'male':\n",
    "            ages_m += int(value['age'])\n",
    "    mean_fm = round(ages_fm / counter_fm, 3)\n",
    "    counter_m = len(new_dict) - counter_fm\n",
    "    mean_m = round( ages_m / counter_m, 3)\n",
    "    s1 = 'In the dataset there are'\n",
    "    s2 = 'their mean age is'\n",
    "    if sex == 'female':\n",
    "        print(s1, counter_fm, sex, 'persons,', s2, mean_fm, 'years.')\n",
    "    elif sex == 'male':\n",
    "        print(s1, counter_m,sex, 'persons,', s2, mean_m, 'years.')\n",
    "    else:\n",
    "        print('Invalid data.')"
   ]
  },
  {
   "attachments": {},
   "cell_type": "markdown",
   "id": "fa0a6067",
   "metadata": {},
   "source": [
    "#### Tests"
   ]
  },
  {
   "cell_type": "code",
   "execution_count": 10,
   "id": "79cec625",
   "metadata": {},
   "outputs": [
    {
     "name": "stdout",
     "output_type": "stream",
     "text": [
      "In the dataset there are 662 female persons, their mean age is 39.503 years.\n"
     ]
    }
   ],
   "source": [
    "female_nums_ages = numbers_and_ages('female')\n",
    "#male_nums_ages = numbers_and_ages('male')\n",
    "#children_nums_ages = numbers_and_ages('children')\n",
    "#noones_nums_ages = numbers_and_ages()"
   ]
  },
  {
   "attachments": {},
   "cell_type": "markdown",
   "id": "d5a88e2f",
   "metadata": {},
   "source": [
    "#### Function for determining unique places and counting the persons living there"
   ]
  },
  {
   "cell_type": "code",
   "execution_count": 11,
   "id": "9fc412ab",
   "metadata": {},
   "outputs": [],
   "source": [
    "#living_place = {i+1:new_list[i]['region'] for i in range(len(new_list))}\n",
    "#living_place_list = [living_place[i] for i in range(1, len(living_place)+1)]\n",
    "living_place_list = [new_list[i]['region'] for i in range(len(new_list))]\n",
    "unique = []\n",
    "def unique_places():\n",
    "    for place in living_place_list:\n",
    "        if place not in unique:\n",
    "            unique.append(place)\n",
    "    return unique\n",
    "def persons_in_places(location):\n",
    "    string = 'The number of persons living in ' + location + ' is'\n",
    "    if location in unique:\n",
    "        print(string, str(living_place_list.count(location))+'.')\n",
    "    else:\n",
    "        print('Invalid value')"
   ]
  },
  {
   "cell_type": "code",
   "execution_count": 12,
   "id": "b2001a38",
   "metadata": {},
   "outputs": [],
   "source": [
    "unique_places = unique_places()"
   ]
  },
  {
   "cell_type": "code",
   "execution_count": 13,
   "id": "e4e2b624",
   "metadata": {},
   "outputs": [
    {
     "name": "stdout",
     "output_type": "stream",
     "text": [
      "There are 4 different living places which are as follows: ['southwest', 'southeast', 'northwest', 'northeast']\n"
     ]
    }
   ],
   "source": [
    "print(f'There are {len(unique_places)} different living places which are as follows: {unique}')"
   ]
  },
  {
   "cell_type": "code",
   "execution_count": 14,
   "id": "4fdd6883",
   "metadata": {},
   "outputs": [
    {
     "name": "stdout",
     "output_type": "stream",
     "text": [
      "The number of persons living in southwest is 325.\n",
      "The number of persons living in northwest is 325.\n"
     ]
    }
   ],
   "source": [
    "persons_in_places('southwest')\n",
    "#persons_in_places('southeast')\n",
    "persons_in_places('northwest')\n",
    "#persons_in_places('northeast')"
   ]
  },
  {
   "attachments": {},
   "cell_type": "markdown",
   "id": "3d30a089",
   "metadata": {},
   "source": [
    "#### Mean insurance and smoker-non smoker insurance cost methods"
   ]
  },
  {
   "cell_type": "code",
   "execution_count": 15,
   "id": "67a485a4",
   "metadata": {},
   "outputs": [],
   "source": [
    "def mean_insurance_cost():\n",
    "    avg = 0\n",
    "    total_cost = 0\n",
    "    for value in new_dict.values():\n",
    "        total_cost += int(float(value['charges']))\n",
    "    mean = total_cost / len(new_dict)\n",
    "    avg = round(mean)\n",
    "    return f'The average insurance cost is ${avg:,} regarding the sample.'"
   ]
  },
  {
   "cell_type": "code",
   "execution_count": 16,
   "id": "be7fdb36",
   "metadata": {},
   "outputs": [],
   "source": [
    "def insurance_cost(smoker_status='non smoker'):\n",
    "    print(mean_insurance_cost())\n",
    "    str2 = 'The average insurance cost for ' + smoker_status + 's'\n",
    "    str3 = 'The average difference between smokers and non smokers is'\n",
    "    cost_smokers = 0\n",
    "    cost_non_smokers = 0\n",
    "    for value in new_dict.values():\n",
    "        if value['smoker'] == 'yes':\n",
    "            cost_smokers += int(float(value['charges']))\n",
    "        elif value['smoker'] == 'no':\n",
    "            cost_non_smokers += int(float(value['charges']))\n",
    "    diff = round(cost_smokers/len(smokers) - cost_non_smokers/len(non_smokers))\n",
    "    if smoker_status == 'smoker':\n",
    "        return f'{str2} is ${round(cost_smokers/len(smokers)):,}.'\n",
    "    elif smoker_status == 'non smoker':\n",
    "        return f'{str2} is ${round(cost_non_smokers/len(non_smokers)):,}.'\n",
    "    elif smoker_status == 'diff':\n",
    "        return f'{str3} ${diff:,}'\n",
    "    raise ValueError(\"Invalid data. The possible inputs are as follows: ['smoker', 'non_smoker', 'diff']\")"
   ]
  },
  {
   "attachments": {},
   "cell_type": "markdown",
   "id": "84405d11",
   "metadata": {},
   "source": [
    "#### Tests"
   ]
  },
  {
   "cell_type": "code",
   "execution_count": 17,
   "id": "b5881f1c",
   "metadata": {},
   "outputs": [],
   "source": [
    "#print(insurance_cost('female'))"
   ]
  },
  {
   "cell_type": "code",
   "execution_count": 18,
   "id": "ce269145",
   "metadata": {},
   "outputs": [
    {
     "name": "stdout",
     "output_type": "stream",
     "text": [
      "The average insurance cost is $13,270 regarding the sample.\n",
      "The average insurance cost for non smokers is $8,434.\n"
     ]
    }
   ],
   "source": [
    "#print(insurance_cost())\n",
    "#print(insurance_cost('smoker'))\n",
    "print(insurance_cost('non smoker'))\n",
    "#print(insurance_cost('diff'))"
   ]
  },
  {
   "cell_type": "code",
   "execution_count": 19,
   "id": "32285b6f",
   "metadata": {},
   "outputs": [],
   "source": [
    "#print(new_dict)"
   ]
  },
  {
   "attachments": {},
   "cell_type": "markdown",
   "id": "2834264e",
   "metadata": {},
   "source": [
    "#### Children and BMI list making"
   ]
  },
  {
   "cell_type": "code",
   "execution_count": 20,
   "id": "ce24136a",
   "metadata": {},
   "outputs": [],
   "source": [
    "children = [int(value['children']) for value in new_dict.values()]"
   ]
  },
  {
   "cell_type": "code",
   "execution_count": 21,
   "id": "9ebe35a9",
   "metadata": {},
   "outputs": [],
   "source": [
    "bmi = []\n",
    "for value in new_dict.values():\n",
    "    bmi.append(int(float(value['bmi'])))"
   ]
  },
  {
   "attachments": {},
   "cell_type": "markdown",
   "id": "a3d59891",
   "metadata": {},
   "source": [
    "#### Number of children distribution"
   ]
  },
  {
   "cell_type": "code",
   "execution_count": 22,
   "id": "12d4269f",
   "metadata": {},
   "outputs": [
    {
     "data": {
      "image/png": "[encoded data removed]",
      "text/plain": [
       "<Figure size 640x480 with 1 Axes>"
      ]
     },
     "metadata": {},
     "output_type": "display_data"
    }
   ],
   "source": [
    "plt.hist(children)\n",
    "plt.show()"
   ]
  },
  {
   "attachments": {},
   "cell_type": "markdown",
   "id": "4ab4b5f0",
   "metadata": {},
   "source": [
    "#### BMI distribution"
   ]
  },
  {
   "cell_type": "code",
   "execution_count": 23,
   "id": "c0ddee1f",
   "metadata": {},
   "outputs": [
    {
     "data": {
      "image/png": "[encoded data removed]",
      "text/plain": [
       "<Figure size 640x480 with 1 Axes>"
      ]
     },
     "metadata": {},
     "output_type": "display_data"
    }
   ],
   "source": [
    "plt.hist(bmi)\n",
    "plt.show()"
   ]
  },
  {
   "attachments": {},
   "cell_type": "markdown",
   "id": "2aa1afcf",
   "metadata": {},
   "source": [
    "#### Calculating the insurance cost who has at least one child and showing the number of those persons. "
   ]
  },
  {
   "cell_type": "code",
   "execution_count": 24,
   "id": "c27cb089",
   "metadata": {},
   "outputs": [],
   "source": [
    "parents = []\n",
    "def ins_cost_parents(status=None):\n",
    "    total = 0\n",
    "    if status == 'yes':\n",
    "        for value in new_dict.values():\n",
    "            if int(value['children']) > 0:\n",
    "                a = int(float(value['charges']))\n",
    "                parents.append(a)\n",
    "                total += a\n",
    "        mean = total / len(parents)\n",
    "        rounded = round(mean)\n",
    "    return f'''The average insurance cost for being a parent is ${rounded:,}.\n",
    "In this sample there are {len(parents)} parents.'''"
   ]
  },
  {
   "cell_type": "code",
   "execution_count": 25,
   "id": "a1dd3c4f",
   "metadata": {},
   "outputs": [
    {
     "name": "stdout",
     "output_type": "stream",
     "text": [
      "The average insurance cost for being a parent is $13,949.\n",
      "In this sample there are 764 parents.\n"
     ]
    }
   ],
   "source": [
    "print(ins_cost_parents('yes'))"
   ]
  },
  {
   "cell_type": "code",
   "execution_count": 26,
   "id": "5775478f",
   "metadata": {},
   "outputs": [
    {
     "data": {
      "image/png": "[encoded data removed]",
      "text/plain": [
       "<Figure size 640x480 with 1 Axes>"
      ]
     },
     "metadata": {},
     "output_type": "display_data"
    }
   ],
   "source": [
    "plt.hist(parents)\n",
    "plt.show()"
   ]
  },
  {
   "attachments": {},
   "cell_type": "markdown",
   "id": "d6d01f2a",
   "metadata": {},
   "source": [
    "#### Using pandas"
   ]
  },
  {
   "cell_type": "code",
   "execution_count": null,
   "id": "2af943a8",
   "metadata": {},
   "outputs": [],
   "source": []
  },
  {
   "cell_type": "code",
   "execution_count": 27,
   "id": "efd9dd60",
   "metadata": {},
   "outputs": [],
   "source": [
    "df = pd.DataFrame(new_list)"
   ]
  },
  {
   "cell_type": "code",
   "execution_count": 28,
   "id": "35ebd703",
   "metadata": {},
   "outputs": [
    {
     "data": {
      "text/html": [
       "<div>\n",
       "<style scoped>\n",
       "    .dataframe tbody tr th:only-of-type {\n",
       "        vertical-align: middle;\n",
       "    }\n",
       "\n",
       "    .dataframe tbody tr th {\n",
       "        vertical-align: top;\n",
       "    }\n",
       "\n",
       "    .dataframe thead th {\n",
       "        text-align: right;\n",
       "    }\n",
       "</style>\n",
       "<table border=\"1\" class=\"dataframe\">\n",
       "  <thead>\n",
       "    <tr style=\"text-align: right;\">\n",
       "      <th></th>\n",
       "      <th>age</th>\n",
       "      <th>sex</th>\n",
       "      <th>bmi</th>\n",
       "      <th>children</th>\n",
       "      <th>smoker</th>\n",
       "      <th>region</th>\n",
       "      <th>charges</th>\n",
       "    </tr>\n",
       "  </thead>\n",
       "  <tbody>\n",
       "    <tr>\n",
       "      <th>0</th>\n",
       "      <td>19</td>\n",
       "      <td>female</td>\n",
       "      <td>27.9</td>\n",
       "      <td>0</td>\n",
       "      <td>yes</td>\n",
       "      <td>southwest</td>\n",
       "      <td>16884.924</td>\n",
       "    </tr>\n",
       "    <tr>\n",
       "      <th>1</th>\n",
       "      <td>18</td>\n",
       "      <td>male</td>\n",
       "      <td>33.77</td>\n",
       "      <td>1</td>\n",
       "      <td>no</td>\n",
       "      <td>southeast</td>\n",
       "      <td>1725.5523</td>\n",
       "    </tr>\n",
       "    <tr>\n",
       "      <th>2</th>\n",
       "      <td>28</td>\n",
       "      <td>male</td>\n",
       "      <td>33</td>\n",
       "      <td>3</td>\n",
       "      <td>no</td>\n",
       "      <td>southeast</td>\n",
       "      <td>4449.462</td>\n",
       "    </tr>\n",
       "  </tbody>\n",
       "</table>\n",
       "</div>"
      ],
      "text/plain": [
       "  age     sex    bmi children smoker     region    charges\n",
       "0  19  female   27.9        0    yes  southwest  16884.924\n",
       "1  18    male  33.77        1     no  southeast  1725.5523\n",
       "2  28    male     33        3     no  southeast   4449.462"
      ]
     },
     "execution_count": 28,
     "metadata": {},
     "output_type": "execute_result"
    }
   ],
   "source": [
    "df.head(3)"
   ]
  },
  {
   "cell_type": "code",
   "execution_count": 29,
   "id": "786f199f",
   "metadata": {},
   "outputs": [
    {
     "data": {
      "text/html": [
       "<div>\n",
       "<style scoped>\n",
       "    .dataframe tbody tr th:only-of-type {\n",
       "        vertical-align: middle;\n",
       "    }\n",
       "\n",
       "    .dataframe tbody tr th {\n",
       "        vertical-align: top;\n",
       "    }\n",
       "\n",
       "    .dataframe thead th {\n",
       "        text-align: right;\n",
       "    }\n",
       "</style>\n",
       "<table border=\"1\" class=\"dataframe\">\n",
       "  <thead>\n",
       "    <tr style=\"text-align: right;\">\n",
       "      <th></th>\n",
       "      <th>age</th>\n",
       "      <th>sex</th>\n",
       "      <th>bmi</th>\n",
       "      <th>children</th>\n",
       "      <th>smoker</th>\n",
       "      <th>region</th>\n",
       "      <th>charges</th>\n",
       "    </tr>\n",
       "  </thead>\n",
       "  <tbody>\n",
       "    <tr>\n",
       "      <th>1335</th>\n",
       "      <td>18</td>\n",
       "      <td>female</td>\n",
       "      <td>36.85</td>\n",
       "      <td>0</td>\n",
       "      <td>no</td>\n",
       "      <td>southeast</td>\n",
       "      <td>1629.8335</td>\n",
       "    </tr>\n",
       "    <tr>\n",
       "      <th>1336</th>\n",
       "      <td>21</td>\n",
       "      <td>female</td>\n",
       "      <td>25.8</td>\n",
       "      <td>0</td>\n",
       "      <td>no</td>\n",
       "      <td>southwest</td>\n",
       "      <td>2007.945</td>\n",
       "    </tr>\n",
       "    <tr>\n",
       "      <th>1337</th>\n",
       "      <td>61</td>\n",
       "      <td>female</td>\n",
       "      <td>29.07</td>\n",
       "      <td>0</td>\n",
       "      <td>yes</td>\n",
       "      <td>northwest</td>\n",
       "      <td>29141.3603</td>\n",
       "    </tr>\n",
       "  </tbody>\n",
       "</table>\n",
       "</div>"
      ],
      "text/plain": [
       "     age     sex    bmi children smoker     region     charges\n",
       "1335  18  female  36.85        0     no  southeast   1629.8335\n",
       "1336  21  female   25.8        0     no  southwest    2007.945\n",
       "1337  61  female  29.07        0    yes  northwest  29141.3603"
      ]
     },
     "execution_count": 29,
     "metadata": {},
     "output_type": "execute_result"
    }
   ],
   "source": [
    "df.tail(3)"
   ]
  },
  {
   "cell_type": "code",
   "execution_count": 30,
   "id": "25a7f746",
   "metadata": {},
   "outputs": [
    {
     "data": {
      "text/plain": [
       "(1338, 7)"
      ]
     },
     "execution_count": 30,
     "metadata": {},
     "output_type": "execute_result"
    }
   ],
   "source": [
    "df.shape"
   ]
  },
  {
   "cell_type": "code",
   "execution_count": 31,
   "id": "01f83b1e",
   "metadata": {},
   "outputs": [
    {
     "data": {
      "text/plain": [
       "male      676\n",
       "female    662\n",
       "Name: sex, dtype: int64"
      ]
     },
     "execution_count": 31,
     "metadata": {},
     "output_type": "execute_result"
    }
   ],
   "source": [
    "df['sex'].value_counts()"
   ]
  },
  {
   "cell_type": "code",
   "execution_count": 32,
   "id": "448d9187",
   "metadata": {},
   "outputs": [
    {
     "data": {
      "text/plain": [
       "50.52316890881914"
      ]
     },
     "execution_count": 32,
     "metadata": {},
     "output_type": "execute_result"
    }
   ],
   "source": [
    "df['sex'].value_counts(max).loc['male']*100"
   ]
  },
  {
   "cell_type": "code",
   "execution_count": 33,
   "id": "a838f62e",
   "metadata": {},
   "outputs": [
    {
     "data": {
      "text/plain": [
       "0    574\n",
       "1    324\n",
       "2    240\n",
       "3    157\n",
       "4     25\n",
       "5     18\n",
       "Name: children, dtype: int64"
      ]
     },
     "execution_count": 33,
     "metadata": {},
     "output_type": "execute_result"
    }
   ],
   "source": [
    "df['children'].value_counts()"
   ]
  },
  {
   "cell_type": "code",
   "execution_count": 34,
   "id": "532401c5",
   "metadata": {},
   "outputs": [
    {
     "data": {
      "text/plain": [
       "0    0.428999\n",
       "1    0.242152\n",
       "2    0.179372\n",
       "3    0.117339\n",
       "4    0.018685\n",
       "5    0.013453\n",
       "Name: children, dtype: float64"
      ]
     },
     "execution_count": 34,
     "metadata": {},
     "output_type": "execute_result"
    }
   ],
   "source": [
    "df['children'].value_counts(max)"
   ]
  },
  {
   "cell_type": "code",
   "execution_count": 35,
   "id": "2535f486",
   "metadata": {},
   "outputs": [
    {
     "data": {
      "text/plain": [
       "no     1064\n",
       "yes     274\n",
       "Name: smoker, dtype: int64"
      ]
     },
     "execution_count": 35,
     "metadata": {},
     "output_type": "execute_result"
    }
   ],
   "source": [
    "df['smoker'].value_counts()"
   ]
  },
  {
   "cell_type": "code",
   "execution_count": 36,
   "id": "13483cc7",
   "metadata": {},
   "outputs": [
    {
     "data": {
      "text/plain": [
       "southeast    364\n",
       "southwest    325\n",
       "northwest    325\n",
       "northeast    324\n",
       "Name: region, dtype: int64"
      ]
     },
     "execution_count": 36,
     "metadata": {},
     "output_type": "execute_result"
    }
   ],
   "source": [
    "df['region'].value_counts()"
   ]
  },
  {
   "cell_type": "code",
   "execution_count": 37,
   "id": "e52818d1",
   "metadata": {},
   "outputs": [
    {
     "data": {
      "text/html": [
       "<div>\n",
       "<style scoped>\n",
       "    .dataframe tbody tr th:only-of-type {\n",
       "        vertical-align: middle;\n",
       "    }\n",
       "\n",
       "    .dataframe tbody tr th {\n",
       "        vertical-align: top;\n",
       "    }\n",
       "\n",
       "    .dataframe thead th {\n",
       "        text-align: right;\n",
       "    }\n",
       "</style>\n",
       "<table border=\"1\" class=\"dataframe\">\n",
       "  <thead>\n",
       "    <tr style=\"text-align: right;\">\n",
       "      <th></th>\n",
       "      <th>age</th>\n",
       "      <th>sex</th>\n",
       "      <th>bmi</th>\n",
       "      <th>children</th>\n",
       "      <th>smoker</th>\n",
       "      <th>region</th>\n",
       "      <th>charges</th>\n",
       "    </tr>\n",
       "  </thead>\n",
       "  <tbody>\n",
       "    <tr>\n",
       "      <th>0</th>\n",
       "      <td>19</td>\n",
       "      <td>female</td>\n",
       "      <td>27.9</td>\n",
       "      <td>0</td>\n",
       "      <td>yes</td>\n",
       "      <td>southwest</td>\n",
       "      <td>16884.924</td>\n",
       "    </tr>\n",
       "    <tr>\n",
       "      <th>1</th>\n",
       "      <td>18</td>\n",
       "      <td>male</td>\n",
       "      <td>33.77</td>\n",
       "      <td>1</td>\n",
       "      <td>no</td>\n",
       "      <td>southeast</td>\n",
       "      <td>1725.5523</td>\n",
       "    </tr>\n",
       "    <tr>\n",
       "      <th>2</th>\n",
       "      <td>28</td>\n",
       "      <td>male</td>\n",
       "      <td>33</td>\n",
       "      <td>3</td>\n",
       "      <td>no</td>\n",
       "      <td>southeast</td>\n",
       "      <td>4449.462</td>\n",
       "    </tr>\n",
       "    <tr>\n",
       "      <th>3</th>\n",
       "      <td>33</td>\n",
       "      <td>male</td>\n",
       "      <td>22.705</td>\n",
       "      <td>0</td>\n",
       "      <td>no</td>\n",
       "      <td>northwest</td>\n",
       "      <td>21984.47061</td>\n",
       "    </tr>\n",
       "    <tr>\n",
       "      <th>4</th>\n",
       "      <td>32</td>\n",
       "      <td>male</td>\n",
       "      <td>28.88</td>\n",
       "      <td>0</td>\n",
       "      <td>no</td>\n",
       "      <td>northwest</td>\n",
       "      <td>3866.8552</td>\n",
       "    </tr>\n",
       "  </tbody>\n",
       "</table>\n",
       "</div>"
      ],
      "text/plain": [
       "  age     sex     bmi children smoker     region      charges\n",
       "0  19  female    27.9        0    yes  southwest    16884.924\n",
       "1  18    male   33.77        1     no  southeast    1725.5523\n",
       "2  28    male      33        3     no  southeast     4449.462\n",
       "3  33    male  22.705        0     no  northwest  21984.47061\n",
       "4  32    male   28.88        0     no  northwest    3866.8552"
      ]
     },
     "execution_count": 37,
     "metadata": {},
     "output_type": "execute_result"
    }
   ],
   "source": [
    "df.head()"
   ]
  },
  {
   "cell_type": "code",
   "execution_count": 38,
   "id": "5f8d9a56",
   "metadata": {},
   "outputs": [],
   "source": [
    "def mean_insurance():\n",
    "    total = 0\n",
    "    for num in df['charges']:\n",
    "        total += int(float(num))\n",
    "    mean = round(total / len(df))\n",
    "    return mean"
   ]
  },
  {
   "cell_type": "code",
   "execution_count": 39,
   "id": "788ae6f0",
   "metadata": {},
   "outputs": [],
   "source": [
    "mean_insurance = mean_insurance()"
   ]
  },
  {
   "cell_type": "code",
   "execution_count": 40,
   "id": "d94221dd",
   "metadata": {},
   "outputs": [
    {
     "name": "stdout",
     "output_type": "stream",
     "text": [
      "The average insurance cost is $13,270\n"
     ]
    }
   ],
   "source": [
    "print(f'The average insurance cost is ${mean_insurance:,}')"
   ]
  },
  {
   "cell_type": "code",
   "execution_count": 41,
   "id": "a977b80c",
   "metadata": {},
   "outputs": [],
   "source": [
    "filt = (df['smoker'] == 'yes')"
   ]
  },
  {
   "cell_type": "code",
   "execution_count": 42,
   "id": "acd5f88a",
   "metadata": {},
   "outputs": [
    {
     "data": {
      "text/html": [
       "<div>\n",
       "<style scoped>\n",
       "    .dataframe tbody tr th:only-of-type {\n",
       "        vertical-align: middle;\n",
       "    }\n",
       "\n",
       "    .dataframe tbody tr th {\n",
       "        vertical-align: top;\n",
       "    }\n",
       "\n",
       "    .dataframe thead th {\n",
       "        text-align: right;\n",
       "    }\n",
       "</style>\n",
       "<table border=\"1\" class=\"dataframe\">\n",
       "  <thead>\n",
       "    <tr style=\"text-align: right;\">\n",
       "      <th></th>\n",
       "      <th>age</th>\n",
       "      <th>sex</th>\n",
       "      <th>bmi</th>\n",
       "      <th>children</th>\n",
       "      <th>smoker</th>\n",
       "      <th>region</th>\n",
       "      <th>charges</th>\n",
       "    </tr>\n",
       "  </thead>\n",
       "  <tbody>\n",
       "    <tr>\n",
       "      <th>0</th>\n",
       "      <td>19</td>\n",
       "      <td>female</td>\n",
       "      <td>27.9</td>\n",
       "      <td>0</td>\n",
       "      <td>yes</td>\n",
       "      <td>southwest</td>\n",
       "      <td>16884.924</td>\n",
       "    </tr>\n",
       "    <tr>\n",
       "      <th>11</th>\n",
       "      <td>62</td>\n",
       "      <td>female</td>\n",
       "      <td>26.29</td>\n",
       "      <td>0</td>\n",
       "      <td>yes</td>\n",
       "      <td>southeast</td>\n",
       "      <td>27808.7251</td>\n",
       "    </tr>\n",
       "    <tr>\n",
       "      <th>14</th>\n",
       "      <td>27</td>\n",
       "      <td>male</td>\n",
       "      <td>42.13</td>\n",
       "      <td>0</td>\n",
       "      <td>yes</td>\n",
       "      <td>southeast</td>\n",
       "      <td>39611.7577</td>\n",
       "    </tr>\n",
       "    <tr>\n",
       "      <th>19</th>\n",
       "      <td>30</td>\n",
       "      <td>male</td>\n",
       "      <td>35.3</td>\n",
       "      <td>0</td>\n",
       "      <td>yes</td>\n",
       "      <td>southwest</td>\n",
       "      <td>36837.467</td>\n",
       "    </tr>\n",
       "    <tr>\n",
       "      <th>23</th>\n",
       "      <td>34</td>\n",
       "      <td>female</td>\n",
       "      <td>31.92</td>\n",
       "      <td>1</td>\n",
       "      <td>yes</td>\n",
       "      <td>northeast</td>\n",
       "      <td>37701.8768</td>\n",
       "    </tr>\n",
       "    <tr>\n",
       "      <th>...</th>\n",
       "      <td>...</td>\n",
       "      <td>...</td>\n",
       "      <td>...</td>\n",
       "      <td>...</td>\n",
       "      <td>...</td>\n",
       "      <td>...</td>\n",
       "      <td>...</td>\n",
       "    </tr>\n",
       "    <tr>\n",
       "      <th>1313</th>\n",
       "      <td>19</td>\n",
       "      <td>female</td>\n",
       "      <td>34.7</td>\n",
       "      <td>2</td>\n",
       "      <td>yes</td>\n",
       "      <td>southwest</td>\n",
       "      <td>36397.576</td>\n",
       "    </tr>\n",
       "    <tr>\n",
       "      <th>1314</th>\n",
       "      <td>30</td>\n",
       "      <td>female</td>\n",
       "      <td>23.655</td>\n",
       "      <td>3</td>\n",
       "      <td>yes</td>\n",
       "      <td>northwest</td>\n",
       "      <td>18765.87545</td>\n",
       "    </tr>\n",
       "    <tr>\n",
       "      <th>1321</th>\n",
       "      <td>62</td>\n",
       "      <td>male</td>\n",
       "      <td>26.695</td>\n",
       "      <td>0</td>\n",
       "      <td>yes</td>\n",
       "      <td>northeast</td>\n",
       "      <td>28101.33305</td>\n",
       "    </tr>\n",
       "    <tr>\n",
       "      <th>1323</th>\n",
       "      <td>42</td>\n",
       "      <td>female</td>\n",
       "      <td>40.37</td>\n",
       "      <td>2</td>\n",
       "      <td>yes</td>\n",
       "      <td>southeast</td>\n",
       "      <td>43896.3763</td>\n",
       "    </tr>\n",
       "    <tr>\n",
       "      <th>1337</th>\n",
       "      <td>61</td>\n",
       "      <td>female</td>\n",
       "      <td>29.07</td>\n",
       "      <td>0</td>\n",
       "      <td>yes</td>\n",
       "      <td>northwest</td>\n",
       "      <td>29141.3603</td>\n",
       "    </tr>\n",
       "  </tbody>\n",
       "</table>\n",
       "<p>274 rows × 7 columns</p>\n",
       "</div>"
      ],
      "text/plain": [
       "     age     sex     bmi children smoker     region      charges\n",
       "0     19  female    27.9        0    yes  southwest    16884.924\n",
       "11    62  female   26.29        0    yes  southeast   27808.7251\n",
       "14    27    male   42.13        0    yes  southeast   39611.7577\n",
       "19    30    male    35.3        0    yes  southwest    36837.467\n",
       "23    34  female   31.92        1    yes  northeast   37701.8768\n",
       "...   ..     ...     ...      ...    ...        ...          ...\n",
       "1313  19  female    34.7        2    yes  southwest    36397.576\n",
       "1314  30  female  23.655        3    yes  northwest  18765.87545\n",
       "1321  62    male  26.695        0    yes  northeast  28101.33305\n",
       "1323  42  female   40.37        2    yes  southeast   43896.3763\n",
       "1337  61  female   29.07        0    yes  northwest   29141.3603\n",
       "\n",
       "[274 rows x 7 columns]"
      ]
     },
     "execution_count": 42,
     "metadata": {},
     "output_type": "execute_result"
    }
   ],
   "source": [
    "df[filt]"
   ]
  },
  {
   "cell_type": "code",
   "execution_count": 43,
   "id": "e8d27823",
   "metadata": {},
   "outputs": [],
   "source": [
    "smokers_list = []\n",
    "def smoker_vs_nonsmokers(smoker_status):\n",
    "    total_cost1 = 0\n",
    "    total_cost2 = 0\n",
    "    str1 = 'The number of '\n",
    "    str2 = 'The average insurance cost for smokers is'\n",
    "    str3 = 'The difference between the average insurance cost and the '\n",
    "    for num in df[filt]['charges']:\n",
    "            smokers_list.append(num)\n",
    "            total_cost1 += int(float(num))\n",
    "    mean1 = round(total_cost1 / len(smokers_list))\n",
    "    print(f'''{str1}smokers is {len(smokers_list)}. {str2} ${mean1:,}. \n",
    "This is ${(mean1 - mean_insurance):,} more than the ${mean_insurance:,} average insurance.''')"
   ]
  },
  {
   "cell_type": "code",
   "execution_count": 44,
   "id": "01042b62",
   "metadata": {},
   "outputs": [
    {
     "name": "stdout",
     "output_type": "stream",
     "text": [
      "The number of smokers is 274. The average insurance cost for smokers is $32,050. \n",
      "This is $18,780 more than the $13,270 average insurance.\n"
     ]
    }
   ],
   "source": [
    "smoker_vs_nonsmokers('smoker')"
   ]
  },
  {
   "cell_type": "code",
   "execution_count": 45,
   "id": "c476d72d",
   "metadata": {},
   "outputs": [],
   "source": [
    "dfnew = pd.read_csv('insurance.csv')"
   ]
  },
  {
   "cell_type": "code",
   "execution_count": 46,
   "id": "af32e2f5",
   "metadata": {},
   "outputs": [
    {
     "data": {
      "text/plain": [
       "13270"
      ]
     },
     "execution_count": 46,
     "metadata": {},
     "output_type": "execute_result"
    }
   ],
   "source": [
    "round(dfnew.charges.mean())"
   ]
  },
  {
   "cell_type": "code",
   "execution_count": 47,
   "id": "d83cd704",
   "metadata": {},
   "outputs": [],
   "source": [
    "filt1 = (dfnew['smoker'] == 'yes')\n",
    "filt2 = (dfnew['smoker'] == 'no')\n",
    "filt3 = (dfnew['children'] == 0)\n",
    "filt4 = (dfnew['children'] >= 1)\n",
    "filt5 = (dfnew['sex'] == 'female')\n",
    "filt6 = (dfnew['sex'] == 'male')"
   ]
  },
  {
   "cell_type": "code",
   "execution_count": 48,
   "id": "61e089b8",
   "metadata": {},
   "outputs": [],
   "source": [
    "def insurance_cost(status):\n",
    "    print(f'For everyone in this sample the average insurance cost is ${round(dfnew.charges.mean()):,}')\n",
    "    string = 'The average insurance cost for ' + status + 's'\n",
    "    if status == 'smoker':\n",
    "        print(f'{string} is ${round(dfnew[filt1].charges.mean()):,}')\n",
    "    elif status == 'non smoker':\n",
    "        print(f'{string} is ${round(dfnew[filt2].charges.mean()):,}')\n",
    "    elif status == 'no parent':\n",
    "        print(f'{string} is ${round(dfnew[filt3].charges.mean()):,}')\n",
    "    elif status == 'parent':\n",
    "        print(f'{string} is ${round(dfnew[filt4].charges.mean()):,}')\n",
    "    elif status == 'female':\n",
    "        print(f'{string} is ${round(dfnew[filt5].charges.mean()):,}')\n",
    "    elif status == 'male':\n",
    "        print(f'{string} is ${round(dfnew[filt6].charges.mean()):,}')\n",
    "    else:\n",
    "        raise ValueError('''Invalid data. The possible inputs are: \n",
    "[\"smoker\", \"non smoker\", \"parent\", \"no parent\", \"female\", \"male\"]''')"
   ]
  },
  {
   "cell_type": "code",
   "execution_count": 49,
   "id": "0ef8343a",
   "metadata": {},
   "outputs": [
    {
     "name": "stdout",
     "output_type": "stream",
     "text": [
      "For everyone in this sample the average insurance cost is $13,270\n",
      "The average insurance cost for non smokers is $8,434\n"
     ]
    }
   ],
   "source": [
    "insurance_cost('non smoker')"
   ]
  },
  {
   "cell_type": "code",
   "execution_count": 50,
   "id": "b065cb34",
   "metadata": {},
   "outputs": [
    {
     "data": {
      "image/png": "[encoded data removed]",
      "text/plain": [
       "<Figure size 640x480 with 1 Axes>"
      ]
     },
     "metadata": {},
     "output_type": "display_data"
    }
   ],
   "source": [
    "plt.hist(dfnew.charges)\n",
    "plt.show()"
   ]
  },
  {
   "cell_type": "code",
   "execution_count": 51,
   "id": "b84aa887",
   "metadata": {},
   "outputs": [
    {
     "data": {
      "image/png": "[encoded data removed]",
      "text/plain": [
       "<Figure size 640x480 with 1 Axes>"
      ]
     },
     "metadata": {},
     "output_type": "display_data"
    }
   ],
   "source": [
    "plt.hist(data = dfnew, x='bmi')\n",
    "plt.show()"
   ]
  },
  {
   "cell_type": "code",
   "execution_count": 52,
   "id": "ef446907",
   "metadata": {},
   "outputs": [
    {
     "data": {
      "image/png": "[encoded data removed]",
      "text/plain": [
       "<Figure size 640x480 with 1 Axes>"
      ]
     },
     "metadata": {},
     "output_type": "display_data"
    }
   ],
   "source": [
    "sns.histplot(x='children', data=dfnew, color='green')\n",
    "plt.show()\n",
    "plt.close()"
   ]
  },
  {
   "cell_type": "code",
   "execution_count": 53,
   "id": "84bdc48e",
   "metadata": {},
   "outputs": [
    {
     "data": {
      "image/png": "[encoded data removed]",
      "text/plain": [
       "<Figure size 640x480 with 1 Axes>"
      ]
     },
     "metadata": {},
     "output_type": "display_data"
    }
   ],
   "source": [
    "plt.hist(dfnew.bmi)\n",
    "plt.show()"
   ]
  },
  {
   "cell_type": "code",
   "execution_count": 54,
   "id": "9dd640e5",
   "metadata": {},
   "outputs": [
    {
     "data": {
      "image/png": "[encoded data removed]",
      "text/plain": [
       "<Figure size 640x480 with 1 Axes>"
      ]
     },
     "metadata": {},
     "output_type": "display_data"
    }
   ],
   "source": [
    "sns.histplot(dfnew.bmi, kde='True', color='black')\n",
    "plt.show()\n",
    "plt.close()"
   ]
  },
  {
   "cell_type": "code",
   "execution_count": 78,
   "id": "2225abbc",
   "metadata": {},
   "outputs": [
    {
     "data": {
      "image/png": "[encoded data removed]",
      "text/plain": [
       "<Figure size 640x480 with 1 Axes>"
      ]
     },
     "metadata": {},
     "output_type": "display_data"
    }
   ],
   "source": [
    "sns.boxplot(x='smoker', y='charges', data=dfnew, hue='sex', palette='pastel')\n",
    "plt.show()\n",
    "plt.close()"
   ]
  },
  {
   "cell_type": "code",
   "execution_count": 56,
   "id": "5bf725bc",
   "metadata": {},
   "outputs": [],
   "source": [
    "charges_smokers = dfnew.charges[df.smoker == 'yes']\n",
    "charges_non_smokers = dfnew.charges[df.smoker == 'no']"
   ]
  },
  {
   "cell_type": "code",
   "execution_count": 57,
   "id": "5226065a",
   "metadata": {},
   "outputs": [
    {
     "data": {
      "image/png": "[encoded data removed]",
      "text/plain": [
       "<Figure size 640x480 with 1 Axes>"
      ]
     },
     "metadata": {},
     "output_type": "display_data"
    }
   ],
   "source": [
    "plt.hist(charges_smokers, color='red', label='smoker', density=True, alpha=0.5)\n",
    "plt.hist(charges_non_smokers, color='green', label='non smoker', density=True, alpha=0.5)\n",
    "plt.legend()\n",
    "plt.show()"
   ]
  },
  {
   "cell_type": "code",
   "execution_count": 58,
   "id": "0c713a1c",
   "metadata": {},
   "outputs": [
    {
     "data": {
      "image/png": "[encoded data removed]",
      "text/plain": [
       "<Figure size 640x480 with 1 Axes>"
      ]
     },
     "metadata": {},
     "output_type": "display_data"
    }
   ],
   "source": [
    "sns.countplot(x='region', data=dfnew)\n",
    "plt.show()\n",
    "plt.close()"
   ]
  },
  {
   "cell_type": "code",
   "execution_count": 83,
   "id": "bebb21ba",
   "metadata": {},
   "outputs": [
    {
     "data": {
      "image/png": "[encoded data removed]",
      "text/plain": [
       "<Figure size 640x480 with 1 Axes>"
      ]
     },
     "metadata": {},
     "output_type": "display_data"
    }
   ],
   "source": [
    "dfnew.region.value_counts().plot.pie()\n",
    "plt.show()\n",
    "plt.close()"
   ]
  },
  {
   "cell_type": "code",
   "execution_count": 60,
   "id": "4c4c3230",
   "metadata": {},
   "outputs": [],
   "source": [
    "max_charges_bmi = dfnew.groupby('bmi').charges.max().reset_index()"
   ]
  },
  {
   "cell_type": "code",
   "execution_count": 61,
   "id": "d13db631",
   "metadata": {},
   "outputs": [
    {
     "data": {
      "text/html": [
       "<div>\n",
       "<style scoped>\n",
       "    .dataframe tbody tr th:only-of-type {\n",
       "        vertical-align: middle;\n",
       "    }\n",
       "\n",
       "    .dataframe tbody tr th {\n",
       "        vertical-align: top;\n",
       "    }\n",
       "\n",
       "    .dataframe thead th {\n",
       "        text-align: right;\n",
       "    }\n",
       "</style>\n",
       "<table border=\"1\" class=\"dataframe\">\n",
       "  <thead>\n",
       "    <tr style=\"text-align: right;\">\n",
       "      <th></th>\n",
       "      <th>bmi</th>\n",
       "      <th>charges</th>\n",
       "    </tr>\n",
       "  </thead>\n",
       "  <tbody>\n",
       "    <tr>\n",
       "      <th>0</th>\n",
       "      <td>15.960</td>\n",
       "      <td>1694.79640</td>\n",
       "    </tr>\n",
       "    <tr>\n",
       "      <th>1</th>\n",
       "      <td>16.815</td>\n",
       "      <td>6640.54485</td>\n",
       "    </tr>\n",
       "    <tr>\n",
       "      <th>2</th>\n",
       "      <td>17.195</td>\n",
       "      <td>14455.64405</td>\n",
       "    </tr>\n",
       "  </tbody>\n",
       "</table>\n",
       "</div>"
      ],
      "text/plain": [
       "      bmi      charges\n",
       "0  15.960   1694.79640\n",
       "1  16.815   6640.54485\n",
       "2  17.195  14455.64405"
      ]
     },
     "execution_count": 61,
     "metadata": {},
     "output_type": "execute_result"
    }
   ],
   "source": [
    "max_charges_bmi.head(3)"
   ]
  },
  {
   "cell_type": "code",
   "execution_count": 62,
   "id": "4956a172",
   "metadata": {},
   "outputs": [
    {
     "data": {
      "text/plain": [
       "6640.54485"
      ]
     },
     "execution_count": 62,
     "metadata": {},
     "output_type": "execute_result"
    }
   ],
   "source": [
    "max_charges_bmi.iloc[1][1]"
   ]
  },
  {
   "cell_type": "code",
   "execution_count": 63,
   "id": "841ce07b",
   "metadata": {},
   "outputs": [],
   "source": [
    "ages_max_charges = dfnew.groupby('age').charges.max().round().reset_index()"
   ]
  },
  {
   "cell_type": "code",
   "execution_count": 64,
   "id": "6521babf",
   "metadata": {},
   "outputs": [
    {
     "data": {
      "text/html": [
       "<div>\n",
       "<style scoped>\n",
       "    .dataframe tbody tr th:only-of-type {\n",
       "        vertical-align: middle;\n",
       "    }\n",
       "\n",
       "    .dataframe tbody tr th {\n",
       "        vertical-align: top;\n",
       "    }\n",
       "\n",
       "    .dataframe thead th {\n",
       "        text-align: right;\n",
       "    }\n",
       "</style>\n",
       "<table border=\"1\" class=\"dataframe\">\n",
       "  <thead>\n",
       "    <tr style=\"text-align: right;\">\n",
       "      <th></th>\n",
       "      <th>age</th>\n",
       "      <th>charges</th>\n",
       "    </tr>\n",
       "  </thead>\n",
       "  <tbody>\n",
       "    <tr>\n",
       "      <th>0</th>\n",
       "      <td>18</td>\n",
       "      <td>38793.0</td>\n",
       "    </tr>\n",
       "    <tr>\n",
       "      <th>1</th>\n",
       "      <td>19</td>\n",
       "      <td>39723.0</td>\n",
       "    </tr>\n",
       "    <tr>\n",
       "      <th>2</th>\n",
       "      <td>20</td>\n",
       "      <td>38345.0</td>\n",
       "    </tr>\n",
       "  </tbody>\n",
       "</table>\n",
       "</div>"
      ],
      "text/plain": [
       "   age  charges\n",
       "0   18  38793.0\n",
       "1   19  39723.0\n",
       "2   20  38345.0"
      ]
     },
     "execution_count": 64,
     "metadata": {},
     "output_type": "execute_result"
    }
   ],
   "source": [
    "ages_max_charges.head(3)"
   ]
  },
  {
   "cell_type": "code",
   "execution_count": 65,
   "id": "a8184e8b",
   "metadata": {},
   "outputs": [],
   "source": [
    "q1_charges_by_age = dfnew.groupby('age').charges.apply(lambda x: np.percentile(x, 25)).reset_index()"
   ]
  },
  {
   "cell_type": "code",
   "execution_count": 66,
   "id": "828feac8",
   "metadata": {},
   "outputs": [
    {
     "data": {
      "text/html": [
       "<div>\n",
       "<style scoped>\n",
       "    .dataframe tbody tr th:only-of-type {\n",
       "        vertical-align: middle;\n",
       "    }\n",
       "\n",
       "    .dataframe tbody tr th {\n",
       "        vertical-align: top;\n",
       "    }\n",
       "\n",
       "    .dataframe thead th {\n",
       "        text-align: right;\n",
       "    }\n",
       "</style>\n",
       "<table border=\"1\" class=\"dataframe\">\n",
       "  <thead>\n",
       "    <tr style=\"text-align: right;\">\n",
       "      <th></th>\n",
       "      <th>age</th>\n",
       "      <th>charges</th>\n",
       "    </tr>\n",
       "  </thead>\n",
       "  <tbody>\n",
       "    <tr>\n",
       "      <th>0</th>\n",
       "      <td>18</td>\n",
       "      <td>1633.0444</td>\n",
       "    </tr>\n",
       "    <tr>\n",
       "      <th>1</th>\n",
       "      <td>19</td>\n",
       "      <td>1639.5631</td>\n",
       "    </tr>\n",
       "    <tr>\n",
       "      <th>2</th>\n",
       "      <td>20</td>\n",
       "      <td>1967.0227</td>\n",
       "    </tr>\n",
       "  </tbody>\n",
       "</table>\n",
       "</div>"
      ],
      "text/plain": [
       "   age    charges\n",
       "0   18  1633.0444\n",
       "1   19  1639.5631\n",
       "2   20  1967.0227"
      ]
     },
     "execution_count": 66,
     "metadata": {},
     "output_type": "execute_result"
    }
   ],
   "source": [
    "q1_charges_by_age.head(3)"
   ]
  },
  {
   "cell_type": "code",
   "execution_count": 67,
   "id": "78182acd",
   "metadata": {},
   "outputs": [],
   "source": [
    "unpivoted = dfnew.groupby(['children', 'smoker'])['charges'].mean().reset_index()"
   ]
  },
  {
   "cell_type": "code",
   "execution_count": 68,
   "id": "f0901575",
   "metadata": {},
   "outputs": [
    {
     "data": {
      "text/html": [
       "<div>\n",
       "<style scoped>\n",
       "    .dataframe tbody tr th:only-of-type {\n",
       "        vertical-align: middle;\n",
       "    }\n",
       "\n",
       "    .dataframe tbody tr th {\n",
       "        vertical-align: top;\n",
       "    }\n",
       "\n",
       "    .dataframe thead th {\n",
       "        text-align: right;\n",
       "    }\n",
       "</style>\n",
       "<table border=\"1\" class=\"dataframe\">\n",
       "  <thead>\n",
       "    <tr style=\"text-align: right;\">\n",
       "      <th></th>\n",
       "      <th>children</th>\n",
       "      <th>smoker</th>\n",
       "      <th>charges</th>\n",
       "    </tr>\n",
       "  </thead>\n",
       "  <tbody>\n",
       "    <tr>\n",
       "      <th>0</th>\n",
       "      <td>0</td>\n",
       "      <td>no</td>\n",
       "      <td>7611.793335</td>\n",
       "    </tr>\n",
       "    <tr>\n",
       "      <th>1</th>\n",
       "      <td>0</td>\n",
       "      <td>yes</td>\n",
       "      <td>31341.363954</td>\n",
       "    </tr>\n",
       "    <tr>\n",
       "      <th>2</th>\n",
       "      <td>1</td>\n",
       "      <td>no</td>\n",
       "      <td>8303.109350</td>\n",
       "    </tr>\n",
       "    <tr>\n",
       "      <th>3</th>\n",
       "      <td>1</td>\n",
       "      <td>yes</td>\n",
       "      <td>31822.654334</td>\n",
       "    </tr>\n",
       "    <tr>\n",
       "      <th>4</th>\n",
       "      <td>2</td>\n",
       "      <td>no</td>\n",
       "      <td>9493.093674</td>\n",
       "    </tr>\n",
       "    <tr>\n",
       "      <th>5</th>\n",
       "      <td>2</td>\n",
       "      <td>yes</td>\n",
       "      <td>33844.235755</td>\n",
       "    </tr>\n",
       "    <tr>\n",
       "      <th>6</th>\n",
       "      <td>3</td>\n",
       "      <td>no</td>\n",
       "      <td>9614.519391</td>\n",
       "    </tr>\n",
       "    <tr>\n",
       "      <th>7</th>\n",
       "      <td>3</td>\n",
       "      <td>yes</td>\n",
       "      <td>32724.915268</td>\n",
       "    </tr>\n",
       "    <tr>\n",
       "      <th>8</th>\n",
       "      <td>4</td>\n",
       "      <td>no</td>\n",
       "      <td>12121.344408</td>\n",
       "    </tr>\n",
       "    <tr>\n",
       "      <th>9</th>\n",
       "      <td>4</td>\n",
       "      <td>yes</td>\n",
       "      <td>26532.276933</td>\n",
       "    </tr>\n",
       "    <tr>\n",
       "      <th>10</th>\n",
       "      <td>5</td>\n",
       "      <td>no</td>\n",
       "      <td>8183.845556</td>\n",
       "    </tr>\n",
       "    <tr>\n",
       "      <th>11</th>\n",
       "      <td>5</td>\n",
       "      <td>yes</td>\n",
       "      <td>19023.260000</td>\n",
       "    </tr>\n",
       "  </tbody>\n",
       "</table>\n",
       "</div>"
      ],
      "text/plain": [
       "    children smoker       charges\n",
       "0          0     no   7611.793335\n",
       "1          0    yes  31341.363954\n",
       "2          1     no   8303.109350\n",
       "3          1    yes  31822.654334\n",
       "4          2     no   9493.093674\n",
       "5          2    yes  33844.235755\n",
       "6          3     no   9614.519391\n",
       "7          3    yes  32724.915268\n",
       "8          4     no  12121.344408\n",
       "9          4    yes  26532.276933\n",
       "10         5     no   8183.845556\n",
       "11         5    yes  19023.260000"
      ]
     },
     "execution_count": 68,
     "metadata": {},
     "output_type": "execute_result"
    }
   ],
   "source": [
    "unpivoted"
   ]
  },
  {
   "cell_type": "code",
   "execution_count": 69,
   "id": "09682b83",
   "metadata": {},
   "outputs": [],
   "source": [
    "pivoted = unpivoted.pivot(\n",
    "columns='smoker',\n",
    "index='children',\n",
    "values='charges')"
   ]
  },
  {
   "cell_type": "code",
   "execution_count": 70,
   "id": "e8451919",
   "metadata": {},
   "outputs": [
    {
     "data": {
      "text/html": [
       "<div>\n",
       "<style scoped>\n",
       "    .dataframe tbody tr th:only-of-type {\n",
       "        vertical-align: middle;\n",
       "    }\n",
       "\n",
       "    .dataframe tbody tr th {\n",
       "        vertical-align: top;\n",
       "    }\n",
       "\n",
       "    .dataframe thead th {\n",
       "        text-align: right;\n",
       "    }\n",
       "</style>\n",
       "<table border=\"1\" class=\"dataframe\">\n",
       "  <thead>\n",
       "    <tr style=\"text-align: right;\">\n",
       "      <th>smoker</th>\n",
       "      <th>children</th>\n",
       "      <th>no</th>\n",
       "      <th>yes</th>\n",
       "    </tr>\n",
       "  </thead>\n",
       "  <tbody>\n",
       "    <tr>\n",
       "      <th>0</th>\n",
       "      <td>0</td>\n",
       "      <td>7611.793335</td>\n",
       "      <td>31341.363954</td>\n",
       "    </tr>\n",
       "    <tr>\n",
       "      <th>1</th>\n",
       "      <td>1</td>\n",
       "      <td>8303.109350</td>\n",
       "      <td>31822.654334</td>\n",
       "    </tr>\n",
       "    <tr>\n",
       "      <th>2</th>\n",
       "      <td>2</td>\n",
       "      <td>9493.093674</td>\n",
       "      <td>33844.235755</td>\n",
       "    </tr>\n",
       "    <tr>\n",
       "      <th>3</th>\n",
       "      <td>3</td>\n",
       "      <td>9614.519391</td>\n",
       "      <td>32724.915268</td>\n",
       "    </tr>\n",
       "    <tr>\n",
       "      <th>4</th>\n",
       "      <td>4</td>\n",
       "      <td>12121.344408</td>\n",
       "      <td>26532.276933</td>\n",
       "    </tr>\n",
       "    <tr>\n",
       "      <th>5</th>\n",
       "      <td>5</td>\n",
       "      <td>8183.845556</td>\n",
       "      <td>19023.260000</td>\n",
       "    </tr>\n",
       "  </tbody>\n",
       "</table>\n",
       "</div>"
      ],
      "text/plain": [
       "smoker  children            no           yes\n",
       "0              0   7611.793335  31341.363954\n",
       "1              1   8303.109350  31822.654334\n",
       "2              2   9493.093674  33844.235755\n",
       "3              3   9614.519391  32724.915268\n",
       "4              4  12121.344408  26532.276933\n",
       "5              5   8183.845556  19023.260000"
      ]
     },
     "execution_count": 70,
     "metadata": {},
     "output_type": "execute_result"
    }
   ],
   "source": [
    "pivoted.reset_index()"
   ]
  },
  {
   "cell_type": "code",
   "execution_count": 71,
   "id": "043cab05",
   "metadata": {},
   "outputs": [],
   "source": [
    "pivoted.columns = ['non smoker\\'s cost', 'smoker\\'s cost']"
   ]
  },
  {
   "cell_type": "code",
   "execution_count": 72,
   "id": "8acc1dd3",
   "metadata": {},
   "outputs": [
    {
     "data": {
      "text/html": [
       "<div>\n",
       "<style scoped>\n",
       "    .dataframe tbody tr th:only-of-type {\n",
       "        vertical-align: middle;\n",
       "    }\n",
       "\n",
       "    .dataframe tbody tr th {\n",
       "        vertical-align: top;\n",
       "    }\n",
       "\n",
       "    .dataframe thead th {\n",
       "        text-align: right;\n",
       "    }\n",
       "</style>\n",
       "<table border=\"1\" class=\"dataframe\">\n",
       "  <thead>\n",
       "    <tr style=\"text-align: right;\">\n",
       "      <th></th>\n",
       "      <th>non smoker's cost</th>\n",
       "      <th>smoker's cost</th>\n",
       "    </tr>\n",
       "    <tr>\n",
       "      <th>children</th>\n",
       "      <th></th>\n",
       "      <th></th>\n",
       "    </tr>\n",
       "  </thead>\n",
       "  <tbody>\n",
       "    <tr>\n",
       "      <th>0</th>\n",
       "      <td>7611.793335</td>\n",
       "      <td>31341.363954</td>\n",
       "    </tr>\n",
       "    <tr>\n",
       "      <th>1</th>\n",
       "      <td>8303.109350</td>\n",
       "      <td>31822.654334</td>\n",
       "    </tr>\n",
       "    <tr>\n",
       "      <th>2</th>\n",
       "      <td>9493.093674</td>\n",
       "      <td>33844.235755</td>\n",
       "    </tr>\n",
       "    <tr>\n",
       "      <th>3</th>\n",
       "      <td>9614.519391</td>\n",
       "      <td>32724.915268</td>\n",
       "    </tr>\n",
       "    <tr>\n",
       "      <th>4</th>\n",
       "      <td>12121.344408</td>\n",
       "      <td>26532.276933</td>\n",
       "    </tr>\n",
       "    <tr>\n",
       "      <th>5</th>\n",
       "      <td>8183.845556</td>\n",
       "      <td>19023.260000</td>\n",
       "    </tr>\n",
       "  </tbody>\n",
       "</table>\n",
       "</div>"
      ],
      "text/plain": [
       "          non smoker's cost  smoker's cost\n",
       "children                                  \n",
       "0               7611.793335   31341.363954\n",
       "1               8303.109350   31822.654334\n",
       "2               9493.093674   33844.235755\n",
       "3               9614.519391   32724.915268\n",
       "4              12121.344408   26532.276933\n",
       "5               8183.845556   19023.260000"
      ]
     },
     "execution_count": 72,
     "metadata": {},
     "output_type": "execute_result"
    }
   ],
   "source": [
    "pivoted"
   ]
  },
  {
   "cell_type": "code",
   "execution_count": 73,
   "id": "2158be82",
   "metadata": {},
   "outputs": [
    {
     "data": {
      "text/html": [
       "<div>\n",
       "<style scoped>\n",
       "    .dataframe tbody tr th:only-of-type {\n",
       "        vertical-align: middle;\n",
       "    }\n",
       "\n",
       "    .dataframe tbody tr th {\n",
       "        vertical-align: top;\n",
       "    }\n",
       "\n",
       "    .dataframe thead th {\n",
       "        text-align: right;\n",
       "    }\n",
       "</style>\n",
       "<table border=\"1\" class=\"dataframe\">\n",
       "  <thead>\n",
       "    <tr style=\"text-align: right;\">\n",
       "      <th></th>\n",
       "      <th>age</th>\n",
       "      <th>sex</th>\n",
       "      <th>bmi</th>\n",
       "      <th>children</th>\n",
       "      <th>smoker</th>\n",
       "      <th>region</th>\n",
       "      <th>charges</th>\n",
       "    </tr>\n",
       "  </thead>\n",
       "  <tbody>\n",
       "    <tr>\n",
       "      <th>count</th>\n",
       "      <td>1338</td>\n",
       "      <td>1338</td>\n",
       "      <td>1338</td>\n",
       "      <td>1338</td>\n",
       "      <td>1338</td>\n",
       "      <td>1338</td>\n",
       "      <td>1338</td>\n",
       "    </tr>\n",
       "    <tr>\n",
       "      <th>unique</th>\n",
       "      <td>47</td>\n",
       "      <td>2</td>\n",
       "      <td>548</td>\n",
       "      <td>6</td>\n",
       "      <td>2</td>\n",
       "      <td>4</td>\n",
       "      <td>1337</td>\n",
       "    </tr>\n",
       "    <tr>\n",
       "      <th>top</th>\n",
       "      <td>18</td>\n",
       "      <td>male</td>\n",
       "      <td>32.3</td>\n",
       "      <td>0</td>\n",
       "      <td>no</td>\n",
       "      <td>southeast</td>\n",
       "      <td>1639.5631</td>\n",
       "    </tr>\n",
       "    <tr>\n",
       "      <th>freq</th>\n",
       "      <td>69</td>\n",
       "      <td>676</td>\n",
       "      <td>13</td>\n",
       "      <td>574</td>\n",
       "      <td>1064</td>\n",
       "      <td>364</td>\n",
       "      <td>2</td>\n",
       "    </tr>\n",
       "  </tbody>\n",
       "</table>\n",
       "</div>"
      ],
      "text/plain": [
       "         age   sex   bmi children smoker     region    charges\n",
       "count   1338  1338  1338     1338   1338       1338       1338\n",
       "unique    47     2   548        6      2          4       1337\n",
       "top       18  male  32.3        0     no  southeast  1639.5631\n",
       "freq      69   676    13      574   1064        364          2"
      ]
     },
     "execution_count": 73,
     "metadata": {},
     "output_type": "execute_result"
    }
   ],
   "source": [
    "df.describe(include = 'all')"
   ]
  },
  {
   "cell_type": "code",
   "execution_count": 81,
   "id": "e6985bb0",
   "metadata": {},
   "outputs": [
    {
     "data": {
      "text/plain": [
       "Text(0, 0.5, 'Charges')"
      ]
     },
     "execution_count": 81,
     "metadata": {},
     "output_type": "execute_result"
    },
    {
     "data": {
      "image/png": "[encoded data removed]",
      "text/plain": [
       "<Figure size 640x480 with 1 Axes>"
      ]
     },
     "metadata": {},
     "output_type": "display_data"
    }
   ],
   "source": [
    "plt.scatter(dfnew.age, dfnew.charges)\n",
    "plt.xlabel('Ages')\n",
    "plt.ylabel('Charges')\n",
    "\n"
   ]
  },
  {
   "cell_type": "code",
   "execution_count": 75,
   "id": "f4bd7b87",
   "metadata": {},
   "outputs": [
    {
     "data": {
      "text/plain": [
       "array([[1.97401387e+02, 5.08748023e+04],\n",
       "       [5.08748023e+04, 1.46652372e+08]])"
      ]
     },
     "execution_count": 75,
     "metadata": {},
     "output_type": "execute_result"
    }
   ],
   "source": [
    "np.cov(dfnew.age, dfnew.charges)"
   ]
  },
  {
   "cell_type": "code",
   "execution_count": 76,
   "id": "2492e0c6",
   "metadata": {},
   "outputs": [],
   "source": [
    "correlation, p = pearsonr(dfnew.age, dfnew.charges)"
   ]
  },
  {
   "cell_type": "code",
   "execution_count": 77,
   "id": "b3bbc1f2",
   "metadata": {},
   "outputs": [
    {
     "data": {
      "text/plain": [
       "0.29900819333064765"
      ]
     },
     "execution_count": 77,
     "metadata": {},
     "output_type": "execute_result"
    }
   ],
   "source": [
    "correlation"
   ]
  },
  {
   "cell_type": "code",
   "execution_count": null,
   "id": "3fb38abf",
   "metadata": {},
   "outputs": [],
   "source": []
  }
 ],
 "metadata": {
  "kernelspec": {
   "display_name": "Python 3 (ipykernel)",
   "language": "python",
   "name": "python3"
  },
  "language_info": {
   "codemirror_mode": {
    "name": "ipython",
    "version": 3
   },
   "file_extension": ".py",
   "mimetype": "text/x-python",
   "name": "python",
   "nbconvert_exporter": "python",
   "pygments_lexer": "ipython3",
   "version": "3.10.9"
  }
 },
 "nbformat": 4,
 "nbformat_minor": 5
}
