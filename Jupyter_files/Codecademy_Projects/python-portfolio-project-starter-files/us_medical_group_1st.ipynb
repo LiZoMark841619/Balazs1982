{
 "cells": [
  {
   "attachments": {},
   "cell_type": "markdown",
   "id": "6ac3ded5",
   "metadata": {},
   "source": [
    "## Import csv + making one list with dicts, after that making one dict which includes dicts"
   ]
  },
  {
   "cell_type": "code",
   "execution_count": 220,
   "id": "21bd8916",
   "metadata": {},
   "outputs": [],
   "source": [
    "import csv\n",
    "import matplotlib.pyplot as plt"
   ]
  },
  {
   "cell_type": "code",
   "execution_count": 221,
   "id": "d277db83",
   "metadata": {},
   "outputs": [],
   "source": [
    "new_list = []\n",
    "with open('insurance.csv', newline='') as file:\n",
    "    dicts = csv.DictReader(file)\n",
    "    for dict in dicts:\n",
    "        new_list.append(dict)"
   ]
  },
  {
   "cell_type": "code",
   "execution_count": 222,
   "id": "ce112f7b",
   "metadata": {},
   "outputs": [],
   "source": [
    "#print(new_list)"
   ]
  },
  {
   "cell_type": "code",
   "execution_count": 223,
   "id": "fb62c426",
   "metadata": {},
   "outputs": [],
   "source": [
    "def new_dict():\n",
    "    new_dict = {i+1:new_list[i] for i in range(len(new_list))}\n",
    "    return new_dict"
   ]
  },
  {
   "cell_type": "code",
   "execution_count": 224,
   "id": "18f0e40a",
   "metadata": {},
   "outputs": [],
   "source": [
    "new_dict = new_dict()"
   ]
  },
  {
   "cell_type": "code",
   "execution_count": 225,
   "id": "df7997bc",
   "metadata": {},
   "outputs": [],
   "source": [
    "#print(new_dict)"
   ]
  },
  {
   "cell_type": "code",
   "execution_count": 226,
   "id": "d8ee6a39",
   "metadata": {},
   "outputs": [
    {
     "name": "stdout",
     "output_type": "stream",
     "text": [
      "The number of the people participating in this test is: 1338\n"
     ]
    }
   ],
   "source": [
    "print(f'The number of the people participating in this test is: {len(new_dict)}')"
   ]
  },
  {
   "cell_type": "code",
   "execution_count": 227,
   "id": "3e4ba471",
   "metadata": {},
   "outputs": [],
   "source": [
    "def numbers_and_ages(sex=None):\n",
    "    ages_fm = 0\n",
    "    ages_m = 0\n",
    "    counter_fm = 0\n",
    "    for value in new_dict.values():\n",
    "        if value['sex'] == 'female':\n",
    "            ages_fm += int(value['age'])\n",
    "            counter_fm += 1\n",
    "        if value['sex'] == 'male':\n",
    "            ages_m += int(value['age'])\n",
    "    mean_fm = round(ages_fm / counter_fm, 3)\n",
    "    counter_m = len(new_dict) - counter_fm\n",
    "    mean_m = round( ages_m / counter_m, 3)\n",
    "    s1 = 'In the dataset there are'\n",
    "    s2 = 'the mean age is'\n",
    "    if sex == 'female':\n",
    "        print(s1, counter_fm, sex, 'persons,', s2, mean_fm, 'years')\n",
    "    elif sex == 'male':\n",
    "        print(s1, counter_m,sex, 'persons,', s2, mean_m, 'years')\n",
    "    else:\n",
    "        print('Invalid data.')"
   ]
  },
  {
   "attachments": {},
   "cell_type": "markdown",
   "id": "fa0a6067",
   "metadata": {},
   "source": [
    "## Function 1 - 2 tests:"
   ]
  },
  {
   "cell_type": "code",
   "execution_count": 228,
   "id": "79cec625",
   "metadata": {},
   "outputs": [
    {
     "name": "stdout",
     "output_type": "stream",
     "text": [
      "In the dataset there are 662 female persons, the mean age is 39.503 years\n"
     ]
    }
   ],
   "source": [
    "female_nums_ages = numbers_and_ages('female')\n",
    "#male_nums_ages = numbers_and_ages('male')\n",
    "#children_nums_ages = numbers_and_ages('children')\n",
    "#noones_nums_ages = numbers_and_ages()"
   ]
  },
  {
   "cell_type": "code",
   "execution_count": 229,
   "id": "d4686518",
   "metadata": {},
   "outputs": [],
   "source": [
    "def living_place(location):\n",
    "    string = 'The number of habitants living in ' + location\n",
    "    counter = 0\n",
    "    for value in new_dict.values():\n",
    "        if value['region'] == 'southwest':\n",
    "            counter += 1\n",
    "    if location == 'southwest':\n",
    "        print(string, 'is', str(counter))\n",
    "    elif location == 'northwest':\n",
    "        print(string, 'is', str(len(new_dict) - counter))\n",
    "    else:\n",
    "        print('Invalid data')"
   ]
  },
  {
   "attachments": {},
   "cell_type": "markdown",
   "id": "62c858db",
   "metadata": {},
   "source": [
    "## Function 3 tests:"
   ]
  },
  {
   "cell_type": "code",
   "execution_count": 230,
   "id": "6bc227fb",
   "metadata": {},
   "outputs": [
    {
     "name": "stdout",
     "output_type": "stream",
     "text": [
      "The number of habitants living in southwest is 325\n",
      "The number of habitants living in northwest is 1013\n"
     ]
    }
   ],
   "source": [
    "living_place('southwest')\n",
    "living_place('northwest')\n",
    "#living_place('someplace')"
   ]
  },
  {
   "cell_type": "code",
   "execution_count": null,
   "id": "be7fdb36",
   "metadata": {},
   "outputs": [],
   "source": []
  },
  {
   "cell_type": "code",
   "execution_count": null,
   "id": "316a1195",
   "metadata": {},
   "outputs": [
    {
     "name": "stdout",
     "output_type": "stream",
     "text": [
      "The Fibonacci list of number 6 is: [0, 1, 1, 2, 3, 5]\n",
      "The 6th number of this sequence is: 5\n"
     ]
    },
    {
     "data": {
      "text/plain": [
       "5"
      ]
     },
     "execution_count": 310,
     "metadata": {},
     "output_type": "execute_result"
    }
   ],
   "source": []
  },
  {
   "cell_type": "code",
   "execution_count": null,
   "id": "ce269145",
   "metadata": {},
   "outputs": [],
   "source": []
  }
 ],
 "metadata": {
  "kernelspec": {
   "display_name": "Python 3 (ipykernel)",
   "language": "python",
   "name": "python3"
  },
  "language_info": {
   "codemirror_mode": {
    "name": "ipython",
    "version": 3
   },
   "file_extension": ".py",
   "mimetype": "text/x-python",
   "name": "python",
   "nbconvert_exporter": "python",
   "pygments_lexer": "ipython3",
   "version": "3.10.9"
  }
 },
 "nbformat": 4,
 "nbformat_minor": 5
}
