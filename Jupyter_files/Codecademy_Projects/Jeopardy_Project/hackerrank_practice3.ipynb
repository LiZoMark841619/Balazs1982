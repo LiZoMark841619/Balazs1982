{
 "cells": [
  {
   "cell_type": "code",
   "execution_count": 12,
   "id": "068d689e",
   "metadata": {},
   "outputs": [],
   "source": [
    "import builtins"
   ]
  },
  {
   "cell_type": "code",
   "execution_count": 14,
   "id": "d51fac69",
   "metadata": {},
   "outputs": [
    {
     "name": "stdout",
     "output_type": "stream",
     "text": [
      "2\n",
      "1 2\n",
      "-3550055125485641917\n"
     ]
    }
   ],
   "source": [
    "if __name__ == '__main__':\n",
    "    n = int(input())\n",
    "    l = [int(num) for num in input().split()[:n]]\n",
    "    t = tuple(l)\n",
    "    print(hash(t))"
   ]
  },
  {
   "cell_type": "code",
   "execution_count": 20,
   "id": "2abedd64",
   "metadata": {},
   "outputs": [
    {
     "name": "stdout",
     "output_type": "stream",
     "text": [
      "1\n",
      "1\n",
      "1\n",
      "2\n"
     ]
    },
    {
     "ename": "TypeError",
     "evalue": "cannot unpack non-iterable int object",
     "output_type": "error",
     "traceback": [
      "\u001b[1;31m---------------------------------------------------------------------------\u001b[0m",
      "\u001b[1;31mTypeError\u001b[0m                                 Traceback (most recent call last)",
      "Cell \u001b[1;32mIn[20], line 7\u001b[0m\n\u001b[0;32m      5\u001b[0m n \u001b[38;5;241m=\u001b[39m \u001b[38;5;28mint\u001b[39m(\u001b[38;5;28minput\u001b[39m())\n\u001b[0;32m      6\u001b[0m \u001b[38;5;28mtuple\u001b[39m \u001b[38;5;241m=\u001b[39m (x,y,z)\n\u001b[1;32m----> 7\u001b[0m l \u001b[38;5;241m=\u001b[39m [[x,y,z] \u001b[38;5;28;01mfor\u001b[39;00m [x,y,z] \u001b[38;5;129;01min\u001b[39;00m \u001b[38;5;28mtuple\u001b[39m \u001b[38;5;28;01mif\u001b[39;00m ([x\u001b[38;5;241m+\u001b[39my]\u001b[38;5;241m!=\u001b[39m n) \u001b[38;5;129;01mor\u001b[39;00m ([x\u001b[38;5;241m+\u001b[39mz] \u001b[38;5;241m!=\u001b[39m n) \u001b[38;5;129;01mor\u001b[39;00m ([y\u001b[38;5;241m+\u001b[39mz] \u001b[38;5;241m!=\u001b[39mn)]\n",
      "Cell \u001b[1;32mIn[20], line 7\u001b[0m, in \u001b[0;36m<listcomp>\u001b[1;34m(.0)\u001b[0m\n\u001b[0;32m      5\u001b[0m n \u001b[38;5;241m=\u001b[39m \u001b[38;5;28mint\u001b[39m(\u001b[38;5;28minput\u001b[39m())\n\u001b[0;32m      6\u001b[0m \u001b[38;5;28mtuple\u001b[39m \u001b[38;5;241m=\u001b[39m (x,y,z)\n\u001b[1;32m----> 7\u001b[0m l \u001b[38;5;241m=\u001b[39m [[x,y,z] \u001b[38;5;28;01mfor\u001b[39;00m [x,y,z] \u001b[38;5;129;01min\u001b[39;00m \u001b[38;5;28mtuple\u001b[39m \u001b[38;5;28;01mif\u001b[39;00m ([x\u001b[38;5;241m+\u001b[39my]\u001b[38;5;241m!=\u001b[39m n) \u001b[38;5;129;01mor\u001b[39;00m ([x\u001b[38;5;241m+\u001b[39mz] \u001b[38;5;241m!=\u001b[39m n) \u001b[38;5;129;01mor\u001b[39;00m ([y\u001b[38;5;241m+\u001b[39mz] \u001b[38;5;241m!=\u001b[39mn)]\n",
      "\u001b[1;31mTypeError\u001b[0m: cannot unpack non-iterable int object"
     ]
    }
   ],
   "source": [
    "if __name__ == '__main__':\n",
    "    x = int(input())\n",
    "    y = int(input())\n",
    "    z = int(input())\n",
    "    n = int(input())\n",
    "    tuple = (x,y,z)\n",
    "    l = [[x,y,z] for [x,y,z] in tuple if ([x+y]!= n) or ([x+z] != n) or ([y+z] !=n)]"
   ]
  },
  {
   "cell_type": "code",
   "execution_count": null,
   "id": "c84481f8",
   "metadata": {},
   "outputs": [],
   "source": []
  }
 ],
 "metadata": {
  "kernelspec": {
   "display_name": "Python 3 (ipykernel)",
   "language": "python",
   "name": "python3"
  },
  "language_info": {
   "codemirror_mode": {
    "name": "ipython",
    "version": 3
   },
   "file_extension": ".py",
   "mimetype": "text/x-python",
   "name": "python",
   "nbconvert_exporter": "python",
   "pygments_lexer": "ipython3",
   "version": "3.10.9"
  }
 },
 "nbformat": 4,
 "nbformat_minor": 5
}
