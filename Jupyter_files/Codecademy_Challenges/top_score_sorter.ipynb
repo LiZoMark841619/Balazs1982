{
 "cells": [
  {
   "cell_type": "code",
   "execution_count": 6,
   "id": "dd021a84",
   "metadata": {},
   "outputs": [
    {
     "name": "stdout",
     "output_type": "stream",
     "text": [
      "[9999, 13, 3, 2, 1]\n"
     ]
    }
   ],
   "source": [
    "def score_sorter(array, top_score):\n",
    "  new_list = []\n",
    "  sorted_array = sorted(array)\n",
    "  for i in range(len(sorted_array)):\n",
    "    if sorted_array[i] <= top_score:\n",
    "        new_list.insert(-1-i, sorted_array[i])\n",
    "  return new_list\n",
    "score_list = [1, 2, 3, 9999, 13]\n",
    "top = 10000\n",
    "print(score_sorter(score_list, top))"
   ]
  },
  {
   "cell_type": "code",
   "execution_count": null,
   "id": "4026002f",
   "metadata": {},
   "outputs": [],
   "source": []
  }
 ],
 "metadata": {
  "kernelspec": {
   "display_name": "Python 3 (ipykernel)",
   "language": "python",
   "name": "python3"
  }
 },
 "nbformat": 4,
 "nbformat_minor": 5
}
