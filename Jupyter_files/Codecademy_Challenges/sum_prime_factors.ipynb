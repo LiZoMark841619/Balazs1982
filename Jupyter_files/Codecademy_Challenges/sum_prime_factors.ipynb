{
 "cells": [
  {
   "cell_type": "code",
   "execution_count": null,
   "metadata": {},
   "outputs": [],
   "source": [
    "def sum_of_prime_factors(n):\n",
    "  prims = []\n",
    "  for i in range(2, n + 1):\n",
    "      counter = 0\n",
    "      for k in range(1, i + 1):\n",
    "          if i % k == 0:\n",
    "              counter += 1\n",
    "      if counter == 2:\n",
    "          prims.append(i)\n",
    "  new_list = [number for number in prims if n % number == 0]\n",
    "  print(\"The number of {}'s prime factors are as follows: {}\".format(n, new_list))\n",
    "  for n in new_list:\n",
    "    return sum(new_list)\n",
    "if __name__ == '__main__':\n",
    "  n = int(input('Please enter one number which prime factors must be found: '))\n",
    "  print('The sum of these factors is {}.'.format(sum_of_prime_factors(n)))"
   ]
  }
 ],
 "metadata": {
  "kernelspec": {
   "display_name": "Python 3 (ipykernel)",
   "language": "python",
   "name": "python3"
  },
  "language_info": {
   "codemirror_mode": {
    "name": "ipython",
    "version": 3
   },
   "file_extension": ".py",
   "mimetype": "text/x-python",
   "name": "python",
   "nbconvert_exporter": "python",
   "pygments_lexer": "ipython3",
   "version": "3.10.9"
  }
 },
 "nbformat": 4,
 "nbformat_minor": 4
}
