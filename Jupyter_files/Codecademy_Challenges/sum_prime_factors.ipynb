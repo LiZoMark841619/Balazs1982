{
 "cells": [
  {
   "cell_type": "code",
   "execution_count": 1,
   "metadata": {},
   "outputs": [
    {
     "name": "stdout",
     "output_type": "stream",
     "text": [
      "The number of 899's prime factors are: [29, 31]\n",
      "The sum of these factors are: 60\n"
     ]
    }
   ],
   "source": [
    "prims = []\n",
    "def sum_of_prime_factors(n):\n",
    "  for i in range(2, n + 1):\n",
    "      counter = 0\n",
    "      for k in range(1, i + 1):\n",
    "          if i % k == 0:\n",
    "              counter += 1\n",
    "      if counter == 2:\n",
    "          prims.append(i)\n",
    "  new_list = []\n",
    "  for number in prims:\n",
    "    if n % number == 0:\n",
    "      new_list.append(number)\n",
    "  print(\"The number of {}'s prime factors are: {}\".format(n, new_list))\n",
    "  for n in new_list:\n",
    "    return sum(new_list)\n",
    "print('The sum of these factors are: {}'.format(sum_of_prime_factors(899)))"
   ]
  },
  {
   "cell_type": "code",
   "execution_count": null,
   "metadata": {},
   "outputs": [],
   "source": []
  }
 ],
 "metadata": {
  "kernelspec": {
   "display_name": "Python 3 (ipykernel)",
   "language": "python",
   "name": "python3"
  }
 },
 "nbformat": 4,
 "nbformat_minor": 4
}
