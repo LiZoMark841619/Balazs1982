{
 "cells": [
  {
   "cell_type": "code",
   "execution_count": 1,
   "id": "7099f01f",
   "metadata": {},
   "outputs": [
    {
     "name": "stdout",
     "output_type": "stream",
     "text": [
      "The Fibonacci list including 30 numbers from 0 if the counter is 1: \n",
      "[0, 1, 1, 2, 3, 5, 8, 13, 21, 34, 55, 89, 144, 233, 377, 610, 987, 1597, 2584, 4181, 6765, 10946, 17711, 28657, 46368, 75025, 121393, 196418, 317811, 514229]\n",
      "The 30th value is 514,229.\n"
     ]
    }
   ],
   "source": [
    "def fib_finder(n):\n",
    "  new_list = [num for num in range(1,n+1,1)]\n",
    "  fib_list = [0, 1]\n",
    "  for i in range(len(new_list)-2):\n",
    "      fib_list.append(fib_list[i] + fib_list[i+1])\n",
    "  print(f'''The Fibonacci list including {n} numbers from 0 if the counter is 1: \n",
    "{fib_list}\\nThe {n}th value is {fib_list[n-1]:,}.''')\n",
    "if __name__ == '__main__':\n",
    "    num = int(input('Please enter the length of the requested Fibonacci list:'))\n",
    "    fib_finder(num)"
   ]
  }
 ],
 "metadata": {
  "kernelspec": {
   "display_name": "Python 3 (ipykernel)",
   "language": "python",
   "name": "python3"
  },
  "language_info": {
   "codemirror_mode": {
    "name": "ipython",
    "version": 3
   },
   "file_extension": ".py",
   "mimetype": "text/x-python",
   "name": "python",
   "nbconvert_exporter": "python",
   "pygments_lexer": "ipython3",
   "version": "3.10.9"
  }
 },
 "nbformat": 4,
 "nbformat_minor": 5
}
