{
 "cells": [
  {
   "cell_type": "code",
   "execution_count": 1,
   "id": "7099f01f",
   "metadata": {},
   "outputs": [
    {
     "name": "stdout",
     "output_type": "stream",
     "text": [
      "The Fibonacci list of number 9 from 0 when the counter is 1 is: [0, 1, 1, 2, 3, 5, 8, 13, 21]\n",
      "The 9th number of this sequence is: 21\n"
     ]
    }
   ],
   "source": [
    "def fib_finder(n):\n",
    "  new_list = []\n",
    "  for num in range(1, n+1, 1):\n",
    "      new_list.append(num)\n",
    "  fib_list = [0, 1]\n",
    "  for i in range(len(new_list)-2):\n",
    "      fib_list.append(fib_list[i] + fib_list[i+1])\n",
    "  print(f'The Fibonacci list of number {n} from 0 when the counter is 1 is: {fib_list}\\nThe {n}th number of this sequence is: {fib_list[n-1]}')\n",
    "  #return fib_list[n-1]\n",
    "fib_finder(9)"
   ]
  },
  {
   "cell_type": "code",
   "execution_count": 2,
   "id": "c966d8a0",
   "metadata": {},
   "outputs": [
    {
     "name": "stdout",
     "output_type": "stream",
     "text": [
      "The Fibonacci list from number 100 including 5 number when the counter is 20 is: [100, 120, 220, 340, 560]\n",
      "The 5th number of this sequence is: 560\n"
     ]
    }
   ],
   "source": [
    "def fib_finder(n, fib_list):\n",
    "  new_list = []\n",
    "  str1 = 'The Fibonacci list from number'\n",
    "  str2 = 'number when the counter is'\n",
    "  for num in range(1, n+1, 1):\n",
    "      new_list.append(num)\n",
    "  for i in range(len(new_list)-2):\n",
    "      fib_list.append(fib_list[i] + fib_list[i+1])\n",
    "  print(f'{str1} {fib_list[0]} including {n} {str2} {fib_list[1]-fib_list[0]} is: {fib_list}\\nThe {n}th number of this sequence is: {fib_list[n-1]}')\n",
    "  #return fib_list[n-1]\n",
    "fib_finder(5, [100, 120])"
   ]
  },
  {
   "cell_type": "code",
   "execution_count": null,
   "id": "0e8c9acf",
   "metadata": {},
   "outputs": [],
   "source": []
  },
  {
   "cell_type": "code",
   "execution_count": null,
   "id": "50123f74",
   "metadata": {},
   "outputs": [],
   "source": []
  }
 ],
 "metadata": {
  "kernelspec": {
   "display_name": "Python 3 (ipykernel)",
   "language": "python",
   "name": "python3"
  },
  "language_info": {
   "codemirror_mode": {
    "name": "ipython",
    "version": 3
   },
   "file_extension": ".py",
   "mimetype": "text/x-python",
   "name": "python",
   "nbconvert_exporter": "python",
   "pygments_lexer": "ipython3",
   "version": "3.10.9"
  }
 },
 "nbformat": 4,
 "nbformat_minor": 5
}
