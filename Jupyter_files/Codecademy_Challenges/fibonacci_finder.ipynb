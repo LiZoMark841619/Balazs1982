{
 "cells": [
  {
   "cell_type": "code",
   "execution_count": 26,
   "id": "7099f01f",
   "metadata": {},
   "outputs": [
    {
     "name": "stdout",
     "output_type": "stream",
     "text": [
      "The Fibonacci list including 5 numbers from 0 with a counter of 1 is below: \n",
      "[0, 1, 1, 2, 3]\n",
      "The 5th value is 3.\n"
     ]
    }
   ],
   "source": [
    "def fib_finder(n):\n",
    "  new_list = [num for num in range(1,n+1,1)]\n",
    "  fib_list = [0, 1]\n",
    "  for i in range(len(new_list)-2):\n",
    "      fib_list.append(fib_list[i] + fib_list[i+1])\n",
    "  print(f'''The Fibonacci list including {n} numbers from 0 with a counter of 1 is below: \n",
    "{fib_list}\\nThe {n}th value is {fib_list[n-1]:,}.''')\n",
    "if __name__ == '__main__':\n",
    "    num = int(input('Please enter the length of the requested Fibonacci list:'))\n",
    "    fib_finder(num)"
   ]
  },
  {
   "cell_type": "code",
   "execution_count": null,
   "id": "f8cb3901",
   "metadata": {},
   "outputs": [],
   "source": []
  }
 ],
 "metadata": {
  "kernelspec": {
   "display_name": "Python 3 (ipykernel)",
   "language": "python",
   "name": "python3"
  },
  "language_info": {
   "codemirror_mode": {
    "name": "ipython",
    "version": 3
   },
   "file_extension": ".py",
   "mimetype": "text/x-python",
   "name": "python",
   "nbconvert_exporter": "python",
   "pygments_lexer": "ipython3",
   "version": "3.10.9"
  }
 },
 "nbformat": 4,
 "nbformat_minor": 5
}
