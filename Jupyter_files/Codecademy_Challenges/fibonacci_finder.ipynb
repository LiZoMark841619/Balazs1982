{
 "cells": [
  {
   "cell_type": "code",
   "execution_count": 3,
   "id": "7099f01f",
   "metadata": {},
   "outputs": [
    {
     "name": "stdout",
     "output_type": "stream",
     "text": [
      "The Fibonacci list of number 10 is: [0, 1, 1, 2, 3, 5, 8, 13, 21, 34]\n",
      "The 10th number of this sequence is: 34\n"
     ]
    },
    {
     "data": {
      "text/plain": [
       "34"
      ]
     },
     "execution_count": 3,
     "metadata": {},
     "output_type": "execute_result"
    }
   ],
   "source": [
    "def fib_finder(n):\n",
    "  new_list = []\n",
    "  for num in range(1, n+1, 1):\n",
    "      new_list.append(num)\n",
    "  fib_list = [0, 1]\n",
    "  for i in range(len(new_list)-2):\n",
    "      fib_list.append(fib_list[i] + fib_list[i+1])\n",
    "  print(f'The Fibonacci list of number {n} is: {fib_list}\\nThe {n}th number of this sequence is: {fib_list[n-1]}')\n",
    "  return fib_list[n-1]\n",
    "fib_finder(10)"
   ]
  },
  {
   "cell_type": "code",
   "execution_count": null,
   "id": "c966d8a0",
   "metadata": {},
   "outputs": [],
   "source": []
  }
 ],
 "metadata": {
  "kernelspec": {
   "display_name": "Python 3 (ipykernel)",
   "language": "python",
   "name": "python3"
  },
  "language_info": {
   "codemirror_mode": {
    "name": "ipython",
    "version": 3
   },
   "file_extension": ".py",
   "mimetype": "text/x-python",
   "name": "python",
   "nbconvert_exporter": "python",
   "pygments_lexer": "ipython3",
   "version": "3.10.9"
  }
 },
 "nbformat": 4,
 "nbformat_minor": 5
}
