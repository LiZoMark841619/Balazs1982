{
 "cells": [
  {
   "cell_type": "code",
   "execution_count": null,
   "id": "751025b4",
   "metadata": {},
   "outputs": [],
   "source": [
    "# Create a stats_finder() function that takes in a list of numbers and returns a list containing the mean, the mode, and the median\n",
    "#in that order. As a reminder, the mean is the average of the values and the mode is the most occurring value. The median is the value\n",
    "# where the 50% of the values are under and the other half is above that value. If there are \n",
    "#multiple modes, return the mode with the lowest value. Make sure that you write your functions and find these answers \n",
    "#from scratch – don’t use imported tools!\n",
    "\n",
    "##For example, stats_finder([500, 400, 400, 375, 300, 350, 325, 300]) should return [368.75, 300, 362.5].\n",
    "\n",
    "#Variations of this challenge were reported to have been asked at interviews with Amazon. If you’ve covered the material\n",
    "#in Pass the Technical Interview with Python or an equivalent, you should be able to solve this challenge. \n",
    "#If you have trouble, try refreshing your knowledge with its Algorithmic Complexity content."
   ]
  },
  {
   "cell_type": "code",
   "execution_count": 14,
   "id": "044a5134",
   "metadata": {},
   "outputs": [
    {
     "name": "stdout",
     "output_type": "stream",
     "text": [
      "The mean, the mode and the median of [10, 10, 14, 10, 40] numbers are as follows: [16.8, 10, 10]\n"
     ]
    }
   ],
   "source": [
    "def stats_finder(list):\n",
    "    \n",
    "    sort = sorted(list)\n",
    "    if len(list) % 2 == 0:\n",
    "        num = sort[int(len(sort)/2)] + sort[int(len(sort)/2) -1]\n",
    "        median = num / 2\n",
    "    elif len(list) % 2 != 0:\n",
    "        median = sort[int(len(sort)/2)]\n",
    "    \n",
    "    count = 0\n",
    "    new_dict = {}\n",
    "    for num in sort:\n",
    "      count += num\n",
    "      new_dict[num] = sort.count(num)\n",
    "    mean = count / len(sort)\n",
    "\n",
    "    max_value = 1\n",
    "    for key, value in new_dict.items():\n",
    "        if value > max_value:\n",
    "          max_value = value\n",
    "          mode = round(key)          \n",
    "    good_list = [mean, mode, median]\n",
    "    return good_list\n",
    "\n",
    "if __name__ == '__main__': \n",
    "    len_list = int(input('Please enter the length of the list:'))       \n",
    "    list = []\n",
    "    for i in range(len_list):\n",
    "        num = int(input('Plese enter the numbers one by one to add to the list:'))\n",
    "        list.append(num)\n",
    "    mean_mode_median = stats_finder(list)\n",
    "print('The mean, the mode and the median of {} numbers are as follows: {}'.format(list, mean_mode_median))"
   ]
  },
  {
   "cell_type": "code",
   "execution_count": null,
   "id": "0130e2b4",
   "metadata": {},
   "outputs": [],
   "source": []
  },
  {
   "cell_type": "code",
   "execution_count": null,
   "id": "45a53923",
   "metadata": {},
   "outputs": [],
   "source": []
  }
 ],
 "metadata": {
  "kernelspec": {
   "display_name": "Python 3 (ipykernel)",
   "language": "python",
   "name": "python3"
  },
  "language_info": {
   "codemirror_mode": {
    "name": "ipython",
    "version": 3
   },
   "file_extension": ".py",
   "mimetype": "text/x-python",
   "name": "python",
   "nbconvert_exporter": "python",
   "pygments_lexer": "ipython3",
   "version": "3.10.9"
  }
 },
 "nbformat": 4,
 "nbformat_minor": 5
}
