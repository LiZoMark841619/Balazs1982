{
 "cells": [
  {
   "cell_type": "code",
   "execution_count": 1,
   "id": "044a5134",
   "metadata": {},
   "outputs": [
    {
     "name": "stdout",
     "output_type": "stream",
     "text": [
      "Plese enter the number at index 0:\n",
      "Plese enter the number at index 1:\n",
      "Plese enter the number at index 2:\n",
      "Plese enter the number at index 3:\n",
      "Plese enter the number at index 4:\n",
      "The mean, the mode and the median of [10, 5, 5, 5, 5] numbers are as follows:\n",
      "[6.0, 5, 5]\n"
     ]
    }
   ],
   "source": [
    "def stats_finder(list):\n",
    "    \n",
    "    sort = sorted(list)\n",
    "    if len(list) % 2 == 0:\n",
    "        num = sort[int(len(sort)/2)] + sort[int(len(sort)/2) -1]\n",
    "        median = num / 2\n",
    "    elif len(list) % 2 != 0:\n",
    "        median = sort[int(len(sort)/2)]\n",
    "    \n",
    "    count = 0\n",
    "    new_dict = {}\n",
    "    for num in sort:\n",
    "      count += num\n",
    "      new_dict[num] = sort.count(num)\n",
    "    mean = count / len(sort)\n",
    "\n",
    "    max_value = 1\n",
    "    for key, value in new_dict.items():\n",
    "        if value > max_value:\n",
    "          max_value = value\n",
    "          mode = round(key)          \n",
    "    good_list = [mean, mode, median]\n",
    "    return good_list\n",
    "\n",
    "if __name__ == '__main__': \n",
    "    len_list = int(input('Please enter the length of the list between 0 and 10:'))       \n",
    "    list = []\n",
    "    for i in range(len_list):\n",
    "        print('Plese enter the number at index', str(i)+':')\n",
    "        num = int(input())\n",
    "        list.append(num)\n",
    "    mean_mode_median = stats_finder(list)\n",
    "    print('The mean, the mode and the median of {} numbers are as follows:\\n{}'.format(list, mean_mode_median))"
   ]
  },
  {
   "cell_type": "code",
   "execution_count": null,
   "id": "78584bad",
   "metadata": {},
   "outputs": [],
   "source": []
  }
 ],
 "metadata": {
  "kernelspec": {
   "display_name": "Python 3 (ipykernel)",
   "language": "python",
   "name": "python3"
  },
  "language_info": {
   "codemirror_mode": {
    "name": "ipython",
    "version": 3
   },
   "file_extension": ".py",
   "mimetype": "text/x-python",
   "name": "python",
   "nbconvert_exporter": "python",
   "pygments_lexer": "ipython3",
   "version": "3.10.9"
  }
 },
 "nbformat": 4,
 "nbformat_minor": 5
}
