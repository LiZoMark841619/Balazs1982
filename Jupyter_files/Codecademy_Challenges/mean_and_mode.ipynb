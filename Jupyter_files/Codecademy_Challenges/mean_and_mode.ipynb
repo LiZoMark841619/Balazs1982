{
 "cells": [
  {
   "cell_type": "code",
   "execution_count": 280,
   "id": "751025b4",
   "metadata": {},
   "outputs": [],
   "source": [
    "# Create a stats_finder() function that takes in a list of numbers and returns a list containing the mean and mode, \n",
    "#in that order. As a reminder, the mean is the average of the values and the mode is the most occurring value. If there are \n",
    "#multiple modes, return the mode with the lowest value. Make sure that you write your functions and find these answers \n",
    "#from scratch – don’t use imported tools!\n",
    "\n",
    "##For example, stats_finder([500, 400, 400, 375, 300, 350, 325, 300]) should return [368.75, 300].\n",
    "\n",
    "#Variations of this challenge were reported to have been asked at interviews with Amazon. If you’ve covered the material\n",
    "#in Pass the Technical Interview with Python or an equivalent, you should be able to solve this challenge. \n",
    "#If you have trouble, try refreshing your knowledge with its Algorithmic Complexity content."
   ]
  },
  {
   "cell_type": "code",
   "execution_count": 281,
   "id": "d4ed2fc5",
   "metadata": {},
   "outputs": [],
   "source": [
    "def mean(list):\n",
    "    count = 0\n",
    "    for num in list:\n",
    "        count += num\n",
    "    mean = count / len(list)\n",
    "    return mean\n",
    "list = [100, 123, 140, 100, 120, 120]\n",
    "mean = mean(list)\n",
    "#print(mean)"
   ]
  },
  {
   "cell_type": "code",
   "execution_count": 282,
   "id": "0fe7553e",
   "metadata": {},
   "outputs": [],
   "source": [
    "def num_calculating(list):\n",
    "    new_dict = {}\n",
    "    for num in list:\n",
    "        new_dict[num] = list.count(num)\n",
    "    return new_dict\n",
    "new_dict = num_calculating(list)\n",
    "#print(new_dict)"
   ]
  },
  {
   "cell_type": "code",
   "execution_count": 283,
   "id": "fd0338b7",
   "metadata": {},
   "outputs": [],
   "source": [
    "def most_occurences(new_dict):\n",
    "    max_value = 1\n",
    "    max_key = list[0]\n",
    "    for key, value in new_dict.items():\n",
    "        if value > max_value:\n",
    "            max_key = key\n",
    "            max_value = value\n",
    "    return max_key\n",
    "mode = most_occurences(new_dict)\n",
    "#print(mode)"
   ]
  },
  {
   "cell_type": "code",
   "execution_count": 284,
   "id": "5be8c17a",
   "metadata": {},
   "outputs": [],
   "source": [
    "#print(mean, mode)"
   ]
  },
  {
   "cell_type": "code",
   "execution_count": 1,
   "id": "044a5134",
   "metadata": {},
   "outputs": [
    {
     "name": "stdout",
     "output_type": "stream",
     "text": [
      "\n",
      "The median and the mode numbers of this\n",
      "[500, 400, 400, 375, 300, 350, 325, 300] list are as follows: [368.75, 300]\n"
     ]
    }
   ],
   "source": [
    "def stats_finder(list):\n",
    "    count = 0\n",
    "    new_dict = {}\n",
    "    for num in list:\n",
    "      count += num\n",
    "      mean = count / len(list)\n",
    "      new_dict[num] = list.count(num)\n",
    "\n",
    "    max_value = 1\n",
    "    for key, value in new_dict.items():\n",
    "        if value >= max_value:\n",
    "          max_value = value\n",
    "          max_key = round(float(key))           \n",
    "    good_list = [mean, max_key]\n",
    "    return good_list\n",
    "           \n",
    "list = [500, 400, 400, 375, 300, 350, 325, 300]\n",
    "mean_and_mode = stats_finder(list)\n",
    "print('\\nThe median and the mode numbers of this\\n{} list are as follows: {}'.format(list, mean_and_mode))"
   ]
  },
  {
   "cell_type": "code",
   "execution_count": null,
   "id": "26fc2453",
   "metadata": {},
   "outputs": [],
   "source": []
  }
 ],
 "metadata": {
  "kernelspec": {
   "display_name": "Python 3 (ipykernel)",
   "language": "python",
   "name": "python3"
  }
 },
 "nbformat": 4,
 "nbformat_minor": 5
}
