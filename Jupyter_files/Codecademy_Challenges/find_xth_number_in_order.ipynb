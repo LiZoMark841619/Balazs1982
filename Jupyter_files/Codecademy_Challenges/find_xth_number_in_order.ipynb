{
 "cells": [
  {
   "cell_type": "code",
   "execution_count": 1,
   "metadata": {},
   "outputs": [
    {
     "name": "stdout",
     "output_type": "stream",
     "text": [
      "In [6, 3, -1, 5] the 2 nd element in the order is:\n",
      "3\n",
      "In [6, 3, -1, 5] the 4 th element in the order is:\n",
      "6\n",
      "In [6, 3, -1, 5] the 5 th element in the order is:\n",
      "There is none because in the list there is only 4 elements.\n",
      "In [2, 3, -1, 5, -1] the 5 th element in the order is:\n",
      "5\n",
      "In [] the 2 nd element in the order is:\n",
      "There is none because the list is empty.\n"
     ]
    }
   ],
   "source": [
    "def getX(x, nums):\n",
    "  if x == 1:\n",
    "    print('In', nums, 'the', x, 'st element in the order is:')\n",
    "  elif x == 2:\n",
    "    print('In', nums, 'the', x, 'nd element in the order is:')\n",
    "  elif x == 3:\n",
    "    print('In', nums, 'the', x, 'rd element in the order is:')\n",
    "  else:\n",
    "    print('In', nums, 'the', x, 'th element in the order is:')\n",
    "  for num in nums:\n",
    "    if x in range(1, len(nums) + 1):\n",
    "      return sorted(nums)[x-1]\n",
    "    else:\n",
    "      return 'There is none because in the list there is only {} elements.'.format(x-1)\n",
    "  if nums == []:\n",
    "    return 'There is none because the list is empty.'\n",
    "print(getX(2, [6, 3, -1, 5]))\n",
    "print(getX(4, [6, 3, -1, 5]))\n",
    "print(getX(5, [6, 3, -1, 5]))\n",
    "print(getX(5, [2, 3, -1, 5, -1]))\n",
    "print(getX(2, []))\n"
   ]
  },
  {
   "cell_type": "code",
   "execution_count": null,
   "metadata": {},
   "outputs": [],
   "source": []
  },
  {
   "cell_type": "code",
   "execution_count": null,
   "metadata": {},
   "outputs": [],
   "source": []
  }
 ],
 "metadata": {
  "kernelspec": {
   "display_name": "Python 3 (ipykernel)",
   "language": "python",
   "name": "python3"
  }
 },
 "nbformat": 4,
 "nbformat_minor": 4
}
