{
 "cells": [
  {
   "cell_type": "code",
   "execution_count": 1,
   "metadata": {},
   "outputs": [
    {
     "name": "stdout",
     "output_type": "stream",
     "text": [
      "The prime numbers between 2 and 91 are:  \n",
      "\n",
      "[2, 3, 5, 7, 11, 13, 17, 19, 23, 29, 31, 37, 41, 43, 47, 53, 59, 61, 67, 71, 73, 79, 83, 89]\n"
     ]
    }
   ],
   "source": [
    "def prime_finder(n):\n",
    "    print('The prime numbers between 2 and {} are: '.format(n),'\\n')\n",
    "    primes = []\n",
    "    for i in range(2, n + 1):\n",
    "        counter = 0\n",
    "        for k in range(1, i + 1):\n",
    "            if i % k == 0:\n",
    "                counter += 1\n",
    "        if counter == 2:\n",
    "            primes.append(i)\n",
    "    return primes\n",
    "print(prime_finder(91))"
   ]
  },
  {
   "cell_type": "code",
   "execution_count": null,
   "metadata": {},
   "outputs": [],
   "source": []
  }
 ],
 "metadata": {
  "kernelspec": {
   "display_name": "Python 3 (ipykernel)",
   "language": "python",
   "name": "python3"
  }
 },
 "nbformat": 4,
 "nbformat_minor": 4
}
