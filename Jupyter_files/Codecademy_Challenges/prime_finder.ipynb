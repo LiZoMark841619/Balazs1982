{
 "cells": [
  {
   "cell_type": "code",
   "execution_count": 2,
   "metadata": {},
   "outputs": [
    {
     "name": "stdout",
     "output_type": "stream",
     "text": [
      "The prime numbers between 2 and 34 are:  \n",
      "\n",
      "[2, 3, 5, 7, 11, 13, 17, 19, 23, 29, 31]\n"
     ]
    }
   ],
   "source": [
    "def prime_finder(n):\n",
    "    print('The prime numbers between 2 and {} are: '.format(n),'\\n')\n",
    "    primes = []\n",
    "    for i in range(2, n + 1):\n",
    "        counter = 0\n",
    "        for k in range(1, i + 1):\n",
    "            if i % k == 0:\n",
    "                counter += 1\n",
    "        if counter == 2:\n",
    "            primes.append(i)\n",
    "    return primes\n",
    "print(prime_finder(34))"
   ]
  }
 ],
 "metadata": {
  "kernelspec": {
   "display_name": "Python 3 (ipykernel)",
   "language": "python",
   "name": "python3"
  },
  "language_info": {
   "codemirror_mode": {
    "name": "ipython",
    "version": 3
   },
   "file_extension": ".py",
   "mimetype": "text/x-python",
   "name": "python",
   "nbconvert_exporter": "python",
   "pygments_lexer": "ipython3",
   "version": "3.10.9"
  }
 },
 "nbformat": 4,
 "nbformat_minor": 4
}
