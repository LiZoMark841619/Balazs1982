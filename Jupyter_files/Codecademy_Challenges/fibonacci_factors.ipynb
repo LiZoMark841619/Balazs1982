{
 "cells": [
  {
   "cell_type": "code",
   "execution_count": null,
   "id": "c966d8a0",
   "metadata": {},
   "outputs": [],
   "source": [
    "def fib_finder(n, fib_list):\n",
    "  str1 = 'The Fibonacci list starting from'\n",
    "  str2 = 'numbers when the counter is'\n",
    "  new_list = [num for num in range(1,n+1,1)]\n",
    "  for i in range(len(new_list)-2):\n",
    "      fib_list.append(fib_list[i] + fib_list[i+1])\n",
    "  print(f'''{str1} {fib_list[0]} and including {n} {str2} {fib_list[1]-fib_list[0]} is below:\n",
    "{fib_list}\\nThe {n}th value is {fib_list[n-1]:,}.''')\n",
    "if __name__ == '__main__':\n",
    "    num = int(input('Please enter the length of the requested Fibonacci list:'))\n",
    "    fib_list = []\n",
    "    for i in range(0,2):\n",
    "      print('Please enter the number at index', str(i)+':')\n",
    "      element = int(input())\n",
    "      fib_list.append(element)\n",
    "    fib_finder(num, fib_list)"
   ]
  }
 ],
 "metadata": {
  "kernelspec": {
   "display_name": "Python 3 (ipykernel)",
   "language": "python",
   "name": "python3"
  },
  "language_info": {
   "codemirror_mode": {
    "name": "ipython",
    "version": 3
   },
   "file_extension": ".py",
   "mimetype": "text/x-python",
   "name": "python",
   "nbconvert_exporter": "python",
   "pygments_lexer": "ipython3",
   "version": "3.10.9"
  }
 },
 "nbformat": 4,
 "nbformat_minor": 5
}
