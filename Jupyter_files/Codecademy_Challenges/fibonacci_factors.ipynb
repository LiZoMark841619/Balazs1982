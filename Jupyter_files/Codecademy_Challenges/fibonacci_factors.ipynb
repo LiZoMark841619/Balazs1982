{
 "cells": [
  {
   "cell_type": "code",
   "execution_count": 19,
   "id": "c966d8a0",
   "metadata": {},
   "outputs": [
    {
     "name": "stdout",
     "output_type": "stream",
     "text": [
      "The Fibonacci list from number 110 including 10 number when the counter is 10 is below:\n",
      "[110, 120, 230, 350, 580, 930, 1510, 2440, 3950, 6390]\n",
      "The 10th value is 6,390.\n"
     ]
    }
   ],
   "source": [
    "def fib_finder(n, fib_list):\n",
    "  str1 = 'The Fibonacci list from number'\n",
    "  str2 = 'number when the counter is'\n",
    "  new_list = [num for num in range(1,n+1,1)]\n",
    "  for i in range(len(new_list)-2):\n",
    "      fib_list.append(fib_list[i] + fib_list[i+1])\n",
    "  print(f'''{str1} {fib_list[0]} including {n} {str2} {fib_list[1]-fib_list[0]} is below:\n",
    "{fib_list}\\nThe {n}th value is {fib_list[n-1]:,}.''')\n",
    "if __name__ == '__main__':\n",
    "    num = int(input('Please enter the length of the requested Fibonacci list:'))\n",
    "    fib_list = []\n",
    "    element = int(input('Please enter the first number of the list:'))\n",
    "    fib_list.append(element)\n",
    "    element = int(input('Please enter the second number of the list:'))\n",
    "    fib_list.append(element)\n",
    "    fib_finder(num, fib_list)"
   ]
  },
  {
   "cell_type": "code",
   "execution_count": null,
   "id": "bff1b585",
   "metadata": {},
   "outputs": [],
   "source": []
  }
 ],
 "metadata": {
  "kernelspec": {
   "display_name": "Python 3 (ipykernel)",
   "language": "python",
   "name": "python3"
  },
  "language_info": {
   "codemirror_mode": {
    "name": "ipython",
    "version": 3
   },
   "file_extension": ".py",
   "mimetype": "text/x-python",
   "name": "python",
   "nbconvert_exporter": "python",
   "pygments_lexer": "ipython3",
   "version": "3.10.9"
  }
 },
 "nbformat": 4,
 "nbformat_minor": 5
}
