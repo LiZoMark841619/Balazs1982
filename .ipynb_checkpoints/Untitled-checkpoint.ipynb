{
 "cells": [
  {
   "cell_type": "code",
   "execution_count": null,
   "id": "b6ab7bc7",
   "metadata": {},
   "outputs": [],
   "source": [
    "if __name__=='__main__':\n",
    "    n = int(input('Please enter the length of the 2 lists:'))\n",
    "    new_list = []\n",
    "    for _ in range(n):\n",
    "        line = input('Please add the numbers to the lists:').split()\n",
    "        nums = list(map(int, line))\n",
    "        new_list.append(nums)\n",
    "    print(new_list)\n",
    "    zipped1 = []\n",
    "    for i in range(len(new_list)):\n",
    "        zipped1 += zip(new_list[i], new_list[len(new_list)-1-i])\n",
    "        unzipped = list(zipped1)\n",
    "    print(unzipped)\n",
    "    for k in range(len(unzipped)):\n",
    "        print(unzipped"
   ]
  },
  {
   "cell_type": "code",
   "execution_count": 1,
   "id": "44f60514",
   "metadata": {},
   "outputs": [],
   "source": [
    "import timeit"
   ]
  },
  {
   "cell_type": "code",
   "execution_count": 2,
   "id": "c3cf9407",
   "metadata": {},
   "outputs": [],
   "source": [
    "import numpy as np"
   ]
  },
  {
   "cell_type": "code",
   "execution_count": 3,
   "id": "916fbe29",
   "metadata": {},
   "outputs": [],
   "source": [
    "from collections import Counter"
   ]
  },
  {
   "cell_type": "code",
   "execution_count": null,
   "id": "e7991532",
   "metadata": {},
   "outputs": [],
   "source": [
    "if __name__=='__main__':\n",
    "    num = int(input())\n",
    "    result = ''\n",
    "    string_list = np.array([input().strip() for _ in range(num)])\n",
    "    unique, counts = np.unique(string_list, return_counts=True)\n",
    "    string_dict = dict(zip(unique, counts))\n",
    "    a = tuple(string_dict.values())\n",
    "    for i in range(len(a)):\n",
    "        result += str(a[i])\n",
    "    print(len(string_dict))\n",
    "    print(' '.join(result))\n",
    "    print(timeit.timeit())"
   ]
  },
  {
   "cell_type": "code",
   "execution_count": null,
   "id": "849bd66c",
   "metadata": {},
   "outputs": [],
   "source": [
    "if __name__=='__main__':\n",
    "    num = int(input())\n",
    "    result = ''\n",
    "    string_list = [input().strip() for _ in range(num)]\n",
    "    string_dict = {string:string_list.count(string) for string in string_list}\n",
    "    a = tuple(string_dict.values())\n",
    "    for i in range(len(a)):\n",
    "        result += str(a[i])\n",
    "    print(len(string_dict))\n",
    "    print(' '.join(result))\n",
    "    print(timeit.timeit())"
   ]
  },
  {
   "cell_type": "code",
   "execution_count": null,
   "id": "fe297873",
   "metadata": {},
   "outputs": [],
   "source": []
  },
  {
   "cell_type": "code",
   "execution_count": 9,
   "id": "884e2408",
   "metadata": {},
   "outputs": [
    {
     "name": "stdout",
     "output_type": "stream",
     "text": [
      "4\n",
      "alma\n",
      "dio\n",
      "dio\n",
      "dio\n",
      "2\n",
      "1 3\n"
     ]
    }
   ],
   "source": [
    "if __name__=='__main__':\n",
    "    num = int(input())\n",
    "    result = ''\n",
    "    string_list = [input().strip() for _ in range(num)]\n",
    "    string_dict = Counter(string_list)\n",
    "    a = tuple(string_dict.values())\n",
    "    print(len(string_dict))\n",
    "    print(*a, sep = ' ')"
   ]
  },
  {
   "cell_type": "code",
   "execution_count": null,
   "id": "480bda8e",
   "metadata": {},
   "outputs": [],
   "source": []
  },
  {
   "cell_type": "code",
   "execution_count": null,
   "id": "cc69e612",
   "metadata": {},
   "outputs": [],
   "source": []
  }
 ],
 "metadata": {
  "kernelspec": {
   "display_name": "Python 3 (ipykernel)",
   "language": "python",
   "name": "python3"
  },
  "language_info": {
   "codemirror_mode": {
    "name": "ipython",
    "version": 3
   },
   "file_extension": ".py",
   "mimetype": "text/x-python",
   "name": "python",
   "nbconvert_exporter": "python",
   "pygments_lexer": "ipython3",
   "version": "3.10.9"
  }
 },
 "nbformat": 4,
 "nbformat_minor": 5
}
