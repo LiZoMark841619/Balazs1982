{
 "cells": [
  {
   "cell_type": "code",
   "execution_count": 9,
   "id": "5edc098d",
   "metadata": {},
   "outputs": [
    {
     "name": "stdout",
     "output_type": "stream",
     "text": [
      "Number of available shoes:3\n",
      "Available sizes:32 34 44\n",
      "Number of customs in the shop:3\n",
      "Requested size and price:43 400\n",
      "Requested size and price:40 500\n",
      "Requested size and price:32 400\n",
      "The availabel sizes are: Counter({32: 1, 34: 1, 44: 1})\n",
      "[Counter({43: 1, 400: 1}), Counter({40: 1, 500: 1}), Counter({32: 1, 400: 1})]\n"
     ]
    }
   ],
   "source": [
    "from collections import Counter\n",
    "\n",
    "num_shoes = int(input('Number of available shoes:'))\n",
    "sizes = map(int, input('Available sizes:').split())\n",
    "wish = [map(int, input('Requested size and price:').split()) for _ in range(int(input('Number of customs in the shop:')))]\n",
    "print(f'The availabel sizes are: {Counter(sizes)}')\n",
    "new_list = []\n",
    "for i in range(len(list(wish))):\n",
    "    new_list.append(Counter(list(wish[i])))\n",
    "print(new_list)"
   ]
  },
  {
   "cell_type": "code",
   "execution_count": null,
   "id": "32b379d1",
   "metadata": {},
   "outputs": [],
   "source": []
  }
 ],
 "metadata": {
  "kernelspec": {
   "display_name": "Python 3 (ipykernel)",
   "language": "python",
   "name": "python3"
  },
  "language_info": {
   "codemirror_mode": {
    "name": "ipython",
    "version": 3
   },
   "file_extension": ".py",
   "mimetype": "text/x-python",
   "name": "python",
   "nbconvert_exporter": "python",
   "pygments_lexer": "ipython3",
   "version": "3.10.9"
  }
 },
 "nbformat": 4,
 "nbformat_minor": 5
}
