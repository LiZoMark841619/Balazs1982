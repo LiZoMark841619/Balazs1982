{
 "cells": [
  {
   "cell_type": "code",
   "execution_count": null,
   "id": "afc419f2",
   "metadata": {},
   "outputs": [],
   "source": [
    "if __name__ == '__main__':\n",
    "    print('Please type in the number of persons of your class whose scores must be investigated:')\n",
    "    n = int(input())\n",
    "    print(f'Please type in the {n} names and their achieved scores separated with one space between them:')\n",
    "    student_marks = {}\n",
    "    for _ in range(n):\n",
    "        name, *line = input().split()\n",
    "        scores = list(map(float, line))\n",
    "        student_marks[name] = scores\n",
    "    print('Please type in the name whose average score must be calculated:')\n",
    "    query_name = input()\n",
    "    print(f\"{query_name}'s average score is:\")\n",
    "    for key, value in student_marks.items():\n",
    "        if key == query_name:\n",
    "            print(f'{sum(value) / len(value):.2f}')"
   ]
  },
  {
   "cell_type": "code",
   "execution_count": null,
   "id": "feda65c2",
   "metadata": {},
   "outputs": [],
   "source": [
    "if __name__ == '__main__':\n",
    "    N = int(input())\n",
    "    L = []\n",
    "    for i in range(N):\n",
    "        cmd = input().split()\n",
    "        if cmd[0] == \"insert\":\n",
    "            L.insert(int(cmd[1]),int(cmd[2]))\n",
    "        if cmd[0] == \"print\":\n",
    "            print(L)\n",
    "        if cmd[0] == \"remove\":\n",
    "            L.remove(int(cmd[1]))\n",
    "        if cmd[0] == \"append\":\n",
    "            L.append(int(cmd[1]))\n",
    "        if cmd[0] == \"sort\":\n",
    "            L.sort()\n",
    "        if cmd[0] == \"pop\":\n",
    "            L.pop()\n",
    "        if cmd[0] == \"reverse\":\n",
    "            L.reverse()"
   ]
  },
  {
   "cell_type": "code",
   "execution_count": null,
   "id": "b00c7493",
   "metadata": {},
   "outputs": [],
   "source": [
    "if __name__ == '__main__':\n",
    "    print('Please type in a number between 1 and 5:')\n",
    "    n = int(input())\n",
    "    print(f'Please type in {n} number of numbers separated a space between them:')\n",
    "    arr = map(int, input().split())\n",
    "    sorted = sorted(arr)\n",
    "    max_value = sorted[-1]\n",
    "    new_list = []\n",
    "    for num in sorted:\n",
    "        if num < max_value:\n",
    "            new_list.append(num)\n",
    "    print('The second largest number in the list is:')\n",
    "    print(new_list[-1])"
   ]
  },
  {
   "cell_type": "code",
   "execution_count": null,
   "id": "65c8e7d5",
   "metadata": {},
   "outputs": [],
   "source": [
    "if __name__ == '__main__':\n",
    "    dict = {}\n",
    "    print('Please type in the number of persons you are about to investigate regarded their scores:')\n",
    "    for _ in range(int(input())):\n",
    "        print('Requested name:')\n",
    "        name = input()\n",
    "        print('Related score:')\n",
    "        score = float(input())\n",
    "        dict[name] = score\n",
    "    scores = [value for value in dict.values()]\n",
    "    sorted = sorted(scores)\n",
    "    scores_new = [num for num in sorted if num > sorted[0]]\n",
    "    good_names = [key for key, value in dict.items() if value == scores_new[0]]\n",
    "    good_names.sort()\n",
    "    print('The second-to-last persons in alphabetical order are as follow:')\n",
    "    for name in good_names:\n",
    "        print(name)"
   ]
  },
  {
   "cell_type": "code",
   "execution_count": null,
   "id": "89d66ff8",
   "metadata": {},
   "outputs": [],
   "source": [
    "def split_and_join(line):\n",
    "    # write your code here\n",
    "    line = line.split(' ')\n",
    "    return '-'.join(line)\n",
    "        \n",
    "if __name__ == '__main__':\n",
    "    line = input()\n",
    "    result = split_and_join(line)\n",
    "    print(result)"
   ]
  },
  {
   "cell_type": "code",
   "execution_count": 1,
   "id": "bf27f576",
   "metadata": {},
   "outputs": [
    {
     "name": "stdout",
     "output_type": "stream",
     "text": [
      "Please type in your first and then your last name:\n",
      "Balazs\n",
      "Arva\n",
      "Hello Balazs Arva! You just delved into python.\n"
     ]
    }
   ],
   "source": [
    "def print_full_name(first, last):\n",
    "    # Write your code here\n",
    "    print(f'Hello {first} {last}! You just delved into python.')\n",
    "\n",
    "if __name__ == '__main__':\n",
    "    print('Please type in your first and then your last name:')\n",
    "    first_name = input()\n",
    "    last_name = input()\n",
    "    print_full_name(first_name, last_name)"
   ]
  },
  {
   "cell_type": "code",
   "execution_count": null,
   "id": "e9f13544",
   "metadata": {},
   "outputs": [
    {
     "name": "stdout",
     "output_type": "stream",
     "text": [
      "Please type in a string:\n"
     ]
    }
   ],
   "source": [
    "def mutate_string(string, position, character):\n",
    "    new_list = []\n",
    "    for char in string:\n",
    "        new_list.append(char)\n",
    "    new_list.pop(position)\n",
    "    new_list.insert(position, character)\n",
    "    s_new = ''.join(new_list)\n",
    "    return s_new\n",
    "if __name__ == '__main__':\n",
    "    print('Please type in a string:')\n",
    "    s = input()\n",
    "    print(f'Please type in the position where you would like to change the character in {s}. Also, please type in the character you would like to see in that position:')\n",
    "    i, c = input().split()\n",
    "    s_new = mutate_string(s, int(i), c)\n",
    "    print(s_new)"
   ]
  },
  {
   "cell_type": "code",
   "execution_count": null,
   "id": "79df6f9b",
   "metadata": {},
   "outputs": [],
   "source": []
  }
 ],
 "metadata": {
  "kernelspec": {
   "display_name": "Python 3 (ipykernel)",
   "language": "python",
   "name": "python3"
  },
  "language_info": {
   "codemirror_mode": {
    "name": "ipython",
    "version": 3
   },
   "file_extension": ".py",
   "mimetype": "text/x-python",
   "name": "python",
   "nbconvert_exporter": "python",
   "pygments_lexer": "ipython3",
   "version": "3.10.9"
  }
 },
 "nbformat": 4,
 "nbformat_minor": 5
}
