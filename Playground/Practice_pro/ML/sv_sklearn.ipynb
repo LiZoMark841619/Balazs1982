{
 "cells": [
  {
   "cell_type": "markdown",
   "metadata": {},
   "source": [
    "`Supervised Machine Learning - Regression`"
   ]
  },
  {
   "cell_type": "code",
   "execution_count": 23,
   "metadata": {},
   "outputs": [],
   "source": [
    "import numpy as np\n",
    "import pandas as pd\n",
    "import seaborn as sns\n",
    "from sklearn.linear_model import LinearRegression\n",
    "housing_data = pd.read_csv('housing_data.csv')"
   ]
  },
  {
   "cell_type": "code",
   "execution_count": 24,
   "metadata": {},
   "outputs": [
    {
     "data": {
      "text/html": [
       "<div>\n",
       "<style scoped>\n",
       "    .dataframe tbody tr th:only-of-type {\n",
       "        vertical-align: middle;\n",
       "    }\n",
       "\n",
       "    .dataframe tbody tr th {\n",
       "        vertical-align: top;\n",
       "    }\n",
       "\n",
       "    .dataframe thead th {\n",
       "        text-align: right;\n",
       "    }\n",
       "</style>\n",
       "<table border=\"1\" class=\"dataframe\">\n",
       "  <thead>\n",
       "    <tr style=\"text-align: right;\">\n",
       "      <th></th>\n",
       "      <th>Sq ft</th>\n",
       "      <th>Burglaries</th>\n",
       "      <th>Rent</th>\n",
       "    </tr>\n",
       "  </thead>\n",
       "  <tbody>\n",
       "    <tr>\n",
       "      <th>0</th>\n",
       "      <td>916.0</td>\n",
       "      <td>15.0</td>\n",
       "      <td>2490.0</td>\n",
       "    </tr>\n",
       "    <tr>\n",
       "      <th>1</th>\n",
       "      <td>571.0</td>\n",
       "      <td>8.0</td>\n",
       "      <td>890.0</td>\n",
       "    </tr>\n",
       "    <tr>\n",
       "      <th>2</th>\n",
       "      <td>1019.0</td>\n",
       "      <td>7.0</td>\n",
       "      <td>2050.0</td>\n",
       "    </tr>\n",
       "  </tbody>\n",
       "</table>\n",
       "</div>"
      ],
      "text/plain": [
       "    Sq ft  Burglaries    Rent\n",
       "0   916.0        15.0  2490.0\n",
       "1   571.0         8.0   890.0\n",
       "2  1019.0         7.0  2050.0"
      ]
     },
     "execution_count": 24,
     "metadata": {},
     "output_type": "execute_result"
    }
   ],
   "source": [
    "housing_data.head(3)"
   ]
  },
  {
   "cell_type": "code",
   "execution_count": 25,
   "metadata": {},
   "outputs": [
    {
     "name": "stdout",
     "output_type": "stream",
     "text": [
      "The number of rentals in the sample: 100\n"
     ]
    }
   ],
   "source": [
    "print(f'The number of rentals in the sample: {len(housing_data)}')"
   ]
  },
  {
   "cell_type": "code",
   "execution_count": 26,
   "metadata": {},
   "outputs": [
    {
     "data": {
      "text/plain": [
       "dtype('float64')"
      ]
     },
     "execution_count": 26,
     "metadata": {},
     "output_type": "execute_result"
    }
   ],
   "source": [
    "housing_data.Rent.dtype"
   ]
  },
  {
   "cell_type": "code",
   "execution_count": 27,
   "metadata": {},
   "outputs": [
    {
     "name": "stdout",
     "output_type": "stream",
     "text": [
      "[2830.02438661]\n"
     ]
    }
   ],
   "source": [
    "# Separate the data into independent and dependent variables\n",
    "X = housing_data[['Sq ft', 'Burglaries']].values\n",
    "y = housing_data['Rent']\n",
    "# Create the model\n",
    "reg = LinearRegression()\n",
    "\n",
    "# Train the model\n",
    "reg.fit(X, y)\n",
    "\n",
    "square_footage = 1250\n",
    "number_of_burglaries = 10\n",
    "\n",
    "y_pred = reg.predict(np.array([square_footage, number_of_burglaries]).reshape(1, -1))\n",
    "print(y_pred)"
   ]
  },
  {
   "cell_type": "markdown",
   "metadata": {},
   "source": [
    "`Supervised Machine Learning - Classification`"
   ]
  },
  {
   "cell_type": "code",
   "execution_count": 28,
   "metadata": {},
   "outputs": [],
   "source": [
    "# Import module\n",
    "from sklearn.neighbors import KNeighborsClassifier"
   ]
  },
  {
   "cell_type": "code",
   "execution_count": 29,
   "metadata": {},
   "outputs": [],
   "source": [
    "# Load the data\n",
    "photo_id_times = pd.read_csv('photo_id_times.csv')"
   ]
  },
  {
   "cell_type": "code",
   "execution_count": 30,
   "metadata": {},
   "outputs": [
    {
     "data": {
      "text/plain": [
       "Time to id photo  Class\n",
       "-1.043271         0.0      1\n",
       " 5.306796         0.0      1\n",
       " 6.394511         1.0      1\n",
       " 6.372915         1.0      1\n",
       " 6.086478         1.0      1\n",
       "                          ..\n",
       " 3.208621         0.0      1\n",
       " 3.100049         0.0      1\n",
       " 3.066562         0.0      1\n",
       " 3.029407         0.0      1\n",
       " 10.007348        1.0      1\n",
       "Name: count, Length: 100, dtype: int64"
      ]
     },
     "execution_count": 30,
     "metadata": {},
     "output_type": "execute_result"
    }
   ],
   "source": [
    "photo_id_times.value_counts()"
   ]
  },
  {
   "cell_type": "code",
   "execution_count": 31,
   "metadata": {},
   "outputs": [
    {
     "data": {
      "text/plain": [
       "0     3.538784\n",
       "1     1.674163\n",
       "2     2.697005\n",
       "3     0.506161\n",
       "4     2.344700\n",
       "        ...   \n",
       "95    8.221441\n",
       "96    5.256662\n",
       "97    8.059844\n",
       "98    3.887342\n",
       "99    5.086033\n",
       "Name: Time to id photo, Length: 100, dtype: float64"
      ]
     },
     "execution_count": 31,
     "metadata": {},
     "output_type": "execute_result"
    }
   ],
   "source": [
    "photo_id_times['Time to id photo']"
   ]
  },
  {
   "cell_type": "code",
   "execution_count": 32,
   "metadata": {},
   "outputs": [
    {
     "data": {
      "text/plain": [
       "array([ 3.53878426e+00,  1.67416312e+00,  2.69700513e+00,  5.06160528e-01,\n",
       "        2.34469970e+00,  1.34215306e+00,  1.38935045e+00,  3.97947879e+00,\n",
       "        3.77926640e+00,  4.59492153e+00,  2.50572279e+00,  2.92856494e+00,\n",
       "        1.52631899e+00, -3.11709107e-01,  4.68628277e+00,  3.23051130e+00,\n",
       "        4.58157362e+00,  3.27303772e+00,  5.82892290e+00,  3.20862108e+00,\n",
       "        3.01091534e+00,  2.62724367e+00,  5.40830930e+00,  3.64817650e+00,\n",
       "        2.03385290e+00,  5.08577340e+00,  3.73191522e+00,  4.73851339e+00,\n",
       "        3.10004888e+00,  4.64682028e+00,  3.62147781e+00,  1.53345917e+00,\n",
       "        3.37054282e+00,  4.40753444e+00,  3.02940719e+00,  3.40198951e+00,\n",
       "        3.06656176e+00,  3.30626356e+00,  5.30679576e+00,  3.86206793e+00,\n",
       "        1.55076580e+00,  5.02693254e+00,  5.04967228e+00,  2.57129148e+00,\n",
       "        6.02473607e+00,  4.08780139e+00,  7.05284255e-03,  3.64441021e+00,\n",
       "        1.64064626e+00,  2.65082790e+00,  2.40163340e+00,  4.68055521e+00,\n",
       "        1.32440414e+00,  3.37272824e+00,  2.87558985e+00,  1.13662383e+00,\n",
       "        2.90427740e+00,  6.13379947e-01, -1.04327063e+00,  1.22074649e+00,\n",
       "        7.85380094e+00,  6.67105830e+00,  6.84013886e+00,  7.03429354e+00,\n",
       "        7.96981988e+00,  5.58101601e+00,  3.51252493e+00,  5.99121426e+00,\n",
       "        6.37291537e+00,  1.00073480e+01,  6.08647826e+00,  6.84846912e+00,\n",
       "        4.88706286e+00,  7.69947907e+00,  6.39451141e+00,  8.37935471e+00,\n",
       "        5.72185533e+00,  9.09208335e+00,  5.66608138e+00,  9.48073909e+00,\n",
       "        7.51980608e+00,  7.50415860e+00,  7.22252722e+00,  9.21936302e+00,\n",
       "        7.61183563e+00,  7.52163896e+00,  7.48179486e+00,  8.35171018e+00,\n",
       "        6.51851467e+00,  5.16292433e+00,  7.05206384e+00,  6.86804975e+00,\n",
       "        7.45231230e+00,  7.74355963e+00,  5.30048889e+00,  8.22144131e+00,\n",
       "        5.25666155e+00,  8.05984424e+00,  3.88734238e+00,  5.08603334e+00])"
      ]
     },
     "execution_count": 32,
     "metadata": {},
     "output_type": "execute_result"
    }
   ],
   "source": [
    "np.array(photo_id_times['Time to id photo'])"
   ]
  },
  {
   "cell_type": "code",
   "execution_count": 33,
   "metadata": {},
   "outputs": [
    {
     "name": "stdout",
     "output_type": "stream",
     "text": [
      "We think you're a robot.\n"
     ]
    }
   ],
   "source": [
    "# Separate the data into independent and dependent variables\n",
    "X = np.array(photo_id_times['Time to id photo']).reshape(-1, 1)\n",
    "y = photo_id_times['Class']\n",
    "\n",
    "# Create a model and fit it to the data\n",
    "neigh = KNeighborsClassifier(n_neighbors=3)\n",
    "neigh.fit(X, y)\n",
    "\n",
    "time_to_identify_picture = 10\n",
    "\n",
    "# Make a prediction based on how long it takes to identify a picture\n",
    "y_pred = neigh.predict(np.array(time_to_identify_picture).reshape(1, -1))\n",
    "\n",
    "if y_pred == 1:\n",
    "    print(\"We think you're a robot.\")\n",
    "else:\n",
    "    print(\"Welcome, human!\")\n"
   ]
  },
  {
   "cell_type": "code",
   "execution_count": 34,
   "metadata": {},
   "outputs": [],
   "source": [
    "array_trial = np.array([[10, 30], [40, 40]])"
   ]
  },
  {
   "cell_type": "code",
   "execution_count": 35,
   "metadata": {},
   "outputs": [
    {
     "data": {
      "text/plain": [
       "array([[10, 30],\n",
       "       [40, 40]])"
      ]
     },
     "execution_count": 35,
     "metadata": {},
     "output_type": "execute_result"
    }
   ],
   "source": [
    "array_trial"
   ]
  },
  {
   "cell_type": "code",
   "execution_count": 36,
   "metadata": {},
   "outputs": [
    {
     "data": {
      "text/plain": [
       "array([[10, 30, 40, 40]])"
      ]
     },
     "execution_count": 36,
     "metadata": {},
     "output_type": "execute_result"
    }
   ],
   "source": [
    "np.reshape(array_trial, (1, -1))"
   ]
  },
  {
   "cell_type": "code",
   "execution_count": 37,
   "metadata": {},
   "outputs": [
    {
     "data": {
      "text/plain": [
       "array([[10, 30],\n",
       "       [40, 40]])"
      ]
     },
     "execution_count": 37,
     "metadata": {},
     "output_type": "execute_result"
    }
   ],
   "source": [
    "array_trial"
   ]
  },
  {
   "cell_type": "code",
   "execution_count": null,
   "metadata": {},
   "outputs": [],
   "source": [
    "np.array([True, 1, 2]) + np.array([3, 4, False])"
   ]
  },
  {
   "cell_type": "code",
   "execution_count": null,
   "metadata": {},
   "outputs": [],
   "source": [
    "np.array([4,5,2])"
   ]
  },
  {
   "cell_type": "code",
   "execution_count": null,
   "metadata": {},
   "outputs": [],
   "source": [
    "[True, 1, 2] + [3, 4, False]"
   ]
  },
  {
   "cell_type": "code",
   "execution_count": null,
   "metadata": {},
   "outputs": [],
   "source": [
    "np.array([True, 1, 2])"
   ]
  },
  {
   "cell_type": "code",
   "execution_count": null,
   "metadata": {},
   "outputs": [],
   "source": [
    "np.array([3, 4, False])"
   ]
  },
  {
   "cell_type": "code",
   "execution_count": null,
   "metadata": {},
   "outputs": [],
   "source": [
    "import numpy as np"
   ]
  },
  {
   "cell_type": "code",
   "execution_count": null,
   "metadata": {},
   "outputs": [],
   "source": [
    "np.random.seed(300)"
   ]
  },
  {
   "cell_type": "code",
   "execution_count": null,
   "metadata": {},
   "outputs": [],
   "source": [
    "tails_num = []\n",
    "for _ in range(10000):\n",
    "    output = []\n",
    "    tails = [0]\n",
    "    for i in range(10):\n",
    "        result = np.random.randint(0,2)\n",
    "        if result == 0:\n",
    "            output.append('heads')\n",
    "        else:\n",
    "            output.append('tails')\n",
    "        tails.append(tails[i]+result)\n",
    "    tails_num.append(tails[-1])\n",
    "print(output)\n",
    "#print(tails)\n",
    "#print(tails_num)\n",
    "print(f'The number of tails is {tails[-1]} after {len(output)} flips')\n",
    "\n",
    "sns.histplot(tails_num, bins=10, color='red')\n",
    "plt.title(f'Distribution of tails after {len(output)} flips repeated {len(tails_num)} times')\n",
    "plt.xlabel('Number of tails (ranges)')\n",
    "plt.ylabel('Frequency')\n",
    "plt.show()\n",
    "plt.clf()"
   ]
  },
  {
   "cell_type": "code",
   "execution_count": null,
   "metadata": {},
   "outputs": [],
   "source": [
    "# Simulate random walk 10 times\n",
    "all_walks = []\n",
    "for _ in range(5) :\n",
    "    random_walk = [0]\n",
    "    for _ in range(100) :\n",
    "        step = random_walk[-1]\n",
    "        dice = np.random.randint(1,7)\n",
    "        if dice <= 2:\n",
    "            step = max(0, step - 1)\n",
    "        elif dice <= 5:\n",
    "            step = step + 1\n",
    "        else:\n",
    "            step = step + np.random.randint(1,7)\n",
    "\n",
    "        # Implement clumsiness\n",
    "        clum = np.random.rand()\n",
    "        if clum <= 0.005 :\n",
    "            step = 0\n",
    "\n",
    "        random_walk.append(step)\n",
    "    all_walks.append(random_walk)\n",
    "\n",
    "# Create and plot np_aw_t\n",
    "np_aw_t = np.transpose(np.array(all_walks))\n",
    "plt.plot(np_aw_t)\n",
    "plt.title('Number of rollings a dice and steps taken')\n",
    "plt.xlabel('Number of rollings')\n",
    "plt.ylabel('Number of steps')\n",
    "plt.text(x=0 , y=50 , s=f'''The experiment includes\n",
    "{len(random_walk)-1} rollings repeated {len(all_walks)} times''', fontsize=8)\n",
    "plt.show()"
   ]
  },
  {
   "cell_type": "code",
   "execution_count": null,
   "metadata": {},
   "outputs": [],
   "source": [
    "all_walks1 = []\n",
    "for _ in range(500) :\n",
    "    random_walk = [0]\n",
    "    for _ in range(100) :\n",
    "        step = random_walk[-1]\n",
    "        dice = np.random.randint(1,7)\n",
    "        if dice <= 2:\n",
    "            step = max(0, step - 1)\n",
    "        elif dice <= 5:\n",
    "            step = step + 1\n",
    "        else:\n",
    "            step = step + np.random.randint(1,7)\n",
    "\n",
    "        # Implement clumsiness\n",
    "        clum = np.random.rand()\n",
    "        if clum <= 0.001 :\n",
    "            step = 0\n",
    "\n",
    "        random_walk.append(step)\n",
    "    all_walks1.append(random_walk)\n",
    "np_aw_t_n = np.transpose(np.array(all_walks1))\n"
   ]
  },
  {
   "cell_type": "code",
   "execution_count": null,
   "metadata": {},
   "outputs": [],
   "source": [
    "sns.histplot(np_aw_t_n[-1,:])\n",
    "plt.show()\n",
    "plt.clf()"
   ]
  },
  {
   "cell_type": "code",
   "execution_count": null,
   "metadata": {},
   "outputs": [],
   "source": [
    "list = [[1, 2, 3,], [4, 5, 6]]"
   ]
  },
  {
   "cell_type": "code",
   "execution_count": null,
   "metadata": {},
   "outputs": [],
   "source": [
    "list"
   ]
  },
  {
   "cell_type": "code",
   "execution_count": null,
   "metadata": {},
   "outputs": [],
   "source": [
    "np.array(list)"
   ]
  },
  {
   "cell_type": "code",
   "execution_count": null,
   "metadata": {},
   "outputs": [],
   "source": [
    "np.array(list).T"
   ]
  },
  {
   "cell_type": "code",
   "execution_count": null,
   "metadata": {},
   "outputs": [],
   "source": [
    "def get_gradient_at_b(x, y, b, m):\n",
    "  N = len(x)\n",
    "  diff = 0\n",
    "  for i in range(N):\n",
    "    x_val = x[i]\n",
    "    y_val = y[i]\n",
    "    diff += (y_val - ((m * x_val) + b))\n",
    "  b_gradient = -(2/N) * diff  \n",
    "  return b_gradient\n",
    "\n",
    "def get_gradient_at_m(x, y, b, m):\n",
    "  N = len(x)\n",
    "  diff = 0\n",
    "  for i in range(N):\n",
    "      x_val = x[i]\n",
    "      y_val = y[i]\n",
    "      diff += x_val * (y_val - ((m * x_val) + b))\n",
    "  m_gradient = -(2/N) * diff  \n",
    "  return m_gradient\n",
    "\n",
    "# Define your step_gradient function here\n",
    "def step_gradient(x, y, b_current, m_current):\n",
    "  b_gradient = get_gradient_at_b(x, y, b_current, m_current)\n",
    "  m_gradient = get_gradient_at_m(x, y, b_current, m_current)\n",
    "  b = b_current - (0.01*b_gradient)\n",
    "  m = m_current - (0.01*m_gradient)\n",
    "  return [b, m]\n",
    "\n",
    "\n",
    "months = [1, 2, 3, 4, 5, 6, 7, 8, 9, 10, 11, 12]\n",
    "revenue = [52, 74, 79, 95, 115, 110, 129, 126, 147, 146, 156, 184]\n",
    "\n",
    "# current intercept guess:\n",
    "b = 0\n",
    "# current slope guess:\n",
    "m = 0\n",
    "\n",
    "# Call your function here to update b and m\n",
    "b, m = step_gradient(months, revenue, b, m)\n",
    "\n",
    "print(b, m)\n",
    "\n"
   ]
  }
 ],
 "metadata": {
  "kernelspec": {
   "display_name": "Python 3",
   "language": "python",
   "name": "python3"
  },
  "language_info": {
   "codemirror_mode": {
    "name": "ipython",
    "version": 3
   },
   "file_extension": ".py",
   "mimetype": "text/x-python",
   "name": "python",
   "nbconvert_exporter": "python",
   "pygments_lexer": "ipython3",
   "version": "3.11.4"
  },
  "orig_nbformat": 4
 },
 "nbformat": 4,
 "nbformat_minor": 2
}
