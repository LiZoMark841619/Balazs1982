{
 "cells": [
  {
   "cell_type": "code",
   "execution_count": null,
   "metadata": {},
   "outputs": [],
   "source": [
    "import numpy as np\n",
    "import pandas as pd\n",
    "from sklearn.linear_model import LinearRegression\n",
    "\n",
    "# Load the data\n",
    "housing_data = pd.read_csv('housing_data.csv')\n",
    "X = housing_data[['Sq ft', 'Burglaries']]\n",
    "y = housing_data['Rent']\n",
    "print(housing_data.head())\n",
    "print(len(housing_data))\n",
    "# Create the model\n",
    "reg = LinearRegression()\n",
    "\n",
    "# Train the model\n",
    "reg.fit(X, y)\n",
    "\n",
    "square_footage = 1277\n",
    "number_of_burglaries = 8\n",
    "\n",
    "y_pred = reg.predict(np.array([square_footage, number_of_burglaries]).reshape(1, 2))\n",
    "\n",
    "print(y_pred)\n"
   ]
  }
 ],
 "metadata": {
  "language_info": {
   "name": "python"
  },
  "orig_nbformat": 4
 },
 "nbformat": 4,
 "nbformat_minor": 2
}
