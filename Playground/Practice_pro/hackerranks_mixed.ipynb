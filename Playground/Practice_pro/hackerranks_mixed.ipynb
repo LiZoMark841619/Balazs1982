{
 "cells": [
  {
   "cell_type": "code",
   "execution_count": 31,
   "metadata": {},
   "outputs": [
    {
     "name": "stdout",
     "output_type": "stream",
     "text": [
      "The array is [100, 300, 400, 500]\n",
      "The minimum sum of this array is 800, the maximum is 1200\n"
     ]
    }
   ],
   "source": [
    "def miniMaxSum(arr):\n",
    "    arr1 = sorted(arr)\n",
    "    return sum(arr1[:-1]), sum(arr1[1:])\n",
    "if __name__ == '__main__':\n",
    "    arr = list(map(int, input('Enter a one dimension array').rstrip().split()))\n",
    "    print(f'The array is {arr}')\n",
    "    print(f'The minimum sum of this array is {miniMaxSum(arr)[0]}, the maximum is {miniMaxSum(arr)[1]}')"
   ]
  },
  {
   "cell_type": "code",
   "execution_count": 32,
   "metadata": {},
   "outputs": [
    {
     "name": "stdout",
     "output_type": "stream",
     "text": [
      "The array is: [[100, 400, 500], [-400, 500, -1500], [300, 510, -500]]\n",
      "The absolute result of the substraction of the diagonal elements is:\n",
      "1200\n",
      "\n"
     ]
    }
   ],
   "source": [
    "def diagonalDifference(arr):\n",
    "    output1 = 0\n",
    "    output2 = 0\n",
    "    for i in range(len(arr)):\n",
    "        output1 += arr[i][i]\n",
    "        output2 += arr[i][-1-i]\n",
    "    return abs(output1-output2)\n",
    "if __name__ == '__main__':\n",
    "\n",
    "    n = int(input('Enter the number of rows of a square matrix:').strip())\n",
    "\n",
    "    arr = [list(map(int, input(f'Enter the the elems of number {_+1} row with one space between them, then push enter.').rstrip().split())) for _ in range(n)]\n",
    "\n",
    "    result = diagonalDifference(arr)\n",
    "    print(f'The array is: {arr}')\n",
    "    print('The absolute result of the substraction of the diagonal elements is:')\n",
    "    print((str(result) + '\\n'))"
   ]
  },
  {
   "cell_type": "code",
   "execution_count": 39,
   "metadata": {},
   "outputs": [
    {
     "name": "stdout",
     "output_type": "stream",
     "text": [
      "0.6\n",
      "0.4\n",
      "0.0\n"
     ]
    }
   ],
   "source": [
    "#!/bin/python3\n",
    "\n",
    "import math\n",
    "import os\n",
    "import random\n",
    "import re\n",
    "import sys\n",
    "\n",
    "#\n",
    "# Complete the 'plusMinus' function below.\n",
    "#\n",
    "# The function accepts INTEGER_ARRAY arr as parameter.\n",
    "#\n",
    "\n",
    "def plusMinus(arr):\n",
    "    # Write your code here\n",
    "    pos = 0\n",
    "    neg = 0\n",
    "    zero = 0\n",
    "    \n",
    "    for num in arr:\n",
    "        if num > 0:\n",
    "            pos += 1\n",
    "        if num < 0:\n",
    "            neg += 1     \n",
    "        elif num == 0:\n",
    "            zero +=1\n",
    "    \n",
    "    return pos/len(arr), neg/len(arr), zero/len(arr)\n",
    "    \n",
    "if __name__ == '__main__':\n",
    "    n = int(input('Enter the number of element you want to determine the 1-D Array').strip())\n",
    "\n",
    "    arr = list(map(int, input('Enter the elements').rstrip().split()))\n",
    "\n",
    "    print(plusMinus(arr)[0])\n",
    "    print(plusMinus(arr)[1])\n",
    "    print(plusMinus(arr)[2])\n"
   ]
  },
  {
   "cell_type": "code",
   "execution_count": 36,
   "metadata": {},
   "outputs": [
    {
     "name": "stdout",
     "output_type": "stream",
     "text": [
      "[0, 2, 0, 2, 0, 0, 1, 0, 1, 2, 1, 0, 1, 1, 0, 0, 2, 0, 1, 0, 1, 2, 1, 1, 1, 3, 0, 2, 0, 0, 2, 0, 3, 3, 1, 0, 0, 0, 0, 2, 2, 1, 1, 1, 2, 0, 2, 0, 1, 0, 1, 0, 0, 1, 0, 0, 2, 1, 0, 1, 1, 1, 0, 1, 0, 1, 0, 2, 1, 3, 2, 0, 0, 2, 1, 2, 1, 0, 2, 2, 1, 2, 1, 2, 1, 1, 2, 2, 0, 3, 2, 1, 1, 0, 1, 1, 1, 0, 2, 2]\n"
     ]
    }
   ],
   "source": [
    "#!/bin/python3\n",
    "\n",
    "import math\n",
    "import os\n",
    "import random\n",
    "import re\n",
    "import sys\n",
    "\n",
    "#\n",
    "# Complete the 'countingSort' function below.\n",
    "#\n",
    "# The function is expected to return an INTEGER_ARRAY.\n",
    "# The function accepts INTEGER_ARRAY arr as parameter.\n",
    "#\n",
    "\n",
    "def countingSort(arr):\n",
    "    # Write your code here\n",
    "    count = [0] *100\n",
    "    for num in arr:\n",
    "        count[num] +=1\n",
    "    return count\n",
    "if __name__ == '__main__':\n",
    "\n",
    "    n = int(input('Enter the length of the array: ').strip())\n",
    "\n",
    "    arr = list(map(int, input().rstrip().split()))\n",
    "\n",
    "    result = countingSort(arr)\n",
    "\n",
    "\n",
    "print(result)"
   ]
  },
  {
   "cell_type": "code",
   "execution_count": null,
   "metadata": {},
   "outputs": [],
   "source": []
  }
 ],
 "metadata": {
  "kernelspec": {
   "display_name": "base",
   "language": "python",
   "name": "python3"
  },
  "language_info": {
   "codemirror_mode": {
    "name": "ipython",
    "version": 3
   },
   "file_extension": ".py",
   "mimetype": "text/x-python",
   "name": "python",
   "nbconvert_exporter": "python",
   "pygments_lexer": "ipython3",
   "version": "3.11.4"
  },
  "orig_nbformat": 4
 },
 "nbformat": 4,
 "nbformat_minor": 2
}
