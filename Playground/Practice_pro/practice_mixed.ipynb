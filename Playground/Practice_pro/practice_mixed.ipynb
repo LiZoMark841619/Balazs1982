{
 "cells": [
  {
   "cell_type": "code",
   "execution_count": 9,
   "metadata": {},
   "outputs": [
    {
     "name": "stdout",
     "output_type": "stream",
     "text": [
      "Ava, Emma, Olivia, Sophia\n"
     ]
    }
   ],
   "source": [
    "def unique_names(names1, names2):\n",
    "    new_names = []\n",
    "    for name in names1:\n",
    "      if name not in new_names:\n",
    "        new_names.append(name)\n",
    "    for name in names2:\n",
    "      if name not in new_names:\n",
    "        new_names.append(name)\n",
    "    return new_names\n",
    "        \n",
    "if __name__ == \"__main__\":\n",
    "    names1 = [\"Ava\", \"Emma\", \"Olivia\"]\n",
    "    names2 = [\"Olivia\", \"Sophia\", \"Emma\"]\n",
    "    print(*unique_names(names1, names2), sep=', ') # should print Ava, Emma, Olivia, Sophia"
   ]
  },
  {
   "cell_type": "code",
   "execution_count": null,
   "metadata": {},
   "outputs": [],
   "source": [
    "def find_roots(a, b, c):\n",
    "    x1 = (-b + (b**2 - 4*a*c)**.5)/(2*a)\n",
    "    x2 = (-b - (b**2 - 4*a*c)**.5)/(2*a)\n",
    "    return (x1, x2)\n",
    "\n",
    "print(find_roots(2, 10, 8));"
   ]
  },
  {
   "cell_type": "code",
   "execution_count": 18,
   "metadata": {},
   "outputs": [
    {
     "name": "stdout",
     "output_type": "stream",
     "text": [
      "[['vanilla', 'chocolate sauce'], ['chocolate', 'chocolate sauce']]\n"
     ]
    }
   ],
   "source": [
    "class IceCreamMachine:\n",
    "    \n",
    "    def __init__(self, ingredients, toppings):\n",
    "        self.ingredients = ingredients\n",
    "        self.toppings = toppings\n",
    "        \n",
    "    def scoops(self):\n",
    "        output = [[a, b] for a, b in zip(self.ingredients, self.toppings)]\n",
    "        output.extend([a, b] for a, b in zip(sorted(self.ingredients), self.toppings))\n",
    "        return output\n",
    "\n",
    "if __name__ == \"__main__\":\n",
    "    machine = IceCreamMachine([\"vanilla\", \"chocolate\"], [\"chocolate sauce\"])\n",
    "    print(machine.scoops()) #should print: [['vanilla', 'chocolate sauce'], ['chocolate', 'chocolate sauce']]"
   ]
  },
  {
   "cell_type": "code",
   "execution_count": 29,
   "metadata": {},
   "outputs": [
    {
     "name": "stdout",
     "output_type": "stream",
     "text": [
      "[['vanilla', 'chocolate sauce']]\n"
     ]
    }
   ],
   "source": [
    "class IceCreamMachine:\n",
    "    \n",
    "    def __init__(self, ingredients, toppings):\n",
    "        self.ingredients = ingredients\n",
    "        self.toppings = toppings\n",
    "        \n",
    "    def scoops(self):\n",
    "        output = [[a, b] for a, b in (zip(self.ingredients, self.toppings))]\n",
    "        output.extend([])\n",
    "        return output\n",
    "\n",
    "if __name__ == \"__main__\":\n",
    "    machine = IceCreamMachine([\"vanilla\", \"chocolate\"], [\"chocolate sauce\"])\n",
    "    print(machine.scoops()) #should print: [['vanilla', 'chocolate sauce'], ['chocolate', 'chocolate sauce']]"
   ]
  },
  {
   "cell_type": "code",
   "execution_count": null,
   "metadata": {},
   "outputs": [],
   "source": []
  }
 ],
 "metadata": {
  "kernelspec": {
   "display_name": "Python 3",
   "language": "python",
   "name": "python3"
  },
  "language_info": {
   "codemirror_mode": {
    "name": "ipython",
    "version": 3
   },
   "file_extension": ".py",
   "mimetype": "text/x-python",
   "name": "python",
   "nbconvert_exporter": "python",
   "pygments_lexer": "ipython3",
   "version": "3.11.4"
  },
  "orig_nbformat": 4
 },
 "nbformat": 4,
 "nbformat_minor": 2
}
