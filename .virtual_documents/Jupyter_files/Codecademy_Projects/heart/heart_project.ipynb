





import pandas as pd
import numpy as np
import matplotlib.pyplot as plt 
import seaborn as sns
from scipy.stats import ttest_ind, f_oneway, chi2_contingency
from statsmodels.stats.multicomp import pairwise_tukeyhsd





heart = pd.read_csv('heart_disease.csv')
print(heart.head())
print(heart.shape)





sns.boxplot(x='heart_disease', y='thalach', data=heart, palette='Set1')
plt.title('Association of heart disease and max heart rate')
plt.show()
plt.clf()





thalach_hd = heart.thalach[heart.heart_disease == 'presence']
thalach_no_hd = heart.thalach[heart.heart_disease == 'absence']

mean_diff = np.mean(thalach_hd) - np.mean(thalach_no_hd)
median_diff = np.median(thalach_hd) - np.median(thalach_no_hd)
print(f'Mean difference is {mean_diff}, the median difference is {median_diff}')





tstat_thal, pval_thal = ttest_ind(thalach_hd, thalach_no_hd)
sig_thres = 0.05

if pval_thal < sig_thres:
  print(f'''There is a significant difference in max heart rate between the people who has heart disease
and who has not, so we can reject the null hypothesis. The pval is {pval_thal}\n''')
else:
  print('''There is not significant difference in max heart rate between the people who has heart disease
and who has not, so we can accept the null hypothesis.''')





attributes = ['age', 'trestbps', 'chol']


for attr in attributes:
    sns.boxplot(y=attr, x='heart_disease', data=heart, palette='Set1')
    plt.title(f'Association of {attr} and heart disease')
    plt.show()
    plt.clf()
    


new_list = [[heart[attr][heart.heart_disease == 'presence'], heart[attr][heart.heart_disease == 'absence']] for attr in attributes]


age = 0
trestbps = 1
chol = 2


new_list[age], new_list[trestbps]


diff_list = [np.mean(list[0])-np.mean(list[1]) for list in new_list]
diff_list


mean_diff = {attributes[i] : diff_list[i] for i in range(len(attributes))}


print(f'''The mean differences between the variables and whether someone has a heart disease or not are below:
{mean_diff}''')


pval_list = [ttest_ind(new_list[i][0], new_list[i][1])[1] for i in range(len(attributes))]
print(pval_list)
    


pvals = {attributes[i] : pval_list[i] for i in range(len(attributes))}


pvals


pval_diff = {'Pval differences':pvals}


pval_diff


print(f'''The pvalues regarding the variables and whether someone has a heart disease or not are below:\n{pvals}
\nIt is absolutely clear that in age and blood pressure within the 2 groups, there are significant differences in the means
meaning that the null hypothesis is not true. Also, regarding cholesterol level there is no association with heart disease.''')


stat, pval = ttest_ind(age_hd, age_hd_no)

if pval< sig_thres:
  print(f'''There is a significance difference in age between the people who has heart disease and who has not,
so we can reject the null hypothesis. The pval is {pval_age}''')
else:
  print('''There is not significance difference in max heart rate between the people who has heart disease
and who has not, so we can accept the null hypothesis.''')


age_hd = heart.age[heart.heart_disease == 'presence']
age_hd_no = heart.age[heart.heart_disease == 'absence']

print(f'The mean diff is {np.mean(age_hd)-np.mean(age_hd_no)}, the median diff is {np.median(age_hd)-np.median(age_hd_no)}\n')

stat, pval_age = ttest_ind(age_hd, age_hd_no)

if pval_age < sig_thres:
  print(f'''There is a significance difference in age between the people who has heart disease and who has not,
so we can reject the null hypothesis. The pval is {pval_age}''')
else:
  print('''There is not significance difference in max heart rate between the people who has heart disease
and who has not, so we can accept the null hypothesis.''')






sns.boxplot(x='cp', y='thalach', data=heart, palette='Set1')
plt.title('Association of chest pain and max heart rate')
plt.show()
plt.clf()





thalach_typical = heart.thalach[heart.cp == 'typical angina']
thalach_asymptom = heart.thalach[heart.cp == 'asymptomatic']
thalach_nonangin = heart.thalach[heart.cp == 'non-anginal pain']
thalach_atypical = heart.thalach[heart.cp == 'atypical angina']

stat, pval = f_oneway(thalach_typical, thalach_asymptom, thalach_nonangin, thalach_atypical)

print(pval)


results = pairwise_tukeyhsd(endog = heart.thalach, groups = heart.cp)
print(results)





xtab = pd.crosstab(heart.cp, heart.heart_disease)
print('\n',xtab)
stat, pval_cp, dof, expected = chi2_contingency(xtab)
if pval_cp < sig_thres:
  print(f'\nThere is a association between chest pain type and whether someone has a heart disease or not. The pval is {pval_cp} so we can reject the null hypothesis.')
else:
  print('There is no association.')






