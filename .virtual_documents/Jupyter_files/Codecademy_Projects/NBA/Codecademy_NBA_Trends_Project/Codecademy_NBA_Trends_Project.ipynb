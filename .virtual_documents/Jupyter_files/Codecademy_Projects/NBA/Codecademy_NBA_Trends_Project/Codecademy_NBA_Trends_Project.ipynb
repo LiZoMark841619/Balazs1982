





import pandas as pd
import numpy as np
from scipy.stats import pearsonr, chi2_contingency
import matplotlib.pyplot as plt
import seaborn as sns


#to make the output look nicer
np.set_printoptions(suppress=True, precision = 2)





nba = pd.read_csv('nba_games.csv')
nba.head()


nba.describe(include='all')


# Subset Data to 2010 Season, 2014 Season
nba_2010 = nba[nba.year_id == 2010]
nba_2014 = nba[nba.year_id == 2014]





knicks_pts = nba_2010.pts[nba_2010.fran_id == 'Knicks']


nets_pts = nba_2010.pts[nba_2010.fran_id == 'Nets']





diff_means_2010 = knicks_pts.mean() - nets_pts.mean()
diff_means_2010


sns.histplot(knicks_pts, color='darkblue')
sns.histplot(nets_pts, color='red')
plt.title(f'Distribution of points in {nba_2010.year_id.unique()[0]}, Knicks vs. Nets')
plt.xlabel('Points in one game')
plt.ylabel('Count (number of games)')
plt.legend(['Knicks', 'Nets'])
plt.show()
plt.clf()


print('Regarded these 2 teams the variables are associated, because the 2 histograms are not covering each other.')





plt.hist(knicks_pts, color='green', label='Knicks', density=True, alpha=0.5)
plt.hist(nets_pts, color='grey', label='Nets', density=True, alpha=0.5)
plt.legend()
plt.show()
plt.clf()


print('Yes, they do not seem the same, the mean difference can be clealry seen.')





knicks_pts_2014 = nba_2014.pts[nba_2014.fran_id == 'Knicks']
nets_pts_2014 = nba_2014.pts[nba_2014.fran_id == 'Nets']


diff_mean_2014 = knicks_pts_2014.mean() - nets_pts_2014.mean()


diff_mean_2014


sns.histplot(knicks_pts_2014, color='darkblue')
sns.histplot(nets_pts_2014, color='red')
plt.title(f'Distribution of points in {nba_2014.year_id.unique()[0]}, Knicks vs. Nets')
plt.xlabel('Points in one game')
plt.ylabel('Count (number of games)')
plt.legend(['Knicks', 'Nets'])
plt.show()
plt.clf()


plt.hist(knicks_pts_2014, color='green', label='Knicks', density=True, alpha=0.5)
plt.hist(nets_pts_2014, color='grey', label='Nets', density=True, alpha=0.5)
plt.legend()
plt.show()
plt.clf()





nba_2010.head()


sns.boxplot(x='fran_id', y='pts', data=nba_2010)
plt.show()
plt.clf()





location_result_freq = pd.crosstab(nba_2010.game_result, nba_2010.game_location)
chi2, pval, dof, expected = chi2_contingency(location_result_freq)


location_result_freq


print(f' Yes, the variables are associated because the chi2 value is higher than its critical value (3.84), it is {np.round(chi2, 2)}.')





location_result_proportions = location_result_freq / len(nba_2010)


location_result_proportions





expected


type(expected)


expected[:,1]











result = np.cov(nba_2010.forecast, nba_2010.point_diff)


result





point_diff_forecast_corr = pearsonr(nba_2010.forecast, nba_2010.point_diff)


point_diff_forecast_corr[0]


print('There is a moderate positive linear relationship between forecast and point diff')





sns.scatterplot(x='forecast', y='point_diff', data=nba_2010, color='orange')
plt.title('Relationship between forecast and point difference in 2010')
plt.xlabel('Probability of winning')
plt.ylabel('Point difference')
plt.show()
plt.clf()



