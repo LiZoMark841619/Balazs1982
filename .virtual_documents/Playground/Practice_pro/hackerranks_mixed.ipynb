def miniMaxSum(arr):
    arr1 = sorted(arr)
    return sum(arr1[:-1]), sum(arr1[1:])
if __name__ == '__main__':
    arr = list(map(int, input('Enter a one dimension array').rstrip().split()))
    print(f'The array is {arr}')
    print(f'The minimum sum of this array is {miniMaxSum(arr)[0]}, the maximum is {miniMaxSum(arr)[1]}')


def diagonalDifference(arr):
    output1 = 0
    output2 = 0
    for i in range(len(arr)):
        output1 += arr[i][i]
        output2 += arr[i][-1-i]
    return abs(output1-output2)
if __name__ == '__main__':

    n = int(input('Enter the number of rows of a square matrix:').strip())

    arr = [list(map(int, input(f'Enter the the elems of number {_+1} row with one space between them, then push enter.').rstrip().split())) for _ in range(n)]

    result = diagonalDifference(arr)
    print(f'The array is: {arr}')
    print(f'The absolute result of the subtraction of the diagonal elements is: {str(result)}')


def plusMinus(arr):
    # Write your code here
    pos = 0
    neg = 0
    zero = 0
    
    for num in arr:
        if num > 0:
            pos += 1
        if num < 0:
            neg += 1     
        elif num == 0:
            zero +=1
    
    return pos/len(arr), neg/len(arr), zero/len(arr)
    
if __name__ == '__main__':
    n = int(input('Enter the number of element you want to determine the 1-D Array').strip())

    arr = list(map(int, input('Enter the elements').rstrip().split()))

    print(plusMinus(arr)[0])
    print(plusMinus(arr)[1])
    print(plusMinus(arr)[2])



def countingSort(arr):
    # Write your code here
    count = [0] *100
    for num in arr:
        count[num] +=1
    return count
if __name__ == '__main__':

    n = int(input('Enter the length of the array: ').strip())

    arr = list(map(int, input().rstrip().split()))

    result = countingSort(arr)


print(result)



