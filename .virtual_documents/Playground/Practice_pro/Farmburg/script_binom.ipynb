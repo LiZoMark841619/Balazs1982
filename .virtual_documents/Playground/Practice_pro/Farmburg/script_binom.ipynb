


# Import libraries
import pandas as pd
import numpy as np
from scipy.stats import chi2_contingency, binomtest

# Read in the `clicks.csv` file as `abdata`
abdata = pd.read_csv('clicks.csv')
print(abdata.head(4),'\n')

Xtab = pd.crosstab(abdata.group, abdata.is_purchase)
print(Xtab,'\n')





stat, pval, dof, expected = chi2_contingency(Xtab)
sig = 0.05
if pval < sig:
  print(f'The pval is :{pval} which is lower than the significance threshold, meaning the Null hypothesis is not true. It also means that there is significant difference between the purchase rate in the different groups.\n')






num_visits = len(abdata.user_id)
print(f'Number of visits: {num_visits}\n')

print('0.99$ price point')
total_sales = np.sum(Xtab['Yes'])
print(f'Number of total sales: {total_sales}')
num_sales_needed_099 = int(1000 // 0.99)
print(f'Needed number of sales {num_sales_needed_099}')
p_sales_needed_099 = round(num_sales_needed_099 / num_visits,2)
print(f'Proportion of visitors: {p_sales_needed_099}\n')

print('1.99$ price point')
total_sales = np.sum(Xtab['Yes'])
print(f'Number of total sales: {total_sales}')
num_sales_needed_199 = int(1000 // 1.99)
print(f'Needed number of sales {num_sales_needed_199}')
p_sales_needed_199 = round(num_sales_needed_199 / num_visits,2)
print(f'Proportion of visitors: {p_sales_needed_199}\n')

print('4.99$ price point')
total_sales = np.sum(Xtab['Yes'])
print(f'Number of total sales: {total_sales}')
num_sales_needed_499 = int(1000 // 4.99)
print(f'Needed number of sales {num_sales_needed_499}')
p_sales_needed_499 = round(num_sales_needed_499 / num_visits,2)
print(f'Proportion of visitors: {p_sales_needed_499}\n')





samp_size_099 = len(abdata[abdata.group == 'A'])
sales_099 = Xtab['Yes'][0]
print(f'Visitors in group A: {samp_size_099}')
print(f'Purchasers in group A: {sales_099}\n')

samp_size_199 = len(abdata[abdata.group == 'B'])
sales_199 = Xtab['Yes'][1]
print(f'Visitors in group B: {samp_size_199}')
print(f'Purchasers in group B: {sales_199}\n')

samp_size_499 = len(abdata[abdata.group == 'C'])
sales_499 = Xtab['Yes'][2]
print(f'Visitors in group C: {samp_size_499}')
print(f'Purchasers in group C: {sales_499}\n')





pvalueA = binomtest(sales_099, samp_size_099, p=p_sales_needed_099, alternative='greater')
print(pvalueA)

pvalueB = binomtest(sales_199, samp_size_199, p=p_sales_needed_199, alternative='greater')
print(pvalueB)

pvalueC = binomtest(sales_499, samp_size_499, p=p_sales_needed_499, alternative='greater')
print(pvalueC)
