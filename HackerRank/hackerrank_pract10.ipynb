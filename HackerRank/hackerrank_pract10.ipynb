{
 "cells": [
  {
   "attachments": {},
   "cell_type": "markdown",
   "id": "a5997cf1",
   "metadata": {},
   "source": [
    "###### Calculate 2 numbers divison and modulo"
   ]
  },
  {
   "cell_type": "code",
   "execution_count": null,
   "id": "eb2fd6b6",
   "metadata": {},
   "outputs": [],
   "source": [
    "from __future__ import division\n",
    "\n",
    "if __name__=='__main__':\n",
    "    a = int(input('Please enter a number:'))\n",
    "    b = int(input('Pleas enter another number:'))\n",
    "    if b == 0:\n",
    "        raise ZeroDivisionError('Please select a non zero number!')\n",
    "    print('The quotient of the first and the second number is:', a//b)\n",
    "    print('The modulus of these 2 numbers is:', a%b)\n",
    "    print('The quotient and the modulus of those 2 numbers in order are as follows:', divmod(a,b))\n"
   ]
  }
 ],
 "metadata": {
  "kernelspec": {
   "display_name": "Python 3 (ipykernel)",
   "language": "python",
   "name": "python3"
  },
  "language_info": {
   "codemirror_mode": {
    "name": "ipython",
    "version": 3
   },
   "file_extension": ".py",
   "mimetype": "text/x-python",
   "name": "python",
   "nbconvert_exporter": "python",
   "pygments_lexer": "ipython3",
   "version": "3.10.9"
  }
 },
 "nbformat": 4,
 "nbformat_minor": 5
}
