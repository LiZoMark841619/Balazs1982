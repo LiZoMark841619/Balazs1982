{
 "cells": [
  {
   "attachments": {},
   "cell_type": "markdown",
   "id": "035522ac",
   "metadata": {},
   "source": [
    "###### Function which replace a character at a specified index to a specified character in a string"
   ]
  },
  {
   "cell_type": "code",
   "execution_count": 2,
   "id": "65a21d53",
   "metadata": {},
   "outputs": [
    {
     "name": "stdout",
     "output_type": "stream",
     "text": [
      "Please type in a string:\n",
      "Please enter the position where the character will be changed in \"Balazs\" string and\n",
      "also choose the character(s) you would like to see at that index separated a space between them:\n",
      "Kalazs\n"
     ]
    }
   ],
   "source": [
    "def mutate_string(string, position, character):\n",
    "    new_list = [char for char in string]\n",
    "    new_list.pop(position)\n",
    "    new_list.insert(position, character)\n",
    "    s_new = ''.join(new_list)\n",
    "    return s_new\n",
    "\n",
    "if __name__ == '__main__':\n",
    "    print('Please enter a string:')\n",
    "    s = input()\n",
    "    print(f'''Please enter the position where the character will be changed in \"{s}\" string and\n",
    "also choose the character(s) you would like to see at that index separated a space between them:''')\n",
    "    i, c = input().split()\n",
    "    s_new = mutate_string(s, int(i), c)\n",
    "    print(s_new)"
   ]
  },
  {
   "cell_type": "code",
   "execution_count": null,
   "id": "dee84903",
   "metadata": {},
   "outputs": [],
   "source": []
  }
 ],
 "metadata": {
  "kernelspec": {
   "display_name": "Python 3 (ipykernel)",
   "language": "python",
   "name": "python3"
  },
  "language_info": {
   "codemirror_mode": {
    "name": "ipython",
    "version": 3
   },
   "file_extension": ".py",
   "mimetype": "text/x-python",
   "name": "python",
   "nbconvert_exporter": "python",
   "pygments_lexer": "ipython3",
   "version": "3.10.9"
  }
 },
 "nbformat": 4,
 "nbformat_minor": 5
}
