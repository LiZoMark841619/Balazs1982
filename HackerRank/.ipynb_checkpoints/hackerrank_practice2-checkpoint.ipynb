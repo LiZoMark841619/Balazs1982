{
 "cells": [
  {
   "cell_type": "code",
   "execution_count": null,
   "id": "5cd5f673",
   "metadata": {},
   "outputs": [],
   "source": [
    "if __name__ == '__main__':\n",
    "    dict = {}\n",
    "    print('Please enter the number of persons you are about to investigate regarded their scores:')\n",
    "    for _ in range(int(input())):\n",
    "        print('Requested name:')\n",
    "        name = input()\n",
    "        print('Related score:')\n",
    "        score = float(input())\n",
    "        dict[name] = score\n",
    "    scores = [value for value in dict.values()]\n",
    "    sorted = sorted(scores)\n",
    "    scores_new = [num for num in sorted if num > sorted[0]]\n",
    "    good_names = [key for key, value in dict.items() if value == scores_new[0]]\n",
    "    good_names.sort()\n",
    "    print('The second-to-last person(s) in alphabetical order is/are as follow:')\n",
    "    for name in good_names:\n",
    "        print(name)"
   ]
  },
  {
   "cell_type": "code",
   "execution_count": null,
   "id": "fdaa452c",
   "metadata": {},
   "outputs": [],
   "source": [
    "def split_and_join(line):\n",
    "    # write your code here\n",
    "    line = line.split(' ')\n",
    "    return '-'.join(line)\n",
    "        \n",
    "if __name__ == '__main__':\n",
    "    print('Please enter a line:')\n",
    "    line = input()\n",
    "    result = split_and_join(line)\n",
    "    print(result)"
   ]
  },
  {
   "cell_type": "code",
   "execution_count": null,
   "id": "85ae7b4e",
   "metadata": {},
   "outputs": [],
   "source": [
    "def print_full_name(first, last):\n",
    "    # Write your code here\n",
    "    print(f'Hello {first} {last}! You just delved into python.')\n",
    "\n",
    "if __name__ == '__main__':\n",
    "    print('Please type in your first and last name separated with an enter:')\n",
    "    first_name = input()\n",
    "    last_name = input()\n",
    "    print_full_name(first_name, last_name)"
   ]
  },
  {
   "cell_type": "code",
   "execution_count": null,
   "id": "c3be3877",
   "metadata": {},
   "outputs": [],
   "source": [
    "def mutate_string(string, position, character):\n",
    "    new_list = []\n",
    "    for char in string:\n",
    "        new_list.append(char)\n",
    "    new_list.pop(position)\n",
    "    new_list.insert(position, character)\n",
    "    s_new = ''.join(new_list)\n",
    "    return s_new\n",
    "if __name__ == '__main__':\n",
    "    print('Please type in a string:')\n",
    "    s = input()\n",
    "    print(f'''Please enter the position where the character will be changed in \"{s}\" string and\n",
    "also choose the character(s) you would like to see at that index separated a space between them:''')\n",
    "    i, c = input().split()\n",
    "    s_new = mutate_string(s, int(i), c)\n",
    "    print(s_new)"
   ]
  },
  {
   "cell_type": "code",
   "execution_count": null,
   "id": "aa1d21ce",
   "metadata": {},
   "outputs": [],
   "source": [
    "def count_substring(string, sub_string):\n",
    "    counter = 1\n",
    "    for i in range(len(string)-len(sub_string)):\n",
    "        if string[i:len(sub_string)+i] == sub_string:\n",
    "            counter += 1\n",
    "    return counter\n",
    "\n",
    "if __name__ == '__main__':\n",
    "    string = input().strip()\n",
    "    sub_string = input().strip()\n",
    "    \n",
    "    count = count_substring(string, sub_string)\n",
    "    print(count)"
   ]
  },
  {
   "cell_type": "code",
   "execution_count": null,
   "id": "4ef9822f",
   "metadata": {},
   "outputs": [],
   "source": []
  }
 ],
 "metadata": {
  "kernelspec": {
   "display_name": "Python 3 (ipykernel)",
   "language": "python",
   "name": "python3"
  },
  "language_info": {
   "codemirror_mode": {
    "name": "ipython",
    "version": 3
   },
   "file_extension": ".py",
   "mimetype": "text/x-python",
   "name": "python",
   "nbconvert_exporter": "python",
   "pygments_lexer": "ipython3",
   "version": "3.10.9"
  }
 },
 "nbformat": 4,
 "nbformat_minor": 5
}
