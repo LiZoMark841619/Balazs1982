{
 "cells": [
  {
   "cell_type": "code",
   "execution_count": 1,
   "id": "e14619c8",
   "metadata": {},
   "outputs": [],
   "source": [
    "\n",
    "list1 = [1, 2]"
   ]
  },
  {
   "cell_type": "code",
   "execution_count": 2,
   "id": "442a04fa",
   "metadata": {},
   "outputs": [],
   "source": [
    "list2 = [3, 4]"
   ]
  },
  {
   "cell_type": "code",
   "execution_count": 3,
   "id": "0d692871",
   "metadata": {},
   "outputs": [],
   "source": [
    "list3 = list(zip(list1, list2))+ list(zip(list2, list1))"
   ]
  },
  {
   "cell_type": "code",
   "execution_count": 4,
   "id": "dde304b6",
   "metadata": {},
   "outputs": [
    {
     "data": {
      "text/plain": [
       "[(1, 3), (2, 4), (3, 1), (4, 2)]"
      ]
     },
     "execution_count": 4,
     "metadata": {},
     "output_type": "execute_result"
    }
   ],
   "source": [
    "list3"
   ]
  },
  {
   "cell_type": "code",
   "execution_count": 74,
   "id": "b6ab7bc7",
   "metadata": {},
   "outputs": [
    {
     "name": "stdout",
     "output_type": "stream",
     "text": [
      "Please enter the length of the 2 lists:2\n",
      "Please add the numbers to the lists:30 40\n",
      "Please add the numbers to the lists:50 60\n",
      "[[30, 40], [50, 60]]\n",
      "[(30, 50), (40, 60), (50, 30), (60, 40)]\n",
      "[(30, 50), (40, 60), (50, 30)]\n"
     ]
    }
   ],
   "source": [
    "if __name__=='__main__':\n",
    "    n = int(input('Please enter the length of the 2 lists:'))\n",
    "    new_list = []\n",
    "    for _ in range(n):\n",
    "        line = input('Please add the numbers to the lists:').split()\n",
    "        nums = list(map(int, line))\n",
    "        new_list.append(nums)\n",
    "    print(new_list)\n",
    "    zipped1 = []\n",
    "    for i in range(len(new_list)):\n",
    "        zipped1 += zip(new_list[i], new_list[len(new_list)-1-i])\n",
    "        unzipped = list(zipped1)\n",
    "    print(unzipped)\n",
    "    for k in range(len(unzipped)):\n",
    "        print(unzipped"
   ]
  },
  {
   "cell_type": "code",
   "execution_count": null,
   "id": "f79932cf",
   "metadata": {},
   "outputs": [],
   "source": []
  },
  {
   "cell_type": "code",
   "execution_count": null,
   "id": "e7991532",
   "metadata": {},
   "outputs": [],
   "source": []
  }
 ],
 "metadata": {
  "kernelspec": {
   "display_name": "Python 3 (ipykernel)",
   "language": "python",
   "name": "python3"
  },
  "language_info": {
   "codemirror_mode": {
    "name": "ipython",
    "version": 3
   },
   "file_extension": ".py",
   "mimetype": "text/x-python",
   "name": "python",
   "nbconvert_exporter": "python",
   "pygments_lexer": "ipython3",
   "version": "3.10.9"
  }
 },
 "nbformat": 4,
 "nbformat_minor": 5
}
